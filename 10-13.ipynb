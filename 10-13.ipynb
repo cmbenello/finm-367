{
 "cells": [
  {
   "cell_type": "code",
   "execution_count": 13,
   "id": "efd88c01",
   "metadata": {},
   "outputs": [],
   "source": [
    "import pandas as pd\n",
    "import numpy as np\n",
    "import statsmodels.api as sm"
   ]
  },
  {
   "cell_type": "code",
   "execution_count": 7,
   "id": "a43adada",
   "metadata": {},
   "outputs": [],
   "source": [
    "data = pd.read_excel(\"data/private_equity_data.xlsx\", sheet_name=\"excess returns\",index_col=0)"
   ]
  },
  {
   "cell_type": "code",
   "execution_count": 8,
   "id": "3502fa70",
   "metadata": {},
   "outputs": [
    {
     "data": {
      "application/vnd.microsoft.datawrangler.viewer.v0+json": {
       "columns": [
        {
         "name": "index",
         "rawType": "object",
         "type": "string"
        },
        {
         "name": "mean",
         "rawType": "float64",
         "type": "float"
        },
        {
         "name": "vol",
         "rawType": "float64",
         "type": "float"
        },
        {
         "name": "sharpe",
         "rawType": "float64",
         "type": "float"
        }
       ],
       "ref": "7c3ed31f-2126-4eea-b36b-a2af04ba9aa7",
       "rows": [
        [
         "SPY",
         "0.12309722400767775",
         "0.169668522532808",
         "0.7255159776845173"
        ],
        [
         "VTV",
         "0.08645080279320794",
         "0.1640946034493885",
         "0.5268351364149025"
        ],
        [
         "AGG",
         "-0.007880210703759712",
         "0.05092473321584003",
         "-0.15474230705068454"
        ],
        [
         "HYG",
         "-0.004746857105456698",
         "0.09543554837128708",
         "-0.049738878085441446"
        ],
        [
         "IEF",
         "-0.007308330345547684",
         "0.06435717438788247",
         "-0.11355890644763512"
        ],
        [
         "PSP",
         "0.04942794800384849",
         "0.23166668710273072",
         "0.21335803011647533"
        ],
        [
         "PEX",
         "-0.014267313416169752",
         "0.21461334456924872",
         "-0.06647915321764232"
        ],
        [
         "APO",
         "0.23154697772883462",
         "0.36790192443416886",
         "0.6293714774255464"
        ],
        [
         "BX",
         "0.2175691386345414",
         "0.3581692213683557",
         "0.607447892377063"
        ],
        [
         "KKR",
         "0.22855870253178392",
         "0.36496106780637844",
         "0.6262550246949639"
        ],
        [
         "CG",
         "0.1445386523453353",
         "0.3670911609600222",
         "0.39374048660647587"
        ]
       ],
       "shape": {
        "columns": 3,
        "rows": 11
       }
      },
      "text/html": [
       "<div>\n",
       "<style scoped>\n",
       "    .dataframe tbody tr th:only-of-type {\n",
       "        vertical-align: middle;\n",
       "    }\n",
       "\n",
       "    .dataframe tbody tr th {\n",
       "        vertical-align: top;\n",
       "    }\n",
       "\n",
       "    .dataframe thead th {\n",
       "        text-align: right;\n",
       "    }\n",
       "</style>\n",
       "<table border=\"1\" class=\"dataframe\">\n",
       "  <thead>\n",
       "    <tr style=\"text-align: right;\">\n",
       "      <th></th>\n",
       "      <th>mean</th>\n",
       "      <th>vol</th>\n",
       "      <th>sharpe</th>\n",
       "    </tr>\n",
       "  </thead>\n",
       "  <tbody>\n",
       "    <tr>\n",
       "      <th>SPY</th>\n",
       "      <td>0.123097</td>\n",
       "      <td>0.169669</td>\n",
       "      <td>0.725516</td>\n",
       "    </tr>\n",
       "    <tr>\n",
       "      <th>VTV</th>\n",
       "      <td>0.086451</td>\n",
       "      <td>0.164095</td>\n",
       "      <td>0.526835</td>\n",
       "    </tr>\n",
       "    <tr>\n",
       "      <th>AGG</th>\n",
       "      <td>-0.007880</td>\n",
       "      <td>0.050925</td>\n",
       "      <td>-0.154742</td>\n",
       "    </tr>\n",
       "    <tr>\n",
       "      <th>HYG</th>\n",
       "      <td>-0.004747</td>\n",
       "      <td>0.095436</td>\n",
       "      <td>-0.049739</td>\n",
       "    </tr>\n",
       "    <tr>\n",
       "      <th>IEF</th>\n",
       "      <td>-0.007308</td>\n",
       "      <td>0.064357</td>\n",
       "      <td>-0.113559</td>\n",
       "    </tr>\n",
       "    <tr>\n",
       "      <th>PSP</th>\n",
       "      <td>0.049428</td>\n",
       "      <td>0.231667</td>\n",
       "      <td>0.213358</td>\n",
       "    </tr>\n",
       "    <tr>\n",
       "      <th>PEX</th>\n",
       "      <td>-0.014267</td>\n",
       "      <td>0.214613</td>\n",
       "      <td>-0.066479</td>\n",
       "    </tr>\n",
       "    <tr>\n",
       "      <th>APO</th>\n",
       "      <td>0.231547</td>\n",
       "      <td>0.367902</td>\n",
       "      <td>0.629371</td>\n",
       "    </tr>\n",
       "    <tr>\n",
       "      <th>BX</th>\n",
       "      <td>0.217569</td>\n",
       "      <td>0.358169</td>\n",
       "      <td>0.607448</td>\n",
       "    </tr>\n",
       "    <tr>\n",
       "      <th>KKR</th>\n",
       "      <td>0.228559</td>\n",
       "      <td>0.364961</td>\n",
       "      <td>0.626255</td>\n",
       "    </tr>\n",
       "    <tr>\n",
       "      <th>CG</th>\n",
       "      <td>0.144539</td>\n",
       "      <td>0.367091</td>\n",
       "      <td>0.393740</td>\n",
       "    </tr>\n",
       "  </tbody>\n",
       "</table>\n",
       "</div>"
      ],
      "text/plain": [
       "         mean       vol    sharpe\n",
       "SPY  0.123097  0.169669  0.725516\n",
       "VTV  0.086451  0.164095  0.526835\n",
       "AGG -0.007880  0.050925 -0.154742\n",
       "HYG -0.004747  0.095436 -0.049739\n",
       "IEF -0.007308  0.064357 -0.113559\n",
       "PSP  0.049428  0.231667  0.213358\n",
       "PEX -0.014267  0.214613 -0.066479\n",
       "APO  0.231547  0.367902  0.629371\n",
       "BX   0.217569  0.358169  0.607448\n",
       "KKR  0.228559  0.364961  0.626255\n",
       "CG   0.144539  0.367091  0.393740"
      ]
     },
     "metadata": {},
     "output_type": "display_data"
    }
   ],
   "source": [
    "mean = data.mean() * 52\n",
    "vol = data.std(ddof = 1) * np.sqrt(52)\n",
    "\n",
    "sharpe = mean/vol\n",
    "\n",
    "stats = pd.DataFrame({\"mean\" : mean, \"vol\" : vol, \"sharpe\" : sharpe})\n",
    "\n",
    "\n",
    "display(stats)\n",
    "\n"
   ]
  },
  {
   "cell_type": "code",
   "execution_count": 24,
   "id": "3d96c723",
   "metadata": {},
   "outputs": [
    {
     "name": "stdout",
     "output_type": "stream",
     "text": [
      "                            OLS Regression Results                            \n",
      "==============================================================================\n",
      "Dep. Variable:                    APO   R-squared:                       0.497\n",
      "Model:                            OLS   Adj. R-squared:                  0.494\n",
      "Method:                 Least Squares   F-statistic:                     183.1\n",
      "Date:                Mon, 13 Oct 2025   Prob (F-statistic):           1.35e-82\n",
      "Time:                        19:40:31   Log-Likelihood:                 1066.2\n",
      "No. Observations:                 561   AIC:                            -2124.\n",
      "Df Residuals:                     557   BIC:                            -2107.\n",
      "Df Model:                           3                                         \n",
      "Covariance Type:            nonrobust                                         \n",
      "==============================================================================\n",
      "                 coef    std err          t      P>|t|      [0.025      0.975]\n",
      "------------------------------------------------------------------------------\n",
      "const          0.0019      0.002      1.233      0.218      -0.001       0.005\n",
      "SPY            1.0660      0.102     10.429      0.000       0.865       1.267\n",
      "IEF           -0.7040      0.178     -3.957      0.000      -1.053      -0.354\n",
      "HYG            0.9310      0.182      5.106      0.000       0.573       1.289\n",
      "==============================================================================\n",
      "Omnibus:                       33.886   Durbin-Watson:                   2.187\n",
      "Prob(Omnibus):                  0.000   Jarque-Bera (JB):               82.074\n",
      "Skew:                           0.297   Prob(JB):                     1.51e-18\n",
      "Kurtosis:                       4.777   Cond. No.                         140.\n",
      "==============================================================================\n",
      "\n",
      "Notes:\n",
      "[1] Standard Errors assume that the covariance matrix of the errors is correctly specified.\n"
     ]
    }
   ],
   "source": [
    "y = data[\"APO\"]\n",
    "\n",
    "M = data[['SPY', 'IEF', 'HYG']]\n",
    "\n",
    "X = sm.add_constant(M)\n",
    "\n",
    "model = sm.OLS(y, X).fit()\n",
    "\n",
    "M2 = data[['SPY']]\n",
    "\n",
    "X2 = sm.add_constant(M2)\n",
    "\n",
    "model2 = sm.OLS(y, X2).fit()\n",
    "\n",
    "print(model.summary())"
   ]
  },
  {
   "cell_type": "code",
   "execution_count": 26,
   "id": "2a627d9f",
   "metadata": {},
   "outputs": [
    {
     "data": {
      "text/html": [
       "<table class=\"simpletable\">\n",
       "<caption>OLS Regression Results</caption>\n",
       "<tr>\n",
       "  <th>Dep. Variable:</th>           <td>APO</td>       <th>  R-squared:         </th> <td>   0.466</td>\n",
       "</tr>\n",
       "<tr>\n",
       "  <th>Model:</th>                   <td>OLS</td>       <th>  Adj. R-squared:    </th> <td>   0.465</td>\n",
       "</tr>\n",
       "<tr>\n",
       "  <th>Method:</th>             <td>Least Squares</td>  <th>  F-statistic:       </th> <td>   487.8</td>\n",
       "</tr>\n",
       "<tr>\n",
       "  <th>Date:</th>             <td>Mon, 13 Oct 2025</td> <th>  Prob (F-statistic):</th> <td>3.48e-78</td>\n",
       "</tr>\n",
       "<tr>\n",
       "  <th>Time:</th>                 <td>19:40:37</td>     <th>  Log-Likelihood:    </th> <td>  1049.7</td>\n",
       "</tr>\n",
       "<tr>\n",
       "  <th>No. Observations:</th>      <td>   561</td>      <th>  AIC:               </th> <td>  -2095.</td>\n",
       "</tr>\n",
       "<tr>\n",
       "  <th>Df Residuals:</th>          <td>   559</td>      <th>  BIC:               </th> <td>  -2087.</td>\n",
       "</tr>\n",
       "<tr>\n",
       "  <th>Df Model:</th>              <td>     1</td>      <th>                     </th>     <td> </td>   \n",
       "</tr>\n",
       "<tr>\n",
       "  <th>Covariance Type:</th>      <td>nonrobust</td>    <th>                     </th>     <td> </td>   \n",
       "</tr>\n",
       "</table>\n",
       "<table class=\"simpletable\">\n",
       "<tr>\n",
       "    <td></td>       <th>coef</th>     <th>std err</th>      <th>t</th>      <th>P>|t|</th>  <th>[0.025</th>    <th>0.975]</th>  \n",
       "</tr>\n",
       "<tr>\n",
       "  <th>const</th> <td>    0.0009</td> <td>    0.002</td> <td>    0.599</td> <td> 0.549</td> <td>   -0.002</td> <td>    0.004</td>\n",
       "</tr>\n",
       "<tr>\n",
       "  <th>SPY</th>   <td>    1.4802</td> <td>    0.067</td> <td>   22.086</td> <td> 0.000</td> <td>    1.349</td> <td>    1.612</td>\n",
       "</tr>\n",
       "</table>\n",
       "<table class=\"simpletable\">\n",
       "<tr>\n",
       "  <th>Omnibus:</th>       <td>39.013</td> <th>  Durbin-Watson:     </th> <td>   2.261</td>\n",
       "</tr>\n",
       "<tr>\n",
       "  <th>Prob(Omnibus):</th> <td> 0.000</td> <th>  Jarque-Bera (JB):  </th> <td> 110.474</td>\n",
       "</tr>\n",
       "<tr>\n",
       "  <th>Skew:</th>          <td> 0.296</td> <th>  Prob(JB):          </th> <td>1.03e-24</td>\n",
       "</tr>\n",
       "<tr>\n",
       "  <th>Kurtosis:</th>      <td> 5.092</td> <th>  Cond. No.          </th> <td>    42.5</td>\n",
       "</tr>\n",
       "</table><br/><br/>Notes:<br/>[1] Standard Errors assume that the covariance matrix of the errors is correctly specified."
      ],
      "text/latex": [
       "\\begin{center}\n",
       "\\begin{tabular}{lclc}\n",
       "\\toprule\n",
       "\\textbf{Dep. Variable:}    &       APO        & \\textbf{  R-squared:         } &     0.466   \\\\\n",
       "\\textbf{Model:}            &       OLS        & \\textbf{  Adj. R-squared:    } &     0.465   \\\\\n",
       "\\textbf{Method:}           &  Least Squares   & \\textbf{  F-statistic:       } &     487.8   \\\\\n",
       "\\textbf{Date:}             & Mon, 13 Oct 2025 & \\textbf{  Prob (F-statistic):} &  3.48e-78   \\\\\n",
       "\\textbf{Time:}             &     19:40:37     & \\textbf{  Log-Likelihood:    } &    1049.7   \\\\\n",
       "\\textbf{No. Observations:} &         561      & \\textbf{  AIC:               } &    -2095.   \\\\\n",
       "\\textbf{Df Residuals:}     &         559      & \\textbf{  BIC:               } &    -2087.   \\\\\n",
       "\\textbf{Df Model:}         &           1      & \\textbf{                     } &             \\\\\n",
       "\\textbf{Covariance Type:}  &    nonrobust     & \\textbf{                     } &             \\\\\n",
       "\\bottomrule\n",
       "\\end{tabular}\n",
       "\\begin{tabular}{lcccccc}\n",
       "               & \\textbf{coef} & \\textbf{std err} & \\textbf{t} & \\textbf{P$> |$t$|$} & \\textbf{[0.025} & \\textbf{0.975]}  \\\\\n",
       "\\midrule\n",
       "\\textbf{const} &       0.0009  &        0.002     &     0.599  &         0.549        &       -0.002    &        0.004     \\\\\n",
       "\\textbf{SPY}   &       1.4802  &        0.067     &    22.086  &         0.000        &        1.349    &        1.612     \\\\\n",
       "\\bottomrule\n",
       "\\end{tabular}\n",
       "\\begin{tabular}{lclc}\n",
       "\\textbf{Omnibus:}       & 39.013 & \\textbf{  Durbin-Watson:     } &    2.261  \\\\\n",
       "\\textbf{Prob(Omnibus):} &  0.000 & \\textbf{  Jarque-Bera (JB):  } &  110.474  \\\\\n",
       "\\textbf{Skew:}          &  0.296 & \\textbf{  Prob(JB):          } & 1.03e-24  \\\\\n",
       "\\textbf{Kurtosis:}      &  5.092 & \\textbf{  Cond. No.          } &     42.5  \\\\\n",
       "\\bottomrule\n",
       "\\end{tabular}\n",
       "%\\caption{OLS Regression Results}\n",
       "\\end{center}\n",
       "\n",
       "Notes: \\newline\n",
       " [1] Standard Errors assume that the covariance matrix of the errors is correctly specified."
      ],
      "text/plain": [
       "<class 'statsmodels.iolib.summary.Summary'>\n",
       "\"\"\"\n",
       "                            OLS Regression Results                            \n",
       "==============================================================================\n",
       "Dep. Variable:                    APO   R-squared:                       0.466\n",
       "Model:                            OLS   Adj. R-squared:                  0.465\n",
       "Method:                 Least Squares   F-statistic:                     487.8\n",
       "Date:                Mon, 13 Oct 2025   Prob (F-statistic):           3.48e-78\n",
       "Time:                        19:40:37   Log-Likelihood:                 1049.7\n",
       "No. Observations:                 561   AIC:                            -2095.\n",
       "Df Residuals:                     559   BIC:                            -2087.\n",
       "Df Model:                           1                                         \n",
       "Covariance Type:            nonrobust                                         \n",
       "==============================================================================\n",
       "                 coef    std err          t      P>|t|      [0.025      0.975]\n",
       "------------------------------------------------------------------------------\n",
       "const          0.0009      0.002      0.599      0.549      -0.002       0.004\n",
       "SPY            1.4802      0.067     22.086      0.000       1.349       1.612\n",
       "==============================================================================\n",
       "Omnibus:                       39.013   Durbin-Watson:                   2.261\n",
       "Prob(Omnibus):                  0.000   Jarque-Bera (JB):              110.474\n",
       "Skew:                           0.296   Prob(JB):                     1.03e-24\n",
       "Kurtosis:                       5.092   Cond. No.                         42.5\n",
       "==============================================================================\n",
       "\n",
       "Notes:\n",
       "[1] Standard Errors assume that the covariance matrix of the errors is correctly specified.\n",
       "\"\"\""
      ]
     },
     "execution_count": 26,
     "metadata": {},
     "output_type": "execute_result"
    }
   ],
   "source": [
    "model2.summary()"
   ]
  }
 ],
 "metadata": {
  "kernelspec": {
   "display_name": "finm",
   "language": "python",
   "name": "python3"
  },
  "language_info": {
   "codemirror_mode": {
    "name": "ipython",
    "version": 3
   },
   "file_extension": ".py",
   "mimetype": "text/x-python",
   "name": "python",
   "nbconvert_exporter": "python",
   "pygments_lexer": "ipython3",
   "version": "3.12.11"
  }
 },
 "nbformat": 4,
 "nbformat_minor": 5
}
