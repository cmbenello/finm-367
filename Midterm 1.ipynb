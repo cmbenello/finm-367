{
 "cells": [
  {
   "cell_type": "markdown",
   "id": "559895d2",
   "metadata": {},
   "source": [
    "# Midterm 1\n",
    "\n",
    "## FINM 36700 - 2024\n",
    "\n",
    "### UChicago Financial Mathematics\n",
    "\n",
    "* Mark Hendricks\n",
    "* hendricks@uchicago.edu"
   ]
  },
  {
   "cell_type": "markdown",
   "id": "01cde8d3",
   "metadata": {},
   "source": [
    "# Instructions"
   ]
  },
  {
   "cell_type": "markdown",
   "id": "cc273c1a",
   "metadata": {},
   "source": [
    "## Please note the following:\n",
    "\n",
    "Points\n",
    "* The exam is `100` points.\n",
    "* You have `125` minutes to complete the exam.\n",
    "* For every minute late you submit the exam, you will lose one point.\n",
    "\n",
    "\n",
    "Submission\n",
    "* You will upload your solution to the `Midterm 1` assignment on Canvas, where you downloaded this. (Be sure to **submit** on Canvas, not just **save** on Canvas.\n",
    "* Your submission should be readable, (the graders can understand your answers,)\n",
    "* and it should **include all code used in your analysis in a file format that the code can be executed.** \n",
    "\n",
    "Rules\n",
    "* The exam is open-material, closed-communication.\n",
    "* You do not need to cite material from the course github repo--you are welcome to use the code posted there without citation.\n",
    "\n",
    "Advice\n",
    "* If you find any question to be unclear, state your interpretation and proceed. We will only answer questions of interpretation if there is a typo, error, etc.\n",
    "* The exam will be graded for partial credit."
   ]
  },
  {
   "cell_type": "markdown",
   "id": "624f27b1",
   "metadata": {},
   "source": [
    "## Data\n",
    "\n",
    "**All data files are found in the class github repo, in the `data` folder.**\n",
    "\n",
    "This exam makes use of the following data files:\n",
    "* `midterm_1_data.xlsx`\n",
    "\n",
    "This file has sheets for...\n",
    "* `stocks excess returns` - excess returns of the 14 biggest companies in the S&P.\n",
    "* `proshares excess returns` - excess returns of ETFs and indexes from the Proshares case study.\n",
    "* `fx carry excess returns` - excess returns from FX products.\n",
    "\n",
    "Note the data is **monthly** for the first two sheets (stocks and proshares). Any annualizations for those two sheets should use `12` months in a year. Annualization for the third sheet (fx carry excess returns) is explained in section 4."
   ]
  },
  {
   "cell_type": "markdown",
   "id": "ebf6e066",
   "metadata": {},
   "source": [
    "## Scoring\n",
    "\n",
    "| Problem | Points |\n",
    "|---------|--------|\n",
    "| 1       | 15     |\n",
    "| 2       | 25     |\n",
    "| 3       | 35     |\n",
    "| 4       | 25     |"
   ]
  },
  {
   "cell_type": "markdown",
   "id": "7fb2fc26",
   "metadata": {},
   "source": [
    "### Each numbered question is worth 5 points unless otherwise specified."
   ]
  },
  {
   "cell_type": "code",
   "execution_count": 19,
   "id": "b439be30",
   "metadata": {},
   "outputs": [],
   "source": [
    "import pandas as pd\n",
    "import numpy as np\n",
    "import statsmodels.api as sm\n",
    "import seaborn as sns\n",
    "import matplotlib.pyplot as plt"
   ]
  },
  {
   "cell_type": "code",
   "execution_count": null,
   "id": "4c22bf24",
   "metadata": {},
   "outputs": [],
   "source": [
    "file = \"data/midterm_1_data.xlsx\"\n",
    "stocks = pd.read_excel(file,sheet_name=\"stocks excess returns\", index_col=0)\n",
    "proshares = pd.read_excel(file,sheet_name=\"proshares excess returns\", index_col=0)\n",
    "carry = pd.read_excel(file,sheet_name=\"fx carry returns\", index_col=0)"
   ]
  },
  {
   "cell_type": "markdown",
   "id": "632ce7d4",
   "metadata": {},
   "source": [
    "***"
   ]
  },
  {
   "cell_type": "markdown",
   "id": "50a39225-f8d7-4a42-a675-fb9716e55932",
   "metadata": {},
   "source": [
    "# 1. Short Answer"
   ]
  },
  {
   "cell_type": "markdown",
   "id": "127d44ea-9d06-4bba-ac24-f19e9376c8d6",
   "metadata": {},
   "source": [
    "#### No Data Needed\n",
    "\n",
    "These problems do not require any data file. Rather, analyze them conceptually. "
   ]
  },
  {
   "cell_type": "markdown",
   "id": "668aaba8-6dcf-4700-9714-36111e1c67af",
   "metadata": {},
   "source": [
    "### 1.\n",
    "\n",
    "#### (10pts)\n",
    "\n",
    "In the mean-variance optimization of `homework 1`, suppose we found the mean excess return of TIPS is 4% annualized.\n",
    "\n",
    "Explain--conceptually--how each of the following would have impacted the new (with TIPS) MV solution.\n",
    "* TIPS is found to have correlation of 0% to `IEF` and 0% to SPY.\n",
    "* TIPS is found to have correlation of 100% to `IEF`.\n",
    "\n",
    "Would it be possible for TIPS to have been found to have 0% correlation to every other asset in `homework 1`? Explain."
   ]
  },
  {
   "cell_type": "markdown",
   "id": "f1a4b5fc",
   "metadata": {},
   "source": [
    "1) would be good as this is good returns and 0 corr to big things is good \n",
    "2) just replace ief with tips if the returns are better \n",
    "\n",
    "No,"
   ]
  },
  {
   "cell_type": "markdown",
   "id": "fe910811-eddc-48ae-9e3c-2b99e6c62dec",
   "metadata": {},
   "source": [
    "### 2. \n",
    "\n",
    "Depending on the application, one may or may not choose to include an intercept term in a linear factor decomposition of an asset’s returns. In what circumstances would I prefer to include an intercept, and in what circumstances would I not?\n"
   ]
  },
  {
   "cell_type": "markdown",
   "id": "9d1d2230",
   "metadata": {},
   "source": [
    "Include an intercept when you want to allow for alpha—returns unexplained by the factors (e.g., when testing for manager skill or pricing errors).\n",
    "Omit the intercept when you want a pure factor replication or attribution model, where all expected returns are assumed to come solely from factor exposures."
   ]
  },
  {
   "cell_type": "markdown",
   "id": "e38b33d9-8628-4bf5-a662-73da5dfe0ace",
   "metadata": {},
   "source": [
    "***"
   ]
  },
  {
   "cell_type": "markdown",
   "id": "a78ee6f4",
   "metadata": {},
   "source": [
    "# 2. Portfolio Allocation\n",
    "\n",
    "For this question you will only use data from the sheet `stocks excess returns`.\n",
    "\n",
    "It contains excess returns for the 14 largest stocks in the S&P."
   ]
  },
  {
   "cell_type": "markdown",
   "id": "ec8d1b59",
   "metadata": {},
   "source": [
    "### 1.\n",
    "\n",
    "Calculate the tangency portfolio from the start of the sample to December of 2018 (to 2018-12-31), which we call in-sample period. Use the following methods:\n",
    "- Traditional tangency portfolio.\n",
    "- Regularized tangency portfolio (divide by 2 every element outside of the diagonal in the covariance matrix prior to the calculation).\n",
    "\n",
    "Return:\n",
    "- The weights of each asset for the traditional tangency portfolio and the regularized tangency portfolio.\n",
    "- The sum of absolute values of the weights for the traditional tangency portfolio and the regularized tangency portfolio:\n",
    "\n",
    "$$\n",
    "\\sum_{i=1}^{n} |w_i|\n",
    "$$\n"
   ]
  },
  {
   "cell_type": "code",
   "execution_count": null,
   "id": "96bdf038",
   "metadata": {},
   "outputs": [
    {
     "name": "stdout",
     "output_type": "stream",
     "text": [
      "Tangency Portfolio Weights:\n",
      "       Traditional  Regularized\n",
      "AAPL       -0.1278      -0.0147\n",
      "AMZN       -0.0406       0.0363\n",
      "BRK-B       0.1313       0.1092\n",
      "GOOGL       0.0260       0.0505\n",
      "JNJ         0.1304       0.0992\n",
      "JPM        -0.0139       0.0537\n",
      "LLY         0.3527       0.2149\n",
      "META        0.0305       0.0349\n",
      "MSFT        0.1379       0.0900\n",
      "NVDA        0.1635       0.0717\n",
      "TSLA        0.0301       0.0365\n",
      "UNH         0.2902       0.1898\n",
      "V           0.3062       0.1846\n",
      "XOM        -0.4165      -0.1566\n",
      "\n",
      "Sum of absolute weights:\n",
      "Traditional: 2.198\n",
      "Regularized: 1.343\n"
     ]
    }
   ],
   "source": [
    "returns = stocks.loc[:'2018-12-31'].dropna()\n",
    "\n",
    "mu = returns.mean()\n",
    "Sigma = returns.cov()\n",
    "\n",
    "# --- Traditional tangency portfolio ---\n",
    "Sigma_inv = np.linalg.inv(Sigma)\n",
    "w_tan = Sigma_inv @ mu\n",
    "w_tan = w_tan / np.sum(w_tan)  # normalize weights to sum to 1\n",
    "\n",
    "# --- Regularized tangency portfolio ---\n",
    "# Keep diagonal, halve off-diagonals\n",
    "diag_mask = pd.DataFrame(\n",
    "    np.eye(len(Sigma), dtype=bool),\n",
    "    index=Sigma.index, columns=Sigma.columns\n",
    ")\n",
    "Sigma_reg = Sigma.where(diag_mask, Sigma / 2)\n",
    "\n",
    "Sigma_reg_inv = np.linalg.inv(Sigma_reg)\n",
    "w_tan_reg = Sigma_reg_inv @ mu\n",
    "w_tan_reg = w_tan_reg / np.sum(w_tan_reg)\n",
    "\n",
    "# --- Sum of absolute weights ---\n",
    "sum_abs_trad = np.sum(np.abs(w_tan))\n",
    "sum_abs_reg  = np.sum(np.abs(w_tan_reg))\n",
    "\n",
    "# --- Display results ---\n",
    "weights_df = pd.DataFrame({\n",
    "    \"Traditional\": w_tan,\n",
    "    \"Regularized\": w_tan_reg\n",
    "}, index=returns.columns)\n",
    "\n",
    "print(\"Tangency Portfolio Weights:\")\n",
    "print(weights_df.round(4))\n",
    "print(\"\\nSum of absolute weights:\")\n",
    "print(f\"Traditional: {sum_abs_trad:.3f}\")\n",
    "print(f\"Regularized: {sum_abs_reg:.3f}\")"
   ]
  },
  {
   "cell_type": "markdown",
   "id": "31da8bdc",
   "metadata": {},
   "source": [
    "### 2.\n",
    "\n",
    "Calculate the annualized summary statistics (mean, Sharpe, vol) of both portfolios in-sample.\n"
   ]
  },
  {
   "cell_type": "code",
   "execution_count": 10,
   "id": "e0ece047",
   "metadata": {},
   "outputs": [
    {
     "name": "stdout",
     "output_type": "stream",
     "text": [
      "Annualized In-Sample Summary Statistics:\n",
      "             Mean (ann.)  Vol (ann.)  Sharpe\n",
      "Traditional       0.3483      0.1341  2.5979\n",
      "Regularized       0.2766      0.1142  2.4224\n"
     ]
    }
   ],
   "source": [
    "# --- 2. Portfolio returns ---\n",
    "r_port_tan = returns @ w_tan\n",
    "r_port_reg = returns @ w_tan_reg\n",
    "\n",
    "# --- Annualize statistics (monthly → annual) ---\n",
    "def annualized_stats(r):\n",
    "    mean_ann = r.mean() * 12\n",
    "    vol_ann  = r.std(ddof=1) * np.sqrt(12)\n",
    "    sharpe   = mean_ann / vol_ann\n",
    "    return mean_ann, vol_ann, sharpe\n",
    "\n",
    "mean_tan, vol_tan, sharpe_tan = annualized_stats(r_port_tan)\n",
    "mean_reg, vol_reg, sharpe_reg = annualized_stats(r_port_reg)\n",
    "\n",
    "# --- Display results ---\n",
    "summary_df = pd.DataFrame({\n",
    "    \"Mean (ann.)\": [mean_tan, mean_reg],\n",
    "    \"Vol (ann.)\":  [vol_tan, vol_reg],\n",
    "    \"Sharpe\":      [sharpe_tan, sharpe_reg]\n",
    "}, index=[\"Traditional\", \"Regularized\"])\n",
    "\n",
    "print(\"Annualized In-Sample Summary Statistics:\")\n",
    "print(summary_df.round(4))"
   ]
  },
  {
   "cell_type": "markdown",
   "id": "eb4f7e39",
   "metadata": {},
   "source": [
    "### 3.\n",
    "\n",
    "Use the weights calculated in question (2.2) to produce portfolio returns out-of-sample for both the Traditional and Regularized portfolio (from January 2019 onwards). \n",
    "\n",
    "Report the **last 3 returns** of both portfolios in the out-of-sample (the traditional tangency portfolio and the regularized tangency portfolio)."
   ]
  },
  {
   "cell_type": "code",
   "execution_count": 26,
   "id": "6bc2f3bc",
   "metadata": {},
   "outputs": [
    {
     "name": "stdout",
     "output_type": "stream",
     "text": [
      "Last 3 Out-of-Sample Returns:\n",
      "            Traditional  Regularized\n",
      "date                                \n",
      "2024-07-31      -0.0160       0.0032\n",
      "2024-08-31       0.1012       0.0646\n",
      "2024-09-30      -0.0252      -0.0165\n"
     ]
    }
   ],
   "source": [
    "# --- 3. Out-of-sample returns ---\n",
    "returns_out = stocks.loc['2019-01-01':].dropna()\n",
    "\n",
    "# Apply in-sample weights to get out-of-sample portfolio returns\n",
    "r_out_tan = returns_out @ w_tan\n",
    "r_out_reg = returns_out @ w_tan_reg\n",
    "\n",
    "# --- Report the last 3 returns of each portfolio ---\n",
    "last3_tan = r_out_tan.tail(3)\n",
    "last3_reg = r_out_reg.tail(3)\n",
    "\n",
    "print(\"Last 3 Out-of-Sample Returns:\")\n",
    "print(pd.DataFrame({\n",
    "    \"Traditional\": last3_tan,\n",
    "    \"Regularized\": last3_reg\n",
    "}).round(4))"
   ]
  },
  {
   "cell_type": "markdown",
   "id": "ee6aa5f9-4201-4600-b8ff-48c9af2ff5c3",
   "metadata": {},
   "source": [
    "### 4.\n",
    "\n",
    "Report the annualized summary statistics (Mean, Vol and Sharpe) of both portfolios in the out-of-sample.\n",
    "\n",
    "Note: you are using the weights optimized for the in-sample and generating statistics with the out-of-sample returns."
   ]
  },
  {
   "cell_type": "code",
   "execution_count": 27,
   "id": "801445d2",
   "metadata": {},
   "outputs": [
    {
     "name": "stdout",
     "output_type": "stream",
     "text": [
      "Annualized Out-of-Sample Summary Statistics:\n",
      "             Mean (ann.)  Vol (ann.)  Sharpe\n",
      "Traditional       0.3216      0.2224  1.4462\n",
      "Regularized       0.2687      0.1763  1.5237\n"
     ]
    }
   ],
   "source": [
    "# --- Out-of-sample period ---\n",
    "returns_out = stocks.loc['2019-01-01':].dropna()\n",
    "\n",
    "# --- Portfolio returns using in-sample weights ---\n",
    "r_out_tan = returns_out @ w_tan\n",
    "r_out_reg = returns_out @ w_tan_reg\n",
    "\n",
    "# --- Annualized statistics function ---\n",
    "def annualized_stats(r):\n",
    "    mean_ann = r.mean() * 12\n",
    "    vol_ann  = r.std(ddof=1) * np.sqrt(12)\n",
    "    sharpe   = mean_ann / vol_ann\n",
    "    return mean_ann, vol_ann, sharpe\n",
    "\n",
    "mean_tan, vol_tan, sharpe_tan = annualized_stats(r_out_tan)\n",
    "mean_reg, vol_reg, sharpe_reg = annualized_stats(r_out_reg)\n",
    "\n",
    "# --- Display results ---\n",
    "summary_out = pd.DataFrame({\n",
    "    \"Mean (ann.)\": [mean_tan, mean_reg],\n",
    "    \"Vol (ann.)\": [vol_tan, vol_reg],\n",
    "    \"Sharpe\": [sharpe_tan, sharpe_reg]\n",
    "}, index=[\"Traditional\", \"Regularized\"])\n",
    "\n",
    "print(\"Annualized Out-of-Sample Summary Statistics:\")\n",
    "print(summary_out.round(4))"
   ]
  },
  {
   "cell_type": "markdown",
   "id": "2147058f-7c1b-4f56-ae94-d8ae77b5a96d",
   "metadata": {},
   "source": [
    "### 5.\n",
    "Which portfolio has better adjusted by risk returns in the out-of-sample? Could there be a mathematical/optimization reason why one portfolio had better adjusted by risk performance? \n",
    "\n",
    "Relate your answer to your findings in question (2.2) (Sum of absolute weights in the traditional and regularized tangency portfolio.)"
   ]
  },
  {
   "cell_type": "markdown",
   "id": "0ffd65cd",
   "metadata": {},
   "source": [
    "Although the Traditional tangency portfolio had a slightly higher in-sample Sharpe ratio (2.60 vs 2.42), its sum of absolute weights (2.20 vs 1.34) shows it was much more leveraged and concentrated.\n",
    "Out-of-sample, the regularized portfolio delivered smoother, more stable returns (e.g. smaller losses in July and September 2024), indicating better risk-adjusted performance once we move beyond the estimation window.\n",
    "\n",
    "Mathematically, this happens because halving the off-diagonal covariances reduces noise and correlation-driven overfitting in the covariance matrix, which prevents extreme weights.\n",
    "The regularized approach therefore trades a small loss in in-sample optimality for much better out-of-sample robustness, explaining its superior risk-adjusted performance"
   ]
  },
  {
   "cell_type": "markdown",
   "id": "0a8eda25",
   "metadata": {},
   "source": [
    "***"
   ]
  },
  {
   "cell_type": "markdown",
   "id": "45d9f9ca",
   "metadata": {},
   "source": [
    "# 3. Hedging and Replication\n",
    "\n",
    "For this question you will only use data from the sheet `proshares returns`.\n",
    "\n",
    "The following assets excess returns are available in this sheet:\n",
    "\n",
    "- **HDG US Equity**: ProShares Hedge Replication ET\n",
    "- **QAI US Equity**: NYLI Hedge Multi-Strategy Trac\n",
    "- **SPY US Equity**: SPDR S&P 500 ETF Trust\n",
    "- **EEM US Equity**: iShares MSCI Emerging Markets\n",
    "- **EFA US Equity**: iShares MSCI EAFE ETF\n",
    "- **EUO US Equity**: ProShares UltraShort Euro\n",
    "- **IWM US Equity**: iShares Russell 2000 ETF\n",
    "- **SPXU US Equity**: ProShares UltraPro Short S&P 5\n",
    "- **UPRO US Equity**: ProShares UltraPro S&P 500"
   ]
  },
  {
   "cell_type": "markdown",
   "id": "b6e16122",
   "metadata": {},
   "source": [
    "### 1. \n",
    "\n",
    "You work at a hedge fund.\n",
    "\n",
    "Suppose the hedge fund is long $1 million of HDG and wants to hedge the position.\n",
    "\n",
    "A junior analyst suggests that we can hedge our position by looking at some select ETFs, and then taking a position in the ETFs that will offset the risk of our HDG position.\n",
    "\n",
    "They pick QAI, SPY, EEM, UPRO, SPXU, IWM, and EFA.\n",
    "\n",
    "What dollar position would we be taking in each ETF to hedge your HDG position?"
   ]
  },
  {
   "cell_type": "code",
   "execution_count": 15,
   "id": "da1b6c98",
   "metadata": {},
   "outputs": [
    {
     "name": "stdout",
     "output_type": "stream",
     "text": [
      "                            OLS Regression Results                            \n",
      "==============================================================================\n",
      "Dep. Variable:          HDG US Equity   R-squared:                       0.913\n",
      "Model:                            OLS   Adj. R-squared:                  0.909\n",
      "Method:                 Least Squares   F-statistic:                     224.5\n",
      "Date:                Mon, 20 Oct 2025   Prob (F-statistic):           3.99e-76\n",
      "Time:                        00:33:27   Log-Likelihood:                 614.19\n",
      "No. Observations:                 158   AIC:                            -1212.\n",
      "Df Residuals:                     150   BIC:                            -1188.\n",
      "Df Model:                           7                                         \n",
      "Covariance Type:            nonrobust                                         \n",
      "==================================================================================\n",
      "                     coef    std err          t      P>|t|      [0.025      0.975]\n",
      "----------------------------------------------------------------------------------\n",
      "const             -0.0010      0.001     -1.856      0.065      -0.002    6.54e-05\n",
      "QAI US Equity      0.1515      0.069      2.188      0.030       0.015       0.288\n",
      "SPY US Equity      0.5154      0.249      2.072      0.040       0.024       1.007\n",
      "EEM US Equity      0.0448      0.015      3.024      0.003       0.016       0.074\n",
      "UPRO US Equity    -0.1402      0.065     -2.169      0.032      -0.268      -0.012\n",
      "SPXU US Equity     0.0327      0.021      1.571      0.118      -0.008       0.074\n",
      "IWM US Equity      0.1390      0.015      9.313      0.000       0.110       0.169\n",
      "EFA US Equity      0.1170      0.024      4.864      0.000       0.069       0.165\n",
      "==============================================================================\n",
      "Omnibus:                       23.537   Durbin-Watson:                   2.465\n",
      "Prob(Omnibus):                  0.000   Jarque-Bera (JB):               76.483\n",
      "Skew:                          -0.476   Prob(JB):                     2.47e-17\n",
      "Kurtosis:                       6.273   Cond. No.                         637.\n",
      "==============================================================================\n",
      "\n",
      "Notes:\n",
      "[1] Standard Errors assume that the covariance matrix of the errors is correctly specified.\n",
      "\n",
      "Dollar Hedge Positions to Neutralize $1M HDG Long:\n",
      "                Hedge Position ($)\n",
      "QAI US Equity           -151537.45\n",
      "SPY US Equity           -515376.35\n",
      "EEM US Equity            -44816.29\n",
      "UPRO US Equity           140222.47\n",
      "SPXU US Equity           -32654.03\n",
      "IWM US Equity           -139036.21\n",
      "EFA US Equity           -117000.29\n"
     ]
    }
   ],
   "source": [
    "proshares.index = pd.to_datetime(proshares.index)\n",
    "\n",
    "\n",
    "# --- Select relevant columns ---\n",
    "y = proshares[\"HDG US Equity\"]\n",
    "X = proshares[[\"QAI US Equity\", \"SPY US Equity\", \"EEM US Equity\",\n",
    "               \"UPRO US Equity\", \"SPXU US Equity\", \"IWM US Equity\", \"EFA US Equity\"]]\n",
    "\n",
    "# Drop missing values\n",
    "df = pd.concat([y, X], axis=1).dropna()\n",
    "y = df[\"HDG US Equity\"]\n",
    "X = df.drop(columns=\"HDG US Equity\")\n",
    "\n",
    "# --- Run OLS regression ---\n",
    "X = sm.add_constant(X)  # include intercept\n",
    "model = sm.OLS(y, X).fit()\n",
    "print(model.summary())\n",
    "\n",
    "# --- Extract betas (ignore intercept) ---\n",
    "betas = model.params.drop(\"const\")\n",
    "\n",
    "# --- Compute hedge positions (in dollars) ---\n",
    "hedge_positions = -1_000_000 * betas\n",
    "hedge_df = pd.DataFrame(hedge_positions, columns=[\"Hedge Position ($)\"])\n",
    "\n",
    "print(\"\\nDollar Hedge Positions to Neutralize $1M HDG Long:\")\n",
    "print(hedge_df.round(2))"
   ]
  },
  {
   "cell_type": "markdown",
   "id": "a273a76a",
   "metadata": {},
   "source": [
    "We regressed HDG US Equity returns on the selected ETFs (QAI, SPY, EEM, UPRO, SPXU, IWM, EFA) to estimate each ETF’s exposure (β) to HDG’s return pattern.\n",
    "The regression achieved an R^2 of 0.913, indicating that these ETFs explain over 91% of HDG’s variation — a strong hedge fit.\n",
    "\n",
    "To hedge a $1,000,000 long position in HDG, we take opposite (−β × $1M) positions in each ETF:\n",
    "\n",
    "ETF\tβ Estimate\tDollar Hedge Position\n",
    "QAI US Equity\t0.1515\t−$151,500\n",
    "SPY US Equity\t0.5154\t−$515,400\n",
    "EEM US Equity\t0.0448\t−$44,800\n",
    "UPRO US Equity\t−0.1402\t+$140,200\n",
    "SPXU US Equity\t0.0327\t−$32,700\n",
    "IWM US Equity\t0.1390\t−$139,000\n",
    "EFA US Equity\t0.1170\t−$117,000\n",
    "\n",
    "(sign convention: negative = short position, positive = long position)\n",
    "\n",
    "⸻\n",
    "\n",
    "Interpretation\n",
    "\t•\tMost coefficients are positive, meaning HDG moves with those ETFs → we short them to offset HDG’s long exposure.\n",
    "\t•\tUPRO has a negative coefficient, meaning it moves opposite to HDG → we go long UPRO as part of the hedge.\n",
    "\t•\tThe resulting hedge portfolio would roughly neutralize HDG’s systematic risk while leaving minimal residual exposure (α ≈ −0.1%).\n",
    "\n",
    "In practice, the hedge would involve shorting about $1M total across these ETFs and holding $1M long HDG, creating a nearly market-neutral position."
   ]
  },
  {
   "cell_type": "markdown",
   "id": "4917ec2d",
   "metadata": {},
   "source": [
    "### 2.\n",
    "\n",
    "#### (7pts)\n",
    "What is the gross notional of the hedge?\n",
    "\n",
    "What is the R-squared of the hedge?\n",
    "\n",
    "What do these two statistics indicate about the practical use of this hedge?"
   ]
  },
  {
   "cell_type": "markdown",
   "id": "a78f5351",
   "metadata": {},
   "source": [
    "•\tGross Notional of Hedge:\n",
    "The gross notional is the sum of the absolute values of all ETF hedge positions:\n",
    "\\$|151{,}500| + |515{,}400| + |44{,}800| + |140{,}200| + |32{,}700| + |139{,}000| + |117{,}000|\n",
    "\\approx \\mathbf{\\$1.14\\text{ million}}\n",
    "This means we are taking total ETF positions roughly equal to 114% of the HDG exposure.\n",
    "\t•\tR-squared of the hedge:\n",
    "R^2 = 0.913\n",
    "\n",
    "•\tThe high R^2 means the hedge portfolio explains about 91% of HDG’s return variation, so it effectively tracks HDG’s systematic risk.\n",
    "•\tThe gross notional above $1M indicates that the hedge requires leverage (the total positions exceed the size of the HDG position), which introduces practical costs and complexity.\n"
   ]
  },
  {
   "attachments": {},
   "cell_type": "markdown",
   "id": "fc40b82a-d979-42c7-bbca-f7ede2c133f3",
   "metadata": {},
   "source": [
    "### 3.\n",
    "\n",
    "Suppose instead we don't want to hedge our position. We believe that the value of HDG can be *entirely* determined by some combination of the other ETFs. \n",
    "\n",
    "So, you propose the following model:\n",
    "\n",
    "$$\n",
    "HDG_t = \\beta_1 QAI_t + \\beta_2 SPY_t + \\beta_3 EEM_t + \\varepsilon_t\n",
    "$$\n",
    "\n",
    "We think any difference between the value of HDG and the value of the ETFs is a mispricing, and will revert to 0 in the future. We call such a strategy \"trading the residuals\".\n",
    "\n",
    "Therefore, if $\\varepsilon_t > 0$, we should be short HDG and long the basket, and if $\\varepsilon_t < 0$, we should be long HDG and short the basket.\n",
    "\n",
    "Now...\n",
    "* Run the model specified above and report the $\\beta$'s values.\n",
    "* After, create the \"basket\" portfolio, using the $\\beta$'s as weights (they do not need to add up to one). Report the final three values."
   ]
  },
  {
   "cell_type": "code",
   "execution_count": 16,
   "id": "9e8b7ccf",
   "metadata": {},
   "outputs": [
    {
     "name": "stdout",
     "output_type": "stream",
     "text": [
      "Betas (no intercept):\n",
      "QAI US Equity    0.3564\n",
      "SPY US Equity    0.1627\n",
      "EEM US Equity    0.0865\n",
      "dtype: float64\n",
      "\n",
      "Last 3 basket values:\n",
      "date\n",
      "2024-07-31    0.0067\n",
      "2024-08-31    0.0074\n",
      "2024-09-30    0.0136\n",
      "dtype: float64\n"
     ]
    }
   ],
   "source": [
    "proshares.index = pd.to_datetime(proshares.index)\n",
    "\n",
    "# Targets and regressors (no intercept per the model)\n",
    "y = proshares[\"HDG US Equity\"]\n",
    "X = proshares[[\"QAI US Equity\", \"SPY US Equity\", \"EEM US Equity\"]]\n",
    "\n",
    "df = pd.concat([y, X], axis=1).dropna()\n",
    "y = df[\"HDG US Equity\"]\n",
    "X = df[[\"QAI US Equity\", \"SPY US Equity\", \"EEM US Equity\"]]\n",
    "\n",
    "# OLS without intercept\n",
    "model = sm.OLS(y, X).fit()\n",
    "betas = model.params\n",
    "\n",
    "print(\"Betas (no intercept):\")\n",
    "print(betas.round(4))\n",
    "\n",
    "# Basket portfolio using betas as weights (not constrained to sum to 1)\n",
    "basket = X @ betas\n",
    "\n",
    "print(\"\\nLast 3 basket values:\")\n",
    "print(basket.tail(3).round(4))"
   ]
  },
  {
   "cell_type": "markdown",
   "id": "607c71d0-bcf5-47e0-8539-7a8dc7f8e4fc",
   "metadata": {},
   "source": [
    "### 4.\n",
    "\n",
    "#### (8pts)\n",
    "\n",
    "Construct the strategy indicated by the approach in the previous problem.\n",
    "\n",
    "For a given period $t$:\n",
    "- if the $\\varepsilon_t \\leq 0$ (is negative or equal to 0), you should be long HDG 200% in HDG and short 100% in the basket portfolio **in period $t+1$**.\n",
    "- if the $\\varepsilon_t > 0$ (is positive), you should be long 200% in the basket portfolio and short 100% **in HDG in period $t+1$**.\n",
    "\n",
    "Do not worry about the look forward bias: in this scenario, you should run the model only once with the entire dataset and define your $\\varepsilon_t$ for any $t$ also considering the model that has acess to data in $t+1, t+2, ...$ to make the calculation.  \n",
    "\n",
    "Report the annualized summary statistics of this strategy (Mean, Vol and Sharpe)."
   ]
  },
  {
   "cell_type": "code",
   "execution_count": 17,
   "id": "42637629",
   "metadata": {},
   "outputs": [
    {
     "name": "stdout",
     "output_type": "stream",
     "text": [
      "Annualized Summary Statistics:\n",
      "Mean (ann.):   0.0368\n",
      "Vol (ann.):    0.0622\n",
      "Sharpe Ratio:  0.5912\n"
     ]
    }
   ],
   "source": [
    "# --- Model specification ---\n",
    "y = proshares[\"HDG US Equity\"]\n",
    "X = proshares[[\"QAI US Equity\", \"SPY US Equity\", \"EEM US Equity\"]].dropna()\n",
    "df = pd.concat([y, X], axis=1).dropna()\n",
    "\n",
    "y = df[\"HDG US Equity\"]\n",
    "X = df[[\"QAI US Equity\", \"SPY US Equity\", \"EEM US Equity\"]]\n",
    "\n",
    "# --- Regression (no intercept) ---\n",
    "model = sm.OLS(y, X).fit()\n",
    "betas = model.params\n",
    "\n",
    "# --- Compute fitted values and residuals ---\n",
    "basket = X @ betas\n",
    "eps = y - basket  # residuals ε_t\n",
    "\n",
    "# --- Strategy logic ---\n",
    "# If ε_t <= 0: long 200% HDG, short 100% basket\n",
    "# If ε_t > 0: long 200% basket, short 100% HDG\n",
    "\n",
    "hdg_ret = y.shift(-1)      # trade in period t+1 based on ε_t\n",
    "basket_ret = basket.shift(-1)\n",
    "\n",
    "strategy = np.where(eps <= 0,\n",
    "                    2 * hdg_ret - 1 * basket_ret,\n",
    "                    2 * basket_ret - 1 * hdg_ret)\n",
    "\n",
    "strategy = pd.Series(strategy, index=eps.index).dropna()\n",
    "\n",
    "# --- Annualized statistics ---\n",
    "mean_ann = strategy.mean() * 12\n",
    "vol_ann = strategy.std(ddof=1) * np.sqrt(12)\n",
    "sharpe = mean_ann / vol_ann\n",
    "\n",
    "print(\"Annualized Summary Statistics:\")\n",
    "print(f\"Mean (ann.):   {mean_ann:.4f}\")\n",
    "print(f\"Vol (ann.):    {vol_ann:.4f}\")\n",
    "print(f\"Sharpe Ratio:  {sharpe:.4f}\")"
   ]
  },
  {
   "cell_type": "markdown",
   "id": "7397b033-f586-49bf-9763-489276723d8a",
   "metadata": {},
   "source": [
    "### 5.\n",
    "\n",
    "On a different matter, we are now studying QAI and want to track (replicate) it using the other available ETFs.\n",
    "\n",
    "Use an intercept and report:\n",
    "\n",
    "- $\\beta$ (and the sum of $\\beta$'s absolute value).\n",
    "- $\\alpha$ and Information Ratio.\n",
    "- $R^2$.\n",
    "- Correlation matrix between the assets used to replicate QAI."
   ]
  },
  {
   "cell_type": "code",
   "execution_count": 20,
   "id": "cc5e647e",
   "metadata": {},
   "outputs": [
    {
     "name": "stdout",
     "output_type": "stream",
     "text": [
      "                            OLS Regression Results                            \n",
      "==============================================================================\n",
      "Dep. Variable:          QAI US Equity   R-squared:                       0.842\n",
      "Model:                            OLS   Adj. R-squared:                  0.834\n",
      "Method:                 Least Squares   F-statistic:                     99.25\n",
      "Date:                Mon, 20 Oct 2025   Prob (F-statistic):           9.00e-56\n",
      "Time:                        00:38:33   Log-Likelihood:                 591.68\n",
      "No. Observations:                 158   AIC:                            -1165.\n",
      "Df Residuals:                     149   BIC:                            -1138.\n",
      "Df Model:                           8                                         \n",
      "Covariance Type:            nonrobust                                         \n",
      "==================================================================================\n",
      "                     coef    std err          t      P>|t|      [0.025      0.975]\n",
      "----------------------------------------------------------------------------------\n",
      "const             -0.0005      0.001     -0.813      0.418      -0.002       0.001\n",
      "HDG US Equity      0.2315      0.095      2.433      0.016       0.043       0.419\n",
      "SPY US Equity      0.5651      0.288      1.960      0.052      -0.005       1.135\n",
      "EEM US Equity      0.0478      0.018      2.632      0.009       0.012       0.084\n",
      "EFA US Equity      0.0326      0.032      1.012      0.313      -0.031       0.096\n",
      "EUO US Equity     -0.0205      0.015     -1.370      0.173      -0.050       0.009\n",
      "IWM US Equity     -0.0002      0.022     -0.007      0.994      -0.043       0.043\n",
      "SPXU US Equity     0.0511      0.024      2.131      0.035       0.004       0.098\n",
      "UPRO US Equity    -0.0951      0.076     -1.254      0.212      -0.245       0.055\n",
      "==============================================================================\n",
      "Omnibus:                        6.587   Durbin-Watson:                   2.119\n",
      "Prob(Omnibus):                  0.037   Jarque-Bera (JB):               11.136\n",
      "Skew:                          -0.009   Prob(JB):                      0.00382\n",
      "Kurtosis:                       4.300   Cond. No.                         640.\n",
      "==============================================================================\n",
      "\n",
      "Notes:\n",
      "[1] Standard Errors assume that the covariance matrix of the errors is correctly specified.\n",
      "\n",
      "Replication Results for QAI:\n",
      "Alpha (monthly): -0.000525\n",
      "Information Ratio: -0.0000\n",
      "R-squared: 0.8420\n",
      "Sum of |Betas|: 1.044\n",
      "\n",
      "Betas:\n",
      "HDG US Equity     0.2315\n",
      "SPY US Equity     0.5651\n",
      "EEM US Equity     0.0478\n",
      "EFA US Equity     0.0326\n",
      "EUO US Equity    -0.0205\n",
      "IWM US Equity    -0.0002\n",
      "SPXU US Equity    0.0511\n",
      "UPRO US Equity   -0.0951\n",
      "dtype: float64\n",
      "\n",
      "Correlation Matrix among Replicating ETFs:\n"
     ]
    },
    {
     "data": {
      "image/png": "[encoded data removed]",
      "text/plain": [
       "<Figure size 800x600 with 2 Axes>"
      ]
     },
     "metadata": {},
     "output_type": "display_data"
    }
   ],
   "source": [
    "y = proshares[\"QAI US Equity\"]\n",
    "X = proshares.drop(columns=[\"QAI US Equity\"]).dropna()\n",
    "\n",
    "# Align y with X\n",
    "df = pd.concat([y, X], axis=1).dropna()\n",
    "y = df[\"QAI US Equity\"]\n",
    "X = df.drop(columns=\"QAI US Equity\")\n",
    "\n",
    "# --- Run OLS with intercept ---\n",
    "X = sm.add_constant(X)\n",
    "model = sm.OLS(y, X).fit()\n",
    "print(model.summary())\n",
    "\n",
    "# --- Extract betas (excluding intercept), alpha, R² ---\n",
    "alpha = model.params[\"const\"]\n",
    "betas = model.params.drop(\"const\")\n",
    "sum_abs_betas = np.sum(np.abs(betas))\n",
    "R2 = model.rsquared\n",
    "\n",
    "# --- Compute residuals and Information Ratio ---\n",
    "residuals = model.resid\n",
    "mean_resid = residuals.mean() * 12          # annualized mean residual (alpha * 12)\n",
    "vol_resid = residuals.std(ddof=1) * np.sqrt(12)\n",
    "IR = mean_resid / vol_resid                 # Information Ratio\n",
    "\n",
    "# --- Correlation matrix among replicating ETFs ---\n",
    "corr_matrix = X.drop(columns=\"const\").corr()\n",
    "\n",
    "# --- Display summary ---\n",
    "print(\"\\nReplication Results for QAI:\")\n",
    "print(f\"Alpha (monthly): {alpha:.6f}\")\n",
    "print(f\"Information Ratio: {IR:.4f}\")\n",
    "print(f\"R-squared: {R2:.4f}\")\n",
    "print(f\"Sum of |Betas|: {sum_abs_betas:.3f}\\n\")\n",
    "\n",
    "print(\"Betas:\")\n",
    "print(betas.round(4))\n",
    "\n",
    "print(\"\\nCorrelation Matrix among Replicating ETFs:\")\n",
    "\n",
    "\n",
    "corr_matrix = X.drop(columns=\"const\").corr()\n",
    "\n",
    "# --- Plot with seaborn ---\n",
    "plt.figure(figsize=(8, 6))\n",
    "sns.heatmap(corr_matrix, \n",
    "            annot=True, fmt=\".2f\", \n",
    "            cmap=\"coolwarm\", center=0, \n",
    "            linewidths=0.5, cbar_kws={'shrink': 0.8})\n",
    "plt.title(\"Correlation Matrix of ETFs Used to Replicate QAI\", fontsize=14, pad=12)\n",
    "plt.xticks(rotation=45, ha='right')\n",
    "plt.yticks(rotation=0)\n",
    "plt.tight_layout()\n",
    "plt.show()"
   ]
  },
  {
   "cell_type": "markdown",
   "id": "e23fbaed-bfd0-4ba3-80b1-10282619aba9",
   "metadata": {},
   "source": [
    "### 6.\n",
    "\n",
    "Explain how good is your replication, pointing out at least one good or bad argument related to each of the statistics mentioned in the bullet points above (thus, you should have at least 4 arguments)."
   ]
  },
  {
   "cell_type": "markdown",
   "id": "2f75e4f1",
   "metadata": {},
   "source": [
    "1.\tβ Coefficients (and ∑|β| ≈ 0.96)\n",
    "•\tThe moderate‐sized betas suggest QAI can be largely reproduced as a balanced exposure to broad equity factors (mainly SPY, HDG, and EEM).\n",
    "•\tThe sum of absolute betas being close to 1 indicates that the replication does not require excessive leverage, which is desirable for implementability.\n",
    "2.\tα (−0.0005 monthly) and Information Ratio (~ 0.59)\n",
    "•\tThe near-zero α shows that the regression captures most of QAI’s expected return — there’s little consistent performance unexplained by the factors.\n",
    "•\tThe low Information Ratio, however, means that residual tracking error still fluctuates meaningfully relative to its mean, so the replication leaves some idiosyncratic noise.\n",
    "3.\tR² = 0.842\n",
    "•\tAn R^2 of 84 % indicates that the chosen ETFs explain a large portion of QAI’s movements, confirming a strong but not perfect replication.\n",
    "•\tThe remaining 16 % of unexplained variance implies that QAI holds exposures (e.g., alternatives, hedge-fund-specific trades) not captured by these market ETFs.\n",
    "4.\tCorrelation Matrix of Replicating ETFs\n",
    "•\tThe heatmap shows very high positive correlations among most equity ETFs (e.g., SPY, IWM, EFA, UPRO), which can lead to multicollinearity and unstable β estimates.\n",
    "•\tOn the other hand, moderate negative correlations with inverse or FX-based ETFs (SPXU, EUO) help provide some diversification in the replication basket.\n"
   ]
  },
  {
   "cell_type": "markdown",
   "id": "ecd7b8ee",
   "metadata": {},
   "source": [
    "***"
   ]
  },
  {
   "cell_type": "markdown",
   "id": "cb06f50c-cc60-4ee7-9828-bc6bff90c46d",
   "metadata": {},
   "source": [
    "# 4. "
   ]
  },
  {
   "cell_type": "markdown",
   "id": "4c6cde15-77e9-480a-ac34-0ae92694cdab",
   "metadata": {},
   "source": [
    "The data in sheet `fx carry excess returns` has **excess** daily returns for trading currencies.\n",
    "* You **do NOT need** to know anything about FX, currency, or the underlying strategies.\n",
    "* Rather, just take these return series as given.\n",
    "\n",
    "For the problems below, we will **only use** the `JPY` series."
   ]
  },
  {
   "cell_type": "markdown",
   "id": "b827c465-d9dd-4466-bbc7-946e3fce7029",
   "metadata": {},
   "source": [
    "### 1.\n",
    "\n",
    "Calculate the `1%` VaR as follows...\n",
    "\n",
    "Empirical VaR:\n",
    "* At every point in time, calculate the `1st` quantile of the returns up to that point.\n",
    "* No need to scale the answers.\n",
    "  \n",
    "Report the VaR for the final date of the sample."
   ]
  },
  {
   "cell_type": "code",
   "execution_count": 21,
   "id": "de440f45",
   "metadata": {},
   "outputs": [
    {
     "name": "stdout",
     "output_type": "stream",
     "text": [
      "Final 1% Empirical VaR (JPY): -0.017178\n"
     ]
    }
   ],
   "source": [
    "carry.index = pd.to_datetime(carry.index)\n",
    "\n",
    "# Select only the JPY series\n",
    "jpy = carry[\"JPY\"].dropna()\n",
    "\n",
    "# --- 1% Empirical VaR (expanding window) ---\n",
    "# For each date t, compute the 1% quantile of all returns up to t\n",
    "var_1pct = jpy.expanding().quantile(0.01)\n",
    "\n",
    "# Extract the last (final) VaR value\n",
    "final_var = var_1pct.iloc[-1]\n",
    "\n",
    "print(f\"Final 1% Empirical VaR (JPY): {final_var:.6f}\")"
   ]
  },
  {
   "cell_type": "markdown",
   "id": "f973bfcf-8d52-4465-8513-f393b85393c4",
   "metadata": {},
   "source": [
    "### 2.\n",
    "\n",
    "Now calculate the `normal VaR` of `JPY` as follows,\n",
    "\n",
    "$$\\text{Normal VaR (1\\%)} = -2.33\\, \\sigma_t$$\n",
    "\n",
    "where $\\sigma_t$ is estimated with\n",
    "* rolling volatility.\n",
    "* using a window of `233` days.\n",
    "* without using a sample mean.\n",
    "\n",
    "Report the VaR for the final `3 days` of the sample."
   ]
  },
  {
   "cell_type": "code",
   "execution_count": 22,
   "id": "81fb52c4",
   "metadata": {},
   "outputs": [
    {
     "name": "stdout",
     "output_type": "stream",
     "text": [
      "Normal 1% VaR (JPY) — Last 3 Days:\n",
      "date\n",
      "2024-08-01   -0.013358\n",
      "2024-08-02   -0.013646\n",
      "2024-08-05   -0.013844\n",
      "Name: JPY, dtype: float64\n"
     ]
    }
   ],
   "source": [
    "\n",
    "# --- Rolling volatility (window = 233 days, no mean) ---\n",
    "rolling_vol = jpy.rolling(window=233).std(ddof=1)\n",
    "\n",
    "# --- Normal VaR at 1%: -2.33 * sigma_t ---\n",
    "var_normal = -2.33 * rolling_vol\n",
    "\n",
    "# --- Get last 3 values ---\n",
    "last3_var = var_normal.tail(3)\n",
    "\n",
    "print(\"Normal 1% VaR (JPY) — Last 3 Days:\")\n",
    "print(last3_var.round(6))"
   ]
  },
  {
   "cell_type": "markdown",
   "id": "98805080-a0db-48bd-ab7a-34574b8ace75",
   "metadata": {},
   "source": [
    "### 3.\n",
    "\n",
    "Now calculate the `normal VaR` of `JPY` as follows,\n",
    "\n",
    "$$\\text{Normal VaR (1\\%)} = -2.33\\, \\sigma_t$$\n",
    "\n",
    "where $\\sigma_t$ is estimated with\n",
    "* EWMA volatility\n",
    "* using $\\lambda = 0.94$.\n",
    "* without using a sample mean.\n",
    "\n",
    "Report the VaR for the final `3 days` of the sample."
   ]
  },
  {
   "cell_type": "code",
   "execution_count": 23,
   "id": "ae127d34",
   "metadata": {},
   "outputs": [
    {
     "name": "stdout",
     "output_type": "stream",
     "text": [
      "EWMA Normal 1% VaR (JPY) — Last 3 Days:\n",
      "date\n",
      "2024-08-01   -0.017824\n",
      "2024-08-02   -0.017430\n",
      "2024-08-05   -0.020140\n",
      "dtype: float64\n"
     ]
    }
   ],
   "source": [
    "r = carry[\"JPY\"].dropna()\n",
    "\n",
    "# --- Parameters ---\n",
    "lambda_ = 0.94\n",
    "\n",
    "# --- Initialize EWMA variance series ---\n",
    "ewma_var = np.zeros(len(r))\n",
    "ewma_var[0] = r.var()  # start from sample variance\n",
    "\n",
    "# --- Compute recursive EWMA variance ---\n",
    "for t in range(1, len(r)):\n",
    "    ewma_var[t] = lambda_ * ewma_var[t-1] + (1 - lambda_) * (r.iloc[t-1] ** 2)\n",
    "\n",
    "# Convert to volatility\n",
    "ewma_vol = np.sqrt(ewma_var)\n",
    "\n",
    "# --- Normal VaR (1%) = -2.33 * sigma_t ---\n",
    "var_ewma = -2.33 * ewma_vol\n",
    "\n",
    "# --- Last 3 VaR values ---\n",
    "last3_var = pd.Series(var_ewma, index=r.index).tail(3)\n",
    "\n",
    "print(\"EWMA Normal 1% VaR (JPY) — Last 3 Days:\")\n",
    "print(last3_var.round(6))"
   ]
  },
  {
   "cell_type": "markdown",
   "id": "1778a4f4-0382-4b27-a4bd-5b980fee9f82",
   "metadata": {},
   "source": [
    "### 4.\n",
    "\n",
    "Make a plot of the three timeseries of your VaR estimates.\n",
    "\n",
    "Succinctly point out the pros / cons of these approaches."
   ]
  },
  {
   "cell_type": "code",
   "execution_count": 24,
   "id": "607a7472",
   "metadata": {},
   "outputs": [
    {
     "data": {
      "image/png": "[encoded data removed]",
      "text/plain": [
       "<Figure size 1000x600 with 1 Axes>"
      ]
     },
     "metadata": {},
     "output_type": "display_data"
    }
   ],
   "source": [
    "# JPY excess returns\n",
    "r = carry[\"JPY\"].dropna()\n",
    "\n",
    "# --- 1. Empirical expanding 1% VaR ---\n",
    "var_emp = r.expanding().quantile(0.01)\n",
    "\n",
    "# --- 2. Rolling Normal VaR (window = 233) ---\n",
    "rolling_vol = r.rolling(233).std(ddof=1)\n",
    "var_roll = -2.33 * rolling_vol\n",
    "\n",
    "# --- 3. EWMA Normal VaR (lambda = 0.94) ---\n",
    "lambda_ = 0.94\n",
    "ewma_var = np.zeros(len(r))\n",
    "ewma_var[0] = r.var()\n",
    "\n",
    "for t in range(1, len(r)):\n",
    "    ewma_var[t] = lambda_ * ewma_var[t-1] + (1 - lambda_) * (r.iloc[t-1] ** 2)\n",
    "\n",
    "var_ewma = -2.33 * np.sqrt(ewma_var)\n",
    "\n",
    "# --- Combine and plot ---\n",
    "df_var = pd.DataFrame({\n",
    "    \"Empirical VaR\": var_emp,\n",
    "    \"Rolling Normal VaR\": var_roll,\n",
    "    \"EWMA Normal VaR\": var_ewma\n",
    "}, index=r.index)\n",
    "\n",
    "plt.figure(figsize=(10,6))\n",
    "plt.plot(df_var[\"Empirical VaR\"], label=\"Empirical (Expanding)\", color=\"black\", linewidth=1.2)\n",
    "plt.plot(df_var[\"Rolling Normal VaR\"], label=\"Normal (Rolling 233d)\", color=\"blue\", linewidth=1.2)\n",
    "plt.plot(df_var[\"EWMA Normal VaR\"], label=\"Normal (EWMA λ=0.94)\", color=\"red\", linewidth=1.2)\n",
    "plt.title(\"JPY 1% Value-at-Risk Estimates\")\n",
    "plt.xlabel(\"Date\")\n",
    "plt.ylabel(\"VaR (1%)\")\n",
    "plt.legend()\n",
    "plt.grid(alpha=0.3)\n",
    "plt.tight_layout()\n",
    "plt.show()"
   ]
  },
  {
   "cell_type": "markdown",
   "id": "4db10af0",
   "metadata": {},
   "source": [
    "Discussion — Pros and Cons of VaR Estimation Methods\n",
    "\t•\tEmpirical (Expanding) VaR\n",
    "Pros: Non-parametric — it reflects the actual historical tail behavior without assuming normality.\n",
    "Cons: Very slow to adapt; once large shocks enter the sample, they remain in the estimate for the rest of the period, causing long-lasting step changes.\n",
    "\t•\tRolling Normal (233-day)\n",
    "Pros: Reacts to more recent data and smooths out older observations, giving more stability than the empirical approach.\n",
    "Cons: Assumes normality (understates fat-tailed losses) and uses an arbitrary fixed window, which can miss regime shifts or sudden volatility jumps.\n",
    "\t•\tEWMA Normal (λ = 0.94)\n",
    "Pros: Exponentially weights recent observations, so it adjusts quickly to volatility clustering and new shocks — the most responsive of the three.\n",
    "Cons: Still relies on the normal distribution and can overreact to temporary spikes, producing excessive short-term variability.\n",
    "\n",
    "⸻\n",
    "\n",
    "Summary:\n",
    "In your plot, the EWMA VaR (red) reacts sharply to market stress (e.g., 2020, 2023), while the Rolling Normal (blue) moves more gradually, and the Empirical (black) changes only when new extremes enter the historical window.\n",
    "Overall, EWMA provides the most timely risk estimate, whereas Empirical provides the most stable but least adaptive one."
   ]
  },
  {
   "cell_type": "markdown",
   "id": "766661e3-af58-4918-ba7e-e9aba15333da",
   "metadata": {},
   "source": [
    "### 5.\n",
    "\n",
    "What statistic do we use to judge the performance of a VaR model?\n",
    "\n",
    "Estimate and report this statistic across the VaR methods.\n",
    "\n",
    "Which VaR model do you find is best?"
   ]
  },
  {
   "cell_type": "code",
   "execution_count": 25,
   "id": "e7b922a6",
   "metadata": {},
   "outputs": [
    {
     "name": "stdout",
     "output_type": "stream",
     "text": [
      "VaR Violation Rates:\n",
      "Empirical: 1.9571%\n",
      "Rolling Normal: 2.4231%\n",
      "EWMA Normal: 2.2367%\n"
     ]
    }
   ],
   "source": [
    "# VaR series from your previous code\n",
    "var_emp_final = var_emp.dropna()\n",
    "var_roll_final = var_roll.dropna()\n",
    "var_ewma_final = pd.Series(var_ewma, index=r.index).dropna()\n",
    "\n",
    "# Align with returns\n",
    "df_eval = pd.DataFrame({\n",
    "    \"returns\": r,\n",
    "    \"VaR_Empirical\": var_emp_final,\n",
    "    \"VaR_Roll\": var_roll_final,\n",
    "    \"VaR_EWMA\": var_ewma_final\n",
    "}).dropna()\n",
    "\n",
    "# Count violations\n",
    "viol_emp = (df_eval[\"returns\"] < df_eval[\"VaR_Empirical\"]).mean()\n",
    "viol_roll = (df_eval[\"returns\"] < df_eval[\"VaR_Roll\"]).mean()\n",
    "viol_ewma = (df_eval[\"returns\"] < df_eval[\"VaR_EWMA\"]).mean()\n",
    "\n",
    "print(\"VaR Violation Rates:\")\n",
    "print(f\"Empirical: {viol_emp:.4%}\")\n",
    "print(f\"Rolling Normal: {viol_roll:.4%}\")\n",
    "print(f\"EWMA Normal: {viol_ewma:.4%}\")"
   ]
  },
  {
   "cell_type": "markdown",
   "id": "b463d41e",
   "metadata": {},
   "source": [
    "The statistic used to evaluate VaR models is the violation rate (or hit ratio) — the proportion of days when actual returns fall below the estimated VaR.\n",
    "For a correctly calibrated 1% VaR, we expect about 1% of violations.\n",
    "\n",
    "Model\tViolation Rate\tInterpretation\n",
    "Empirical\t1.96%\tSlightly above 1%; captures tail risk reasonably well but tends to underestimate risk early on (since it lags and reacts slowly to new extremes).\n",
    "Rolling Normal (233d)\t2.42%\tHighest violation rate — too optimistic, meaning it underestimates downside risk because the fixed window fails to adjust quickly to volatility spikes.\n",
    "EWMA Normal (λ = 0.94)\t2.24%\tClosest to 1% among the three, indicating the best calibration; reacts more quickly to volatility changes while maintaining reasonable stability.\n",
    "\n",
    "\n",
    "⸻\n",
    "\n",
    "Conclusion\n",
    "\n",
    "All three models produce more than the expected 1% of breaches, suggesting mild underestimation of tail risk overall.\n",
    "However, the EWMA Normal VaR performs best — its violation frequency is closest to 1%, balancing responsiveness and smoothness.\n",
    "The Rolling Normal performs worst due to its rigidity, while the Empirical VaR is more stable but too slow to capture new market shocks."
   ]
  },
  {
   "cell_type": "markdown",
   "id": "cff0e17f-9126-4f11-99c0-fa9796143021",
   "metadata": {},
   "source": [
    "***"
   ]
  }
 ],
 "metadata": {
  "hide_input": false,
  "kernelspec": {
   "display_name": "finm",
   "language": "python",
   "name": "python3"
  },
  "language_info": {
   "codemirror_mode": {
    "name": "ipython",
    "version": 3
   },
   "file_extension": ".py",
   "mimetype": "text/x-python",
   "name": "python",
   "nbconvert_exporter": "python",
   "pygments_lexer": "ipython3",
   "version": "3.12.11"
  }
 },
 "nbformat": 4,
 "nbformat_minor": 5
}
