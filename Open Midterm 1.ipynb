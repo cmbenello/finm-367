{
 "cells": [
  {
   "cell_type": "markdown",
   "metadata": {},
   "source": [
    "# Open Midterm 1\n",
    "\n",
    "## FINM 36700 - 2025\n",
    "\n",
    "### UChicago Financial Mathematics\n",
    "\n",
    "* Mark Hendricks\n",
    "* hendricks@uchicago.edu"
   ]
  },
  {
   "cell_type": "markdown",
   "metadata": {},
   "source": [
    "***"
   ]
  },
  {
   "cell_type": "markdown",
   "metadata": {},
   "source": [
    "# Instructions"
   ]
  },
  {
   "cell_type": "markdown",
   "metadata": {},
   "source": [
    "## Please note the following:\n",
    "\n",
    "Points\n",
    "* For every minute late you submit the exam, you will lose one point.\n",
    "\n",
    "Rules\n",
    "* The exam is open-material, closed-communication.\n",
    "\n",
    "Advice\n",
    "* If you find any question to be unclear, state your interpretation and proceed. We will only answer questions of interpretation if there is a typo, error, etc."
   ]
  },
  {
   "cell_type": "markdown",
   "metadata": {},
   "source": [
    "## Data\n",
    "\n",
    "**All data files are found in at the course web-book.**\n",
    "\n",
    "https://markhendricks.github.io/finm-portfolio/. "
   ]
  },
  {
   "cell_type": "markdown",
   "metadata": {},
   "source": [
    "## Scoring\n",
    "\n",
    "| Problem | Points |\n",
    "|---------|--------|\n",
    "| 1       | 70     |\n",
    "| 2       | 30     |\n",
    "\n",
    "**Numbered problems are worth 5pts unless specified otherwise.**"
   ]
  },
  {
   "cell_type": "markdown",
   "metadata": {},
   "source": [
    "***"
   ]
  },
  {
   "cell_type": "markdown",
   "metadata": {},
   "source": [
    "## Submitting your Exam"
   ]
  },
  {
   "cell_type": "markdown",
   "metadata": {},
   "source": [
    "Your submitted file (ipynb or .zip) must be named in the format...\n",
    "* `midterm-1-LASTNAME-FIRSTNAME.ipynb`\n",
    "* `midterm-1-LASTNAME-FIRSTNAME.zip`\n",
    "\n",
    "Submit the exam via\n",
    "* Canvas at Assignments/Midterm 1\n",
    "* If there is any trouble with Canvas, or for a backup, submit it at the course web-book\n",
    "https://markhendricks.github.io/finm-portfolio/. \n",
    "\n",
    "Your submission must be complete.\n",
    "* If we can't run the notebook to reproduce, it is not complete.\n",
    "\n",
    "You should either...\n",
    "* include all helper functions at the top of this notebook in the `Solution Functions` sections.\n",
    "* submit a zipped folder containing the solution functions"
   ]
  },
  {
   "cell_type": "markdown",
   "metadata": {},
   "source": [
    "__Exam Submission Structure:__\n",
    "\n",
    "If you are submitting a zipped folder (because you cannot make the ipynb stand-alone) then use this structure...\n",
    "\n",
    "```plaintext\n",
    "exam-open-LASTNAME-FIRSTNAME.zip/\n",
    "│── exam-open.ipynb\n",
    "│── data/\n",
    "│   ├── example_data.csv\n",
    "│── modules/\n",
    "│   ├── my_functions.py"
   ]
  },
  {
   "cell_type": "markdown",
   "metadata": {},
   "source": [
    "***"
   ]
  },
  {
   "cell_type": "markdown",
   "metadata": {},
   "source": [
    "## Your Functions\n",
    "\n",
    "Please put all functions needed to run the ipynb here.\n",
    "\n",
    "* We must be able to run the notebook!\n",
    "* If you can't get all the functions into this ipynb, then make sure to zip your ipynb and supporting materials and submit the zipped folder.\n",
    "* But most of you should be able to submit a single, stand-alone ipynb."
   ]
  },
  {
   "cell_type": "code",
   "execution_count": null,
   "metadata": {},
   "outputs": [],
   "source": []
  },
  {
   "cell_type": "markdown",
   "metadata": {},
   "source": [
    "***"
   ]
  },
  {
   "cell_type": "markdown",
   "metadata": {},
   "source": [
    "## Citations\n",
    "\n",
    "### AI\n",
    "\n",
    "List any AI tools used in the exam. No need to list prompts, but rather just AI models or IDE integrations.\n",
    "\n",
    "I expect most students will have something to list here.\n"
   ]
  },
  {
   "cell_type": "markdown",
   "metadata": {},
   "source": [
    "\n",
    "* \n",
    "* \n",
    "* \n",
    "\n"
   ]
  },
  {
   "cell_type": "markdown",
   "metadata": {},
   "source": [
    "### Other resources\n",
    "\n",
    "Please list any other resources **aside from course materials** from which you used substantially. (No need to list every Google search; just materials from which you used substantially or for specific, original content.) \n",
    "\n",
    "I expect most students will not have anything to list here."
   ]
  },
  {
   "cell_type": "markdown",
   "metadata": {},
   "source": [
    "* \n",
    "* \n",
    "* "
   ]
  },
  {
   "cell_type": "markdown",
   "metadata": {},
   "source": [
    "***"
   ]
  },
  {
   "cell_type": "markdown",
   "metadata": {},
   "source": [
    "# Your Name\n",
    "\n",
    "List your name and CNetID"
   ]
  },
  {
   "cell_type": "markdown",
   "metadata": {},
   "source": [
    "* Name: \n",
    "* CNetID: "
   ]
  },
  {
   "cell_type": "markdown",
   "metadata": {},
   "source": [
    "***"
   ]
  },
  {
   "cell_type": "markdown",
   "metadata": {},
   "source": [
    "# 1. Portfolio Analysis"
   ]
  },
  {
   "cell_type": "markdown",
   "metadata": {},
   "source": [
    "### Data\n",
    "\n",
    "Use the data in `data/midterm_1_stock_returns.xlsx`.\n",
    "\n",
    "The returns are...\n",
    "* excess returns\n",
    "* weekly\n",
    "* through `May 2025`\n",
    "\n",
    "It has returns for\n",
    "* `25` single-name equities\n",
    "* `SPY`"
   ]
  },
  {
   "cell_type": "code",
   "execution_count": null,
   "metadata": {},
   "outputs": [
    {
     "data": {
      "text/html": [
       "<div>\n",
       "<style scoped>\n",
       "    .dataframe tbody tr th:only-of-type {\n",
       "        vertical-align: middle;\n",
       "    }\n",
       "\n",
       "    .dataframe tbody tr th {\n",
       "        vertical-align: top;\n",
       "    }\n",
       "\n",
       "    .dataframe thead th {\n",
       "        text-align: right;\n",
       "    }\n",
       "</style>\n",
       "<table border=\"1\" class=\"dataframe\">\n",
       "  <thead>\n",
       "    <tr style=\"text-align: right;\">\n",
       "      <th></th>\n",
       "      <th>ADSK</th>\n",
       "      <th>AOS</th>\n",
       "      <th>BKNG</th>\n",
       "      <th>CBRE</th>\n",
       "      <th>CCI</th>\n",
       "      <th>CF</th>\n",
       "      <th>CHRW</th>\n",
       "      <th>DE</th>\n",
       "      <th>DGX</th>\n",
       "      <th>DTE</th>\n",
       "      <th>...</th>\n",
       "      <th>MRK</th>\n",
       "      <th>MTD</th>\n",
       "      <th>PG</th>\n",
       "      <th>PNR</th>\n",
       "      <th>SBAC</th>\n",
       "      <th>STE</th>\n",
       "      <th>TTWO</th>\n",
       "      <th>VTRS</th>\n",
       "      <th>WM</th>\n",
       "      <th>WMT</th>\n",
       "    </tr>\n",
       "    <tr>\n",
       "      <th>date</th>\n",
       "      <th></th>\n",
       "      <th></th>\n",
       "      <th></th>\n",
       "      <th></th>\n",
       "      <th></th>\n",
       "      <th></th>\n",
       "      <th></th>\n",
       "      <th></th>\n",
       "      <th></th>\n",
       "      <th></th>\n",
       "      <th></th>\n",
       "      <th></th>\n",
       "      <th></th>\n",
       "      <th></th>\n",
       "      <th></th>\n",
       "      <th></th>\n",
       "      <th></th>\n",
       "      <th></th>\n",
       "      <th></th>\n",
       "      <th></th>\n",
       "      <th></th>\n",
       "    </tr>\n",
       "  </thead>\n",
       "  <tbody>\n",
       "    <tr>\n",
       "      <th>2015-01-09</th>\n",
       "      <td>-0.021166</td>\n",
       "      <td>-0.008927</td>\n",
       "      <td>-0.078893</td>\n",
       "      <td>-0.000577</td>\n",
       "      <td>0.026536</td>\n",
       "      <td>0.069378</td>\n",
       "      <td>-0.024107</td>\n",
       "      <td>-0.030450</td>\n",
       "      <td>-0.003635</td>\n",
       "      <td>-0.002414</td>\n",
       "      <td>...</td>\n",
       "      <td>0.093897</td>\n",
       "      <td>-0.008843</td>\n",
       "      <td>-0.002101</td>\n",
       "      <td>-0.023393</td>\n",
       "      <td>-0.001091</td>\n",
       "      <td>0.013659</td>\n",
       "      <td>-0.008009</td>\n",
       "      <td>-0.009050</td>\n",
       "      <td>-0.004251</td>\n",
       "      <td>0.040160</td>\n",
       "    </tr>\n",
       "    <tr>\n",
       "      <th>2015-01-16</th>\n",
       "      <td>-0.024369</td>\n",
       "      <td>-0.015313</td>\n",
       "      <td>-0.041579</td>\n",
       "      <td>-0.045022</td>\n",
       "      <td>0.012374</td>\n",
       "      <td>0.001515</td>\n",
       "      <td>0.019290</td>\n",
       "      <td>0.019265</td>\n",
       "      <td>0.019738</td>\n",
       "      <td>0.036405</td>\n",
       "      <td>...</td>\n",
       "      <td>0.007512</td>\n",
       "      <td>-0.024325</td>\n",
       "      <td>0.011081</td>\n",
       "      <td>-0.009830</td>\n",
       "      <td>-0.012042</td>\n",
       "      <td>-0.020590</td>\n",
       "      <td>0.048080</td>\n",
       "      <td>0.002865</td>\n",
       "      <td>0.013778</td>\n",
       "      <td>-0.028873</td>\n",
       "    </tr>\n",
       "    <tr>\n",
       "      <th>2015-01-23</th>\n",
       "      <td>0.023571</td>\n",
       "      <td>0.016282</td>\n",
       "      <td>0.029527</td>\n",
       "      <td>-0.004231</td>\n",
       "      <td>0.050829</td>\n",
       "      <td>0.013841</td>\n",
       "      <td>0.009121</td>\n",
       "      <td>0.012027</td>\n",
       "      <td>0.016490</td>\n",
       "      <td>0.014229</td>\n",
       "      <td>...</td>\n",
       "      <td>-0.008567</td>\n",
       "      <td>0.037842</td>\n",
       "      <td>-0.005804</td>\n",
       "      <td>-0.003565</td>\n",
       "      <td>0.080951</td>\n",
       "      <td>0.023033</td>\n",
       "      <td>0.022253</td>\n",
       "      <td>-0.031965</td>\n",
       "      <td>0.014548</td>\n",
       "      <td>0.020053</td>\n",
       "    </tr>\n",
       "    <tr>\n",
       "      <th>2015-01-30</th>\n",
       "      <td>-0.071920</td>\n",
       "      <td>0.069487</td>\n",
       "      <td>-0.027466</td>\n",
       "      <td>-0.018513</td>\n",
       "      <td>-0.003684</td>\n",
       "      <td>0.012031</td>\n",
       "      <td>-0.039124</td>\n",
       "      <td>-0.035766</td>\n",
       "      <td>0.002540</td>\n",
       "      <td>-0.017317</td>\n",
       "      <td>...</td>\n",
       "      <td>-0.035366</td>\n",
       "      <td>0.002970</td>\n",
       "      <td>-0.064277</td>\n",
       "      <td>-0.033041</td>\n",
       "      <td>-0.014190</td>\n",
       "      <td>-0.014506</td>\n",
       "      <td>-0.004689</td>\n",
       "      <td>-0.019552</td>\n",
       "      <td>-0.029622</td>\n",
       "      <td>-0.039883</td>\n",
       "    </tr>\n",
       "    <tr>\n",
       "      <th>2015-02-06</th>\n",
       "      <td>0.056754</td>\n",
       "      <td>0.037577</td>\n",
       "      <td>0.012818</td>\n",
       "      <td>0.048856</td>\n",
       "      <td>0.001733</td>\n",
       "      <td>-0.028619</td>\n",
       "      <td>-0.009970</td>\n",
       "      <td>0.044489</td>\n",
       "      <td>-0.020120</td>\n",
       "      <td>-0.049186</td>\n",
       "      <td>...</td>\n",
       "      <td>-0.024717</td>\n",
       "      <td>0.016318</td>\n",
       "      <td>0.015660</td>\n",
       "      <td>0.040609</td>\n",
       "      <td>0.010108</td>\n",
       "      <td>0.026985</td>\n",
       "      <td>-0.031460</td>\n",
       "      <td>0.013922</td>\n",
       "      <td>0.019639</td>\n",
       "      <td>0.027653</td>\n",
       "    </tr>\n",
       "  </tbody>\n",
       "</table>\n",
       "<p>5 rows × 25 columns</p>\n",
       "</div>"
      ],
      "text/plain": [
       "                ADSK       AOS      BKNG      CBRE       CCI        CF  \\\n",
       "date                                                                     \n",
       "2015-01-09 -0.021166 -0.008927 -0.078893 -0.000577  0.026536  0.069378   \n",
       "2015-01-16 -0.024369 -0.015313 -0.041579 -0.045022  0.012374  0.001515   \n",
       "2015-01-23  0.023571  0.016282  0.029527 -0.004231  0.050829  0.013841   \n",
       "2015-01-30 -0.071920  0.069487 -0.027466 -0.018513 -0.003684  0.012031   \n",
       "2015-02-06  0.056754  0.037577  0.012818  0.048856  0.001733 -0.028619   \n",
       "\n",
       "                CHRW        DE       DGX       DTE  ...       MRK       MTD  \\\n",
       "date                                                ...                       \n",
       "2015-01-09 -0.024107 -0.030450 -0.003635 -0.002414  ...  0.093897 -0.008843   \n",
       "2015-01-16  0.019290  0.019265  0.019738  0.036405  ...  0.007512 -0.024325   \n",
       "2015-01-23  0.009121  0.012027  0.016490  0.014229  ... -0.008567  0.037842   \n",
       "2015-01-30 -0.039124 -0.035766  0.002540 -0.017317  ... -0.035366  0.002970   \n",
       "2015-02-06 -0.009970  0.044489 -0.020120 -0.049186  ... -0.024717  0.016318   \n",
       "\n",
       "                  PG       PNR      SBAC       STE      TTWO      VTRS  \\\n",
       "date                                                                     \n",
       "2015-01-09 -0.002101 -0.023393 -0.001091  0.013659 -0.008009 -0.009050   \n",
       "2015-01-16  0.011081 -0.009830 -0.012042 -0.020590  0.048080  0.002865   \n",
       "2015-01-23 -0.005804 -0.003565  0.080951  0.023033  0.022253 -0.031965   \n",
       "2015-01-30 -0.064277 -0.033041 -0.014190 -0.014506 -0.004689 -0.019552   \n",
       "2015-02-06  0.015660  0.040609  0.010108  0.026985 -0.031460  0.013922   \n",
       "\n",
       "                  WM       WMT  \n",
       "date                            \n",
       "2015-01-09 -0.004251  0.040160  \n",
       "2015-01-16  0.013778 -0.028873  \n",
       "2015-01-23  0.014548  0.020053  \n",
       "2015-01-30 -0.029622 -0.039883  \n",
       "2015-02-06  0.019639  0.027653  \n",
       "\n",
       "[5 rows x 25 columns]"
      ]
     },
     "metadata": {},
     "output_type": "display_data"
    },
    {
     "data": {
      "text/html": [
       "<div>\n",
       "<style scoped>\n",
       "    .dataframe tbody tr th:only-of-type {\n",
       "        vertical-align: middle;\n",
       "    }\n",
       "\n",
       "    .dataframe tbody tr th {\n",
       "        vertical-align: top;\n",
       "    }\n",
       "\n",
       "    .dataframe thead th {\n",
       "        text-align: right;\n",
       "    }\n",
       "</style>\n",
       "<table border=\"1\" class=\"dataframe\">\n",
       "  <thead>\n",
       "    <tr style=\"text-align: right;\">\n",
       "      <th></th>\n",
       "      <th>SPY</th>\n",
       "    </tr>\n",
       "    <tr>\n",
       "      <th>date</th>\n",
       "      <th></th>\n",
       "    </tr>\n",
       "  </thead>\n",
       "  <tbody>\n",
       "    <tr>\n",
       "      <th>2025-04-25</th>\n",
       "      <td>0.046029</td>\n",
       "    </tr>\n",
       "    <tr>\n",
       "      <th>2025-05-02</th>\n",
       "      <td>0.029275</td>\n",
       "    </tr>\n",
       "    <tr>\n",
       "      <th>2025-05-09</th>\n",
       "      <td>-0.004270</td>\n",
       "    </tr>\n",
       "    <tr>\n",
       "      <th>2025-05-16</th>\n",
       "      <td>0.052911</td>\n",
       "    </tr>\n",
       "    <tr>\n",
       "      <th>2025-05-23</th>\n",
       "      <td>-0.025395</td>\n",
       "    </tr>\n",
       "  </tbody>\n",
       "</table>\n",
       "</div>"
      ],
      "text/plain": [
       "                 SPY\n",
       "date                \n",
       "2025-04-25  0.046029\n",
       "2025-05-02  0.029275\n",
       "2025-05-09 -0.004270\n",
       "2025-05-16  0.052911\n",
       "2025-05-23 -0.025395"
      ]
     },
     "metadata": {},
     "output_type": "display_data"
    }
   ],
   "source": [
    "import pandas as pd\n",
    "\n",
    "DATAFILE_STOCKS = '../data/midterm_1_stock_returns.xlsx'\n",
    "\n",
    "SHEET = 'stock rets'\n",
    "rets = pd.read_excel(DATAFILE_STOCKS, sheet_name=SHEET, index_col='date', parse_dates=['date'])\n",
    "\n",
    "SHEET = 'benchmark rets'\n",
    "spy = pd.read_excel(DATAFILE_STOCKS, sheet_name=SHEET, index_col='date', parse_dates=['date'])\n",
    "\n",
    "display(rets.head())\n",
    "display(spy.tail())"
   ]
  },
  {
   "cell_type": "markdown",
   "metadata": {},
   "source": [
    "## 1 Performance Stats"
   ]
  },
  {
   "cell_type": "markdown",
   "metadata": {},
   "source": [
    "#### 1.1. Calculate the Sharpe ratio for each stock during the sample period\n",
    "* Recall: the sample period ranges from **February 2018 to December 2024 (inclusive)**.\n",
    "* Report the top 5 stocks with the highest Sharpe ratios."
   ]
  },
  {
   "cell_type": "markdown",
   "metadata": {},
   "source": [
    "#### 1.2. Display the correlation matrix for the first ten stocks (columns) over the sample period.\n",
    "* On average, are these stocks highly correlated? Explain.\n",
    "* Which of these stocks offer the best diversification benefits?"
   ]
  },
  {
   "cell_type": "markdown",
   "metadata": {},
   "source": [
    "## 2. In-Sample Tangency (excess returns)"
   ]
  },
  {
   "cell_type": "markdown",
   "metadata": {},
   "source": [
    "#### Note\n",
    "Consider `in-sample` to be all the data through the end of `2024`."
   ]
  },
  {
   "cell_type": "markdown",
   "metadata": {},
   "source": [
    "#### 2.1. Construct the tangency portfolio\n",
    "\n",
    "Using just the in-sample data (through `2024`), calculate the tangency portfolio weights, assuming we have excess returns (existence of a risk-free rate.)\n",
    "   * Display the ten largest portfolio weights.\n",
    "   * Plot the Sharpe ratios against the portfolio weights. "
   ]
  },
  {
   "cell_type": "markdown",
   "metadata": {},
   "source": [
    "#### 2.2.\n",
    "\n",
    "Compare the relationship between tangency portfolio weights and individual sharpe ratios."
   ]
  },
  {
   "cell_type": "markdown",
   "metadata": {},
   "source": [
    "#### 2.3. Performance of the Tangency\n",
    "\n",
    "Continue with the in-sample tangency portfolio constructed above, and analyze how it performs in-sample (through `2024`.)\n",
    "\n",
    "   Report the (annualized)\n",
    "   * mean\n",
    "   * volatility\n",
    "   * Sharpe ratio\n",
    "   * skewness (not annualized)\n",
    "   \n",
    "   Plot the cumulative return of the tangency portfolio over the sample period."
   ]
  },
  {
   "cell_type": "markdown",
   "metadata": {},
   "source": [
    "## 3. Hedging the Tangency Portfolio\n",
    "\n",
    "Continue with the in-sample (through 2024) tangency returns calculated in the previous problem.\n",
    "\n",
    "#### 3.1.\n",
    "\n",
    "Compute portfolio returns and regress on `SPY` to get $\\hat{\\beta}$. \n",
    "\n",
    "Include an intercept in the regression.\n",
    "\n",
    "Report $\\hat{\\beta}$.\n",
    "\n",
    "#### 3.2. \n",
    "\n",
    "Calculate the returns to the hedged position.\n",
    "\n",
    "   Report the (annualized)\n",
    "   * mean\n",
    "   * volatility\n",
    "   * Sharpe ratio\n",
    "   * skewness (not annualized)\n",
    "   "
   ]
  },
  {
   "cell_type": "markdown",
   "metadata": {},
   "source": [
    "## 4. Out-of-Sample\n",
    "\n",
    "#### 4.1. Tangency Portfolio Performance: Out-of-Sample (OOS)\n",
    "\n",
    "Use the weights of the tangency portfolio calculated above.\n",
    "\n",
    "Compute the out-of-sample returns (`2025`), and just for this OOS portion, report the (annualized)\n",
    "* mean\n",
    "* volatility\n",
    "* Sharpe ratio\n",
    "* skewness (not annualized)\n",
    "   \n",
    "   \n",
    "#### 4.2. Cumulative performance\n",
    "\n",
    "* Include the OOS performance in the cumulative return plot (in addition to the in-sample performance).\n",
    "\n",
    "Show the plot."
   ]
  },
  {
   "cell_type": "markdown",
   "metadata": {},
   "source": [
    "## 5. Optimizing Hedged Returns\n",
    "\n",
    "#### 5.1. Construct Market-Hedged Returns\n",
    "\n",
    "Active managers might optimize their portfolios using market-hedged returns to focus on alpha generation (maximize portion of returns orthogonal to the market). Market-hedged returns are the residuals from regressing each stock’s excess return on the market’s excess return (e.g., `SPY`), effectively removing market beta to isolate stock-specific (idiosyncratic) performance.\n",
    "\n",
    "* Regress each stock's excess return on the SPY index (quoted in excess return) over the sample period. \n",
    "* Include an intercept.\n",
    "* Report your betas."
   ]
  },
  {
   "cell_type": "markdown",
   "metadata": {},
   "source": [
    "#### 5.2. The residuals\n",
    "\n",
    "Save the residuals from each regression as the market-hedged returns. \n",
    "\n",
    "Report the `.tail()` (last 5 observations) of the residual dataframe."
   ]
  },
  {
   "cell_type": "markdown",
   "metadata": {},
   "source": [
    "#### 5.3 Diversification Benefits of Market-Hedged Returns\n",
    "\n",
    "Display the covariance matrix of the market-hedged returns for the first ten stocks.\n"
   ]
  },
  {
   "cell_type": "markdown",
   "metadata": {},
   "source": [
    "#### 5.4. Portfolio Optimization with Market-Hedged Returns\n",
    "\n",
    "Construct the tangency portfolio using the alphas (intercept from previous regression) as expected returns and the covariance matrix of the market-hedged returns. Display the portfolio weights."
   ]
  },
  {
   "cell_type": "markdown",
   "metadata": {},
   "source": [
    "#### 5.5. Performance of the Tangency of the Hedged\n",
    "\n",
    "Calculate the returns to the portfolio with weights from the previous question (just in-sample).\n",
    "\n",
    "   Report the (annualized)\n",
    "   * mean\n",
    "   * volatility\n",
    "   * Sharpe ratio\n",
    "   * skewness (not annualized)"
   ]
  },
  {
   "cell_type": "markdown",
   "metadata": {},
   "source": [
    "***"
   ]
  },
  {
   "cell_type": "markdown",
   "metadata": {},
   "source": [
    "# 2. Managing Risk"
   ]
  },
  {
   "cell_type": "code",
   "execution_count": null,
   "metadata": {},
   "outputs": [
    {
     "data": {
      "text/html": [
       "<div>\n",
       "<style scoped>\n",
       "    .dataframe tbody tr th:only-of-type {\n",
       "        vertical-align: middle;\n",
       "    }\n",
       "\n",
       "    .dataframe tbody tr th {\n",
       "        vertical-align: top;\n",
       "    }\n",
       "\n",
       "    .dataframe thead th {\n",
       "        text-align: right;\n",
       "    }\n",
       "</style>\n",
       "<table border=\"1\" class=\"dataframe\">\n",
       "  <thead>\n",
       "    <tr style=\"text-align: right;\">\n",
       "      <th></th>\n",
       "      <th>fund</th>\n",
       "    </tr>\n",
       "    <tr>\n",
       "      <th>date</th>\n",
       "      <th></th>\n",
       "    </tr>\n",
       "  </thead>\n",
       "  <tbody>\n",
       "    <tr>\n",
       "      <th>2015-01-09</th>\n",
       "      <td>0.003444</td>\n",
       "    </tr>\n",
       "    <tr>\n",
       "      <th>2015-01-16</th>\n",
       "      <td>-0.000959</td>\n",
       "    </tr>\n",
       "    <tr>\n",
       "      <th>2015-01-23</th>\n",
       "      <td>0.004491</td>\n",
       "    </tr>\n",
       "    <tr>\n",
       "      <th>2015-01-30</th>\n",
       "      <td>0.010560</td>\n",
       "    </tr>\n",
       "    <tr>\n",
       "      <th>2015-02-06</th>\n",
       "      <td>-0.001624</td>\n",
       "    </tr>\n",
       "    <tr>\n",
       "      <th>...</th>\n",
       "      <td>...</td>\n",
       "    </tr>\n",
       "    <tr>\n",
       "      <th>2024-11-29</th>\n",
       "      <td>0.013893</td>\n",
       "    </tr>\n",
       "    <tr>\n",
       "      <th>2024-12-06</th>\n",
       "      <td>-0.027113</td>\n",
       "    </tr>\n",
       "    <tr>\n",
       "      <th>2024-12-13</th>\n",
       "      <td>0.002755</td>\n",
       "    </tr>\n",
       "    <tr>\n",
       "      <th>2024-12-20</th>\n",
       "      <td>0.020840</td>\n",
       "    </tr>\n",
       "    <tr>\n",
       "      <th>2024-12-27</th>\n",
       "      <td>-0.046301</td>\n",
       "    </tr>\n",
       "  </tbody>\n",
       "</table>\n",
       "<p>521 rows × 1 columns</p>\n",
       "</div>"
      ],
      "text/plain": [
       "                fund\n",
       "date                \n",
       "2015-01-09  0.003444\n",
       "2015-01-16 -0.000959\n",
       "2015-01-23  0.004491\n",
       "2015-01-30  0.010560\n",
       "2015-02-06 -0.001624\n",
       "...              ...\n",
       "2024-11-29  0.013893\n",
       "2024-12-06 -0.027113\n",
       "2024-12-13  0.002755\n",
       "2024-12-20  0.020840\n",
       "2024-12-27 -0.046301\n",
       "\n",
       "[521 rows x 1 columns]"
      ]
     },
     "execution_count": 23,
     "metadata": {},
     "output_type": "execute_result"
    }
   ],
   "source": [
    "DATAFILE = '../data/midterm_1_fund_returns.xlsx'\n",
    "df = pd.read_excel(DATAFILE, sheet_name='fund returns').set_index('date')\n",
    "df"
   ]
  },
  {
   "cell_type": "markdown",
   "metadata": {},
   "source": [
    "#### 1. Calculating Volatility\n",
    "Given the return data provided, calculate the annual volatility grouped by year. Annualize this volatility. That is, your answer should be a DataFrame with 10 rows (one for each year from 2015 to 2024) and a single column representing the annualized volatility for that year.\n",
    "\n",
    "What do you notice about the volatility across different years?"
   ]
  },
  {
   "cell_type": "markdown",
   "metadata": {},
   "source": [
    "#### 2. Volatility Estimates\n",
    "\n",
    "Using the return data, compute the annualized volatility estimate as of the last data point using the following methods:\n",
    "- EWMA volatility with a half-life of 26 weeks.\n",
    "- Rolling window volatility with a window size of 52 weeks.\n",
    "\n",
    "**Note:** do not specify a \"min_periods\" argument anywhere."
   ]
  },
  {
   "cell_type": "markdown",
   "metadata": {},
   "source": [
    "#### 3. Dynamic VaR estimates\n",
    "\n",
    "Using the return data, compute the 1-week 1% VaR as of the last data point in the series.\n",
    "\n",
    "You should use two different volatility models to compute the VaR:\n",
    "- EWMA volatility with a half-life of 26 weeks.\n",
    "- Rolling-window volatility with a window of 52 weeks.\n",
    "- Empirical (expanding) VaR."
   ]
  },
  {
   "cell_type": "markdown",
   "metadata": {},
   "source": [
    "#### 4. Dynamic CVaR estimates\n",
    "\n",
    "Repeat Question 3, but instead compute the 1-week 1% Conditional VaR (CVaR) as of the last data point in the series using the same three methods."
   ]
  },
  {
   "cell_type": "markdown",
   "metadata": {},
   "source": [
    "#### 5. Year Choice\n",
    "\n",
    "Suppose instead we were interested in our VaR estimates as of the end of 2023 (ie. use all data that is before 2024-01-01). Report your VaR (1-week, 1%) estimates using the same three methods as in Question 3, but now the last data point in 2023.\n",
    "\n",
    "Hint: You can use `df.loc[:'2023']` to filter the DataFrame to only include data up to the end of 2023."
   ]
  },
  {
   "cell_type": "markdown",
   "metadata": {},
   "source": [
    "### 6. Compare"
   ]
  },
  {
   "cell_type": "markdown",
   "metadata": {},
   "source": [
    "What do you notice about the VaR estimates compared to those from question `2.2`?"
   ]
  }
 ],
 "metadata": {
  "kernelspec": {
   "display_name": "env-finm-2025",
   "language": "python",
   "name": "python3"
  },
  "language_info": {
   "codemirror_mode": {
    "name": "ipython",
    "version": 3
   },
   "file_extension": ".py",
   "mimetype": "text/x-python",
   "name": "python",
   "nbconvert_exporter": "python",
   "pygments_lexer": "ipython3",
   "version": "3.10.18"
  }
 },
 "nbformat": 4,
 "nbformat_minor": 4
}
