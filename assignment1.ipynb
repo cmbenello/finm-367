{
 "cells": [
  {
   "cell_type": "markdown",
   "id": "a97c4251",
   "metadata": {},
   "source": [
    "# Harvard's Endowment\n",
    "\n",
    "## HBS Case\n",
    "### *The Harvard Management Company and Inflation-Indexed Bonds*"
   ]
  },
  {
   "cell_type": "markdown",
   "id": "31dfdadc",
   "metadata": {},
   "source": [
    "# 1. READING: HMC's Approach"
   ]
  },
  {
   "cell_type": "markdown",
   "id": "77eafffb",
   "metadata": {},
   "source": [
    "### 1. \n",
    "There are thousands of individual risky assets in which HMC can invest.  Explain why MV optimization across 1,000 securities is infeasible.\n",
    "\n",
    "- Generated the covariance matrix is hard - will have a lot of noise and be ill fitting\n",
    "    - to make it full rank we need to have a month for each entry so for 1000 things we need 1000 month's of data\n",
    "- MV optimization is highly sensitive to estimation error, and this sensitivity increases roughly with the square of the number of assets.\n",
    "- Will require a lot of leverage having large positive and negative weights\n",
    "\n",
    "- you don't want to invert a 1,000 x 1,000 matrix\n",
    "    - will be super unstable, super sensitive to like one touch the mu is not accurate so this will blow up the noise\n",
    "    - what is making the determenint big is that there is a lot of cros correlation in this matrix \n",
    "\n",
    "### 2.\n",
    "Rather than optimize across all securities directly, HMC runs a two-stage optimization.\n",
    "1. They build asset class portfolios with each one optimized over the securities of the specific asset class.  \n",
    "2. HMC combines the asset-class portfolios into one total optimized portfolio.\n",
    "In order for the two-stage optimization to be a good approximation of the full MV-optimization on all assets, what must be true of the partition of securities into asset classes?\n",
    "- Block-diagonal (or nearly block-diagonal) covariance matrix\n",
    "- High within-class correlation, low cross-class correlation\n",
    "- Homogeneous means/variances within classes -> Each class portfolio summarizes its securities well\n",
    "\n",
    "### 3.\n",
    "Should TIPS form a new asset class or be grouped into one of the other 11 classes?\n",
    "- is kind of correlated with tresuries but doing this you do not get the diversification benefit\n",
    "\n",
    "### 4. \n",
    "Why does HMC focus on real returns when analyzing its portfolio allocation? Is this just a matter of scaling, or does using real returns versus nominal returns potentially change the MV solution?\n",
    "- HMC focuses on real returns because its objective is to preserve and grow the real purchasing power of the endowment.\n",
    "- This is not merely a scaling issue: if inflation is stochastic and correlated with asset returns, then both expected returns and covariances change when moving from nominal to real returns.\n",
    "- Consequently, the mean–variance efficient frontier and the optimal portfolio weights can differ — particularly increasing allocations to assets that hedge inflation risk, such as TIPS and real estate.\n",
    "\n",
    "### 5.\n",
    "The case discusses the fact that Harvard places bounds on the portfolio allocation rather than implementing whatever numbers come out of the MV optimization problem.\n",
    "\n",
    "How might we adjust the stated optimization problem in the lecture notes to reflect the extra constraints Harvard is using in their bounded solutions given in Exhibits 5 and 6?\n",
    "\n",
    "### 6. \n",
    "Exhibits 5 shows zero allocation to domestic equities and domestic bonds across the entire computed range of targeted returns, (5.75% to 7.25%). Conceptually, why is the constraint binding in all these cases? What would the unconstrained portfolio want to do with those allocations and why?\n",
    "\n",
    "### 7.\n",
    "Exhibit 6 changes the constraints, (tightening them in most cases.) How much deterioration do we see in the mean-variance tradeoff that Harvard achieved?"
   ]
  },
  {
   "cell_type": "markdown",
   "id": "f7d7adf1",
   "metadata": {},
   "source": [
    "***"
   ]
  },
  {
   "cell_type": "markdown",
   "id": "d1614003",
   "metadata": {},
   "source": [
    "# 2 Mean-Variance Optimization\n",
    "\n",
    "### Data\n",
    "You will need the file in the github repo, `data/multi_asset_etf_data.xlsx`.\n",
    "- The time-series data gives monthly returns for the 11 asset classes and a short-term Treasury-bill fund return, (`SHV`.)\n",
    "- The case does not give time-series data, so this data has been compiled outside of the case, and it intends to represent the main asset classes under consideration via various ETFs. For details on the specific securities/indexes, check the “Info” tab of the data.\n",
    "\n",
    "### Excess Returns\n",
    "- We consider `SHV` as the risk-free asset.\n",
    "- We are going to analyze the problem in terms of **excess** returns, where `SHV` has been subtracted from the other columns.\n",
    "- The risk-free rate changes over time, but the assumption is that investors know it’s value one-period ahead of time. Thus, at any given point in time, it is a risk-free rate for the next period. (This is often discussed as the \"bank account\" or \"money market account\" in other settings.)\n",
    "\n",
    "### Adjustment\n",
    "For ease of analysis, drop `QAI` from the dataset. Analyze the remaining 10 assets.\n",
    "\n",
    "### Not Considered\n",
    "- These are nominal returns-they are not adjusted for inflation, and in our calculations we are not making any adjustment for inflation.\n",
    "- The exhibit data that comes via Harvard with the case is unnecessary for our analysis.\n",
    "\n",
    "### Format\n",
    "In the questions below, **annualize the statistics** you report.\n",
    "- Annualize the mean of monthly returns with a scaling of 12.\n",
    "- Annualize the volatility of monthly returns with a scaling of $\\sqrt{12}$\n",
    "- Note that we are not scaling the raw timeseries data, just the statistics computed from it (mean, vol, Sharpe)."
   ]
  },
  {
   "cell_type": "markdown",
   "id": "d3962427",
   "metadata": {},
   "source": [
    "### 1. Summary Statistics\n",
    "* Calculate and display the mean and volatility of each asset’s excess return. (Recall we use volatility to refer to standard deviation.)\n",
    "* Which assets have the best and worst Sharpe ratios? \n",
    "\n",
    "Recall that the Sharpe Ratio is simply the ratio of the mean-to-volatility of excess returns:\n",
    "\n",
    "$$\\text{sharpe ratio of investment }i = \\frac{\\mux_i}{\\sigma_i}$$\n",
    "\n",
    "Be sure to annualize all three statss (mean, vol, Sharpe).\n",
    "\n",
    "### 2. Descriptive Analysis\n",
    "* Calculate the correlation matrix of the returns. Which pair has the highest correlation? And the lowest?\n",
    "* How well have TIPS done in our sample? Have they outperformed domestic bonds? Foreign bonds?\n",
    "\n",
    "### 3. The MV frontier.\n",
    "* Compute and display the weights of the tangency portfolios: $\\wtan$.\n",
    "* Does the ranking of weights align with the ranking of Sharpe ratios?\n",
    "* Compute the mean, volatility, and Sharpe ratio for the tangency portfolio corresponding to\n",
    "$\\wtan$.\n",
    "\n",
    "### 4. TIPS\n",
    "Assess how much the tangency portfolio (and performance) change if...\n",
    "* TIPS are dropped completely from the investment set.\n",
    "* The expected excess return to TIPS is adjusted to be 0.0012 higher than what the historic sample shows.\n",
    "\n",
    "Based on the analysis, do TIPS seem to expand the investment opportunity set, implying that Harvard should consider them as a separate asset?"
   ]
  },
  {
   "cell_type": "markdown",
   "id": "a8609d16",
   "metadata": {},
   "source": [
    "***"
   ]
  },
  {
   "cell_type": "markdown",
   "id": "c59490d8",
   "metadata": {},
   "source": [
    "# 3. Allocations"
   ]
  },
  {
   "cell_type": "markdown",
   "id": "8e5eb238",
   "metadata": {},
   "source": [
    "* Continue with the same data file as the previous section.\n",
    "\n",
    "* Suppose the investor has a targeted mean excess return (per month) of $\\mutarg$ = 0.01."
   ]
  },
  {
   "cell_type": "markdown",
   "id": "1d46b44c",
   "metadata": {},
   "source": [
    "Build the following portfolios:\n",
    "\n",
    "#### Equally-weighted (EW)\n",
    "Rescale the entire weighting vector to have target mean $\\mutarg$. Thus, the $i$ element of the weight vector is,\n",
    "\n",
    "$$\\wEW_i = \\frac{1}{n}$$\n",
    "\n",
    "#### “Risk-parity” (RP)\n",
    "Risk-parity is a term used in a variety of ways, but here we have in mind setting the weight of the portfolio to be proportional to the inverse of its full-sample variance estimate. Thus, the $i$ element of the weight vector is,\n",
    "\n",
    "$$\\wRP_i = \\frac{1}{\\sigma_i^2}$$\n",
    "\n",
    "#### Mean-Variance (MV)\n",
    "As described in `Section 2`.\n",
    "\n",
    "### Comparing\n",
    "\n",
    "In order to compare all these allocation methods, rescale each weight vector, such that it has targeted mean return of $\\mutarg$.\n",
    "\n",
    "* Calculate the performance of each of these portfolios over the sample.\n",
    "* Report their mean, volatility, and Sharpe ratio. \n",
    "* How does performance compare across allocation methods?"
   ]
  },
  {
   "cell_type": "markdown",
   "id": "23ea828b",
   "metadata": {},
   "source": [
    "***"
   ]
  },
  {
   "cell_type": "markdown",
   "id": "a2a8443d",
   "metadata": {},
   "source": [
    "# 4. EXTRA: Out-of-Sample Performance"
   ]
  },
  {
   "cell_type": "markdown",
   "id": "24e4b25b",
   "metadata": {},
   "source": [
    "### 1. One-step Out-of-Sample (OOS) Performance\n",
    "Let’s divide the sample to both compute a portfolio and then check its performance out of sample.\n",
    "* Using only data through the end of `2023`, compute the weights built in Section 3.\n",
    "* Rescale the weights, (using just the in-sample data,) to set each allocation to have the same mean return of $\\mutarg$.\n",
    "* Using those weights, calculate the portfolio’s Sharpe ratio within that sample.\n",
    "* Again using those weights, (derived using data through `2023`,) calculate the portfolio’s OOS Sharpe ratio, which is based only on performance in `2024-2025`."
   ]
  },
  {
   "cell_type": "markdown",
   "id": "2281c023",
   "metadata": {},
   "source": [
    "### 2. Rolling OOS Performance\n",
    "\n",
    "Iterate the Out-of-Sample performance every year, not just the final year. Namely,\n",
    "* Start at the end of `2015`, and calculate the weights through that time. Rescale them using the mean returns through that time.\n",
    "* Apply the weights to the returns in the upcoming year, (`2016`.)\n",
    "* Step forward a year in time, and recompute.\n",
    "* Continue until again calculating the weights through `2023` and applying them to the returns in `2024-2025`.\n",
    "\n",
    "Report the mean, volatility, and Sharpe from this dynamic approach for the following portfolios:\n",
    "* mean-variance (tangency)\n",
    "* equally-weighted\n",
    "* risk-parity\n",
    "* regularized"
   ]
  },
  {
   "cell_type": "markdown",
   "id": "99dc96f3",
   "metadata": {},
   "source": [
    "***"
   ]
  },
  {
   "cell_type": "markdown",
   "id": "665b0cf7",
   "metadata": {},
   "source": [
    "# 5. EXTRA: Without a Riskless Asset"
   ]
  },
  {
   "cell_type": "markdown",
   "id": "b8b1ff49",
   "metadata": {},
   "source": [
    "Re-do Section 2 above, but in the model without a risk-free rate.\n",
    "\n",
    "That is, build the MV allocation using the two-part formula in the `Mean-Variance` section of the notes.\n",
    "* This essentially substitutes the risk-free rate with the minimum-variance portfolio.\n",
    "* Now, the allocation depends nonlinearly on the target mean return, $\\mutarg$. (With a risk-free rate, we simply scale the weights up and down to achieve the mean return.)\n",
    "\n",
    "You will find that, conceptually, the answers are very similar."
   ]
  },
  {
   "cell_type": "markdown",
   "id": "e7d5734f",
   "metadata": {},
   "source": [
    "***"
   ]
  },
  {
   "cell_type": "markdown",
   "id": "5c864754",
   "metadata": {},
   "source": [
    "# 6. EXTRA: Bayesian Allocation"
   ]
  },
  {
   "cell_type": "markdown",
   "id": "c70bb005",
   "metadata": {},
   "source": [
    "Add the following allocation among the choices in `Section 3`...\n",
    "\n",
    "#### Regularized (REG)\n",
    "Much like the Mean-Variance portfolio, set the weights proportional to \n",
    "\n",
    "$$\\wREG \\sim \\widehat{\\Sigma}^{-1}\\mux$$\n",
    "\n",
    "but this time, use a regularized covariance matrix,\n",
    "\n",
    "$$\\widehat{\\Sigma} = \\frac{\\Sigma + \\Sigma_D}{2}$$\n",
    "\n",
    "where $\\Sigma_D$ denotes a *diagonal* matrix of the security variances, with zeros in the off-diagonals.\n",
    "\n",
    "Thus, $\\widehat{\\Sigma}$ is obtained from the usual covariance matrix, $\\Sigma$, but shrinking all the covariances to half their estimated values."
   ]
  },
  {
   "cell_type": "markdown",
   "id": "8b3de416",
   "metadata": {},
   "source": [
    "# 7. EXTRA: Inefficient Tangency"
   ]
  },
  {
   "cell_type": "markdown",
   "id": "0e5db276",
   "metadata": {},
   "source": [
    "Return to analyzing the excess returns, as in `Section 3`. Include the hedge-fund ETF, QAI.\n",
    "\n",
    "You might find that the tangency portfolio has a negative mean return. \n",
    "- It is on the inefficient portion of the MV frontier.\n",
    "\n",
    "Calculate the optimal allocation by shorting the tangency portfolio. (That is, multiply the tangency weights by negative one to determine the allocation weights.)\n",
    "\n",
    "Re-do the analysis of Section 3. Does the addition of `QAI` change much."
   ]
  }
 ],
 "metadata": {
  "hide_input": false,
  "kernelspec": {
   "display_name": "Python 3 (ipykernel)",
   "language": "python",
   "name": "python3"
  },
  "language_info": {
   "codemirror_mode": {
    "name": "ipython",
    "version": 3
   },
   "file_extension": ".py",
   "mimetype": "text/x-python",
   "name": "python",
   "nbconvert_exporter": "python",
   "pygments_lexer": "ipython3",
   "version": "3.9.6"
  }
 },
 "nbformat": 4,
 "nbformat_minor": 5
}
