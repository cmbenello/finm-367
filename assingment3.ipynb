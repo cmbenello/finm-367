{
 "cells": [
  {
   "cell_type": "code",
   "execution_count": 1,
   "metadata": {},
   "outputs": [],
   "source": [
    "import pandas as pd\n",
    "import numpy as np\n",
    "import matplotlib.pyplot as plt\n",
    "import seaborn as sns\n",
    "from scipy.stats import norm"
   ]
  },
  {
   "cell_type": "markdown",
   "metadata": {},
   "source": [
    "# Barnstable and Long-Run Risk\n",
    "\n",
    "## HBS Case\n",
    "\n",
    "### *The Risk of Stocks in the Long-Run: The Barnstable College Endowment*"
   ]
  },
  {
   "cell_type": "markdown",
   "metadata": {},
   "source": [
    "***"
   ]
  },
  {
   "cell_type": "markdown",
   "metadata": {},
   "source": [
    "# 1. READING - Barnstable"
   ]
  },
  {
   "cell_type": "markdown",
   "metadata": {},
   "source": [
    "### 1 Barnstable's Philosophy\n",
    "\n",
    "* What has Barnstable's investment strategy been in the past?\n",
    "* Explain the logic behind their view that stocks are safer in the long run.\n",
    "* What assumptions underlie Barnstable's belief in the long-run safety of stocks?\n",
    "\n",
    "### 2. Two proposals\n",
    "\n",
    "Describe the two proposals Barnstable is considering for how to take advantage of their view regarding the long-run safety of stocks.\n",
    "\n",
    "### 3. The trust\n",
    "How is the trust different from simply shorting the risk-free rate to take a levered position in stocks?\n",
    "\n",
    "### 4. Payoff differences\n",
    "\n",
    "*You may not have had a course in options. It's okay if you are only vaguely familiar with the mechanics below and the option payoffs.*\n",
    "\n",
    "Do these proposals take the same bet on long-run stock performance? In what outcomes will they have different returns?\n",
    "\n",
    "The payoff at maturity of the common share is:\n",
    "\n",
    "$$\\Gamma_{30}^{\\text{common}} = \\max\\left(\\texttt{r}^m_{t,t+30} - \\exp\\left\\{.06(30)\\right\\},~ 0\\right)$$\n",
    "\n",
    "The payoff at maturity of selling puts is:\n",
    "\n",
    "$$\\Gamma_{30}^{\\text{selling puts}} = - \\max\\left(\\exp\\left\\{.06(30)\\right\\} - \\texttt{r}^m_{t,t+30}, 0\\right)$$\n",
    "\n",
    "### 5. Risk differences\n",
    "Do the two proposals differ in their risk?\n",
    "\n",
    "### 6. Recommendation\n",
    "Do you recommend a direct investment in the S&P, the trust or the puts?"
   ]
  },
  {
   "cell_type": "markdown",
   "metadata": {},
   "source": [
    "# 2. Estimating Underperformance\n",
    "\n",
    "### Data\n",
    "\n",
    "Use the returns on the S&P 500 ($r^m$) and 1-month T-bills, ($r^f$) provided in `barnstable_analysis_data.xlsx`.\n",
    "* Data goes through `END_YR=2024`.\n",
    "\n",
    "Barnstable's estimates of mean and volatility are based on the subsample of 1965 to 1999.\n",
    "* We consider this subsample, as well as 2000-{END_YR}, as well as the full sample of 1926-{END_YR}."
   ]
  },
  {
   "cell_type": "code",
   "execution_count": 2,
   "metadata": {},
   "outputs": [],
   "source": [
    "file = \"data/barnstable_analysis_data.xlsx\"\n",
    "\n",
    "\n",
    "df = pd.read_excel(file, sheet_name=\"data\",index_col=0)\n",
    "r_m = df[\"SPX\"]\n",
    "r_f = df[\"TB1M\"]"
   ]
  },
  {
   "cell_type": "markdown",
   "metadata": {},
   "source": [
    "### Notation\n",
    "\n",
    "* $r$ = level return rates\n",
    "* $R$ = cumulative return factor\n",
    "* $\\texttt{r}$ = log return rates\n",
    "\n",
    "$$ R \\equiv 1+r$$\n",
    "\n",
    "$$ \\texttt{r} \\equiv \\ln(1+r) = \\ln(R)$$"
   ]
  },
  {
   "cell_type": "markdown",
   "metadata": {},
   "source": [
    "### 1. Summary Statistics\n",
    "\n",
    "Report the following (annualized) statistics.\n",
    "\n",
    "| | 1965-1999 | | | 2000-{END_YR} | | | 1926-{END_YR} | |\n",
    "|---|---|---|---|---|---|---|---|---|\n",
    "| | mean | vol | | mean | vol | | mean | vol |\n",
    "| **levels** | $r^m$ | | | | | | | |\n",
    "| | $\\tilde{r}^m$ | | | | | | | |\n",
    "| | $r^f$ | | | | | | | |\n",
    "| **logs** | $\\texttt{r}^m$ | | | | | | | |\n",
    "| | $\\tilde{\\texttt{r}}^m$ | | | | | | | |\n",
    "| | $\\texttt{r}_f$ | | | | | | | |\n",
    "\n",
    "* Comment on how the full-sample return stats compare to the sub-sample stats.\n",
    "* Comment on how the level stats compare to the log stats."
   ]
  },
  {
   "cell_type": "code",
   "execution_count": 4,
   "metadata": {},
   "outputs": [
    {
     "name": "stdout",
     "output_type": "stream",
     "text": [
      "1965–1999\n",
      "  SPX        mean=0.1294, vol=0.1494\n",
      "  r_m_tilde  mean=0.0687, vol=0.1502\n",
      "  TB1M       mean=0.0615, vol=0.0072\n",
      "Log returns\n",
      "  SPX        mean=0.1176, vol=0.1496\n",
      "  r_m_tilde  mean=0.0572, vol=0.1512\n",
      "  TB1M       mean=0.0613, vol=0.0071\n",
      "2000–END\n",
      "  SPX        mean=0.0875, vol=0.1528\n",
      "  r_m_tilde  mean=0.0701, vol=0.1531\n",
      "  TB1M       mean=0.0175, vol=0.0056\n",
      "Log returns\n",
      "  SPX        mean=0.0756, vol=0.1538\n",
      "  r_m_tilde  mean=0.0581, vol=0.1542\n",
      "  TB1M       mean=0.0174, vol=0.0055\n",
      "1926–END\n",
      "  SPX        mean=0.1155, vol=0.1866\n",
      "  r_m_tilde  mean=0.0833, vol=0.1873\n",
      "  TB1M       mean=0.0319, vol=0.0085\n",
      "Log returns\n",
      "  SPX        mean=0.0978, vol=0.1859\n",
      "  r_m_tilde  mean=0.0657, vol=0.1869\n",
      "  TB1M       mean=0.0318, vol=0.0085\n"
     ]
    }
   ],
   "source": [
    "df_index = pd.to_datetime(df.index)\n",
    "\n",
    "df_65_99 = df.loc['1965-01-01':'1999-12-31']\n",
    "df_00_end = df.loc['2000-01-01':'2024-12-31']\n",
    "df_26_end = df.loc['1926-01-01':'2024-12-31']\n",
    "\n",
    "\n",
    "df['r_m_tilde'] = r_m - r_f\n",
    "\n",
    "def annualized_stats(series):\n",
    "    mean = series.mean() * 12\n",
    "    vol = series.std(ddof=1) * np.sqrt(12)\n",
    "    return mean, vol\n",
    "\n",
    "def log_annualized_stats(series):\n",
    "    log_series = np.log(series + 1)\n",
    "    mean = log_series.mean() * 12\n",
    "    vol = log_series.std(ddof=1) * np.sqrt(12)\n",
    "    return mean, vol\n",
    "\n",
    "for label, subset in {\n",
    "    \"1965–1999\": df_65_99,\n",
    "    \"2000–END\": df_00_end,\n",
    "    \"1926–END\": df_26_end,\n",
    "}.items():\n",
    "    print(label)\n",
    "    for col in ['SPX', 'r_m_tilde', 'TB1M']:\n",
    "        mean, vol = annualized_stats(subset[col])\n",
    "        print(f\"  {col:10s} mean={mean:.4f}, vol={vol:.4f}\")\n",
    "    print(\"Log returns\")\n",
    "    for col in ['SPX', 'r_m_tilde', 'TB1M']:\n",
    "        mean, vol = log_annualized_stats(subset[col])\n",
    "        print(f\"  {col:10s} mean={mean:.4f}, vol={vol:.4f}\")\n",
    "\n"
   ]
  },
  {
   "cell_type": "markdown",
   "metadata": {},
   "source": [
    "The 1965–1999 subsample exhibits the highest nominal market mean return (~12.9%) and a moderate volatility (~15%), producing a strong equity premium relative to the 1-month T-bill. Post-2000 returns fall substantially in mean but retain similar volatility, reflecting the weaker post-dot-com and post-GFC growth environment.\n",
    "Across all periods, log-return means are consistently 1–2 percentage points lower than level means, while volatilities remain virtually unchanged.\n",
    "Overall, the full-sample (1926–END) statistics smooth cyclical extremes, yielding long-term Sharpe ratios near 0.45 – 0.50."
   ]
  },
  {
   "cell_type": "markdown",
   "metadata": {},
   "source": [
    "### 2. Probability of Underperformance\n",
    "\n",
    "Recall the following:\n",
    "- If $x\\sim\\mathcal{N}\\left(\\mu_x,\\sigma_x^2\\right)$, then\n",
    "\n",
    "  $$\\Pr\\left[x<\\ell\\right] = \\Phi_\\mathcal{N}\\left(L\\right)$$\n",
    "\n",
    "  where $L = \\frac{\\ell-\\mu_x}{\\sigma_x}$ and $\\Phi_\\mathcal{N}$ denotes the standard normal cdf.\n",
    "\n",
    "- Remember that cumulative log returns are simply the sum of the single-period log returns:\n",
    "  \n",
    "  $$\\texttt{r}^m_{t,t+h} \\equiv \\sum_{i=1}^h \\texttt{r}^m_{t+i}$$\n",
    "\n",
    "- It will be convenient to use and denote sample averages. We use the following notation for an $h$-period average ending at time $t+h$:\n",
    "  \n",
    "  $$\\bar{\\texttt{r}}^m_{t,t+h} = \\frac{1}{h}\\sum_{i=1}^h \\texttt{r}^m_{t+i}$$\n",
    "\n",
    "Calculate the probability that the cumulative market return will fall short of the cumulative risk-free return:\n",
    "\n",
    "$$\\Pr\\left[R^m_{t,t+h} < R^f_{t,t+h}\\right]$$\n",
    "\n",
    "To analyze this analytically, convert the probability statement above to a probability statement about mean log returns."
   ]
  },
  {
   "cell_type": "markdown",
   "metadata": {},
   "source": [
    "#### 2.1\n",
    "Calculate the probability using the subsample 1965-1999.\n",
    "\n",
    "#### 2.2\n",
    "Report the precise probability for $h=15$ and $h=30$ years.\n",
    "\n",
    "#### 2.3\n",
    "Plot the probability as a function of the investment horizon, $h$, for $0<h\\le 30$ years.\n",
    "\n",
    "**Hint**: The probability can be expressed as:\n",
    "\n",
    "$$p(h) = \\Phi_{\\mathcal{N}}\\left(-\\sqrt{h}\\;\\text{SR}\\right)$$\n",
    "\n",
    "where $\\text{SR}$ denotes the sample Sharpe ratio of **log** market returns."
   ]
  },
  {
   "cell_type": "code",
   "execution_count": 5,
   "metadata": {},
   "outputs": [
    {
     "name": "stdout",
     "output_type": "stream",
     "text": [
      "Sample Sharpe Ratio (1965–1999, log excess returns): 0.3794\n"
     ]
    }
   ],
   "source": [
    "#2.1\n",
    "\n",
    "df_65_99 = df.loc['1965-01-01':'1999-12-31'].copy()\n",
    "\n",
    "df_65_99[\"log_excess\"] = np.log(1 + df_65_99[\"SPX\"]) - np.log(1 + df_65_99[\"TB1M\"])\n",
    "\n",
    "SR = df_65_99[\"log_excess\"].mean() / df_65_99[\"log_excess\"].std(ddof=1) * np.sqrt(12)\n",
    "print(f\"Sample Sharpe Ratio (1965–1999, log excess returns): {SR:.4f}\")\n"
   ]
  },
  {
   "cell_type": "code",
   "execution_count": 6,
   "metadata": {},
   "outputs": [
    {
     "name": "stdout",
     "output_type": "stream",
     "text": [
      "Probability of market underperforming risk-free over 15 years: 7.0848%\n",
      "Probability of market underperforming risk-free over 30 years: 1.8846%\n"
     ]
    }
   ],
   "source": [
    "#2.2\n",
    "# Define probability function p(h)\n",
    "def p_underperformance(h, SR):\n",
    "    return norm.cdf(-np.sqrt(h) * SR)\n",
    "\n",
    "for h in [15, 30]:\n",
    "    prob = p_underperformance(h, SR)\n",
    "    print(f\"Probability of market underperforming risk-free over {h} years: {prob:.4%}\")"
   ]
  },
  {
   "cell_type": "code",
   "execution_count": 7,
   "metadata": {},
   "outputs": [
    {
     "data": {
      "image/png": "[encoded data removed]",
      "text/plain": [
       "<Figure size 800x500 with 1 Axes>"
      ]
     },
     "metadata": {},
     "output_type": "display_data"
    }
   ],
   "source": [
    "# 2.3\n",
    "\n",
    "horizons = np.arange(1, 31)\n",
    "probs = [p_underperformance(h, SR) for h in horizons]\n",
    "\n",
    "plt.figure(figsize=(8,5))\n",
    "plt.plot(horizons, probs, lw=2, color='navy')\n",
    "plt.title(\"Probability of Market Underperforming the Risk-Free Rate\\n(1965–1999 Sharpe Ratio)\", fontsize=12)\n",
    "plt.xlabel(\"Investment Horizon (years)\")\n",
    "plt.ylabel(\"Probability\")\n",
    "plt.grid(True, linestyle=\"--\", alpha=0.7)\n",
    "plt.show()"
   ]
  },
  {
   "cell_type": "markdown",
   "metadata": {},
   "source": [
    "### 3. Full Sample Analysis\n",
    "\n",
    "Use the sample 1965-{END_YR} to reconsider the 30-year probability. As of the end of {END_YR}, calculate the probability of the stock return underperforming the risk-free rate over the next 30 years. That is, $R^m_{t,t+h}$ underperforming $R^f_{t,t+h}$ for $0<h\\le 30$."
   ]
  },
  {
   "cell_type": "code",
   "execution_count": 8,
   "metadata": {},
   "outputs": [
    {
     "name": "stdout",
     "output_type": "stream",
     "text": [
      "Sharpe Ratio (1965–2024): 0.3788\n",
      "Probability of market underperforming risk-free over 30 years: 1.9002%\n"
     ]
    }
   ],
   "source": [
    "# Calculate Sharpe ratio for full sample (1965–2024)\n",
    "df_65_24 = df.loc['1965-01-01':'2024-12-31'].copy()\n",
    "df_65_24[\"log_excess\"] = np.log(1 + df_65_24[\"SPX\"]) - np.log(1 + df_65_24[\"TB1M\"])\n",
    "SR = df_65_24[\"log_excess\"].mean() / df_65_24[\"log_excess\"].std(ddof=1) * np.sqrt(12)\n",
    "\n",
    "# Compute 30-year underperformance probability\n",
    "#prob_30_full = underperformance_probability(30, SR_full)\n",
    "print(f\"Sharpe Ratio (1965–2024): {SR:.4f}\")\n",
    "\n",
    "for h in [30]:\n",
    "    prob = p_underperformance(h, SR)\n",
    "    print(f\"Probability of market underperforming risk-free over {h} years: {prob:.4%}\")"
   ]
  },
  {
   "cell_type": "markdown",
   "metadata": {},
   "source": [
    "### 4. In-Sample Estimate of Out-of-Sample Likelihood\n",
    "\n",
    "Let's consider how things turned out relative to Barnstable's 1999 expectations.\n",
    "\n",
    "What was the probability (based on the 1999 estimate of $\\mu$) that the `h`-year market return, $R^m_{t,t+h}$, would be smaller than that realized in `2000-{END_YR}`? \n",
    "\n",
    "**Hint**: You can calculate this as:\n",
    "\n",
    "$$p = \\Phi_{\\mathcal{N}}\\left(\\sqrt{h}\\; \\frac{\\bar{\\texttt{r}}_{out-of-sample} - \\bar{\\texttt{r}}_{\\text{in-sample}}}{\\sigma_{\\text{in-sample}}}\\right)$$\n",
    "\n",
    "where \"in-sample\" denotes 1965-1999 and \"out-of-sample\" denotes 2000-{END_YR}."
   ]
  },
  {
   "cell_type": "code",
   "execution_count": 13,
   "metadata": {},
   "outputs": [
    {
     "name": "stdout",
     "output_type": "stream",
     "text": [
      "In-sample mean = 0.0571, vol = 0.1504\n",
      "Out-of-sample mean = 0.0581\n",
      "h = 25.0 years, z = 0.035, p = 51.4128%\n"
     ]
    }
   ],
   "source": [
    "mu_in = df_65_99[\"log_excess\"].mean() * 12\n",
    "sigma_in = df_65_99[\"log_excess\"].std(ddof=1) * np.sqrt(12)\n",
    "\n",
    "df_00_end = df_00_end.copy()\n",
    "df_00_end[\"log_excess\"] = np.log1p(df_00_end[\"SPX\"]) - np.log1p(df_00_end[\"TB1M\"])\n",
    "mu_out = df_00_end[\"log_excess\"].mean() * 12\n",
    "\n",
    "h = len(df_00_end) / 12\n",
    "\n",
    "z = np.sqrt(h) * (mu_out - mu_in) / sigma_in\n",
    "p = norm.cdf(z)\n",
    "\n",
    "print(f\"In-sample mean = {mu_in:.4f}, vol = {sigma_in:.4f}\")\n",
    "print(f\"Out-of-sample mean = {mu_out:.4f}\")\n",
    "print(f\"h = {h:.1f} years, z = {z:.3f}, p = {p:.4%}\")"
   ]
  }
 ],
 "metadata": {
  "kernelspec": {
   "display_name": "finm",
   "language": "python",
   "name": "python3"
  },
  "language_info": {
   "codemirror_mode": {
    "name": "ipython",
    "version": 3
   },
   "file_extension": ".py",
   "mimetype": "text/x-python",
   "name": "python",
   "nbconvert_exporter": "python",
   "pygments_lexer": "ipython3",
   "version": "3.12.11"
  }
 },
 "nbformat": 4,
 "nbformat_minor": 2
}
