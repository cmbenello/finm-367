{
 "cells": [
  {
   "cell_type": "markdown",
   "id": "791f233d",
   "metadata": {},
   "source": [
    "# DFA and Factor Investing\n",
    "\n",
    "## HBS Case\n",
    "### *Dimensional Fund Advisors, 2002 [HBS 9-203-026].\n",
    "\n",
    "*Pages 1-5 of the case are required. Pages 6-11 get into interesting issues around trading (especially adverse selection) and tax considerations. These sections are useful for building market knowledge, but we will not cover them.**"
   ]
  },
  {
   "cell_type": "markdown",
   "id": "c13683ea",
   "metadata": {},
   "source": [
    "# 1. READING - DFA's Strategy\n",
    "\n",
    "#### 1. Investment philosophy.\n",
    "\n",
    "* In 100 words or less, describe DFA's belief about how to find premium in the market.\n",
    "\n",
    "* To what degree does their strategy rely on individual equity analysis? Macroeconomic fundamentals? Efficient markets?\n",
    "\n",
    "* Are DFA's funds active or passive?\n",
    "\n",
    "* What do DFA and others mean by a \"value\" stock? And a \"growth\" stock?"
   ]
  },
  {
   "cell_type": "markdown",
   "id": "dbd3f892",
   "metadata": {},
   "source": [
    " - DFA believes that the markets are (broadly) efficient, with security prices reflecting all available information. As a result, consistent stock picking outperformance is impossible. Instead, DFA seeks systematic “premia” that academic research has shown to persist: small-cap and high book to market/value effects. Returns come as compensation for bearing risk, not from mispricing. DFA uses quantitative, evidence-based portfolio design and skilled low-cost trading, not forecasts or intuition, to capture these risk premia.\n",
    " - For individual equity analysis, DFA explicitly rejects firm specific forecasting and fundamental stock picking. Macroeconomic risks matter only to the extent as they shape broad factors (size, value) in expected returns. Efficient markets is DFA sauce\n",
    " - Passive in philosophy active in execution. Portfolios are designed to track risk factors (size, value) rather than specific indexes는데 traders add value by capturing liquidity discounts\n",
    " - High book to market ratio, growth is opposite. Idea is that for value copmany is priced low relative to their accounting equity showing that often they are distressed or risky (I am not sure how this sits with our definition of value stocks being more stable from like early on ie utility companies etc). Importantly Fama-French evidence showed that value stocks earn higher average returns because investors demand compensation for greater risk "
   ]
  },
  {
   "cell_type": "markdown",
   "id": "cc62b284",
   "metadata": {},
   "source": [
    "#### 2. Challenges for DFA's view.\n",
    "\n",
    "* What challenge did DFA's model see in the 1980's?\n",
    "\n",
    "* And in the 1990's?"
   ]
  },
  {
   "cell_type": "markdown",
   "id": "8b874706",
   "metadata": {},
   "source": [
    "- 1980's\n",
    "    - DFA was founded on the “size effect”: Rolf Banz’s 1981 dissertation had shown that small-cap stocks historically earned higher average returns than large-cap stocks. DFA’s first funds (ie the U.S. 9–10 Small Company Portfolio) were built entirely around this principle\n",
    "    - During the 1980s, the small stock premium collapsed. The U.S. entered a deep early-1980s recession, and small firms were hit hardest. Even as the overall economy and S&P 500 soared, small caps continued to lag badly\n",
    "    - DFA’s strategy and marketing premise—that “size earns a risk premium”—appeared invalidated.\n",
    "\t- The benchmark S&P 500 (large-cap) outperformed DFA’s small-cap funds for many years.\n",
    "\t- Critics claimed either (i) the size effect had been arbitraged away once publicized (as efficient-market theory would predict), or (ii) DFA had entered small stocks at their peak.\n",
    "- 1990s\n",
    "    - In the early 1990s, DFA’s academic partners Eugene Fama and Kenneth French introduced the value premium: high book-to-market (“value”) stocks historically outperformed low book-to-market (“growth”) ones. DFA launched value-tilted funds based on this research \n",
    "    - Through the 1990s, especially the late decade—growth and technology stocks massively outperformed.\n",
    "    - DFA again appeared to “miss the boat,” as clients watched the NASDAQ and large growth funds skyrocket.\n",
    "    - The book-to-market premium seemed absent or reversed, undermining faith in the Fama-French framework.\n",
    "\t- The episode mirrored the earlier size-effect collapse, raising doubts about whether DFA’s factor premia were true risk rewards or merely transient anomalies."
   ]
  },
  {
   "cell_type": "markdown",
   "id": "5c4cb8bd",
   "metadata": {},
   "source": [
    "#### 3. The market.\n",
    "\n",
    "* Exhibit 3 has data regarding a universe of 5,020 firms. How many are considered ``large cap``? What percent of the market value do they account for?\n",
    "\n",
    "* Exhibit 6 shows that the U.S. value factor (HML) has underperformed the broader U.S. equity market in 1926-2001, including every subsample except 1963-1981. So why should an investor be interested in this value factor?"
   ]
  },
  {
   "cell_type": "markdown",
   "id": "5e94f54c",
   "metadata": {},
   "source": [
    "- $207 / 5,020 = 4\\% $ but have a market cap of around $ 70\\%$\n",
    "- At first glance, Exhibit 6 shows the U.S. HML factor delivering a lower mean return than the overall market over 1926–2001 (≈ 3.8 % vs 7.9 %) and underperforming in every subperiod except 1963–1981. Reason investor are interested in it are:\n",
    "    - HML’s expected return represents compensation for bearing systematic risk\n",
    "    - Although the historical average HML return was smaller, its payoff pattern hedges particular states of the world (distressed, low-growth periods), making it valuable in equilibrium as a state-contingent risk hedge.\n",
    "    - The premium may re-emerge in different samples\n",
    "    - DFA’s interpretation: Reject the irrational misprincing belief They argue that value stocks earn higher expected returns because they are riskier, and so, investors still demand compensation for holding them."
   ]
  },
  {
   "cell_type": "markdown",
   "id": "8442c275",
   "metadata": {},
   "source": [
    "# 2. The Factors"
   ]
  },
  {
   "cell_type": "markdown",
   "id": "9e393f9f",
   "metadata": {},
   "source": [
    "DFA believes certain stocks have higher expected excess returns. In addition to the overall market equity premium, DFA believes that there is a premium attached to a **size** and **value** factor. Note that these three factors are already listed as **excess** returns.\n",
    "\n",
    "### Data\n",
    "Use the data found in `data/dfa_analysis_data.xlsx`.\n",
    "\n",
    "- Monthly **excess** return data for the overall equity market, $\\tilde{r}^{\\text{mkt}}$. \n",
    "\n",
    "- The sheet also contains data on two additional factors, `SMB` and `HML`, as well as the risk-free rate. \n",
    "\n",
    "- You do not need any of these columns for the homework. Just use the `MKT` column, which is **excess** market returns. (So no need to subtract the risk-free rate.)\n",
    "\n",
    "#### Source:\n",
    "\n",
    "Ken French library, accessible through the pandas-datareader API."
   ]
  },
  {
   "cell_type": "code",
   "execution_count": 9,
   "id": "17da2ff1",
   "metadata": {},
   "outputs": [],
   "source": [
    "import pandas as pd\n",
    "import numpy as np\n",
    "import matplotlib.pyplot as plt\n",
    "import seaborn as sns\n",
    "import statsmodels.api as sm"
   ]
  },
  {
   "cell_type": "code",
   "execution_count": 2,
   "id": "9f6b1d00",
   "metadata": {},
   "outputs": [],
   "source": [
    "file = \"data/dfa_analysis_data.xlsx\"\n",
    "fact_df = pd.read_excel(file, sheet_name=\"factors\", parse_dates=True, index_col=0)\n",
    "portfolios = pd.read_excel(file, sheet_name=\"portfolios (total returns)\", parse_dates=True, index_col=0)\n",
    "mkt = fact_df[\"Mkt-RF\"].dropna()"
   ]
  },
  {
   "cell_type": "markdown",
   "id": "6c4914c3",
   "metadata": {},
   "source": [
    "### 1. The Factors\n",
    "\n",
    "Calculate their univariate performance statistics: \n",
    "\n",
    "* mean\n",
    "* volatility\n",
    "* Sharpe\n",
    "* VaR(.05)\n",
    "\n",
    "Report these for the following three subsamples:\n",
    "\n",
    "* Beginning - 1980\n",
    "* 1981 - 2001\n",
    "* 2002 - End"
   ]
  },
  {
   "cell_type": "code",
   "execution_count": 3,
   "id": "74740266",
   "metadata": {},
   "outputs": [
    {
     "data": {
      "application/vnd.microsoft.datawrangler.viewer.v0+json": {
       "columns": [
        {
         "name": "index",
         "rawType": "object",
         "type": "string"
        },
        {
         "name": "mean",
         "rawType": "float64",
         "type": "float"
        },
        {
         "name": "vol",
         "rawType": "float64",
         "type": "float"
        },
        {
         "name": "sharpe",
         "rawType": "float64",
         "type": "float"
        },
        {
         "name": "VaR",
         "rawType": "float64",
         "type": "float"
        }
       ],
       "ref": "3f48b8e8-e2ca-4414-8e36-148d5bc7a2cd",
       "rows": [
        [
         "Mkt-RF",
         "0.08276974789915967",
         "0.18413446651060078",
         "0.44950708831252156",
         "-0.07922"
        ],
        [
         "SMB",
         "0.020104537815126052",
         "0.10934828371470849",
         "0.18385782686428923",
         "-0.0418"
        ],
        [
         "HML",
         "0.04161378151260504",
         "0.12322734767902241",
         "0.3376992388166864",
         "-0.04241"
        ],
        [
         "RF",
         "0.032377815126050424",
         "0.008635574474464216",
         "3.749352775752567",
         "0.0"
        ]
       ],
       "shape": {
        "columns": 4,
        "rows": 4
       }
      },
      "text/html": [
       "<div>\n",
       "<style scoped>\n",
       "    .dataframe tbody tr th:only-of-type {\n",
       "        vertical-align: middle;\n",
       "    }\n",
       "\n",
       "    .dataframe tbody tr th {\n",
       "        vertical-align: top;\n",
       "    }\n",
       "\n",
       "    .dataframe thead th {\n",
       "        text-align: right;\n",
       "    }\n",
       "</style>\n",
       "<table border=\"1\" class=\"dataframe\">\n",
       "  <thead>\n",
       "    <tr style=\"text-align: right;\">\n",
       "      <th></th>\n",
       "      <th>mean</th>\n",
       "      <th>vol</th>\n",
       "      <th>sharpe</th>\n",
       "      <th>VaR</th>\n",
       "    </tr>\n",
       "  </thead>\n",
       "  <tbody>\n",
       "    <tr>\n",
       "      <th>Mkt-RF</th>\n",
       "      <td>0.082770</td>\n",
       "      <td>0.184134</td>\n",
       "      <td>0.449507</td>\n",
       "      <td>-0.07922</td>\n",
       "    </tr>\n",
       "    <tr>\n",
       "      <th>SMB</th>\n",
       "      <td>0.020105</td>\n",
       "      <td>0.109348</td>\n",
       "      <td>0.183858</td>\n",
       "      <td>-0.04180</td>\n",
       "    </tr>\n",
       "    <tr>\n",
       "      <th>HML</th>\n",
       "      <td>0.041614</td>\n",
       "      <td>0.123227</td>\n",
       "      <td>0.337699</td>\n",
       "      <td>-0.04241</td>\n",
       "    </tr>\n",
       "    <tr>\n",
       "      <th>RF</th>\n",
       "      <td>0.032378</td>\n",
       "      <td>0.008636</td>\n",
       "      <td>3.749353</td>\n",
       "      <td>0.00000</td>\n",
       "    </tr>\n",
       "  </tbody>\n",
       "</table>\n",
       "</div>"
      ],
      "text/plain": [
       "            mean       vol    sharpe      VaR\n",
       "Mkt-RF  0.082770  0.184134  0.449507 -0.07922\n",
       "SMB     0.020105  0.109348  0.183858 -0.04180\n",
       "HML     0.041614  0.123227  0.337699 -0.04241\n",
       "RF      0.032378  0.008636  3.749353  0.00000"
      ]
     },
     "metadata": {},
     "output_type": "display_data"
    },
    {
     "name": "stdout",
     "output_type": "stream",
     "text": [
      "stats for: Mkt-RF\n"
     ]
    },
    {
     "data": {
      "application/vnd.microsoft.datawrangler.viewer.v0+json": {
       "columns": [
        {
         "name": "index",
         "rawType": "object",
         "type": "string"
        },
        {
         "name": "mean",
         "rawType": "float64",
         "type": "float"
        },
        {
         "name": "vol",
         "rawType": "float64",
         "type": "float"
        },
        {
         "name": "sharpe",
         "rawType": "float64",
         "type": "float"
        },
        {
         "name": "VaR(0.05)",
         "rawType": "float64",
         "type": "float"
        }
       ],
       "ref": "0cecd3e2-2784-4e96-a9b0-e85d3f0f2c0c",
       "rows": [
        [
         "Begin - 1980",
         "0.081",
         "0.205",
         "0.3949",
         "-0.0841"
        ],
        [
         "1981 - 2001",
         "0.0779",
         "0.1572",
         "0.4953",
         "-0.0641"
        ],
        [
         "2002 - End",
         "0.0913",
         "0.1535",
         "0.5947",
         "-0.0773"
        ]
       ],
       "shape": {
        "columns": 4,
        "rows": 3
       }
      },
      "text/html": [
       "<div>\n",
       "<style scoped>\n",
       "    .dataframe tbody tr th:only-of-type {\n",
       "        vertical-align: middle;\n",
       "    }\n",
       "\n",
       "    .dataframe tbody tr th {\n",
       "        vertical-align: top;\n",
       "    }\n",
       "\n",
       "    .dataframe thead th {\n",
       "        text-align: right;\n",
       "    }\n",
       "</style>\n",
       "<table border=\"1\" class=\"dataframe\">\n",
       "  <thead>\n",
       "    <tr style=\"text-align: right;\">\n",
       "      <th></th>\n",
       "      <th>mean</th>\n",
       "      <th>vol</th>\n",
       "      <th>sharpe</th>\n",
       "      <th>VaR(0.05)</th>\n",
       "    </tr>\n",
       "  </thead>\n",
       "  <tbody>\n",
       "    <tr>\n",
       "      <th>Begin - 1980</th>\n",
       "      <td>0.0810</td>\n",
       "      <td>0.2050</td>\n",
       "      <td>0.3949</td>\n",
       "      <td>-0.0841</td>\n",
       "    </tr>\n",
       "    <tr>\n",
       "      <th>1981 - 2001</th>\n",
       "      <td>0.0779</td>\n",
       "      <td>0.1572</td>\n",
       "      <td>0.4953</td>\n",
       "      <td>-0.0641</td>\n",
       "    </tr>\n",
       "    <tr>\n",
       "      <th>2002 - End</th>\n",
       "      <td>0.0913</td>\n",
       "      <td>0.1535</td>\n",
       "      <td>0.5947</td>\n",
       "      <td>-0.0773</td>\n",
       "    </tr>\n",
       "  </tbody>\n",
       "</table>\n",
       "</div>"
      ],
      "text/plain": [
       "                mean     vol  sharpe  VaR(0.05)\n",
       "Begin - 1980  0.0810  0.2050  0.3949    -0.0841\n",
       "1981 - 2001   0.0779  0.1572  0.4953    -0.0641\n",
       "2002 - End    0.0913  0.1535  0.5947    -0.0773"
      ]
     },
     "metadata": {},
     "output_type": "display_data"
    },
    {
     "name": "stdout",
     "output_type": "stream",
     "text": [
      "stats for: SMB\n"
     ]
    },
    {
     "data": {
      "application/vnd.microsoft.datawrangler.viewer.v0+json": {
       "columns": [
        {
         "name": "index",
         "rawType": "object",
         "type": "string"
        },
        {
         "name": "mean",
         "rawType": "float64",
         "type": "float"
        },
        {
         "name": "vol",
         "rawType": "float64",
         "type": "float"
        },
        {
         "name": "sharpe",
         "rawType": "float64",
         "type": "float"
        },
        {
         "name": "VaR(0.05)",
         "rawType": "float64",
         "type": "float"
        }
       ],
       "ref": "5c59e69e-55dc-46e4-9c74-290dfb60fc07",
       "rows": [
        [
         "Begin - 1980",
         "0.0339",
         "0.1143",
         "0.2968",
         "-0.0419"
        ],
        [
         "1981 - 2001",
         "-0.002",
         "0.1173",
         "-0.0172",
         "-0.0459"
        ],
        [
         "2002 - End",
         "0.0079",
         "0.0884",
         "0.0897",
         "-0.0392"
        ]
       ],
       "shape": {
        "columns": 4,
        "rows": 3
       }
      },
      "text/html": [
       "<div>\n",
       "<style scoped>\n",
       "    .dataframe tbody tr th:only-of-type {\n",
       "        vertical-align: middle;\n",
       "    }\n",
       "\n",
       "    .dataframe tbody tr th {\n",
       "        vertical-align: top;\n",
       "    }\n",
       "\n",
       "    .dataframe thead th {\n",
       "        text-align: right;\n",
       "    }\n",
       "</style>\n",
       "<table border=\"1\" class=\"dataframe\">\n",
       "  <thead>\n",
       "    <tr style=\"text-align: right;\">\n",
       "      <th></th>\n",
       "      <th>mean</th>\n",
       "      <th>vol</th>\n",
       "      <th>sharpe</th>\n",
       "      <th>VaR(0.05)</th>\n",
       "    </tr>\n",
       "  </thead>\n",
       "  <tbody>\n",
       "    <tr>\n",
       "      <th>Begin - 1980</th>\n",
       "      <td>0.0339</td>\n",
       "      <td>0.1143</td>\n",
       "      <td>0.2968</td>\n",
       "      <td>-0.0419</td>\n",
       "    </tr>\n",
       "    <tr>\n",
       "      <th>1981 - 2001</th>\n",
       "      <td>-0.0020</td>\n",
       "      <td>0.1173</td>\n",
       "      <td>-0.0172</td>\n",
       "      <td>-0.0459</td>\n",
       "    </tr>\n",
       "    <tr>\n",
       "      <th>2002 - End</th>\n",
       "      <td>0.0079</td>\n",
       "      <td>0.0884</td>\n",
       "      <td>0.0897</td>\n",
       "      <td>-0.0392</td>\n",
       "    </tr>\n",
       "  </tbody>\n",
       "</table>\n",
       "</div>"
      ],
      "text/plain": [
       "                mean     vol  sharpe  VaR(0.05)\n",
       "Begin - 1980  0.0339  0.1143  0.2968    -0.0419\n",
       "1981 - 2001  -0.0020  0.1173 -0.0172    -0.0459\n",
       "2002 - End    0.0079  0.0884  0.0897    -0.0392"
      ]
     },
     "metadata": {},
     "output_type": "display_data"
    },
    {
     "name": "stdout",
     "output_type": "stream",
     "text": [
      "stats for: HML\n"
     ]
    },
    {
     "data": {
      "application/vnd.microsoft.datawrangler.viewer.v0+json": {
       "columns": [
        {
         "name": "index",
         "rawType": "object",
         "type": "string"
        },
        {
         "name": "mean",
         "rawType": "float64",
         "type": "float"
        },
        {
         "name": "vol",
         "rawType": "float64",
         "type": "float"
        },
        {
         "name": "sharpe",
         "rawType": "float64",
         "type": "float"
        },
        {
         "name": "VaR(0.05)",
         "rawType": "float64",
         "type": "float"
        }
       ],
       "ref": "71f4c8ef-4cd4-4d06-b6c5-f30b58f773a7",
       "rows": [
        [
         "Begin - 1980",
         "0.0503",
         "0.1342",
         "0.3749",
         "-0.0442"
        ],
        [
         "1981 - 2001",
         "0.0646",
         "0.1099",
         "0.5876",
         "-0.0416"
        ],
        [
         "2002 - End",
         "0.0012",
         "0.1064",
         "0.0113",
         "-0.0415"
        ]
       ],
       "shape": {
        "columns": 4,
        "rows": 3
       }
      },
      "text/html": [
       "<div>\n",
       "<style scoped>\n",
       "    .dataframe tbody tr th:only-of-type {\n",
       "        vertical-align: middle;\n",
       "    }\n",
       "\n",
       "    .dataframe tbody tr th {\n",
       "        vertical-align: top;\n",
       "    }\n",
       "\n",
       "    .dataframe thead th {\n",
       "        text-align: right;\n",
       "    }\n",
       "</style>\n",
       "<table border=\"1\" class=\"dataframe\">\n",
       "  <thead>\n",
       "    <tr style=\"text-align: right;\">\n",
       "      <th></th>\n",
       "      <th>mean</th>\n",
       "      <th>vol</th>\n",
       "      <th>sharpe</th>\n",
       "      <th>VaR(0.05)</th>\n",
       "    </tr>\n",
       "  </thead>\n",
       "  <tbody>\n",
       "    <tr>\n",
       "      <th>Begin - 1980</th>\n",
       "      <td>0.0503</td>\n",
       "      <td>0.1342</td>\n",
       "      <td>0.3749</td>\n",
       "      <td>-0.0442</td>\n",
       "    </tr>\n",
       "    <tr>\n",
       "      <th>1981 - 2001</th>\n",
       "      <td>0.0646</td>\n",
       "      <td>0.1099</td>\n",
       "      <td>0.5876</td>\n",
       "      <td>-0.0416</td>\n",
       "    </tr>\n",
       "    <tr>\n",
       "      <th>2002 - End</th>\n",
       "      <td>0.0012</td>\n",
       "      <td>0.1064</td>\n",
       "      <td>0.0113</td>\n",
       "      <td>-0.0415</td>\n",
       "    </tr>\n",
       "  </tbody>\n",
       "</table>\n",
       "</div>"
      ],
      "text/plain": [
       "                mean     vol  sharpe  VaR(0.05)\n",
       "Begin - 1980  0.0503  0.1342  0.3749    -0.0442\n",
       "1981 - 2001   0.0646  0.1099  0.5876    -0.0416\n",
       "2002 - End    0.0012  0.1064  0.0113    -0.0415"
      ]
     },
     "metadata": {},
     "output_type": "display_data"
    },
    {
     "name": "stdout",
     "output_type": "stream",
     "text": [
      "stats for: RF\n"
     ]
    },
    {
     "data": {
      "application/vnd.microsoft.datawrangler.viewer.v0+json": {
       "columns": [
        {
         "name": "index",
         "rawType": "object",
         "type": "string"
        },
        {
         "name": "mean",
         "rawType": "float64",
         "type": "float"
        },
        {
         "name": "vol",
         "rawType": "float64",
         "type": "float"
        },
        {
         "name": "sharpe",
         "rawType": "float64",
         "type": "float"
        },
        {
         "name": "VaR(0.05)",
         "rawType": "float64",
         "type": "float"
        }
       ],
       "ref": "8697fd3c-c15b-4e2c-83eb-42bfa3e3141b",
       "rows": [
        [
         "Begin - 1980",
         "0.0277",
         "0.0077",
         "3.614",
         "0.0"
        ],
        [
         "1981 - 2001",
         "0.0631",
         "0.0078",
         "8.1372",
         "0.0025"
        ],
        [
         "2002 - End",
         "0.0158",
         "0.0052",
         "3.0381",
         "0.0"
        ]
       ],
       "shape": {
        "columns": 4,
        "rows": 3
       }
      },
      "text/html": [
       "<div>\n",
       "<style scoped>\n",
       "    .dataframe tbody tr th:only-of-type {\n",
       "        vertical-align: middle;\n",
       "    }\n",
       "\n",
       "    .dataframe tbody tr th {\n",
       "        vertical-align: top;\n",
       "    }\n",
       "\n",
       "    .dataframe thead th {\n",
       "        text-align: right;\n",
       "    }\n",
       "</style>\n",
       "<table border=\"1\" class=\"dataframe\">\n",
       "  <thead>\n",
       "    <tr style=\"text-align: right;\">\n",
       "      <th></th>\n",
       "      <th>mean</th>\n",
       "      <th>vol</th>\n",
       "      <th>sharpe</th>\n",
       "      <th>VaR(0.05)</th>\n",
       "    </tr>\n",
       "  </thead>\n",
       "  <tbody>\n",
       "    <tr>\n",
       "      <th>Begin - 1980</th>\n",
       "      <td>0.0277</td>\n",
       "      <td>0.0077</td>\n",
       "      <td>3.6140</td>\n",
       "      <td>0.0000</td>\n",
       "    </tr>\n",
       "    <tr>\n",
       "      <th>1981 - 2001</th>\n",
       "      <td>0.0631</td>\n",
       "      <td>0.0078</td>\n",
       "      <td>8.1372</td>\n",
       "      <td>0.0025</td>\n",
       "    </tr>\n",
       "    <tr>\n",
       "      <th>2002 - End</th>\n",
       "      <td>0.0158</td>\n",
       "      <td>0.0052</td>\n",
       "      <td>3.0381</td>\n",
       "      <td>0.0000</td>\n",
       "    </tr>\n",
       "  </tbody>\n",
       "</table>\n",
       "</div>"
      ],
      "text/plain": [
       "                mean     vol  sharpe  VaR(0.05)\n",
       "Begin - 1980  0.0277  0.0077  3.6140     0.0000\n",
       "1981 - 2001   0.0631  0.0078  8.1372     0.0025\n",
       "2002 - End    0.0158  0.0052  3.0381     0.0000"
      ]
     },
     "metadata": {},
     "output_type": "display_data"
    }
   ],
   "source": [
    "mean = fact_df.mean() * 12\n",
    "vol = fact_df.std(ddof=1) * np.sqrt(12)\n",
    "\n",
    "\n",
    "stats = pd.DataFrame({\"mean\": mean, \"vol\": vol})\n",
    "stats[\"sharpe\"] = stats[\"mean\"] / stats[\"vol\"]\n",
    "var_05 = fact_df.quantile(0.05)\n",
    "stats[\"VaR\"] = var_05\n",
    "\n",
    "\n",
    "display(stats)\n",
    "\n",
    "\n",
    "\n",
    "\n",
    "def compute_stats(series):\n",
    "    x = series.dropna()\n",
    "    mean_ann = x.mean() * 12\n",
    "    vol_ann = x.std(ddof=1) * np.sqrt(12)\n",
    "    sharpe = mean_ann / vol_ann\n",
    "    var_05 = x.quantile(0.05)    # monthly VaR\n",
    "    return pd.Series({\"mean\": mean_ann, \"vol\": vol_ann,\n",
    "                      \"sharpe\": sharpe, \"VaR(0.05)\": var_05})\n",
    "\n",
    "\n",
    "for col in fact_df.columns:\n",
    "    subsamples = {\n",
    "        \"Begin - 1980\": fact_df[col].loc[:'1980-12-31'],\n",
    "        \"1981 - 2001\": fact_df[col].loc['1981-01-01':'2001-12-31'],\n",
    "        \"2002 - End\": fact_df[col].loc['2002-01-01':]\n",
    "    }\n",
    "    print(\"stats for:\", col)\n",
    "    stats = pd.DataFrame({label: compute_stats(s) for label, s in subsamples.items()}).T\n",
    "    display(stats.round(4))"
   ]
  },
  {
   "cell_type": "markdown",
   "id": "eca0af55",
   "metadata": {},
   "source": [
    "\n",
    " - The 1980s and 1990s saw much weaker small-cap outperformance; large firms (esp. S&P 500 components) dominated.  SMB ≈ 0.02 → significantly smaller than the pre-1980 size premium documented by Banz (1981).\n",
    "- During the 1990s, growth stocks, especially tech, greatly outperformed value. The HBS case itself notes that DFA “appeared to be missing the boat” while growth soared.\n",
    "- The market factor remains robust."
   ]
  },
  {
   "cell_type": "markdown",
   "id": "2e436d29",
   "metadata": {},
   "source": [
    "### 3.\n",
    "\n",
    "The factors are constructed in such a way as to reduce correlation between them.\n",
    "\n",
    "* Report the correlation matrix across the three factors. \n",
    "    - (below)\n",
    "\n",
    "* Does the construction method succeed in keeping correlations small? \n",
    "    - yes, correlations are low \n",
    "* Does it achieve this in each subsample?\n",
    "    - yes as seen below, the magnitude of correlations is below 0.5 in all cases\n",
    "\n"
   ]
  },
  {
   "cell_type": "code",
   "execution_count": 4,
   "id": "65c34345",
   "metadata": {},
   "outputs": [
    {
     "data": {
      "image/png": "[encoded data removed]",
      "text/plain": [
       "<Figure size 600x400 with 2 Axes>"
      ]
     },
     "metadata": {},
     "output_type": "display_data"
    },
    {
     "data": {
      "image/png": "[encoded data removed]",
      "text/plain": [
       "<Figure size 500x400 with 2 Axes>"
      ]
     },
     "metadata": {},
     "output_type": "display_data"
    },
    {
     "data": {
      "image/png": "[encoded data removed]",
      "text/plain": [
       "<Figure size 500x400 with 2 Axes>"
      ]
     },
     "metadata": {},
     "output_type": "display_data"
    },
    {
     "data": {
      "image/png": "[encoded data removed]",
      "text/plain": [
       "<Figure size 500x400 with 2 Axes>"
      ]
     },
     "metadata": {},
     "output_type": "display_data"
    }
   ],
   "source": [
    "factors = fact_df[[\"Mkt-RF\", \"SMB\", \"HML\"]]\n",
    "corr = factors.corr()\n",
    "\n",
    "plt.figure(figsize=(6, 4))\n",
    "sns.heatmap(\n",
    "    corr, \n",
    "    annot=True,         \n",
    "    cmap=\"coolwarm\",     \n",
    "    center=0,            \n",
    "    vmin=-1, vmax=1,     \n",
    "    square=True,         \n",
    "    fmt=\".2f\",           \n",
    "    linewidths=0.5,     \n",
    "    cbar_kws={\"shrink\": 0.8, \"label\": \"Correlation\"}\n",
    ")\n",
    "plt.title(\"Correlation Matrix: Fama–French Factors\", fontsize=13, pad=10)\n",
    "plt.tight_layout()\n",
    "plt.show()\n",
    "\n",
    "\n",
    "subsamples = {\n",
    "    \"Begin - 1980\": factors.loc[:'1980-12-31', [\"Mkt-RF\", \"SMB\", \"HML\"]],\n",
    "    \"1981 - 2001\": factors.loc['1981-01-01':'2001-12-31', [\"Mkt-RF\", \"SMB\", \"HML\"]],\n",
    "    \"2002 - End\": factors.loc['2002-01-01':, [\"Mkt-RF\", \"SMB\", \"HML\"]]\n",
    "}\n",
    "\n",
    "for label, df_sub in subsamples.items():\n",
    "    corr = df_sub.corr()\n",
    "    plt.figure(figsize=(5, 4))\n",
    "    sns.heatmap(\n",
    "        corr, annot=True, cmap=\"coolwarm\", center=0, vmin=-1, vmax=1, \n",
    "        square=True, fmt=\".2f\", linewidths=0.5,\n",
    "        cbar_kws={\"shrink\": 0.8, \"label\": \"Correlation\"}\n",
    "    )\n",
    "    plt.title(f\"Correlation Matrix: Fama–French Factors ({label})\", fontsize=12, pad=10)\n",
    "    plt.tight_layout()\n",
    "    plt.show()"
   ]
  },
  {
   "cell_type": "markdown",
   "id": "899a3f32",
   "metadata": {},
   "source": [
    "### 4. \n",
    "\n",
    "* Plot the cumulative returns of the three factors. \n",
    "\n",
    "* Create plots for the 1981-2001 subsample as well as the 2002-Present subsample.\n"
   ]
  },
  {
   "cell_type": "code",
   "execution_count": 5,
   "id": "ad9bec50",
   "metadata": {},
   "outputs": [
    {
     "data": {
      "image/png": "[encoded data removed]",
      "text/plain": [
       "<Figure size 800x500 with 1 Axes>"
      ]
     },
     "metadata": {},
     "output_type": "display_data"
    },
    {
     "data": {
      "image/png": "[encoded data removed]",
      "text/plain": [
       "<Figure size 800x500 with 1 Axes>"
      ]
     },
     "metadata": {},
     "output_type": "display_data"
    },
    {
     "data": {
      "image/png": "[encoded data removed]",
      "text/plain": [
       "<Figure size 800x500 with 1 Axes>"
      ]
     },
     "metadata": {},
     "output_type": "display_data"
    }
   ],
   "source": [
    "def cumulative_returns(df):\n",
    "    return (1 + df).cumprod() - 1\n",
    "\n",
    "cum_all = cumulative_returns(factors)\n",
    "\n",
    "plt.figure(figsize=(8,5))\n",
    "plt.plot(cum_all, lw=1.5)\n",
    "plt.title(\"Cumulative Returns of Fama–French Factors (Full Sample)\", fontsize=13)\n",
    "plt.ylabel(\"Cumulative Return\")\n",
    "plt.xlabel(\"Date\")\n",
    "plt.legend(cum_all.columns)\n",
    "plt.grid(alpha=0.3)\n",
    "plt.tight_layout()\n",
    "plt.show()\n",
    "\n",
    "# --- 1981–2001 ---\n",
    "cum_81_01 = cumulative_returns(factors.loc['1981-01-01':'2001-12-31'])\n",
    "plt.figure(figsize=(8,5))\n",
    "plt.plot(cum_81_01, lw=1.5)\n",
    "plt.title(\"Cumulative Returns (1981–2001)\", fontsize=13)\n",
    "plt.ylabel(\"Cumulative Return\")\n",
    "plt.xlabel(\"Date\")\n",
    "plt.legend(cum_81_01.columns)\n",
    "plt.grid(alpha=0.3)\n",
    "plt.tight_layout()\n",
    "plt.show()\n",
    "\n",
    "# --- 2002–Present ---\n",
    "cum_02_now = cumulative_returns(factors.loc['2002-01-01':])\n",
    "plt.figure(figsize=(8,5))\n",
    "plt.plot(cum_02_now, lw=1.5)\n",
    "plt.title(\"Cumulative Returns (2002–Present)\", fontsize=13)\n",
    "plt.ylabel(\"Cumulative Return\")\n",
    "plt.xlabel(\"Date\")\n",
    "plt.legend(cum_02_now.columns)\n",
    "plt.grid(alpha=0.3)\n",
    "plt.tight_layout()\n",
    "plt.show()"
   ]
  },
  {
   "cell_type": "markdown",
   "id": "58bd7e3e",
   "metadata": {},
   "source": [
    "### 5.\n",
    "\n",
    "* Does it appear that all three factors were valuable in 1981-2001? \n",
    "    - MKT - the market factor performed exceptionally well throughout the 1980s and 1990s. \n",
    "    - HML - Also valuable, Value stocks significantly outperformed during the mid-1980s through mid-1990s, contributing substantial positive cumulative returns.\n",
    "    - SMB - Not valuable. The SMB line is flat to negative across the entire 1981–2001 period, confirming that small-cap stocks did not provide a reliable premium after 1980.\n",
    "* And post-2001? \n",
    "    - MKT - Still very strong\n",
    "    - Essentially flat to negative post-2002 — value underperformed growth through the 2010s, with a mild rebound only after 2020. The value premium weakened significantly in this era.\n",
    "    - SMB - Modestly positive early (2002–2010), but flat or negative afterward. The small-cap premium remains weak and unreliable in modern data.\n",
    "\n",
    "* Would you advise DFA to continue emphasizing all three factors?\n",
    "\t- The market premium should clearly remain central — it drives long-run equity returns.\n",
    "    - The size factor (SMB) now appears largely redundant; its premium has been weak for decades, and its diversification benefits are small.\n",
    "    - The value factor (HML) still provides some diversification benefits, particularly because of its negative or low correlation with the market, but its return advantage has been much less reliable post-2000."
   ]
  },
  {
   "cell_type": "markdown",
   "id": "3709d188",
   "metadata": {},
   "source": [
    "# 3. CAPM"
   ]
  },
  {
   "cell_type": "markdown",
   "id": "f136661e",
   "metadata": {},
   "source": [
    "DFA believes that premia in stocks and stock portfolios is related to the three factors. \n",
    "\n",
    "Let's test `25` equity portfolios that span a wide range of size and value measures.\n",
    "\n",
    "#### Footnote\n",
    "For more on the portfolio construction, see the description at Ken French's data library. \n",
    "https://mba.tuck.dartmouth.edu/pages/faculty/ken.french/Data_Library/tw_5_ports.html\n",
    "\n",
    "#### Portfolios\n",
    "Monthly **total** return data on `25` equity portfolios sorted by their size-value characteristics. Denote these as $\\vec{r}^{i}$, for $n=1, \\ldots, 25$.\n",
    "- Note that while the factors were given as excess returns, the portfolios are total returns.\n",
    "- For this entire problem, focus on the 1981-Present subsample.\n",
    "\n",
    "### 1. Summary Statistics. \n",
    "\n",
    "For each portfolio, \n",
    "- Use the Risk-Free rate column in the factors tab to convert these total returns to excess returns.\n",
    "- Calculate the (annualized) univariate statistics from `1.1`."
   ]
  },
  {
   "cell_type": "code",
   "execution_count": null,
   "id": "be510312",
   "metadata": {},
   "outputs": [
    {
     "data": {
      "application/vnd.microsoft.datawrangler.viewer.v0+json": {
       "columns": [
        {
         "name": "index",
         "rawType": "object",
         "type": "string"
        },
        {
         "name": "mean",
         "rawType": "float64",
         "type": "float"
        },
        {
         "name": "vol",
         "rawType": "float64",
         "type": "float"
        },
        {
         "name": "sharpe",
         "rawType": "float64",
         "type": "float"
        },
        {
         "name": "VaR(0.05)",
         "rawType": "float64",
         "type": "float"
        }
       ],
       "ref": "e5d27026-7292-4c6f-8079-075f1378c53a",
       "rows": [
        [
         "SMALL LoBM",
         "0.0117",
         "0.2717",
         "0.0431",
         "-0.1249"
        ],
        [
         "ME1 BM2",
         "0.0884",
         "0.2354",
         "0.3756",
         "-0.0949"
        ],
        [
         "ME1 BM3",
         "0.0902",
         "0.2008",
         "0.4493",
         "-0.0848"
        ],
        [
         "ME1 BM4",
         "0.1125",
         "0.194",
         "0.58",
         "-0.0776"
        ],
        [
         "SMALL HiBM",
         "0.1273",
         "0.2084",
         "0.611",
         "-0.0882"
        ],
        [
         "ME2 BM1",
         "0.0609",
         "0.2447",
         "0.249",
         "-0.1032"
        ],
        [
         "ME2 BM2",
         "0.0984",
         "0.2054",
         "0.479",
         "-0.0834"
        ],
        [
         "ME2 BM3",
         "0.1052",
         "0.1864",
         "0.564",
         "-0.0803"
        ],
        [
         "ME2 BM4",
         "0.1081",
         "0.1819",
         "0.5942",
         "-0.0753"
        ],
        [
         "ME2 BM5",
         "0.1132",
         "0.2137",
         "0.5298",
         "-0.0933"
        ],
        [
         "ME3 BM1",
         "0.0694",
         "0.2237",
         "0.3103",
         "-0.0995"
        ],
        [
         "ME3 BM2",
         "0.104",
         "0.1871",
         "0.5555",
         "-0.0786"
        ],
        [
         "ME3 BM3",
         "0.091",
         "0.1729",
         "0.5264",
         "-0.0732"
        ],
        [
         "ME3 BM4",
         "0.1053",
         "0.1797",
         "0.5863",
         "-0.0722"
        ],
        [
         "ME3 BM5",
         "0.124",
         "0.2024",
         "0.6125",
         "-0.0845"
        ],
        [
         "ME4 BM1",
         "0.0919",
         "0.2008",
         "0.4575",
         "-0.0835"
        ],
        [
         "ME4 BM2",
         "0.0937",
         "0.1761",
         "0.5323",
         "-0.0723"
        ],
        [
         "ME4 BM3",
         "0.092",
         "0.1742",
         "0.5282",
         "-0.0762"
        ],
        [
         "ME4 BM4",
         "0.1059",
         "0.1741",
         "0.6081",
         "-0.0688"
        ],
        [
         "ME4 BM5",
         "0.1056",
         "0.199",
         "0.5307",
         "-0.0857"
        ],
        [
         "BIG LoBM",
         "0.0949",
         "0.1634",
         "0.5807",
         "-0.0758"
        ],
        [
         "ME5 BM2",
         "0.0857",
         "0.1544",
         "0.5552",
         "-0.0641"
        ],
        [
         "ME5 BM3",
         "0.0796",
         "0.1529",
         "0.5211",
         "-0.0711"
        ],
        [
         "ME5 BM4",
         "0.0726",
         "0.1704",
         "0.4258",
         "-0.0738"
        ],
        [
         "BIG HiBM",
         "0.1035",
         "0.204",
         "0.5076",
         "-0.089"
        ]
       ],
       "shape": {
        "columns": 4,
        "rows": 25
       }
      },
      "text/html": [
       "<div>\n",
       "<style scoped>\n",
       "    .dataframe tbody tr th:only-of-type {\n",
       "        vertical-align: middle;\n",
       "    }\n",
       "\n",
       "    .dataframe tbody tr th {\n",
       "        vertical-align: top;\n",
       "    }\n",
       "\n",
       "    .dataframe thead th {\n",
       "        text-align: right;\n",
       "    }\n",
       "</style>\n",
       "<table border=\"1\" class=\"dataframe\">\n",
       "  <thead>\n",
       "    <tr style=\"text-align: right;\">\n",
       "      <th></th>\n",
       "      <th>mean</th>\n",
       "      <th>vol</th>\n",
       "      <th>sharpe</th>\n",
       "      <th>VaR(0.05)</th>\n",
       "    </tr>\n",
       "  </thead>\n",
       "  <tbody>\n",
       "    <tr>\n",
       "      <th>SMALL LoBM</th>\n",
       "      <td>0.0117</td>\n",
       "      <td>0.2717</td>\n",
       "      <td>0.0431</td>\n",
       "      <td>-0.1249</td>\n",
       "    </tr>\n",
       "    <tr>\n",
       "      <th>ME1 BM2</th>\n",
       "      <td>0.0884</td>\n",
       "      <td>0.2354</td>\n",
       "      <td>0.3756</td>\n",
       "      <td>-0.0949</td>\n",
       "    </tr>\n",
       "    <tr>\n",
       "      <th>ME1 BM3</th>\n",
       "      <td>0.0902</td>\n",
       "      <td>0.2008</td>\n",
       "      <td>0.4493</td>\n",
       "      <td>-0.0848</td>\n",
       "    </tr>\n",
       "    <tr>\n",
       "      <th>ME1 BM4</th>\n",
       "      <td>0.1125</td>\n",
       "      <td>0.1940</td>\n",
       "      <td>0.5800</td>\n",
       "      <td>-0.0776</td>\n",
       "    </tr>\n",
       "    <tr>\n",
       "      <th>SMALL HiBM</th>\n",
       "      <td>0.1273</td>\n",
       "      <td>0.2084</td>\n",
       "      <td>0.6110</td>\n",
       "      <td>-0.0882</td>\n",
       "    </tr>\n",
       "    <tr>\n",
       "      <th>ME2 BM1</th>\n",
       "      <td>0.0609</td>\n",
       "      <td>0.2447</td>\n",
       "      <td>0.2490</td>\n",
       "      <td>-0.1032</td>\n",
       "    </tr>\n",
       "    <tr>\n",
       "      <th>ME2 BM2</th>\n",
       "      <td>0.0984</td>\n",
       "      <td>0.2054</td>\n",
       "      <td>0.4790</td>\n",
       "      <td>-0.0834</td>\n",
       "    </tr>\n",
       "    <tr>\n",
       "      <th>ME2 BM3</th>\n",
       "      <td>0.1052</td>\n",
       "      <td>0.1864</td>\n",
       "      <td>0.5640</td>\n",
       "      <td>-0.0803</td>\n",
       "    </tr>\n",
       "    <tr>\n",
       "      <th>ME2 BM4</th>\n",
       "      <td>0.1081</td>\n",
       "      <td>0.1819</td>\n",
       "      <td>0.5942</td>\n",
       "      <td>-0.0753</td>\n",
       "    </tr>\n",
       "    <tr>\n",
       "      <th>ME2 BM5</th>\n",
       "      <td>0.1132</td>\n",
       "      <td>0.2137</td>\n",
       "      <td>0.5298</td>\n",
       "      <td>-0.0933</td>\n",
       "    </tr>\n",
       "    <tr>\n",
       "      <th>ME3 BM1</th>\n",
       "      <td>0.0694</td>\n",
       "      <td>0.2237</td>\n",
       "      <td>0.3103</td>\n",
       "      <td>-0.0995</td>\n",
       "    </tr>\n",
       "    <tr>\n",
       "      <th>ME3 BM2</th>\n",
       "      <td>0.1040</td>\n",
       "      <td>0.1871</td>\n",
       "      <td>0.5555</td>\n",
       "      <td>-0.0786</td>\n",
       "    </tr>\n",
       "    <tr>\n",
       "      <th>ME3 BM3</th>\n",
       "      <td>0.0910</td>\n",
       "      <td>0.1729</td>\n",
       "      <td>0.5264</td>\n",
       "      <td>-0.0732</td>\n",
       "    </tr>\n",
       "    <tr>\n",
       "      <th>ME3 BM4</th>\n",
       "      <td>0.1053</td>\n",
       "      <td>0.1797</td>\n",
       "      <td>0.5863</td>\n",
       "      <td>-0.0722</td>\n",
       "    </tr>\n",
       "    <tr>\n",
       "      <th>ME3 BM5</th>\n",
       "      <td>0.1240</td>\n",
       "      <td>0.2024</td>\n",
       "      <td>0.6125</td>\n",
       "      <td>-0.0845</td>\n",
       "    </tr>\n",
       "    <tr>\n",
       "      <th>ME4 BM1</th>\n",
       "      <td>0.0919</td>\n",
       "      <td>0.2008</td>\n",
       "      <td>0.4575</td>\n",
       "      <td>-0.0835</td>\n",
       "    </tr>\n",
       "    <tr>\n",
       "      <th>ME4 BM2</th>\n",
       "      <td>0.0937</td>\n",
       "      <td>0.1761</td>\n",
       "      <td>0.5323</td>\n",
       "      <td>-0.0723</td>\n",
       "    </tr>\n",
       "    <tr>\n",
       "      <th>ME4 BM3</th>\n",
       "      <td>0.0920</td>\n",
       "      <td>0.1742</td>\n",
       "      <td>0.5282</td>\n",
       "      <td>-0.0762</td>\n",
       "    </tr>\n",
       "    <tr>\n",
       "      <th>ME4 BM4</th>\n",
       "      <td>0.1059</td>\n",
       "      <td>0.1741</td>\n",
       "      <td>0.6081</td>\n",
       "      <td>-0.0688</td>\n",
       "    </tr>\n",
       "    <tr>\n",
       "      <th>ME4 BM5</th>\n",
       "      <td>0.1056</td>\n",
       "      <td>0.1990</td>\n",
       "      <td>0.5307</td>\n",
       "      <td>-0.0857</td>\n",
       "    </tr>\n",
       "    <tr>\n",
       "      <th>BIG LoBM</th>\n",
       "      <td>0.0949</td>\n",
       "      <td>0.1634</td>\n",
       "      <td>0.5807</td>\n",
       "      <td>-0.0758</td>\n",
       "    </tr>\n",
       "    <tr>\n",
       "      <th>ME5 BM2</th>\n",
       "      <td>0.0857</td>\n",
       "      <td>0.1544</td>\n",
       "      <td>0.5552</td>\n",
       "      <td>-0.0641</td>\n",
       "    </tr>\n",
       "    <tr>\n",
       "      <th>ME5 BM3</th>\n",
       "      <td>0.0796</td>\n",
       "      <td>0.1529</td>\n",
       "      <td>0.5211</td>\n",
       "      <td>-0.0711</td>\n",
       "    </tr>\n",
       "    <tr>\n",
       "      <th>ME5 BM4</th>\n",
       "      <td>0.0726</td>\n",
       "      <td>0.1704</td>\n",
       "      <td>0.4258</td>\n",
       "      <td>-0.0738</td>\n",
       "    </tr>\n",
       "    <tr>\n",
       "      <th>BIG HiBM</th>\n",
       "      <td>0.1035</td>\n",
       "      <td>0.2040</td>\n",
       "      <td>0.5076</td>\n",
       "      <td>-0.0890</td>\n",
       "    </tr>\n",
       "  </tbody>\n",
       "</table>\n",
       "</div>"
      ],
      "text/plain": [
       "              mean     vol  sharpe  VaR(0.05)\n",
       "SMALL LoBM  0.0117  0.2717  0.0431    -0.1249\n",
       "ME1 BM2     0.0884  0.2354  0.3756    -0.0949\n",
       "ME1 BM3     0.0902  0.2008  0.4493    -0.0848\n",
       "ME1 BM4     0.1125  0.1940  0.5800    -0.0776\n",
       "SMALL HiBM  0.1273  0.2084  0.6110    -0.0882\n",
       "ME2 BM1     0.0609  0.2447  0.2490    -0.1032\n",
       "ME2 BM2     0.0984  0.2054  0.4790    -0.0834\n",
       "ME2 BM3     0.1052  0.1864  0.5640    -0.0803\n",
       "ME2 BM4     0.1081  0.1819  0.5942    -0.0753\n",
       "ME2 BM5     0.1132  0.2137  0.5298    -0.0933\n",
       "ME3 BM1     0.0694  0.2237  0.3103    -0.0995\n",
       "ME3 BM2     0.1040  0.1871  0.5555    -0.0786\n",
       "ME3 BM3     0.0910  0.1729  0.5264    -0.0732\n",
       "ME3 BM4     0.1053  0.1797  0.5863    -0.0722\n",
       "ME3 BM5     0.1240  0.2024  0.6125    -0.0845\n",
       "ME4 BM1     0.0919  0.2008  0.4575    -0.0835\n",
       "ME4 BM2     0.0937  0.1761  0.5323    -0.0723\n",
       "ME4 BM3     0.0920  0.1742  0.5282    -0.0762\n",
       "ME4 BM4     0.1059  0.1741  0.6081    -0.0688\n",
       "ME4 BM5     0.1056  0.1990  0.5307    -0.0857\n",
       "BIG LoBM    0.0949  0.1634  0.5807    -0.0758\n",
       "ME5 BM2     0.0857  0.1544  0.5552    -0.0641\n",
       "ME5 BM3     0.0796  0.1529  0.5211    -0.0711\n",
       "ME5 BM4     0.0726  0.1704  0.4258    -0.0738\n",
       "BIG HiBM    0.1035  0.2040  0.5076    -0.0890"
      ]
     },
     "metadata": {},
     "output_type": "display_data"
    }
   ],
   "source": [
    "start_date = '1981-01-01'\n",
    "rf = fact_df.loc[start_date:, 'RF']\n",
    "port25 = portfolios.loc[start_date:]\n",
    "\n",
    "excess25 = port25.sub(rf, axis=0)\n",
    "\n",
    "def compute_stats(series):\n",
    "    x = series.dropna()\n",
    "    mean_ann = x.mean() * 12\n",
    "    vol_ann = x.std(ddof=1) * np.sqrt(12)\n",
    "    sharpe = mean_ann / vol_ann\n",
    "    var_05 = x.quantile(0.05)\n",
    "    return pd.Series({\n",
    "        \"mean\": mean_ann,\n",
    "        \"vol\": vol_ann,\n",
    "        \"sharpe\": sharpe,\n",
    "        \"VaR(0.05)\": var_05\n",
    "    })\n",
    "\n",
    "stats_25 = excess25.apply(compute_stats, axis=0).T\n",
    "display(stats_25.round(4))"
   ]
  },
  {
   "cell_type": "markdown",
   "id": "5f848ae8",
   "metadata": {},
   "source": [
    "### 2. CAPM\n",
    "\n",
    "The Capital Asset Pricing Model (CAPM) asserts that an asset (or portfolio's) expected excess return is completely a function of its beta to the equity market index (`SPY`, or in this case, `MKT`.) \n",
    "\n",
    "Specifically, it asserts that, for any excess return, $\\tilde{r}^{i}$, its mean is proportional to the mean excess return of the market, $\\tilde{r}^{\\text{mkt}}$, where the proporitonality is the regression beta of $\\tilde{r}^{i}$ on $\\tilde{r}^{\\text{mkt}}$.\n",
    "\n",
    "$$\n",
    "\\mathbb{E}\\left[\\tilde{r}_{t}^{i}\\right] = \\beta^{i,\\text{mkt}}\\; \\mathbb{E}\\left[\\tilde{r}_{t}^{\\text{mkt}}\\right]\n",
    "$$\n",
    "\n",
    "Let's examine whether that seems plausible.\n",
    "\n",
    "For each of the $n=25$ test portfolios, run the CAPM time-series regression:\n",
    "\n",
    "$$\n",
    "\\tilde{r}_{t}^{i} = \\alpha^i + \\beta^{i,\\text{mkt}}\\; \\tilde{r}_{t}^{\\text{mkt}} + \\epsilon_{t}^{i}\n",
    "$$"
   ]
  },
  {
   "cell_type": "markdown",
   "id": "49d05468",
   "metadata": {},
   "source": [
    "So you are running 25 separate regressions, each using the $T$-sized sample of time-series data.\n",
    "\n",
    "* Report the betas and alphas for each test asset.\n",
    "\n",
    "* Report the mean-absolute-error of the CAPM:\n",
    "$$\\text{MAE} = \\frac{1}{n}\\sum_{i=1}^n \\left|\\alpha_i\\right|$$\n",
    "\n",
    "If the CAPM were true, what would we expect of the MAE?\n",
    "\n",
    "- Report the estimated $\\beta^{i,\\text{mkt}}$, Treynor Ratio, $\\alpha^i$, and Information Ratio for each of the $n$ regressions.\n",
    "\n",
    "- If the CAPM model were true, what would be true of the Treynor Ratios, alphas, and Information Ratios?"
   ]
  },
  {
   "cell_type": "code",
   "execution_count": 12,
   "id": "76106304",
   "metadata": {},
   "outputs": [
    {
     "data": {
      "application/vnd.microsoft.datawrangler.viewer.v0+json": {
       "columns": [
        {
         "name": "index",
         "rawType": "object",
         "type": "string"
        },
        {
         "name": "beta_mkt",
         "rawType": "float64",
         "type": "float"
        },
        {
         "name": "treynor",
         "rawType": "float64",
         "type": "float"
        },
        {
         "name": "alpha",
         "rawType": "float64",
         "type": "float"
        },
        {
         "name": "info_ratio",
         "rawType": "float64",
         "type": "float"
        },
        {
         "name": "R2",
         "rawType": "float64",
         "type": "float"
        }
       ],
       "ref": "370a5224-a7bd-4722-b37a-c0591a4b4b0d",
       "rows": [
        [
         "SMALL LoBM",
         "1.3585",
         "0.0086",
         "-0.1037",
         "-0.6047",
         "0.6014"
        ],
        [
         "ME1 BM2",
         "1.1658",
         "0.0759",
         "-0.0106",
         "-0.0705",
         "0.59"
        ],
        [
         "ME1 BM3",
         "1.0495",
         "0.086",
         "0.001",
         "0.0088",
         "0.6571"
        ],
        [
         "ME1 BM4",
         "0.9773",
         "0.1151",
         "0.0295",
         "0.2435",
         "0.6105"
        ],
        [
         "SMALL HiBM",
         "0.9939",
         "0.1281",
         "0.0429",
         "0.3058",
         "0.5476"
        ],
        [
         "ME2 BM1",
         "1.3341",
         "0.0457",
         "-0.0524",
         "-0.4018",
         "0.7154"
        ],
        [
         "ME2 BM2",
         "1.139",
         "0.0864",
         "0.0016",
         "0.0151",
         "0.7401"
        ],
        [
         "ME2 BM3",
         "1.0357",
         "0.1015",
         "0.0171",
         "0.1812",
         "0.7426"
        ],
        [
         "ME2 BM4",
         "0.9765",
         "0.1107",
         "0.0251",
         "0.2493",
         "0.6937"
        ],
        [
         "ME2 BM5",
         "1.1108",
         "0.1019",
         "0.0188",
         "0.1488",
         "0.6505"
        ],
        [
         "ME3 BM1",
         "1.2677",
         "0.0548",
         "-0.0383",
         "-0.3589",
         "0.7725"
        ],
        [
         "ME3 BM2",
         "1.0911",
         "0.0953",
         "0.0112",
         "0.1408",
         "0.8179"
        ],
        [
         "ME3 BM3",
         "0.9895",
         "0.092",
         "0.0069",
         "0.0872",
         "0.7879"
        ],
        [
         "ME3 BM4",
         "0.9911",
         "0.1063",
         "0.0211",
         "0.2271",
         "0.732"
        ],
        [
         "ME3 BM5",
         "1.0543",
         "0.1176",
         "0.0344",
         "0.2883",
         "0.6528"
        ],
        [
         "ME4 BM1",
         "1.18",
         "0.0779",
         "-0.0084",
         "-0.1016",
         "0.8308"
        ],
        [
         "ME4 BM2",
         "1.0577",
         "0.0886",
         "0.0038",
         "0.06",
         "0.8685"
        ],
        [
         "ME4 BM3",
         "1.0068",
         "0.0914",
         "0.0065",
         "0.0838",
         "0.8036"
        ],
        [
         "ME4 BM4",
         "0.9803",
         "0.108",
         "0.0226",
         "0.2662",
         "0.763"
        ],
        [
         "ME4 BM5",
         "1.0484",
         "0.1007",
         "0.0165",
         "0.1439",
         "0.6679"
        ],
        [
         "BIG LoBM",
         "0.9955",
         "0.0953",
         "0.0103",
         "0.1926",
         "0.8935"
        ],
        [
         "ME5 BM2",
         "0.9247",
         "0.0927",
         "0.0071",
         "0.1249",
         "0.8631"
        ],
        [
         "ME5 BM3",
         "0.876",
         "0.0909",
         "0.0052",
         "0.0743",
         "0.7904"
        ],
        [
         "ME5 BM4",
         "0.9102",
         "0.0797",
         "-0.0048",
         "-0.0501",
         "0.6863"
        ],
        [
         "BIG HiBM",
         "1.026",
         "0.1009",
         "0.0164",
         "0.1282",
         "0.6087"
        ]
       ],
       "shape": {
        "columns": 5,
        "rows": 25
       }
      },
      "text/html": [
       "<div>\n",
       "<style scoped>\n",
       "    .dataframe tbody tr th:only-of-type {\n",
       "        vertical-align: middle;\n",
       "    }\n",
       "\n",
       "    .dataframe tbody tr th {\n",
       "        vertical-align: top;\n",
       "    }\n",
       "\n",
       "    .dataframe thead th {\n",
       "        text-align: right;\n",
       "    }\n",
       "</style>\n",
       "<table border=\"1\" class=\"dataframe\">\n",
       "  <thead>\n",
       "    <tr style=\"text-align: right;\">\n",
       "      <th></th>\n",
       "      <th>beta_mkt</th>\n",
       "      <th>treynor</th>\n",
       "      <th>alpha</th>\n",
       "      <th>info_ratio</th>\n",
       "      <th>R2</th>\n",
       "    </tr>\n",
       "  </thead>\n",
       "  <tbody>\n",
       "    <tr>\n",
       "      <th>SMALL LoBM</th>\n",
       "      <td>1.3585</td>\n",
       "      <td>0.0086</td>\n",
       "      <td>-0.1037</td>\n",
       "      <td>-0.6047</td>\n",
       "      <td>0.6014</td>\n",
       "    </tr>\n",
       "    <tr>\n",
       "      <th>ME1 BM2</th>\n",
       "      <td>1.1658</td>\n",
       "      <td>0.0759</td>\n",
       "      <td>-0.0106</td>\n",
       "      <td>-0.0705</td>\n",
       "      <td>0.5900</td>\n",
       "    </tr>\n",
       "    <tr>\n",
       "      <th>ME1 BM3</th>\n",
       "      <td>1.0495</td>\n",
       "      <td>0.0860</td>\n",
       "      <td>0.0010</td>\n",
       "      <td>0.0088</td>\n",
       "      <td>0.6571</td>\n",
       "    </tr>\n",
       "    <tr>\n",
       "      <th>ME1 BM4</th>\n",
       "      <td>0.9773</td>\n",
       "      <td>0.1151</td>\n",
       "      <td>0.0295</td>\n",
       "      <td>0.2435</td>\n",
       "      <td>0.6105</td>\n",
       "    </tr>\n",
       "    <tr>\n",
       "      <th>SMALL HiBM</th>\n",
       "      <td>0.9939</td>\n",
       "      <td>0.1281</td>\n",
       "      <td>0.0429</td>\n",
       "      <td>0.3058</td>\n",
       "      <td>0.5476</td>\n",
       "    </tr>\n",
       "    <tr>\n",
       "      <th>ME2 BM1</th>\n",
       "      <td>1.3341</td>\n",
       "      <td>0.0457</td>\n",
       "      <td>-0.0524</td>\n",
       "      <td>-0.4018</td>\n",
       "      <td>0.7154</td>\n",
       "    </tr>\n",
       "    <tr>\n",
       "      <th>ME2 BM2</th>\n",
       "      <td>1.1390</td>\n",
       "      <td>0.0864</td>\n",
       "      <td>0.0016</td>\n",
       "      <td>0.0151</td>\n",
       "      <td>0.7401</td>\n",
       "    </tr>\n",
       "    <tr>\n",
       "      <th>ME2 BM3</th>\n",
       "      <td>1.0357</td>\n",
       "      <td>0.1015</td>\n",
       "      <td>0.0171</td>\n",
       "      <td>0.1812</td>\n",
       "      <td>0.7426</td>\n",
       "    </tr>\n",
       "    <tr>\n",
       "      <th>ME2 BM4</th>\n",
       "      <td>0.9765</td>\n",
       "      <td>0.1107</td>\n",
       "      <td>0.0251</td>\n",
       "      <td>0.2493</td>\n",
       "      <td>0.6937</td>\n",
       "    </tr>\n",
       "    <tr>\n",
       "      <th>ME2 BM5</th>\n",
       "      <td>1.1108</td>\n",
       "      <td>0.1019</td>\n",
       "      <td>0.0188</td>\n",
       "      <td>0.1488</td>\n",
       "      <td>0.6505</td>\n",
       "    </tr>\n",
       "    <tr>\n",
       "      <th>ME3 BM1</th>\n",
       "      <td>1.2677</td>\n",
       "      <td>0.0548</td>\n",
       "      <td>-0.0383</td>\n",
       "      <td>-0.3589</td>\n",
       "      <td>0.7725</td>\n",
       "    </tr>\n",
       "    <tr>\n",
       "      <th>ME3 BM2</th>\n",
       "      <td>1.0911</td>\n",
       "      <td>0.0953</td>\n",
       "      <td>0.0112</td>\n",
       "      <td>0.1408</td>\n",
       "      <td>0.8179</td>\n",
       "    </tr>\n",
       "    <tr>\n",
       "      <th>ME3 BM3</th>\n",
       "      <td>0.9895</td>\n",
       "      <td>0.0920</td>\n",
       "      <td>0.0069</td>\n",
       "      <td>0.0872</td>\n",
       "      <td>0.7879</td>\n",
       "    </tr>\n",
       "    <tr>\n",
       "      <th>ME3 BM4</th>\n",
       "      <td>0.9911</td>\n",
       "      <td>0.1063</td>\n",
       "      <td>0.0211</td>\n",
       "      <td>0.2271</td>\n",
       "      <td>0.7320</td>\n",
       "    </tr>\n",
       "    <tr>\n",
       "      <th>ME3 BM5</th>\n",
       "      <td>1.0543</td>\n",
       "      <td>0.1176</td>\n",
       "      <td>0.0344</td>\n",
       "      <td>0.2883</td>\n",
       "      <td>0.6528</td>\n",
       "    </tr>\n",
       "    <tr>\n",
       "      <th>ME4 BM1</th>\n",
       "      <td>1.1800</td>\n",
       "      <td>0.0779</td>\n",
       "      <td>-0.0084</td>\n",
       "      <td>-0.1016</td>\n",
       "      <td>0.8308</td>\n",
       "    </tr>\n",
       "    <tr>\n",
       "      <th>ME4 BM2</th>\n",
       "      <td>1.0577</td>\n",
       "      <td>0.0886</td>\n",
       "      <td>0.0038</td>\n",
       "      <td>0.0600</td>\n",
       "      <td>0.8685</td>\n",
       "    </tr>\n",
       "    <tr>\n",
       "      <th>ME4 BM3</th>\n",
       "      <td>1.0068</td>\n",
       "      <td>0.0914</td>\n",
       "      <td>0.0065</td>\n",
       "      <td>0.0838</td>\n",
       "      <td>0.8036</td>\n",
       "    </tr>\n",
       "    <tr>\n",
       "      <th>ME4 BM4</th>\n",
       "      <td>0.9803</td>\n",
       "      <td>0.1080</td>\n",
       "      <td>0.0226</td>\n",
       "      <td>0.2662</td>\n",
       "      <td>0.7630</td>\n",
       "    </tr>\n",
       "    <tr>\n",
       "      <th>ME4 BM5</th>\n",
       "      <td>1.0484</td>\n",
       "      <td>0.1007</td>\n",
       "      <td>0.0165</td>\n",
       "      <td>0.1439</td>\n",
       "      <td>0.6679</td>\n",
       "    </tr>\n",
       "    <tr>\n",
       "      <th>BIG LoBM</th>\n",
       "      <td>0.9955</td>\n",
       "      <td>0.0953</td>\n",
       "      <td>0.0103</td>\n",
       "      <td>0.1926</td>\n",
       "      <td>0.8935</td>\n",
       "    </tr>\n",
       "    <tr>\n",
       "      <th>ME5 BM2</th>\n",
       "      <td>0.9247</td>\n",
       "      <td>0.0927</td>\n",
       "      <td>0.0071</td>\n",
       "      <td>0.1249</td>\n",
       "      <td>0.8631</td>\n",
       "    </tr>\n",
       "    <tr>\n",
       "      <th>ME5 BM3</th>\n",
       "      <td>0.8760</td>\n",
       "      <td>0.0909</td>\n",
       "      <td>0.0052</td>\n",
       "      <td>0.0743</td>\n",
       "      <td>0.7904</td>\n",
       "    </tr>\n",
       "    <tr>\n",
       "      <th>ME5 BM4</th>\n",
       "      <td>0.9102</td>\n",
       "      <td>0.0797</td>\n",
       "      <td>-0.0048</td>\n",
       "      <td>-0.0501</td>\n",
       "      <td>0.6863</td>\n",
       "    </tr>\n",
       "    <tr>\n",
       "      <th>BIG HiBM</th>\n",
       "      <td>1.0260</td>\n",
       "      <td>0.1009</td>\n",
       "      <td>0.0164</td>\n",
       "      <td>0.1282</td>\n",
       "      <td>0.6087</td>\n",
       "    </tr>\n",
       "  </tbody>\n",
       "</table>\n",
       "</div>"
      ],
      "text/plain": [
       "            beta_mkt  treynor   alpha  info_ratio      R2\n",
       "SMALL LoBM    1.3585   0.0086 -0.1037     -0.6047  0.6014\n",
       "ME1 BM2       1.1658   0.0759 -0.0106     -0.0705  0.5900\n",
       "ME1 BM3       1.0495   0.0860  0.0010      0.0088  0.6571\n",
       "ME1 BM4       0.9773   0.1151  0.0295      0.2435  0.6105\n",
       "SMALL HiBM    0.9939   0.1281  0.0429      0.3058  0.5476\n",
       "ME2 BM1       1.3341   0.0457 -0.0524     -0.4018  0.7154\n",
       "ME2 BM2       1.1390   0.0864  0.0016      0.0151  0.7401\n",
       "ME2 BM3       1.0357   0.1015  0.0171      0.1812  0.7426\n",
       "ME2 BM4       0.9765   0.1107  0.0251      0.2493  0.6937\n",
       "ME2 BM5       1.1108   0.1019  0.0188      0.1488  0.6505\n",
       "ME3 BM1       1.2677   0.0548 -0.0383     -0.3589  0.7725\n",
       "ME3 BM2       1.0911   0.0953  0.0112      0.1408  0.8179\n",
       "ME3 BM3       0.9895   0.0920  0.0069      0.0872  0.7879\n",
       "ME3 BM4       0.9911   0.1063  0.0211      0.2271  0.7320\n",
       "ME3 BM5       1.0543   0.1176  0.0344      0.2883  0.6528\n",
       "ME4 BM1       1.1800   0.0779 -0.0084     -0.1016  0.8308\n",
       "ME4 BM2       1.0577   0.0886  0.0038      0.0600  0.8685\n",
       "ME4 BM3       1.0068   0.0914  0.0065      0.0838  0.8036\n",
       "ME4 BM4       0.9803   0.1080  0.0226      0.2662  0.7630\n",
       "ME4 BM5       1.0484   0.1007  0.0165      0.1439  0.6679\n",
       "BIG LoBM      0.9955   0.0953  0.0103      0.1926  0.8935\n",
       "ME5 BM2       0.9247   0.0927  0.0071      0.1249  0.8631\n",
       "ME5 BM3       0.8760   0.0909  0.0052      0.0743  0.7904\n",
       "ME5 BM4       0.9102   0.0797 -0.0048     -0.0501  0.6863\n",
       "BIG HiBM      1.0260   0.1009  0.0164      0.1282  0.6087"
      ]
     },
     "metadata": {},
     "output_type": "display_data"
    },
    {
     "name": "stdout",
     "output_type": "stream",
     "text": [
      "CAPM MAE (annualized |alpha|): 0.0207\n"
     ]
    }
   ],
   "source": [
    "X = sm.add_constant(mkt)\n",
    "rows = []\n",
    "for name, y in excess25.items():\n",
    "    y = y.dropna()\n",
    "    Xi = X.loc[y.index]\n",
    "    fit = sm.OLS(y, Xi).fit()\n",
    "    beta = fit.params['Mkt-RF']\n",
    "    alpha_m = fit.params['const']                 \n",
    "    alpha_a = alpha_m * 12                        \n",
    "    mean_excess_a = y.mean() * 12                 \n",
    "    tr = mean_excess_a / beta                     \n",
    "    te_a = fit.resid.std(ddof=1) * np.sqrt(12)   \n",
    "    ir = alpha_a / te_a if te_a > 0 else np.nan\n",
    "    rows.append({\n",
    "        \"beta_mkt\": beta,\n",
    "        \"treynor\": tr,\n",
    "        \"alpha\": alpha_a,\n",
    "        \"info_ratio\": ir,\n",
    "        \"R2\": fit.rsquared\n",
    "    })\n",
    "\n",
    "capm_table = pd.DataFrame(rows, index=excess25.columns)\n",
    "capm_table = capm_table[[\"beta_mkt\",\"treynor\",\"alpha\",\"info_ratio\",\"R2\"]]\n",
    "# Mean-absolute alpha (CAPM MAE)\n",
    "capm_mae = capm_table[\"alpha\"].abs().mean()\n",
    "display(capm_table.round(4))\n",
    "print(\"CAPM MAE (annualized |alpha|):\", round(capm_mae, 4))"
   ]
  },
  {
   "cell_type": "markdown",
   "id": "ff7ae9cc",
   "metadata": {},
   "source": [
    "- If CAPM was true, then all alphas should be ~0 in population, so as MAE -> 0 as T -> $ \\infty $, in finite sample (like the one we have), we would expect a small MAE, as a reuslt of sampling noise, whose magnitude shrinks with larger T.\n",
    "- As a result of this the Betas would get closer to one and therefore the Treynor Ratio should tend towards to the market’s mean excess return\n",
    "- Similarly, as alpha goes to 0 the IR should go to 0"
   ]
  },
  {
   "cell_type": "markdown",
   "id": "3aa930af",
   "metadata": {},
   "source": [
    "### 3. Cross-sectional Estimation\n",
    "\n",
    "Let's test the CAPM directly. We already have what we need:\n",
    "\n",
    "- The dependent variable, (y): mean excess returns from each of the $n=25$ portfolios.\n",
    "- The regressor, (x): the market beta from each of the $n=25$ time-series regressions.\n",
    "\n",
    "Then we can estimate the following equation:\n",
    "\n",
    "$$\n",
    "\\underbrace{\\mathbb{E}\\left[\\tilde{r}^{i}\\right]}_{n\\times 1\\text{ data}} = \\textcolor{ForestGreen}{\\underbrace{\\eta}_{\\text{regression intercept}}} + \\underbrace{{\\beta}^{i,\\text{mkt}};}_{n\\times 1\\text{ data}}~ \\textcolor{ForestGreen}{\\underbrace{\\lambda_{\\text{mkt}}}_{\\text{regression estimate}}} + \\textcolor{ForestGreen}{\\underbrace{\\upsilon}_{n\\times 1\\text{ residuals}}}\n",
    "$$\n",
    "\n",
    "Note that\n",
    "- we use sample means as estimates of $\\mathbb{E}\\left[\\tilde{r}^{i}\\right]$. \n",
    "- this is a weird regression! The regressors are the betas from the time-series regressions we already ran!\n",
    "- this is a single regression, where we are combining evidence across all $n=25$ series. Thus, it is a cross-sectional regression!\n",
    "- the notation is trying to emphasize that the intercept is different than the time-series $\\alpha$ and that the regressor coefficient is different than the time-series betas.\n",
    "\n",
    "Report\n",
    "- the R-squared of this regression.\n",
    "- the intercept, $\\eta$. \n",
    "- the regression coefficient, $\\lambda_{\\text{mkt}}$.\n",
    "\n",
    "What would these three statistics be if the CAPM were completely accurate?"
   ]
  },
  {
   "cell_type": "code",
   "execution_count": 15,
   "id": "7f109ac4",
   "metadata": {},
   "outputs": [
    {
     "name": "stdout",
     "output_type": "stream",
     "text": [
      "                            OLS Regression Results                            \n",
      "==============================================================================\n",
      "Dep. Variable:                      y   R-squared:                       0.313\n",
      "Model:                            OLS   Adj. R-squared:                  0.283\n",
      "Method:                 Least Squares   F-statistic:                     10.49\n",
      "Date:                Sun, 26 Oct 2025   Prob (F-statistic):            0.00363\n",
      "Time:                        14:52:51   Log-Likelihood:                 63.825\n",
      "No. Observations:                  25   AIC:                            -123.6\n",
      "Df Residuals:                      23   BIC:                            -121.2\n",
      "Df Model:                           1                                         \n",
      "Covariance Type:            nonrobust                                         \n",
      "==============================================================================\n",
      "                 coef    std err          t      P>|t|      [0.025      0.975]\n",
      "------------------------------------------------------------------------------\n",
      "const          0.2058      0.035      5.891      0.000       0.134       0.278\n",
      "beta_mkt      -0.1059      0.033     -3.238      0.004      -0.174      -0.038\n",
      "==============================================================================\n",
      "Omnibus:                        5.966   Durbin-Watson:                   1.243\n",
      "Prob(Omnibus):                  0.051   Jarque-Bera (JB):                4.081\n",
      "Skew:                          -0.932   Prob(JB):                        0.130\n",
      "Kurtosis:                       3.666   Cond. No.                         17.8\n",
      "==============================================================================\n",
      "\n",
      "Notes:\n",
      "[1] Standard Errors assume that the covariance matrix of the errors is correctly specified.\n",
      "Cross-sectional R^2: 0.3132\n",
      "Intercept (η): 0.2058\n",
      "lambda_mkt (slope): -0.1059\n"
     ]
    }
   ],
   "source": [
    "mean_excess = excess25.mean() * 12\n",
    "betas = capm_table['beta_mkt']\n",
    "\n",
    "# Align and run cross-sectional regression\n",
    "X = sm.add_constant(betas)\n",
    "y = mean_excess\n",
    "model = sm.OLS(y, X).fit()\n",
    "\n",
    "print(model.summary())\n",
    "\n",
    "eta = model.params['const']\n",
    "lambda_mkt = model.params['beta_mkt']\n",
    "r2 = model.rsquared\n",
    "\n",
    "print(f\"Cross-sectional R^2: {r2:.4f}\")\n",
    "print(f\"Intercept (η): {eta:.4f}\")\n",
    "print(f\"lambda_mkt (slope): {lambda_mkt:.4f}\")"
   ]
  },
  {
   "cell_type": "markdown",
   "id": "3009d5ac",
   "metadata": {},
   "source": [
    "- If CAPM were completely accurate we should expect to see $ \\eta = 0 , \\lambda_{mkt} = $ market's risk premium and $ R^2 = 1 $ "
   ]
  },
  {
   "cell_type": "markdown",
   "id": "0290cd42",
   "metadata": {},
   "source": [
    "### 4. Conclusion\n",
    "\n",
    "Broadly speaking, do these results support DFA's belieef in size and value portfolios containing premia unrelated to the market premium?"
   ]
  },
  {
   "cell_type": "markdown",
   "id": "be200510",
   "metadata": {},
   "source": [
    "Yes, these results results strongly support DFA’s belief that size and value portfolios earn premia that cannot be explained by the market factor alone.\n",
    "\n",
    "The CAPM assumes that a portfolio’s expected return depends only on its exposure to market risk, meaning higher-beta portfolios should have proportionally higher returns. But your findings contradict this. The cross-sectional regression produced a negative slope ($ \\lambda_{mkt} < 0 $) and a significant positive intercept, implying that portfolios with similar market betas still earn systematically different average returns. In other words, the market premium alone does not explain why small-cap and high book-to-market (value) portfolios outperform large-cap and growth portfolios.\n",
    "\n",
    "These results match decades of empirical evidence: small and value stocks have higher expected returns even after controlling for market exposure. Thus, your estimates provide direct support for DFA’s multi-factor view — that there exist additional, persistent sources of risk premia tied to firm size and valuation, distinct from the market beta captured by the CAPM."
   ]
  },
  {
   "cell_type": "markdown",
   "id": "885132b3",
   "metadata": {},
   "source": [
    "# 4. Extensions\n",
    "\n",
    "### 1.\n",
    "\n",
    "Re-do the analysis of `3.2` and `3.3`, but instead of using the market return as the factor, use a new factor: the in-sample tangency portfolio of the $n=25$ portfolios. \n",
    "\n",
    "You will not use the factor data for this problem!\n",
    "\n",
    "- Calculate $\\tilde{r}^{\\text{tan}}$ by solving the MV optimization of the $n$ excess returns. \n",
    "- Consider this to be your single factor.\n",
    "\n",
    "Instead of testing the CAPM, you will test the tangency-factor model:\n",
    "\n",
    "$$\n",
    "\\mathbb{E}\\left[\\tilde{r}_{t}^{i}\\right] = \\beta^{i,\\text{tan}}\\; \\mathbb{E}\\left[\\tilde{r}_{t}^{\\text{tan}}\\right]\n",
    "$$\n",
    "\n",
    "What do you find?"
   ]
  },
  {
   "cell_type": "markdown",
   "id": "b73db94f",
   "metadata": {},
   "source": [
    "### 2.\n",
    "\n",
    "Re-do the analysis of `3.2` and `3.3`, but instead of using only the `MKT` factor, use `MKT`, `SMB`, and `HML`. \n",
    "\n",
    "(Note again that all three are already given as **excess** returns, so there is no need to use the risk-free rate data.)\n",
    "\n",
    "Thus, instead of testing the CAPM, you will be testing the Fama-French 3-Factor Model.\n",
    "\n",
    "$$\n",
    "\\mathbb{E}\\left[\\tilde{r}_{t}^{i}\\right] = \\beta^{i,\\text{mkt}}\\; \\mathbb{E}\\left[\\tilde{r}_{t}^{\\text{mkt}}\\right] + \\beta^{i,\\text{size}}\\; \\mathbb{E}\\left[\\tilde{r}_{t}^{\\text{size}}\\right] + \\beta^{i,\\text{val}}\\; \\mathbb{E}\\left[\\tilde{r}_{t}^{\\text{val}}\\right]\n",
    "$$"
   ]
  },
  {
   "cell_type": "markdown",
   "id": "23fc7107",
   "metadata": {},
   "source": [
    "### 3.\n",
    "\n",
    "We measured how well the CAPM performs by checking the MAE of the time-series alphas.\n",
    "\n",
    "Under classic statistical assumptions, we can test the null hypothesis that the CAPM works by calculating,\n",
    "\n",
    "$$\n",
    "H = T\\left[1+\\left(\\text{SR}_{\\text{mkt}}\\right)^2\\right]^{-1} \\boldsymbol{\\alpha}'\\boldsymbol{\\Sigma}_\\epsilon^{-1}\\boldsymbol{\\alpha}\n",
    "$$\n",
    "\n",
    "This test statistic has a chi-squared distribution...\n",
    "\n",
    "$$H\\sim \\chi^2_n$$"
   ]
  },
  {
   "cell_type": "markdown",
   "id": "139a8a9c",
   "metadata": {},
   "source": [
    "Note the following:\n",
    "\n",
    "- $\\boldsymbol{\\alpha}$ is an $n\\times 1$ vector of the individual regression alphas, $\\alpha^i$.\n",
    "- $\\boldsymbol{\\Sigma}_\\epsilon$ is the $n\\times n$ covariance matrix of the time-series of regression residuals, $\\epsilon^i$, corresponding to each regression. \n",
    "- $\\text{SR}_{\\text{mkt}}$ is the Sharpe-Ratio of $\\tilde{r}^{\\text{mkt}}$.\n",
    "\n",
    "The test statistic, $H$, has a chi-squared distribution with $n=25$ degrees of freedom. So under the null hypothesis of the CAPM holding, $H$ should be small, and the distribution allows us to calculate the probability of seeing such a large $H$, conditional on the CAPM being true.\n",
    "\n",
    "- Which is a stricter test: checking whether any of the $n$ values of $\\alpha^i$ have a statistically significant t-test or checking whether $H$ calculated above is significant?\n",
    "\n",
    "- Conceptually, how does the test-statistic $H$ relate to checking whether $\\tilde{r}^{\\text{mkt}}$ spans the tangency portfolio?"
   ]
  }
 ],
 "metadata": {
  "kernelspec": {
   "display_name": "finm",
   "language": "python",
   "name": "python3"
  },
  "language_info": {
   "codemirror_mode": {
    "name": "ipython",
    "version": 3
   },
   "file_extension": ".py",
   "mimetype": "text/x-python",
   "name": "python",
   "nbconvert_exporter": "python",
   "pygments_lexer": "ipython3",
   "version": "3.12.11"
  }
 },
 "nbformat": 4,
 "nbformat_minor": 5
}
