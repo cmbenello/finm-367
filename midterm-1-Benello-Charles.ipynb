{
 "cells": [
  {
   "cell_type": "markdown",
   "metadata": {},
   "source": [
    "# Open Midterm 1\n",
    "\n",
    "## FINM 36700 - 2025\n",
    "\n",
    "### UChicago Financial Mathematics\n",
    "\n",
    "* Mark Hendricks\n",
    "* hendricks@uchicago.edu"
   ]
  },
  {
   "cell_type": "markdown",
   "metadata": {},
   "source": [
    "***"
   ]
  },
  {
   "cell_type": "markdown",
   "metadata": {},
   "source": [
    "# Instructions"
   ]
  },
  {
   "cell_type": "markdown",
   "metadata": {},
   "source": [
    "## Please note the following:\n",
    "\n",
    "Points\n",
    "* For every minute late you submit the exam, you will lose one point.\n",
    "\n",
    "Rules\n",
    "* The exam is open-material, closed-communication.\n",
    "\n",
    "Advice\n",
    "* If you find any question to be unclear, state your interpretation and proceed. We will only answer questions of interpretation if there is a typo, error, etc."
   ]
  },
  {
   "cell_type": "markdown",
   "metadata": {},
   "source": [
    "## Data\n",
    "\n",
    "**All data files are found in at the course web-book.**\n",
    "\n",
    "https://markhendricks.github.io/finm-portfolio/. "
   ]
  },
  {
   "cell_type": "markdown",
   "metadata": {},
   "source": [
    "## Scoring\n",
    "\n",
    "| Problem | Points |\n",
    "|---------|--------|\n",
    "| 1       | 70     |\n",
    "| 2       | 30     |\n",
    "\n",
    "**Numbered problems are worth 5pts unless specified otherwise.**"
   ]
  },
  {
   "cell_type": "markdown",
   "metadata": {},
   "source": [
    "***"
   ]
  },
  {
   "cell_type": "markdown",
   "metadata": {},
   "source": [
    "## Submitting your Exam"
   ]
  },
  {
   "cell_type": "markdown",
   "metadata": {},
   "source": [
    "Your submitted file (ipynb or .zip) must be named in the format...\n",
    "* `midterm-1-LASTNAME-FIRSTNAME.ipynb`\n",
    "* `midterm-1-LASTNAME-FIRSTNAME.zip`\n",
    "\n",
    "Submit the exam via\n",
    "* Canvas at Assignments/Midterm 1\n",
    "* If there is any trouble with Canvas, or for a backup, submit it at the course web-book\n",
    "https://markhendricks.github.io/finm-portfolio/. \n",
    "\n",
    "Your submission must be complete.\n",
    "* If we can't run the notebook to reproduce, it is not complete.\n",
    "\n",
    "You should either...\n",
    "* include all helper functions at the top of this notebook in the `Solution Functions` sections.\n",
    "* submit a zipped folder containing the solution functions"
   ]
  },
  {
   "cell_type": "markdown",
   "metadata": {},
   "source": [
    "__Exam Submission Structure:__\n",
    "\n",
    "If you are submitting a zipped folder (because you cannot make the ipynb stand-alone) then use this structure...\n",
    "\n",
    "```plaintext\n",
    "exam-open-LASTNAME-FIRSTNAME.zip/\n",
    "│── exam-open.ipynb\n",
    "│── data/\n",
    "│   ├── example_data.csv\n",
    "│── modules/\n",
    "│   ├── my_functions.py"
   ]
  },
  {
   "cell_type": "markdown",
   "metadata": {},
   "source": [
    "***"
   ]
  },
  {
   "cell_type": "markdown",
   "metadata": {},
   "source": [
    "## Your Functions\n",
    "\n",
    "Please put all functions needed to run the ipynb here.\n",
    "\n",
    "* We must be able to run the notebook!\n",
    "* If you can't get all the functions into this ipynb, then make sure to zip your ipynb and supporting materials and submit the zipped folder.\n",
    "* But most of you should be able to submit a single, stand-alone ipynb."
   ]
  },
  {
   "cell_type": "code",
   "execution_count": 1,
   "metadata": {},
   "outputs": [],
   "source": [
    "# imports\n",
    "\n",
    "import pandas as pd\n",
    "import numpy as np\n",
    "import statsmodels.api as sm\n",
    "import matplotlib.pyplot as plt\n",
    "import seaborn as sns\n",
    "\n",
    "import math\n",
    "import datetime\n",
    "from typing import Union, List\n"
   ]
  },
  {
   "cell_type": "code",
   "execution_count": 2,
   "metadata": {},
   "outputs": [
    {
     "data": {
      "text/plain": [
       "' \\nmu = (\\n    res_stats[(\"1965 - 1999\", \"mean\")].loc[(\"logs\", \"SPX\")]\\n    - res_stats[(\"2000 - 2024\", \"mean\")].loc[(\"logs\", \"SPX\")]\\n)\\nsigma = res_stats[(\"1965 - 1999\", \"vol\")].loc[(\"logs\", \"SPX\")]\\n\\nprint(\\n    f\"Probability of underperformance in 2000-2024: {prob_underperformance(mu, sigma, 24):,.2%}\"\\n)\\n'"
      ]
     },
     "execution_count": 2,
     "metadata": {},
     "output_type": "execute_result"
    }
   ],
   "source": [
    "def calc_tangency_weights(\n",
    "    returns: pd.DataFrame,\n",
    "    cov_mat: str = 1,\n",
    "    return_graphic: bool = False,\n",
    "    return_port_ret: bool = False,\n",
    "    target_ret_rescale_weights: Union[None, float] = None,\n",
    "    annual_factor: int = 52,\n",
    "    name: str = 'Tangency',\n",
    "    expected_returns: Union[pd.Series, pd.DataFrame] = None,\n",
    "    expected_returns_already_annualized: bool = False\n",
    "):\n",
    "    \"\"\"\n",
    "    Calculates tangency portfolio weights based on the covariance matrix of returns.\n",
    "\n",
    "    Parameters:\n",
    "    returns (pd.DataFrame): Time series of returns.\n",
    "    cov_mat (str, default=1): Covariance matrix for calculating tangency weights.\n",
    "    return_graphic (bool, default=False): If True, plots the tangency weights.\n",
    "    return_port_ret (bool, default=False): If True, returns the portfolio returns.\n",
    "    target_ret_rescale_weights (float or None, default=None): Target return for rescaling weights.\n",
    "    annual_factor (int, default=12): Factor for annualizing returns.\n",
    "    name (str, default='Tangency'): Name for labeling the weights and portfolio.\n",
    "\n",
    "    Returns:\n",
    "    pd.DataFrame or pd.Series: Tangency portfolio weights or portfolio returns if `return_port_ret` is True.\n",
    "    \"\"\"\n",
    "    returns = returns.copy()\n",
    "    \n",
    "    if 'date' in returns.columns.str.lower():\n",
    "        returns = returns.rename({'Date': 'date'}, axis=1)\n",
    "        returns = returns.set_index('date')\n",
    "    returns.index.name = 'date'\n",
    "\n",
    "    if cov_mat == 1:\n",
    "        cov_inv = np.linalg.inv((returns.cov() * annual_factor))\n",
    "    else:\n",
    "        cov = returns.cov()\n",
    "        covmat_diag = np.diag(np.diag((cov)))\n",
    "        covmat = cov_mat * cov + (1 - cov_mat) * covmat_diag\n",
    "        cov_inv = np.linalg.pinv((covmat * annual_factor))  \n",
    "        \n",
    "    ones = np.ones(returns.columns.shape) \n",
    "    if expected_returns is not None:\n",
    "        mu = expected_returns\n",
    "        if not expected_returns_already_annualized:\n",
    "            mu *= annual_factor\n",
    "    else:\n",
    "        mu = returns.mean() * annual_factor\n",
    "    scaling = 1 / (np.transpose(ones) @ cov_inv @ mu)\n",
    "    tangent_return = scaling * (cov_inv @ mu)\n",
    "    tangency_wts = pd.DataFrame(\n",
    "        index=returns.columns,\n",
    "        data=tangent_return,\n",
    "        columns=[f'{name} Weights']\n",
    "    )\n",
    "    port_returns = returns @ tangency_wts.rename({f'{name} Weights': f'{name} Portfolio'}, axis=1)\n",
    "\n",
    "    if return_graphic:\n",
    "        tangency_wts.plot(kind='bar', title=f'{name} Weights')\n",
    "\n",
    "    if isinstance(target_ret_rescale_weights, (float, int)):\n",
    "        scaler = target_ret_rescale_weights / port_returns[f'{name} Portfolio'].mean()\n",
    "        tangency_wts[[f'{name} Weights']] *= scaler\n",
    "        port_returns *= scaler\n",
    "        tangency_wts = tangency_wts.rename(\n",
    "            {f'{name} Weights': f'{name} Weights Rescaled Target {target_ret_rescale_weights:.2%}'},\n",
    "            axis=1\n",
    "        )\n",
    "        port_returns = port_returns.rename(\n",
    "            {f'{name} Portfolio': f'{name} Portfolio Rescaled Target {target_ret_rescale_weights:.2%}'},\n",
    "            axis=1\n",
    "        )\n",
    "\n",
    "    if cov_mat != 1:\n",
    "        port_returns = port_returns.rename(columns=lambda c: c.replace('Tangency', f'Tangency Regularized {cov_mat:.2f}'))\n",
    "        tangency_wts = tangency_wts.rename(columns=lambda c: c.replace('Tangency', f'Tangency Regularized {cov_mat:.2f}'))\n",
    "        \n",
    "    if return_port_ret:\n",
    "        return port_returns\n",
    "    return tangency_wts\n",
    "\n",
    "def filter_columns_and_indexes(\n",
    "    df: pd.DataFrame,\n",
    "    keep_columns: Union[list, str],\n",
    "    drop_columns: Union[list, str],\n",
    "    keep_indexes: Union[list, str],\n",
    "    drop_indexes: Union[list, str],\n",
    "    drop_before_keep: bool = False\n",
    "):\n",
    "    \"\"\"\n",
    "    Filters a DataFrame based on specified columns and indexes.\n",
    "\n",
    "    Parameters:\n",
    "    df (pd.DataFrame): DataFrame to be filtered.\n",
    "    keep_columns (list or str): Columns to keep in the DataFrame.\n",
    "    drop_columns (list or str): Columns to drop from the DataFrame.\n",
    "    keep_indexes (list or str): Indexes to keep in the DataFrame.\n",
    "    drop_indexes (list or str): Indexes to drop from the DataFrame.\n",
    "    drop_before_keep (bool, default=False): Whether to drop specified columns/indexes before keeping.\n",
    "\n",
    "    Returns:\n",
    "    pd.DataFrame: The filtered DataFrame.\n",
    "    \"\"\"\n",
    "    if not isinstance(df, (pd.DataFrame, pd.Series)):\n",
    "        return df\n",
    "    df = df.copy()\n",
    "    # Columns\n",
    "    if keep_columns is not None:\n",
    "        keep_columns = \"(?i)\" + \"|\".join(keep_columns) if isinstance(keep_columns, list) else \"(?i)\" + keep_columns\n",
    "    else:\n",
    "        keep_columns = None\n",
    "    if drop_columns is not None:\n",
    "        drop_columns = \"(?i)\" + \"|\".join(drop_columns) if isinstance(drop_columns, list) else \"(?i)\" + drop_columns\n",
    "    else:\n",
    "        drop_columns = None\n",
    "    if not drop_before_keep:\n",
    "        if keep_columns is not None:\n",
    "            df = df.filter(regex=keep_columns)\n",
    "    if drop_columns is not None:\n",
    "        df = df.drop(columns=df.filter(regex=drop_columns).columns)\n",
    "    if drop_before_keep:\n",
    "        if keep_columns is not None:\n",
    "            df = df.filter(regex=keep_columns)\n",
    "    # Indexes\n",
    "    if keep_indexes is not None:\n",
    "        keep_indexes = \"(?i)\" + \"|\".join(keep_indexes) if isinstance(keep_indexes, list) else \"(?i)\" + keep_indexes\n",
    "    else:\n",
    "        keep_indexes = None\n",
    "    if drop_indexes is not None:\n",
    "        drop_indexes = \"(?i)\" + \"|\".join(drop_indexes) if isinstance(drop_indexes, list) else \"(?i)\" + drop_indexes\n",
    "    else:\n",
    "        drop_indexes = None\n",
    "    if not drop_before_keep:\n",
    "        if keep_indexes is not None:\n",
    "            df = df.filter(regex=keep_indexes, axis=0)\n",
    "    if drop_indexes is not None:\n",
    "        df = df.drop(index=df.filter(regex=drop_indexes, axis=0).index)\n",
    "    if drop_before_keep:\n",
    "        if keep_indexes is not None:\n",
    "            df = df.filter(regex=keep_indexes, axis=0)\n",
    "    return df\n",
    "\n",
    "def calc_summary_statistics(\n",
    "    returns: Union[pd.DataFrame, List],\n",
    "    annual_factor: int = 52,\n",
    "    provided_excess_returns: bool = None,\n",
    "    rf: Union[pd.Series, pd.DataFrame] = None,\n",
    "    var_quantile: Union[float, List] = .05,\n",
    "    timeframes: Union[None, dict] = None,\n",
    "    return_tangency_weights: bool = True,\n",
    "    correlations: Union[bool, List] = True,\n",
    "    keep_columns: Union[list, str] = None,\n",
    "    drop_columns: Union[list, str] = None,\n",
    "    keep_indexes: Union[list, str] = None,\n",
    "    drop_indexes: Union[list, str] = None,\n",
    "    drop_before_keep: bool = False,\n",
    "    _timeframe_name: str = None,\n",
    "):\n",
    "    \"\"\"\n",
    "    Calculates summary statistics for a time series of returns.\n",
    "\n",
    "    Parameters:\n",
    "    returns (pd.DataFrame or List): Time series of returns.\n",
    "    annual_factor (int, default=None): Factor for annualizing returns.\n",
    "    provided_excess_returns (bool, default=None): Whether excess returns are already provided.\n",
    "    rf (pd.Series or pd.DataFrame, default=None): Risk-free rate data.\n",
    "    var_quantile (float or list, default=0.05): Quantile for Value at Risk (VaR) calculation.\n",
    "    timeframes (dict or None, default=None): Dictionary of timeframes to calculate statistics for each period.\n",
    "    return_tangency_weights (bool, default=True): If True, returns tangency portfolio weights.\n",
    "    correlations (bool or list, default=True): If True, returns correlations, or specify columns for correlations.\n",
    "    keep_columns (list or str, default=None): Columns to keep in the resulting DataFrame.\n",
    "    drop_columns (list or str, default=None): Columns to drop from the resulting DataFrame.\n",
    "    keep_indexes (list or str, default=None): Indexes to keep in the resulting DataFrame.\n",
    "    drop_indexes (list or str, default=None): Indexes to drop from the resulting DataFrame.\n",
    "    drop_before_keep (bool, default=False): Whether to drop specified columns/indexes before keeping.\n",
    "\n",
    "    Returns:\n",
    "    pd.DataFrame: Summary statistics of the returns.\n",
    "    \"\"\"\n",
    "    returns = returns.copy()\n",
    "    if isinstance(rf, (pd.Series, pd.DataFrame)):\n",
    "        rf = rf.copy()\n",
    "        if provided_excess_returns is True:\n",
    "            raise Exception(\n",
    "                'rf is provided but excess returns were provided as well.'\n",
    "                'Remove \"rf\" or set \"provided_excess_returns\" to None or False'\n",
    "            )\n",
    "        \n",
    "    if isinstance(returns, list):\n",
    "        returns_list = returns[:]\n",
    "        returns = pd.DataFrame({})\n",
    "        for series in returns_list:\n",
    "            returns = returns.merge(series, right_index=True, left_index=True, how='outer')\n",
    "    \"\"\"\n",
    "    This functions returns the summary statistics for the input total/excess returns passed\n",
    "    into the function\n",
    "    \"\"\"\n",
    "    if 'date' in returns.columns.str.lower():\n",
    "        returns = returns.rename({'Date': 'date'}, axis=1)\n",
    "        returns = returns.set_index('date')\n",
    "    returns.index.name = 'date'\n",
    "\n",
    "    try:\n",
    "        returns.index = pd.to_datetime(returns.index.map(lambda x: x.date()))\n",
    "    except AttributeError:\n",
    "        print('Could not convert \"date\" index to datetime.date')\n",
    "        pass\n",
    "\n",
    "    returns = returns.apply(lambda x: x.astype(float))\n",
    "\n",
    "    if annual_factor is None:\n",
    "        print('Assuming monthly returns with annualization term of 12')\n",
    "        annual_factor = 12\n",
    "\n",
    "    if provided_excess_returns is None:\n",
    "        print(\n",
    "            'Assuming excess returns were provided to calculate Sharpe.'\n",
    "            ' If returns were provided (steady of excess returns), the column \"Sharpe\" is actually \"Mean/Volatility\"'\n",
    "        )\n",
    "        provided_excess_returns = True\n",
    "    elif provided_excess_returns is False:\n",
    "        if rf is not None:\n",
    "            if len(rf.index) != len(returns.index):\n",
    "                raise Exception('\"rf\" index must be the same lenght as \"returns\"')\n",
    "            print('\"rf\" is used to subtract returns to calculate Sharpe, but nothing else')\n",
    "\n",
    "    if isinstance(timeframes, dict):\n",
    "        all_timeframes_summary_statistics = pd.DataFrame({})\n",
    "        for name, timeframe in timeframes.items():\n",
    "            if timeframe[0] and timeframe[1]:\n",
    "                timeframe_returns = returns.loc[timeframe[0]:timeframe[1]]\n",
    "            elif timeframe[0]:\n",
    "                timeframe_returns = returns.loc[timeframe[0]:]\n",
    "            elif timeframe[1]:\n",
    "                timeframe_returns = returns.loc[:timeframe[1]]\n",
    "            else:\n",
    "                timeframe_returns = returns.copy()\n",
    "            if len(timeframe_returns.index) == 0:\n",
    "                raise Exception(f'No returns for {name} timeframe')\n",
    "            timeframe_returns = timeframe_returns.rename(columns=lambda c: c + f' {name}')\n",
    "            timeframe_summary_statistics = calc_summary_statistics(\n",
    "                returns=timeframe_returns,\n",
    "                annual_factor=annual_factor,\n",
    "                provided_excess_returns=provided_excess_returns,\n",
    "                rf=rf,\n",
    "                var_quantile=var_quantile,\n",
    "                timeframes=None,\n",
    "                correlations=correlations,\n",
    "                _timeframe_name=name,\n",
    "                keep_columns=keep_columns,\n",
    "                drop_columns=drop_columns,\n",
    "                keep_indexes=keep_indexes,\n",
    "                drop_indexes=drop_indexes,\n",
    "                drop_before_keep=drop_before_keep\n",
    "            )\n",
    "            all_timeframes_summary_statistics = pd.concat(\n",
    "                [all_timeframes_summary_statistics, timeframe_summary_statistics],\n",
    "                axis=0\n",
    "            )\n",
    "        return all_timeframes_summary_statistics\n",
    "\n",
    "    summary_statistics = pd.DataFrame(index=returns.columns)\n",
    "    summary_statistics['Mean'] = returns.mean()\n",
    "    summary_statistics['Annualized Mean'] = returns.mean() * annual_factor\n",
    "    summary_statistics['Vol'] = returns.std()\n",
    "    summary_statistics['Annualized Vol'] = returns.std() * np.sqrt(annual_factor)\n",
    "    try:\n",
    "        if not provided_excess_returns:\n",
    "            if type(rf) == pd.DataFrame:\n",
    "                rf = rf.iloc[:, 0].to_list()\n",
    "            elif type(rf) == pd.Series:\n",
    "                rf = rf.to_list()\n",
    "            else:\n",
    "                raise Exception('\"rf\" must be either a pd.DataFrame or pd.Series')\n",
    "            excess_returns = returns.apply(lambda x: x - rf)\n",
    "            summary_statistics['Sharpe'] = excess_returns.mean() / returns.std()\n",
    "        else:\n",
    "            summary_statistics['Sharpe'] = returns.mean() / returns.std()\n",
    "    except Exception as e:\n",
    "        print(f'Could not calculate Sharpe: {e}')\n",
    "    summary_statistics['Annualized Sharpe'] = summary_statistics['Sharpe'] * np.sqrt(annual_factor)\n",
    "    summary_statistics['Min'] = returns.min()\n",
    "    summary_statistics['Max'] = returns.max()\n",
    "    summary_statistics['Skewness'] = returns.skew()\n",
    "    summary_statistics['Excess Kurtosis'] = returns.kurtosis()\n",
    "    var_quantile = [var_quantile] if isinstance(var_quantile, (float, int)) else var_quantile\n",
    "    for var_q in var_quantile:\n",
    "        summary_statistics[f'Historical VaR ({var_q:.2%})'] = returns.quantile(var_q, axis = 0)\n",
    "        summary_statistics[f'Annualized Historical VaR ({var_q:.2%})'] = returns.quantile(var_q, axis = 0) * np.sqrt(annual_factor)\n",
    "        summary_statistics[f'Historical CVaR ({var_q:.2%})'] = returns[returns <= returns.quantile(var_q, axis = 0)].mean()\n",
    "        summary_statistics[f'Annualized Historical CVaR ({var_q:.2%})'] = returns[returns <= returns.quantile(var_q, axis = 0)].mean() * np.sqrt(annual_factor)\n",
    "    \n",
    "    wealth_index = 1000 * (1 + returns).cumprod()\n",
    "    previous_peaks = wealth_index.cummax()\n",
    "    drawdowns = (wealth_index - previous_peaks) / previous_peaks\n",
    "\n",
    "    summary_statistics['Max Drawdown'] = drawdowns.min()\n",
    "    summary_statistics['Peak'] = [previous_peaks[col][:drawdowns[col].idxmin()].idxmax() for col in previous_peaks.columns]\n",
    "    summary_statistics['Bottom'] = drawdowns.idxmin()\n",
    "\n",
    "    if return_tangency_weights:\n",
    "        tangency_weights = calc_tangency_weights(returns)\n",
    "        summary_statistics = summary_statistics.join(tangency_weights)\n",
    "    \n",
    "    recovery_date = []\n",
    "    for col in wealth_index.columns:\n",
    "        prev_max = previous_peaks[col][:drawdowns[col].idxmin()].max()\n",
    "        recovery_wealth = pd.DataFrame([wealth_index[col][drawdowns[col].idxmin():]]).T\n",
    "        recovery_date.append(recovery_wealth[recovery_wealth[col] >= prev_max].index.min())\n",
    "    summary_statistics['Recovery'] = recovery_date\n",
    "    try:\n",
    "        summary_statistics[\"Duration (days)\"] = [\n",
    "            (i - j).days if i != \"-\" else \"-\" for i, j in\n",
    "            zip(summary_statistics[\"Recovery\"], summary_statistics[\"Bottom\"])\n",
    "        ]\n",
    "    except (AttributeError, TypeError) as e:\n",
    "        print(f'Cannot calculate \"Drawdown Duration\" calculation because there was no recovery or because index are not dates: {str(e)}')\n",
    "\n",
    "    if correlations is True or isinstance(correlations, list):\n",
    "        returns_corr = returns.corr()\n",
    "        if _timeframe_name:\n",
    "            returns_corr = returns_corr.rename(columns=lambda c: c.replace(f' {_timeframe_name}', ''))\n",
    "        returns_corr = returns_corr.rename(columns=lambda c: c + ' Correlation')\n",
    "        if isinstance(correlations, list):\n",
    "            correlation_names = [c + ' Correlation' for c  in correlations]\n",
    "            not_in_returns_corr = [c for c in correlation_names if c not in returns_corr.columns]\n",
    "            if len(not_in_returns_corr) > 0:\n",
    "                not_in_returns_corr = \", \".join([c.replace(' Correlation', '') for c in not_in_returns_corr])\n",
    "                raise Exception(f'{not_in_returns_corr} not in returns columns')\n",
    "            returns_corr = returns_corr[[c + ' Correlation' for c  in correlations]]\n",
    "        summary_statistics = summary_statistics.join(returns_corr)\n",
    "    \n",
    "    return filter_columns_and_indexes(\n",
    "        summary_statistics,\n",
    "        keep_columns=keep_columns,\n",
    "        drop_columns=drop_columns,\n",
    "        keep_indexes=keep_indexes,\n",
    "        drop_indexes=drop_indexes,\n",
    "        drop_before_keep=drop_before_keep\n",
    "    )\n",
    "\n",
    "def calc_correlations(\n",
    "    returns: pd.DataFrame,\n",
    "    print_highest_lowest: bool = True,\n",
    "    matrix_size: Union[int, float] = 7,\n",
    "    return_heatmap: bool = True,\n",
    "    keep_columns: Union[list, str] = None,\n",
    "    drop_columns: Union[list, str] = None,\n",
    "    keep_indexes: Union[list, str] = None,\n",
    "    drop_indexes: Union[list, str] = None,\n",
    "    drop_before_keep: bool = False\n",
    "):\n",
    "    \"\"\"\n",
    "    Calculates the correlation matrix of the provided returns and optionally prints or visualizes it.\n",
    "\n",
    "    Parameters:\n",
    "    returns (pd.DataFrame): Time series of returns.\n",
    "    print_highest_lowest (bool, default=True): If True, prints the highest and lowest correlations.\n",
    "    matrix_size (int or float, default=7): Size of the heatmap for correlation matrix visualization.\n",
    "    return_heatmap (bool, default=True): If True, returns a heatmap of the correlation matrix.\n",
    "    keep_columns (list or str, default=None): Columns to keep in the resulting DataFrame.\n",
    "    drop_columns (list or str, default=None): Columns to drop from the resulting DataFrame.\n",
    "    keep_indexes (list or str, default=None): Indexes to keep in the resulting DataFrame.\n",
    "    drop_indexes (list or str, default=None): Indexes to drop from the resulting DataFrame.\n",
    "    drop_before_keep (bool, default=False): Whether to drop specified columns/indexes before keeping.\n",
    "\n",
    "    Returns:\n",
    "    sns.heatmap or pd.DataFrame: Heatmap of the correlation matrix or the correlation matrix itself.\n",
    "    \"\"\"\n",
    "    returns = returns.copy()\n",
    "\n",
    "    if 'date' in returns.columns.str.lower():\n",
    "        returns = returns.rename({'Date': 'date'}, axis=1)\n",
    "        returns = returns.set_index('date')\n",
    "    returns.index.name = 'date'\n",
    "\n",
    "    correlation_matrix = returns.corr()\n",
    "    if return_heatmap:\n",
    "        fig, ax = plt.subplots(figsize=(matrix_size * 1.5, matrix_size))\n",
    "        heatmap = sns.heatmap(\n",
    "            correlation_matrix, \n",
    "            xticklabels=correlation_matrix.columns,\n",
    "            yticklabels=correlation_matrix.columns,\n",
    "            annot=True,\n",
    "        )\n",
    "\n",
    "    if print_highest_lowest:\n",
    "        highest_lowest_corr = (\n",
    "            correlation_matrix\n",
    "            .unstack()\n",
    "            .sort_values()\n",
    "            .reset_index()\n",
    "            .set_axis(['asset_1', 'asset_2', 'corr'], axis=1)\n",
    "            .loc[lambda df: df.asset_1 != df.asset_2]\n",
    "        )\n",
    "        highest_corr = highest_lowest_corr.iloc[lambda df: len(df)-1, :]\n",
    "        lowest_corr = highest_lowest_corr.iloc[0, :]\n",
    "        print(f'The highest correlation ({highest_corr[\"corr\"]:.2%}) is between {highest_corr.asset_1} and {highest_corr.asset_2}')\n",
    "        print(f'The lowest correlation ({lowest_corr[\"corr\"]:.2%}) is between {lowest_corr.asset_1} and {lowest_corr.asset_2}')\n",
    "    \n",
    "    if return_heatmap:\n",
    "        return heatmap\n",
    "    else:\n",
    "        return filter_columns_and_indexes(\n",
    "            correlation_matrix,\n",
    "            keep_columns=keep_columns,\n",
    "            drop_columns=drop_columns,\n",
    "            keep_indexes=keep_indexes,\n",
    "            drop_indexes=drop_indexes,\n",
    "            drop_before_keep=drop_before_keep\n",
    "        )\n",
    "\n",
    "def calc_cummulative_returns(\n",
    "    returns: Union[pd.DataFrame, pd.Series],\n",
    "    return_plot: bool = True,\n",
    "    fig_size: tuple = (7, 5),\n",
    "    return_series: bool = False,\n",
    "    name: str = None,\n",
    "    timeframes: Union[None, dict] = None,\n",
    "):\n",
    "    \"\"\"\n",
    "    Calculates cumulative returns from a time series of returns.\n",
    "\n",
    "    Parameters:\n",
    "    returns (pd.DataFrame or pd.Series): Time series of returns.\n",
    "    return_plot (bool, default=True): If True, plots the cumulative returns.\n",
    "    fig_size (tuple, default=(7, 5)): Size of the plot for cumulative returns.\n",
    "    return_series (bool, default=False): If True, returns the cumulative returns as a DataFrame.\n",
    "    name (str, default=None): Name for the title of the plot or the cumulative return series.\n",
    "    timeframes (dict or None, default=None): Dictionary of timeframes to calculate cumulative returns for each period.\n",
    "\n",
    "    Returns:\n",
    "    pd.DataFrame or None: Returns cumulative returns DataFrame if `return_series` is True.\n",
    "    \"\"\"\n",
    "    if timeframes is not None:\n",
    "        for name, timeframe in timeframes.items():\n",
    "            if timeframe[0] and timeframe[1]:\n",
    "                timeframe_returns = returns.loc[timeframe[0]:timeframe[1]]\n",
    "            elif timeframe[0]:\n",
    "                timeframe_returns = returns.loc[timeframe[0]:]\n",
    "            elif timeframe[1]:\n",
    "                timeframe_returns = returns.loc[:timeframe[1]]\n",
    "            else:\n",
    "                timeframe_returns = returns.copy()\n",
    "            if len(timeframe_returns.index) == 0:\n",
    "                raise Exception(f'No returns for {name} timeframe')\n",
    "            calc_cummulative_returns(\n",
    "                timeframe_returns,\n",
    "                return_plot=True,\n",
    "                fig_size=fig_size,\n",
    "                return_series=False,\n",
    "                name=name,\n",
    "                timeframes=None\n",
    "            )\n",
    "        return\n",
    "    returns = returns.copy()\n",
    "    if isinstance(returns, pd.Series):\n",
    "        returns = returns.to_frame()\n",
    "    returns = returns.apply(lambda x: x.astype(float))\n",
    "    returns = returns.apply(lambda x: x + 1)\n",
    "    returns = returns.cumprod()\n",
    "    returns = returns.apply(lambda x: x - 1)\n",
    "    title = f'Cummulative Returns {name}' if name else 'Cummulative Returns'\n",
    "    if return_plot:\n",
    "        returns.plot(\n",
    "            title=title,\n",
    "            figsize=fig_size,\n",
    "            grid=True,\n",
    "            xlabel='Date',\n",
    "            ylabel='Cummulative Returns'\n",
    "        )\n",
    "    if return_series:\n",
    "        return returns\n",
    "\n",
    "\n",
    "#usage to get the cols \n",
    "'''\n",
    "calc_summary_statistics(\n",
    "    assets_excess_returns[['TIP', 'BWX', 'IEF']],\n",
    "    annual_factor=12,\n",
    "    provided_excess_returns=True,\n",
    "    keep_columns=[\n",
    "        \"Annualized Mean\", \"Annualized Vol\", \"Annualized Sharpe\",\n",
    "        \"Max Drawdown\", \"Peak\", \"Bottom\", \"Correlation\",\n",
    "        \"Annualized Historical VaR\", \"Kurtosis\", \"Skewness\"\n",
    "    ]\n",
    ").transpose()\n",
    "'''\n",
    "\n",
    "#Correlations\n",
    "'''\n",
    "calc_correlations(assets_excess_returns)\n",
    "'''\n",
    "\n",
    "# Cum returns \n",
    "'''\n",
    "calc_cummulative_returns(assets_excess_returns[['TIP', 'BWX', 'IEF']])\n",
    "'''\n",
    "\n",
    "# Sharpe V tangency weights\n",
    "\n",
    "'''\n",
    "analysis_sharpe_vs_tangent_weights = (\n",
    "    calc_summary_statistics(\n",
    "        assets_excess_returns,\n",
    "        annual_factor=12,\n",
    "        provided_excess_returns=True,\n",
    "        keep_columns=['Tangency Weights', 'Annualized Sharpe']\n",
    "    )\n",
    "    .sort_values('Annualized Sharpe', ascending=False)\n",
    ")\n",
    "analysis_sharpe_vs_tangent_weights\n",
    "'''\n",
    "\n",
    "#Tangency weights\n",
    "'''\n",
    "calc_tangency_weights(assets_excess_returns, return_graphic=True)\n",
    "\n",
    "'''\n",
    "\n",
    "\n",
    "## Allocations - with a mu month target \n",
    "\n",
    "\n",
    "# Equal weights - 1/n\n",
    "\n",
    "'''\n",
    "n_assets = len(assets_excess_returns.columns)\n",
    "MU_MONTH_TARGET = 0.010\n",
    "\n",
    "portfolio_equal_weights_not_scaled = create_portfolio(\n",
    "    assets_excess_returns,\n",
    "    weights=[1 / n_assets for _ in range(n_assets)],\n",
    "    port_name=\"Equal Weights\"\n",
    ")\n",
    "portfolio_equal_weights = portfolio_equal_weights_not_scaled * MU_MONTH_TARGET / portfolio_equal_weights_not_scaled.mean()\n",
    "portfolio_equal_weights\n",
    "'''\n",
    "\n",
    "\n",
    "#Risk parity - 1/sigma^2\n",
    "\n",
    "'''\n",
    "asset_variance_dict = assets_excess_returns.std().map(lambda x: x ** 2).to_dict()\n",
    "asset_inv_variance_dict = {asset: 1 / variance for asset, variance in asset_variance_dict.items()}\n",
    "portfolio_risk_parity_not_scaled = create_portfolio(\n",
    "    assets_excess_returns,\n",
    "    weights=asset_inv_variance_dict,\n",
    "    port_name=\"Risk Parity\"\n",
    ")\n",
    "portfolio_risk_parity = portfolio_risk_parity_not_scaled * MU_MONTH_TARGET / portfolio_risk_parity_not_scaled.mean()\n",
    "portfolio_risk_parity\n",
    "'''\n",
    "\n",
    "# Regularised - sigma + diag(sigma) / 2 \n",
    "'''\n",
    "portfolio_regularized_not_scaled = calc_tangency_weights(assets_excess_returns, return_port_ret=True, cov_mat=.5, name=\"Regularized\")\n",
    "portfolio_regularized = portfolio_regularized_not_scaled * MU_MONTH_TARGET / portfolio_regularized_not_scaled.mean()\n",
    "portfolio_regularized\n",
    "'''\n",
    "\n",
    "def stats(data, portfolio = None, portfolio_name = 'Portfolio', annualize = True):\n",
    "    \n",
    "    if portfolio is None:\n",
    "        returns = data\n",
    "    else:\n",
    "        returns = data @ portfolio\n",
    "    \n",
    "    output = returns.agg(['mean','std'])\n",
    "    output.loc['sharpe'] = output.loc['mean'] / output.loc['std']\n",
    "    \n",
    "    if annualize == True:\n",
    "        output.loc['mean'] *= 52\n",
    "        output.loc['std'] *= np.sqrt(52)\n",
    "        output.loc['sharpe'] *= np.sqrt(52)\n",
    "    \n",
    "    if portfolio is None:\n",
    "        pass\n",
    "    else:\n",
    "        output.columns = [portfolio_name]\n",
    "    \n",
    "    return output\n",
    "\n",
    "# Create function to calculate max drawdown and associated dates\n",
    "\n",
    "def max_drawdown(data, portfolio = None, portfolio_name = 'Portfolio'):\n",
    "    \n",
    "    if portfolio is None:\n",
    "        returns = data\n",
    "        output = pd.DataFrame(columns=returns.columns)\n",
    "    else:\n",
    "        returns = data @ portfolio\n",
    "        output = pd.DataFrame(columns=[portfolio_name])\n",
    "    \n",
    "    cumulative = (returns + 1).cumprod()\n",
    "    maximum = cumulative.expanding().max()\n",
    "    drawdown = cumulative / maximum - 1\n",
    "    \n",
    "    for col in output.columns:\n",
    "        \n",
    "        output.loc['MDD',col] = drawdown[col].min()\n",
    "        output.loc['Max Date',col] = cumulative[cumulative.index < drawdown[col].idxmin()][col]\\\n",
    "                                             .idxmax()\\\n",
    "                                             .date()\n",
    "        output.loc['Min Date',col] = drawdown[col].idxmin().date()\n",
    "        recovery_date = drawdown.loc[drawdown[col].idxmin():,col]\\\n",
    "                                             .apply(lambda x: 0 if x == 0 else np.nan)\\\n",
    "                                             .idxmax()\n",
    "        \n",
    "        if pd.isna(recovery_date):\n",
    "            output.loc['Recovery Date',col] = recovery_date\n",
    "            output.loc['Recovery Period',col] = np.nan\n",
    "        else:\n",
    "            output.loc['Recovery Date',col] = recovery_date.date()\n",
    "            output.loc['Recovery Period',col] = (output.loc['Recovery Date',col]\\\n",
    "                                             - output.loc['Min Date',col])\\\n",
    "                                             .days\n",
    "        \n",
    "    return output\n",
    "\n",
    "# Create function to retrieve other statistics\n",
    "\n",
    "def stats_tail_risk(data, portfolio = None, portfolio_name = 'Portfolio', VaR = 0.05):\n",
    "    \n",
    "    if portfolio is None:\n",
    "        returns = data\n",
    "    else:\n",
    "        returns = data @ portfolio\n",
    "    \n",
    "    output = returns.agg(['skew',\n",
    "                          'kurt'])\n",
    "    output.loc['VaR'] = returns.quantile(q = 0.05)\n",
    "    output.loc['CVaR'] = returns[returns <= output.loc['VaR']].mean()\n",
    "    output = pd.concat([output, max_drawdown(returns,portfolio,portfolio_name)])\n",
    "    \n",
    "    if portfolio is None:\n",
    "        pass\n",
    "    else:\n",
    "        output.columns = portfolio_name\n",
    "    \n",
    "    return output\n",
    "\n",
    "# Create function to display regression stats\n",
    "\n",
    "def stats_OLS(model,y,x):\n",
    "    \n",
    "    output = model.params.to_frame(name = y.columns[0])\n",
    "    \n",
    "    return output\n",
    "\n",
    "import matplotlib.ticker as mtick\n",
    "\n",
    "def plot_max_drawdown(data, portfolio=None, portfolio_name='Portfolio', ax=None, show_legend=True):\n",
    "    \"\"\"\n",
    "    Plot drawdowns (cumulative peak-to-trough) and annotate the max drawdown window.\n",
    "    Works with a returns DataFrame/Series, or with a weight vector via `portfolio`.\n",
    "    \"\"\"\n",
    "    # Resolve returns shape and column names\n",
    "    if portfolio is None:\n",
    "        returns = data.copy()\n",
    "        if isinstance(returns, pd.Series):\n",
    "            returns = returns.to_frame(name=returns.name or portfolio_name)\n",
    "    else:\n",
    "        # matrix @ vector -> Series\n",
    "        returns = (data @ portfolio).to_frame(name=portfolio_name)\n",
    "\n",
    "    # Compute drawdowns\n",
    "    cumulative = (1 + returns).cumprod()\n",
    "    running_max = cumulative.cummax()\n",
    "    drawdown = cumulative / running_max - 1.0\n",
    "\n",
    "    # Prep axes\n",
    "    created_ax = False\n",
    "    if ax is None:\n",
    "        fig, ax = plt.subplots(figsize=(10, 4))\n",
    "        created_ax = True\n",
    "\n",
    "    # Plot each series' drawdown\n",
    "    for col in drawdown.columns:\n",
    "        dd = drawdown[col]\n",
    "        ax.plot(dd.index, dd.values, label=col, linewidth=1.5)\n",
    "\n",
    "        # Identify MDD stats for annotation/shading\n",
    "        min_date = dd.idxmin()\n",
    "        mdd_val = dd.loc[min_date]\n",
    "\n",
    "        # Peak date = last running max before min (highest cumulative up to min_date)\n",
    "        peak_date = cumulative.loc[:min_date, col].idxmax()\n",
    "\n",
    "        # Recovery date = first time drawdown returns to 0 after min_date (if ever)\n",
    "        post = dd.loc[min_date:]\n",
    "        recovery_candidates = post[post >= -1e-12]\n",
    "        recovery_date = recovery_candidates.index[0] if len(recovery_candidates) else None\n",
    "\n",
    "        # Shade peak -> recovery (or to series end if unrecovered)\n",
    "        shade_end = recovery_date if recovery_date is not None else dd.index[-1]\n",
    "        ax.axvspan(peak_date, shade_end, alpha=0.12)\n",
    "\n",
    "        # Annotate the trough\n",
    "        ax.scatter([min_date], [mdd_val], zorder=3)\n",
    "        ax.annotate(\n",
    "            f\"MDD: {mdd_val:.2%}\\n{min_date.date()}\",\n",
    "            xy=(min_date, mdd_val),\n",
    "            xytext=(10, 10),\n",
    "            textcoords=\"offset points\",\n",
    "            bbox=dict(boxstyle=\"round,pad=0.2\", fc=\"white\", alpha=0.7),\n",
    "            arrowprops=dict(arrowstyle=\"->\", lw=1),\n",
    "        )\n",
    "\n",
    "    ax.set_title(\"Drawdown (Peak → Trough → Recovery)\")\n",
    "    ax.set_ylabel(\"Drawdown\")\n",
    "    ax.yaxis.set_major_formatter(mtick.PercentFormatter(1.0))\n",
    "    ax.grid(True, linestyle=\"--\", alpha=0.4)\n",
    "    if show_legend and drawdown.shape[1] > 1:\n",
    "        ax.legend(frameon=False)\n",
    "    if created_ax:\n",
    "        plt.tight_layout()\n",
    "\n",
    "    return drawdown\n",
    "\n",
    "# Stats - mean std, sharpe\n",
    "'''\n",
    "stats(hf_series) # assumes annualised\n",
    "'''\n",
    "\n",
    "# Stats with the tail risk\n",
    "'''\n",
    "stats_tail_risk(hf_series) # assumes annualised \n",
    "'''\n",
    "\n",
    "\n",
    "# For generating market beta, treynor and IR\n",
    "'''\n",
    "x = sm.add_constant(merrill_factors['SPY US Equity'])\n",
    "\n",
    "regression_stats = pd.DataFrame(index = ['$B^{SPY}$','Treynor','IR'],columns = hf_series.columns)\n",
    "\n",
    "for hf in hf_series.columns:\n",
    "    \n",
    "    y = hf_series[hf]\n",
    "    \n",
    "    model = sm.OLS(y,x).fit()\n",
    "    \n",
    "    beta = model.params.iloc[1]\n",
    "    treynor = 12 * y.mean() / beta\n",
    "    ir = np.sqrt(12) * model.params.iloc[0] / model.resid.std()\n",
    "    \n",
    "    regression_stats[hf] = pd.Series([beta,treynor,ir],index = ['$B^{SPY}$','Treynor','IR'])\n",
    "\n",
    "regression_stats.round(3)\n",
    "'''\n",
    "\n",
    "\n",
    "# OLS stats\n",
    "'''\n",
    "y = hf_series[['HFRIFWI Index']]\n",
    "x = sm.add_constant(merrill_factors)\n",
    "\n",
    "replication_model = sm.OLS(y,x).fit()\n",
    "\n",
    "replication_stats = stats_OLS(replication_model,y,x).round(3)\n",
    "replication_stats\n",
    "\n",
    "print(f'R-Squared: {round(replication_model.rsquared,2)}')\n",
    "\n",
    "\n",
    "print(f'The volatility of the tracking error is {round(replication_model.resid.std()*np.sqrt(12),4)}')\n",
    "\n",
    "'''\n",
    "\n",
    "# OOS OLS \n",
    "'''\n",
    "t = 60\n",
    "n = len(hf_series['HFRIFWI Index'])\n",
    "\n",
    "data = hf_series[['HFRIFWI Index']].copy()\n",
    "data['Replication'] = np.nan\n",
    "\n",
    "for i in range(t, n):\n",
    "    \n",
    "    y = hf_series['HFRIFWI Index'].iloc[i - 60:i]\n",
    "    x = sm.add_constant(merrill_factors).iloc[i - 60:i]\n",
    "    \n",
    "    m = sm.OLS(y,x).fit()\n",
    "    \n",
    "    oos_val = sm.add_constant(merrill_factors).iloc[i].to_numpy().reshape((7))\n",
    "\n",
    "    rep_val = m.predict(oos_val)\n",
    "    \n",
    "    data['Replication'].iloc[i] = rep_val\n",
    "\n",
    "    \n",
    "# We can simplify by doing the following:\n",
    "\n",
    "x = sm.add_constant(merrill_factors)\n",
    "y = hf_series['HFRIFWI Index']\n",
    "\n",
    "from statsmodels.regression.rolling import RollingOLS\n",
    "rolling = RollingOLS(y,x,window=60).fit()\n",
    "rolling_betas = rolling.params\n",
    "replication_rolling = (rolling_betas.shift() * x).dropna().sum(axis=1)\n",
    "\n",
    "\n",
    "oos_loss = (data.dropna().diff(axis=1)**2)['Replication'].sum()\n",
    "oos_mean = data.dropna()['HFRIFWI Index'].mean()\n",
    "oos_loss_null = ((data.dropna()['HFRIFWI Index'] - oos_mean)**2).sum()\n",
    "\n",
    "oos_r2 = 1 - oos_loss / oos_loss_null\n",
    "\n",
    "print(f'The OOS R-Squared of the replication is {round(oos_r2,4)}')\n",
    "data.corr().round(3)\n",
    "\n",
    "'''\n",
    "\n",
    "#OLS no int \n",
    "'''\n",
    "\n",
    "y = hf_series[['HFRIFWI Index']]\n",
    "x = merrill_factors\n",
    "\n",
    "replication_model_no_int = sm.OLS(y,x).fit()\n",
    "\n",
    "# No-intercept model\n",
    "stats_OLS(replication_model_no_int,y,x).round(2)\n",
    "\n",
    "round(replication_model_no_int.predict(x).mean(),4)\n",
    "round(replication_model.predict(sm.add_constant(x)).mean(),4)\n",
    "\n",
    "print('Correlation of no intercept model to HFRIFWI: ', np.corrcoef(y['HFRIFWI Index'], replication_model_no_int.predict(x))[0][1])\n",
    "print('Correlation of intercept model to HFRIFWI: ', np.corrcoef(y['HFRIFWI Index'], replication_model.predict(sm.add_constant(x)))[0][1])\n",
    "'''\n",
    "\n",
    "# log returns \n",
    "'''\n",
    "def calc_analytics_by_year(data, agg_years):\n",
    "    res = []\n",
    "    for y in agg_years:\n",
    "        sub = data.loc[str(y[0]) : str(y[1])]\n",
    "        res.append({\"mean\": sub.mean() * 12, \"vol\": sub.std() * np.sqrt(12)})\n",
    "    return pd.DataFrame(res, index=[f\"{i[0]} - {i[1]}\" for i in agg_years]).stack()\n",
    "\n",
    "\n",
    "df = pd.read_excel(\n",
    "    \"barnstable_analysis_data.xlsx\", sheet_name=\"data\", parse_dates=True, index_col=0\n",
    ")\n",
    "df[\"excess_returns\"] = df[\"SPX\"] - df[\"TB1M\"]\n",
    "df_subsample = df.loc[\"1965\":\"1999\"]\n",
    "\n",
    "\n",
    "agg_years = [(1965, 1999), (2000, 2024), (1926, 2024)]\n",
    "\n",
    "sum_stats = df.apply(calc_analytics_by_year, agg_years=agg_years).T\n",
    "log_sum_stats = np.log(1 + df).apply(calc_analytics_by_year, agg_years=agg_years).T\n",
    "\n",
    "res_stats = pd.concat([sum_stats, log_sum_stats])\n",
    "res_stats.index = pd.MultiIndex.from_product(\n",
    "    [[\"levels\", \"logs\"], sum_stats.index.to_list()]\n",
    ")\n",
    "res_stats.style.format(\"{:,.2%}\")\n",
    "'''\n",
    "\n",
    "\n",
    "#prob underperformance \n",
    "\n",
    "'''\n",
    "def prob_underperformance(mu, sigma, h):\n",
    "    return norm.cdf(np.sqrt(h) * (-mu / sigma))\n",
    "\n",
    "\n",
    "mu, sigma = res_stats[\"1965 - 1999\"].loc[(\"logs\", \"excess_returns\")]\n",
    "\n",
    "print(\n",
    "    f\"SPX underperforming risk-free rate in the 15 years after 1999: {prob_underperformance(mu=mu, sigma=sigma, h=15):,.2%}\"\n",
    ")\n",
    "print(\n",
    "    f\"SPX underperforming risk-free rate in the 30 years after 1999: {prob_underperformance(mu=mu, sigma=sigma, h=30):,.2%}\"\n",
    ")\n",
    "\n",
    "h = np.linspace(0, 30, 300)\n",
    "\n",
    "probabilities = prob_underperformance(mu=mu, sigma=sigma, h=h)\n",
    "\n",
    "\n",
    "plt.plot(h, probabilities)\n",
    "plt.title(\n",
    "    \"Probability of SPX Underperforming Risk-Free Rate\\nas a Function of Investment Horizon\"\n",
    ")\n",
    "plt.xlabel(\"Investment Horizon (Years)\")\n",
    "plt.ylabel(\"Probability of Underperformance\")\n",
    "plt.show()\n",
    "'''\n",
    "\n",
    "#Full sample \n",
    "\n",
    "''' \n",
    "# 1965-2024 period\n",
    "mu = np.log(1 + df.loc[\"1965\":\"2023\"]).mean() * 12\n",
    "sigma = np.log(1 + df.loc[\"1965\":\"2023\"]).std() * np.sqrt(12)\n",
    "h = np.arange(30) + 1\n",
    "\n",
    "mu_excess = mu[\"excess_returns\"]\n",
    "sigma_excess = sigma[\"excess_returns\"]\n",
    "\n",
    "probabilities_full_sample = prob_underperformance(mu=mu_excess, sigma=sigma_excess, h=h)\n",
    "print(\n",
    "    f\"SPX underperforming risk-free rate in the 30 years after 2024: {prob_underperformance(mu=mu_excess, sigma=sigma_excess, h=30):,.2%}\"\n",
    ")\n",
    "'''\n",
    "\n",
    "\n",
    "#in sample of out of sample likelihood\n",
    "\n",
    "''' \n",
    "mu = (\n",
    "    res_stats[(\"1965 - 1999\", \"mean\")].loc[(\"logs\", \"SPX\")]\n",
    "    - res_stats[(\"2000 - 2024\", \"mean\")].loc[(\"logs\", \"SPX\")]\n",
    ")\n",
    "sigma = res_stats[(\"1965 - 1999\", \"vol\")].loc[(\"logs\", \"SPX\")]\n",
    "\n",
    "print(\n",
    "    f\"Probability of underperformance in 2000-2024: {prob_underperformance(mu, sigma, 24):,.2%}\"\n",
    ")\n",
    "'''"
   ]
  },
  {
   "cell_type": "markdown",
   "metadata": {},
   "source": [
    "***"
   ]
  },
  {
   "cell_type": "markdown",
   "metadata": {},
   "source": [
    "## Citations\n",
    "\n",
    "### AI\n",
    "\n",
    "List any AI tools used in the exam. No need to list prompts, but rather just AI models or IDE integrations.\n",
    "\n",
    "I expect most students will have something to list here.\n"
   ]
  },
  {
   "cell_type": "markdown",
   "metadata": {},
   "source": [
    "\n",
    "*  Chatgpt model 5\n",
    "* \n",
    "* \n",
    "\n"
   ]
  },
  {
   "cell_type": "markdown",
   "metadata": {},
   "source": [
    "### Other resources\n",
    "\n",
    "Please list any other resources **aside from course materials** from which you used substantially. (No need to list every Google search; just materials from which you used substantially or for specific, original content.) \n",
    "\n",
    "I expect most students will not have anything to list here."
   ]
  },
  {
   "cell_type": "markdown",
   "metadata": {},
   "source": [
    "* \n",
    "* \n",
    "* "
   ]
  },
  {
   "cell_type": "markdown",
   "metadata": {},
   "source": [
    "***"
   ]
  },
  {
   "cell_type": "markdown",
   "metadata": {},
   "source": [
    "# Your Name\n",
    "\n",
    "List your name and CNetID"
   ]
  },
  {
   "cell_type": "markdown",
   "metadata": {},
   "source": [
    "* Name: Charles Benello\n",
    "* CNetID: 12248247"
   ]
  },
  {
   "cell_type": "markdown",
   "metadata": {},
   "source": [
    "***"
   ]
  },
  {
   "cell_type": "markdown",
   "metadata": {},
   "source": [
    "# 1. Portfolio Analysis"
   ]
  },
  {
   "cell_type": "markdown",
   "metadata": {},
   "source": [
    "### Data\n",
    "\n",
    "Use the data in `data/midterm_1_stock_returns.xlsx`.\n",
    "\n",
    "The returns are...\n",
    "* excess returns\n",
    "* weekly\n",
    "* through `May 2025`\n",
    "\n",
    "It has returns for\n",
    "* `25` single-name equities\n",
    "* `SPY`"
   ]
  },
  {
   "cell_type": "code",
   "execution_count": 3,
   "metadata": {},
   "outputs": [
    {
     "data": {
      "application/vnd.microsoft.datawrangler.viewer.v0+json": {
       "columns": [
        {
         "name": "date",
         "rawType": "datetime64[ns]",
         "type": "datetime"
        },
        {
         "name": "ADSK",
         "rawType": "float64",
         "type": "float"
        },
        {
         "name": "AOS",
         "rawType": "float64",
         "type": "float"
        },
        {
         "name": "BKNG",
         "rawType": "float64",
         "type": "float"
        },
        {
         "name": "CBRE",
         "rawType": "float64",
         "type": "float"
        },
        {
         "name": "CCI",
         "rawType": "float64",
         "type": "float"
        },
        {
         "name": "CF",
         "rawType": "float64",
         "type": "float"
        },
        {
         "name": "CHRW",
         "rawType": "float64",
         "type": "float"
        },
        {
         "name": "DE",
         "rawType": "float64",
         "type": "float"
        },
        {
         "name": "DGX",
         "rawType": "float64",
         "type": "float"
        },
        {
         "name": "DTE",
         "rawType": "float64",
         "type": "float"
        },
        {
         "name": "ES",
         "rawType": "float64",
         "type": "float"
        },
        {
         "name": "GD",
         "rawType": "float64",
         "type": "float"
        },
        {
         "name": "GOOGL",
         "rawType": "float64",
         "type": "float"
        },
        {
         "name": "INTU",
         "rawType": "float64",
         "type": "float"
        },
        {
         "name": "MGM",
         "rawType": "float64",
         "type": "float"
        },
        {
         "name": "MRK",
         "rawType": "float64",
         "type": "float"
        },
        {
         "name": "MTD",
         "rawType": "float64",
         "type": "float"
        },
        {
         "name": "PG",
         "rawType": "float64",
         "type": "float"
        },
        {
         "name": "PNR",
         "rawType": "float64",
         "type": "float"
        },
        {
         "name": "SBAC",
         "rawType": "float64",
         "type": "float"
        },
        {
         "name": "STE",
         "rawType": "float64",
         "type": "float"
        },
        {
         "name": "TTWO",
         "rawType": "float64",
         "type": "float"
        },
        {
         "name": "VTRS",
         "rawType": "float64",
         "type": "float"
        },
        {
         "name": "WM",
         "rawType": "float64",
         "type": "float"
        },
        {
         "name": "WMT",
         "rawType": "float64",
         "type": "float"
        }
       ],
       "ref": "6c45da78-8a4b-4b1e-9eac-6df3cba954ef",
       "rows": [
        [
         "2015-01-09 00:00:00",
         "-0.02116579875692925",
         "-0.008927103055962005",
         "-0.07889253228961424",
         "-0.0005768676088838687",
         "0.02653647086798694",
         "0.06937782865533526",
         "-0.02410670454664143",
         "-0.03045041436595808",
         "-0.003635424031121715",
         "-0.002413511097586474",
         "-0.004839269946410041",
         "0.00375536480686689",
         "-0.05444528875379939",
         "-0.03277669531539484",
         "-0.02426360610165734",
         "0.09389701989496735",
         "-0.008842523596621965",
         "-0.002100911976680941",
         "-0.02339346034863465",
         "-0.001090933665440552",
         "0.01365949484208628",
         "-0.008008542445274935",
         "-0.009050474698989563",
         "-0.004251320359708766",
         "0.04016002263985885"
        ],
        [
         "2015-01-16 00:00:00",
         "-0.02436931525656427",
         "-0.01531319939070575",
         "-0.0415791449667402",
         "-0.04502164502164485",
         "0.01237416146562076",
         "0.001515380776119013",
         "0.01929011519841306",
         "0.01926476332865867",
         "0.01973821650086083",
         "0.03640464347471317",
         "0.03870524223417116",
         "0.005245087825779704",
         "0.01944790452846856",
         "-0.01761107334857581",
         "-0.02437664837858899",
         "0.00751207092312467",
         "-0.02432504677893599",
         "0.01108086745154901",
         "-0.009829886371128915",
         "-0.01204237058800794",
         "-0.02059034394440218",
         "0.04808037316110503",
         "0.002865212931575378",
         "0.01377842232644388",
         "-0.02887259206127379"
        ],
        [
         "2015-01-23 00:00:00",
         "0.02357080035180292",
         "0.0162815920355015",
         "0.02952697775608226",
         "-0.004230885463886391",
         "0.05082916153841888",
         "0.0138410333195027",
         "0.009121264516670946",
         "0.01202693238779551",
         "0.01648982388719733",
         "0.01422879385448539",
         "0.005220304547693289",
         "0.01617583447480353",
         "0.06168460052816216",
         "0.03470876839854076",
         "-0.0004972808261209938",
         "-0.008567070394317478",
         "0.03784246575342465",
         "-0.005804470176779097",
         "-0.003565344298501194",
         "0.08095126293752819",
         "0.02303321359145638",
         "0.02225265320095859",
         "-0.03196539111161412",
         "0.01454798265460022",
         "0.02005272116784607"
        ],
        [
         "2015-01-30 00:00:00",
         "-0.07191957380993286",
         "0.06948702140776808",
         "-0.02746647544622161",
         "-0.01851289833080427",
         "-0.003684069122829703",
         "0.0120306404330941",
         "-0.03912428202780327",
         "-0.03576643926679879",
         "0.002540112758767421",
         "-0.01731746201602968",
         "-0.004654735504352137",
         "-0.05738584464762375",
         "-0.008130383130383168",
         "-0.02907026225242848",
         "-0.02600378968316974",
         "-0.03536581725326482",
         "0.00296980696254745",
         "-0.06427663474045175",
         "-0.03304105210105557",
         "-0.01419043050942559",
         "-0.01450610412102527",
         "-0.004688546550569384",
         "-0.01955226547317834",
         "-0.02962185215555202",
         "-0.03988298106973287"
        ],
        [
         "2015-02-06 00:00:00",
         "0.05675400425886479",
         "0.03757682735809298",
         "0.01281848076224712",
         "0.04885590599876299",
         "0.001732521885646321",
         "-0.0286190883297327",
         "-0.00996996736839062",
         "0.04448886754068693",
         "-0.02012037564966629",
         "-0.04918577416514869",
         "-0.03364569846295851",
         "0.04563842998532341",
         "-0.00681214208182046",
         "0.01163314883918964",
         "0.02464392650838754",
         "-0.02471695597939416",
         "0.01631847343313053",
         "0.01566012134461592",
         "0.04060899088011083",
         "0.0101075012163887",
         "0.02698512343102721",
         "-0.03146029609690437",
         "0.01392172964217009",
         "0.01963896289806355",
         "0.0276526857345949"
        ]
       ],
       "shape": {
        "columns": 25,
        "rows": 5
       }
      },
      "text/html": [
       "<div>\n",
       "<style scoped>\n",
       "    .dataframe tbody tr th:only-of-type {\n",
       "        vertical-align: middle;\n",
       "    }\n",
       "\n",
       "    .dataframe tbody tr th {\n",
       "        vertical-align: top;\n",
       "    }\n",
       "\n",
       "    .dataframe thead th {\n",
       "        text-align: right;\n",
       "    }\n",
       "</style>\n",
       "<table border=\"1\" class=\"dataframe\">\n",
       "  <thead>\n",
       "    <tr style=\"text-align: right;\">\n",
       "      <th></th>\n",
       "      <th>ADSK</th>\n",
       "      <th>AOS</th>\n",
       "      <th>BKNG</th>\n",
       "      <th>CBRE</th>\n",
       "      <th>CCI</th>\n",
       "      <th>CF</th>\n",
       "      <th>CHRW</th>\n",
       "      <th>DE</th>\n",
       "      <th>DGX</th>\n",
       "      <th>DTE</th>\n",
       "      <th>...</th>\n",
       "      <th>MRK</th>\n",
       "      <th>MTD</th>\n",
       "      <th>PG</th>\n",
       "      <th>PNR</th>\n",
       "      <th>SBAC</th>\n",
       "      <th>STE</th>\n",
       "      <th>TTWO</th>\n",
       "      <th>VTRS</th>\n",
       "      <th>WM</th>\n",
       "      <th>WMT</th>\n",
       "    </tr>\n",
       "    <tr>\n",
       "      <th>date</th>\n",
       "      <th></th>\n",
       "      <th></th>\n",
       "      <th></th>\n",
       "      <th></th>\n",
       "      <th></th>\n",
       "      <th></th>\n",
       "      <th></th>\n",
       "      <th></th>\n",
       "      <th></th>\n",
       "      <th></th>\n",
       "      <th></th>\n",
       "      <th></th>\n",
       "      <th></th>\n",
       "      <th></th>\n",
       "      <th></th>\n",
       "      <th></th>\n",
       "      <th></th>\n",
       "      <th></th>\n",
       "      <th></th>\n",
       "      <th></th>\n",
       "      <th></th>\n",
       "    </tr>\n",
       "  </thead>\n",
       "  <tbody>\n",
       "    <tr>\n",
       "      <th>2015-01-09</th>\n",
       "      <td>-0.021166</td>\n",
       "      <td>-0.008927</td>\n",
       "      <td>-0.078893</td>\n",
       "      <td>-0.000577</td>\n",
       "      <td>0.026536</td>\n",
       "      <td>0.069378</td>\n",
       "      <td>-0.024107</td>\n",
       "      <td>-0.030450</td>\n",
       "      <td>-0.003635</td>\n",
       "      <td>-0.002414</td>\n",
       "      <td>...</td>\n",
       "      <td>0.093897</td>\n",
       "      <td>-0.008843</td>\n",
       "      <td>-0.002101</td>\n",
       "      <td>-0.023393</td>\n",
       "      <td>-0.001091</td>\n",
       "      <td>0.013659</td>\n",
       "      <td>-0.008009</td>\n",
       "      <td>-0.009050</td>\n",
       "      <td>-0.004251</td>\n",
       "      <td>0.040160</td>\n",
       "    </tr>\n",
       "    <tr>\n",
       "      <th>2015-01-16</th>\n",
       "      <td>-0.024369</td>\n",
       "      <td>-0.015313</td>\n",
       "      <td>-0.041579</td>\n",
       "      <td>-0.045022</td>\n",
       "      <td>0.012374</td>\n",
       "      <td>0.001515</td>\n",
       "      <td>0.019290</td>\n",
       "      <td>0.019265</td>\n",
       "      <td>0.019738</td>\n",
       "      <td>0.036405</td>\n",
       "      <td>...</td>\n",
       "      <td>0.007512</td>\n",
       "      <td>-0.024325</td>\n",
       "      <td>0.011081</td>\n",
       "      <td>-0.009830</td>\n",
       "      <td>-0.012042</td>\n",
       "      <td>-0.020590</td>\n",
       "      <td>0.048080</td>\n",
       "      <td>0.002865</td>\n",
       "      <td>0.013778</td>\n",
       "      <td>-0.028873</td>\n",
       "    </tr>\n",
       "    <tr>\n",
       "      <th>2015-01-23</th>\n",
       "      <td>0.023571</td>\n",
       "      <td>0.016282</td>\n",
       "      <td>0.029527</td>\n",
       "      <td>-0.004231</td>\n",
       "      <td>0.050829</td>\n",
       "      <td>0.013841</td>\n",
       "      <td>0.009121</td>\n",
       "      <td>0.012027</td>\n",
       "      <td>0.016490</td>\n",
       "      <td>0.014229</td>\n",
       "      <td>...</td>\n",
       "      <td>-0.008567</td>\n",
       "      <td>0.037842</td>\n",
       "      <td>-0.005804</td>\n",
       "      <td>-0.003565</td>\n",
       "      <td>0.080951</td>\n",
       "      <td>0.023033</td>\n",
       "      <td>0.022253</td>\n",
       "      <td>-0.031965</td>\n",
       "      <td>0.014548</td>\n",
       "      <td>0.020053</td>\n",
       "    </tr>\n",
       "    <tr>\n",
       "      <th>2015-01-30</th>\n",
       "      <td>-0.071920</td>\n",
       "      <td>0.069487</td>\n",
       "      <td>-0.027466</td>\n",
       "      <td>-0.018513</td>\n",
       "      <td>-0.003684</td>\n",
       "      <td>0.012031</td>\n",
       "      <td>-0.039124</td>\n",
       "      <td>-0.035766</td>\n",
       "      <td>0.002540</td>\n",
       "      <td>-0.017317</td>\n",
       "      <td>...</td>\n",
       "      <td>-0.035366</td>\n",
       "      <td>0.002970</td>\n",
       "      <td>-0.064277</td>\n",
       "      <td>-0.033041</td>\n",
       "      <td>-0.014190</td>\n",
       "      <td>-0.014506</td>\n",
       "      <td>-0.004689</td>\n",
       "      <td>-0.019552</td>\n",
       "      <td>-0.029622</td>\n",
       "      <td>-0.039883</td>\n",
       "    </tr>\n",
       "    <tr>\n",
       "      <th>2015-02-06</th>\n",
       "      <td>0.056754</td>\n",
       "      <td>0.037577</td>\n",
       "      <td>0.012818</td>\n",
       "      <td>0.048856</td>\n",
       "      <td>0.001733</td>\n",
       "      <td>-0.028619</td>\n",
       "      <td>-0.009970</td>\n",
       "      <td>0.044489</td>\n",
       "      <td>-0.020120</td>\n",
       "      <td>-0.049186</td>\n",
       "      <td>...</td>\n",
       "      <td>-0.024717</td>\n",
       "      <td>0.016318</td>\n",
       "      <td>0.015660</td>\n",
       "      <td>0.040609</td>\n",
       "      <td>0.010108</td>\n",
       "      <td>0.026985</td>\n",
       "      <td>-0.031460</td>\n",
       "      <td>0.013922</td>\n",
       "      <td>0.019639</td>\n",
       "      <td>0.027653</td>\n",
       "    </tr>\n",
       "  </tbody>\n",
       "</table>\n",
       "<p>5 rows × 25 columns</p>\n",
       "</div>"
      ],
      "text/plain": [
       "                ADSK       AOS      BKNG      CBRE       CCI        CF  \\\n",
       "date                                                                     \n",
       "2015-01-09 -0.021166 -0.008927 -0.078893 -0.000577  0.026536  0.069378   \n",
       "2015-01-16 -0.024369 -0.015313 -0.041579 -0.045022  0.012374  0.001515   \n",
       "2015-01-23  0.023571  0.016282  0.029527 -0.004231  0.050829  0.013841   \n",
       "2015-01-30 -0.071920  0.069487 -0.027466 -0.018513 -0.003684  0.012031   \n",
       "2015-02-06  0.056754  0.037577  0.012818  0.048856  0.001733 -0.028619   \n",
       "\n",
       "                CHRW        DE       DGX       DTE  ...       MRK       MTD  \\\n",
       "date                                                ...                       \n",
       "2015-01-09 -0.024107 -0.030450 -0.003635 -0.002414  ...  0.093897 -0.008843   \n",
       "2015-01-16  0.019290  0.019265  0.019738  0.036405  ...  0.007512 -0.024325   \n",
       "2015-01-23  0.009121  0.012027  0.016490  0.014229  ... -0.008567  0.037842   \n",
       "2015-01-30 -0.039124 -0.035766  0.002540 -0.017317  ... -0.035366  0.002970   \n",
       "2015-02-06 -0.009970  0.044489 -0.020120 -0.049186  ... -0.024717  0.016318   \n",
       "\n",
       "                  PG       PNR      SBAC       STE      TTWO      VTRS  \\\n",
       "date                                                                     \n",
       "2015-01-09 -0.002101 -0.023393 -0.001091  0.013659 -0.008009 -0.009050   \n",
       "2015-01-16  0.011081 -0.009830 -0.012042 -0.020590  0.048080  0.002865   \n",
       "2015-01-23 -0.005804 -0.003565  0.080951  0.023033  0.022253 -0.031965   \n",
       "2015-01-30 -0.064277 -0.033041 -0.014190 -0.014506 -0.004689 -0.019552   \n",
       "2015-02-06  0.015660  0.040609  0.010108  0.026985 -0.031460  0.013922   \n",
       "\n",
       "                  WM       WMT  \n",
       "date                            \n",
       "2015-01-09 -0.004251  0.040160  \n",
       "2015-01-16  0.013778 -0.028873  \n",
       "2015-01-23  0.014548  0.020053  \n",
       "2015-01-30 -0.029622 -0.039883  \n",
       "2015-02-06  0.019639  0.027653  \n",
       "\n",
       "[5 rows x 25 columns]"
      ]
     },
     "metadata": {},
     "output_type": "display_data"
    },
    {
     "data": {
      "application/vnd.microsoft.datawrangler.viewer.v0+json": {
       "columns": [
        {
         "name": "date",
         "rawType": "datetime64[ns]",
         "type": "datetime"
        },
        {
         "name": "SPY",
         "rawType": "float64",
         "type": "float"
        }
       ],
       "ref": "eb14d595-ad7b-4fcc-81ca-4c88adb9ed67",
       "rows": [
        [
         "2025-04-25 00:00:00",
         "0.04602876085180752"
        ],
        [
         "2025-05-02 00:00:00",
         "0.02927502542496008"
        ],
        [
         "2025-05-09 00:00:00",
         "-0.004269884960124148"
        ],
        [
         "2025-05-16 00:00:00",
         "0.05291136548888975"
        ],
        [
         "2025-05-23 00:00:00",
         "-0.02539548973409633"
        ]
       ],
       "shape": {
        "columns": 1,
        "rows": 5
       }
      },
      "text/html": [
       "<div>\n",
       "<style scoped>\n",
       "    .dataframe tbody tr th:only-of-type {\n",
       "        vertical-align: middle;\n",
       "    }\n",
       "\n",
       "    .dataframe tbody tr th {\n",
       "        vertical-align: top;\n",
       "    }\n",
       "\n",
       "    .dataframe thead th {\n",
       "        text-align: right;\n",
       "    }\n",
       "</style>\n",
       "<table border=\"1\" class=\"dataframe\">\n",
       "  <thead>\n",
       "    <tr style=\"text-align: right;\">\n",
       "      <th></th>\n",
       "      <th>SPY</th>\n",
       "    </tr>\n",
       "    <tr>\n",
       "      <th>date</th>\n",
       "      <th></th>\n",
       "    </tr>\n",
       "  </thead>\n",
       "  <tbody>\n",
       "    <tr>\n",
       "      <th>2025-04-25</th>\n",
       "      <td>0.046029</td>\n",
       "    </tr>\n",
       "    <tr>\n",
       "      <th>2025-05-02</th>\n",
       "      <td>0.029275</td>\n",
       "    </tr>\n",
       "    <tr>\n",
       "      <th>2025-05-09</th>\n",
       "      <td>-0.004270</td>\n",
       "    </tr>\n",
       "    <tr>\n",
       "      <th>2025-05-16</th>\n",
       "      <td>0.052911</td>\n",
       "    </tr>\n",
       "    <tr>\n",
       "      <th>2025-05-23</th>\n",
       "      <td>-0.025395</td>\n",
       "    </tr>\n",
       "  </tbody>\n",
       "</table>\n",
       "</div>"
      ],
      "text/plain": [
       "                 SPY\n",
       "date                \n",
       "2025-04-25  0.046029\n",
       "2025-05-02  0.029275\n",
       "2025-05-09 -0.004270\n",
       "2025-05-16  0.052911\n",
       "2025-05-23 -0.025395"
      ]
     },
     "metadata": {},
     "output_type": "display_data"
    }
   ],
   "source": [
    "import pandas as pd\n",
    "\n",
    "DATAFILE_STOCKS = '../data/midterm_1_stock_returns.xlsx'\n",
    "DATAFILE_STOCKS = 'data/midterm_1_stock_returns.xlsx'\n",
    "\n",
    "SHEET = 'stock rets'\n",
    "rets = pd.read_excel(DATAFILE_STOCKS, sheet_name=SHEET, index_col='date', parse_dates=['date'])\n",
    "\n",
    "SHEET = 'benchmark rets'\n",
    "spy = pd.read_excel(DATAFILE_STOCKS, sheet_name=SHEET, index_col='date', parse_dates=['date'])\n",
    "\n",
    "display(rets.head())\n",
    "display(spy.tail())"
   ]
  },
  {
   "cell_type": "markdown",
   "metadata": {},
   "source": [
    "## 1 Performance Stats"
   ]
  },
  {
   "cell_type": "markdown",
   "metadata": {},
   "source": [
    "#### 1.1. Calculate the Sharpe ratio for each stock during the sample period\n",
    "* Recall: the sample period ranges from **2015 to December 2024 (inclusive)**.\n",
    "* Report the top 5 stocks with the highest Sharpe ratios."
   ]
  },
  {
   "cell_type": "code",
   "execution_count": 4,
   "metadata": {},
   "outputs": [
    {
     "data": {
      "application/vnd.microsoft.datawrangler.viewer.v0+json": {
       "columns": [
        {
         "name": "index",
         "rawType": "object",
         "type": "string"
        },
        {
         "name": "Annualized Sharpe",
         "rawType": "float64",
         "type": "float"
        }
       ],
       "ref": "dc6107dc-8309-40b7-8435-ca6f6fc7d605",
       "rows": [
        [
         "WM",
         "0.9297812518355638"
        ],
        [
         "GOOGL",
         "0.8548014075332733"
        ],
        [
         "INTU",
         "0.8436808895658551"
        ],
        [
         "TTWO",
         "0.7854630880508573"
        ],
        [
         "WMT",
         "0.7734195263477557"
        ]
       ],
       "shape": {
        "columns": 1,
        "rows": 5
       }
      },
      "text/html": [
       "<div>\n",
       "<style scoped>\n",
       "    .dataframe tbody tr th:only-of-type {\n",
       "        vertical-align: middle;\n",
       "    }\n",
       "\n",
       "    .dataframe tbody tr th {\n",
       "        vertical-align: top;\n",
       "    }\n",
       "\n",
       "    .dataframe thead th {\n",
       "        text-align: right;\n",
       "    }\n",
       "</style>\n",
       "<table border=\"1\" class=\"dataframe\">\n",
       "  <thead>\n",
       "    <tr style=\"text-align: right;\">\n",
       "      <th></th>\n",
       "      <th>Annualized Sharpe</th>\n",
       "    </tr>\n",
       "  </thead>\n",
       "  <tbody>\n",
       "    <tr>\n",
       "      <th>WM</th>\n",
       "      <td>0.929781</td>\n",
       "    </tr>\n",
       "    <tr>\n",
       "      <th>GOOGL</th>\n",
       "      <td>0.854801</td>\n",
       "    </tr>\n",
       "    <tr>\n",
       "      <th>INTU</th>\n",
       "      <td>0.843681</td>\n",
       "    </tr>\n",
       "    <tr>\n",
       "      <th>TTWO</th>\n",
       "      <td>0.785463</td>\n",
       "    </tr>\n",
       "    <tr>\n",
       "      <th>WMT</th>\n",
       "      <td>0.773420</td>\n",
       "    </tr>\n",
       "  </tbody>\n",
       "</table>\n",
       "</div>"
      ],
      "text/plain": [
       "       Annualized Sharpe\n",
       "WM              0.929781\n",
       "GOOGL           0.854801\n",
       "INTU            0.843681\n",
       "TTWO            0.785463\n",
       "WMT             0.773420"
      ]
     },
     "metadata": {},
     "output_type": "display_data"
    }
   ],
   "source": [
    "sample = rets.loc[:'2024-12-31']\n",
    "\n",
    "ss = calc_summary_statistics(\n",
    "    sample,\n",
    "    annual_factor=52,\n",
    "    provided_excess_returns=True,\n",
    "    return_tangency_weights=False,\n",
    "    correlations=False\n",
    ")\n",
    "\n",
    "top5_sharpe = ss[['Annualized Sharpe']].sort_values('Annualized Sharpe', ascending=False).head(5)\n",
    "display(top5_sharpe)"
   ]
  },
  {
   "cell_type": "markdown",
   "metadata": {},
   "source": [
    "#### 1.2. Display the correlation matrix for the first ten stocks (columns) over the sample period.\n",
    "* On average, are these stocks highly correlated? Explain.\n",
    "* Which of these stocks offer the best diversification benefits?"
   ]
  },
  {
   "cell_type": "code",
   "execution_count": 5,
   "metadata": {},
   "outputs": [
    {
     "name": "stdout",
     "output_type": "stream",
     "text": [
      "The highest correlation (58.16%) is between AOS and CBRE\n",
      "The lowest correlation (12.74%) is between CCI and CF\n",
      "Average correlation (first 10): 0.347\n"
     ]
    },
    {
     "data": {
      "image/png": "[encoded data removed]",
      "text/plain": [
       "<Figure size 1050x700 with 2 Axes>"
      ]
     },
     "metadata": {},
     "output_type": "display_data"
    }
   ],
   "source": [
    "subset10 = sample.iloc[:, :10]\n",
    "\n",
    "_ = calc_correlations(subset10, print_highest_lowest=True, return_heatmap=True)\n",
    "\n",
    "# Matrix (for math)\n",
    "corr_matrix = calc_correlations(subset10, print_highest_lowest=False, return_heatmap=False)\n",
    "# display(corr_matrix)\n",
    "\n",
    "avg_corr = corr_matrix.values[np.triu_indices_from(corr_matrix, k=1)].mean()\n",
    "print(f\"Average correlation (first 10): {avg_corr:.3f}\")"
   ]
  },
  {
   "cell_type": "code",
   "execution_count": 6,
   "metadata": {},
   "outputs": [
    {
     "data": {
      "application/vnd.microsoft.datawrangler.viewer.v0+json": {
       "columns": [
        {
         "name": "index",
         "rawType": "object",
         "type": "string"
        },
        {
         "name": "0",
         "rawType": "float64",
         "type": "float"
        }
       ],
       "ref": "277c235e-ff29-4c8d-951e-85ba3dbe5c08",
       "rows": [
        [
         "CHRW",
         "0.33188866122992355"
        ],
        [
         "CF",
         "0.357514712233394"
        ],
        [
         "CCI",
         "0.3843304034197689"
        ]
       ],
       "shape": {
        "columns": 1,
        "rows": 3
       }
      },
      "text/plain": [
       "CHRW    0.331889\n",
       "CF      0.357515\n",
       "CCI     0.384330\n",
       "dtype: float64"
      ]
     },
     "metadata": {},
     "output_type": "display_data"
    }
   ],
   "source": [
    "avg_corr_by_stock = corr_matrix.mean().sort_values()\n",
    "display(avg_corr_by_stock.head(3))"
   ]
  },
  {
   "cell_type": "markdown",
   "metadata": {},
   "source": [
    "* The stocks on average are fairly unccorelated with the coorelations for all of them being bounded between 12.74% and 58.16% with most hovering in the middle with the average being 0.347%\n",
    "* The stocks that offer the best diversifcation benefits are: CHRW, CF and CCI\n"
   ]
  },
  {
   "cell_type": "markdown",
   "metadata": {},
   "source": [
    "## 2. In-Sample Tangency (excess returns)"
   ]
  },
  {
   "cell_type": "markdown",
   "metadata": {},
   "source": [
    "#### Note\n",
    "Consider `in-sample` to be all the data through the end of `2024`."
   ]
  },
  {
   "cell_type": "markdown",
   "metadata": {},
   "source": [
    "#### 2.1. Construct the tangency portfolio\n",
    "\n",
    "Using just the in-sample data (through `2024`), calculate the tangency portfolio weights, assuming we have excess returns (existence of a risk-free rate.)\n",
    "   * Display the ten largest portfolio weights.\n",
    "   * Plot the Sharpe ratios against the portfolio weights. "
   ]
  },
  {
   "cell_type": "code",
   "execution_count": 7,
   "metadata": {},
   "outputs": [
    {
     "data": {
      "application/vnd.microsoft.datawrangler.viewer.v0+json": {
       "columns": [
        {
         "name": "index",
         "rawType": "object",
         "type": "string"
        },
        {
         "name": "Tangency Weights",
         "rawType": "float64",
         "type": "float"
        }
       ],
       "ref": "b74b2d24-9f3e-4b38-96bf-a5c43c819486",
       "rows": [
        [
         "DTE",
         "0.4524306173761936"
        ],
        [
         "WM",
         "0.3649309236953458"
        ],
        [
         "GOOGL",
         "0.20568827183424812"
        ],
        [
         "TTWO",
         "0.19886181517913973"
        ],
        [
         "DE",
         "0.19145375666962638"
        ],
        [
         "WMT",
         "0.1851394755510301"
        ],
        [
         "MRK",
         "0.1685377239061204"
        ],
        [
         "CBRE",
         "0.16700810946401723"
        ],
        [
         "PG",
         "0.08795882280975716"
        ],
        [
         "INTU",
         "0.08454158502200507"
        ]
       ],
       "shape": {
        "columns": 1,
        "rows": 10
       }
      },
      "text/plain": [
       "DTE      0.452431\n",
       "WM       0.364931\n",
       "GOOGL    0.205688\n",
       "TTWO     0.198862\n",
       "DE       0.191454\n",
       "WMT      0.185139\n",
       "MRK      0.168538\n",
       "CBRE     0.167008\n",
       "PG       0.087959\n",
       "INTU     0.084542\n",
       "Name: Tangency Weights, dtype: float64"
      ]
     },
     "metadata": {},
     "output_type": "display_data"
    },
    {
     "data": {
      "image/png": "[encoded data removed]",
      "text/plain": [
       "<Figure size 640x480 with 1 Axes>"
      ]
     },
     "metadata": {},
     "output_type": "display_data"
    },
    {
     "data": {
      "image/png": "[encoded data removed]",
      "text/plain": [
       "<Figure size 640x480 with 1 Axes>"
      ]
     },
     "metadata": {},
     "output_type": "display_data"
    }
   ],
   "source": [
    "# ===== 2.1 Tangency Portfolio (in-sample through 2024) =====\n",
    "in_sample = rets.loc[:'2024-12-31']\n",
    "\n",
    "# Compute tangency weights (already assumes excess returns)\n",
    "tangency_wts = calc_tangency_weights(\n",
    "    in_sample,\n",
    "    annual_factor=52,\n",
    "    name='Tangency'\n",
    ")\n",
    "\n",
    "# Display top 10 largest weights\n",
    "top10_wts = tangency_wts['Tangency Weights'].sort_values(ascending=False).head(10)\n",
    "display(top10_wts)\n",
    "\n",
    "# Compute Sharpe ratios\n",
    "ss = calc_summary_statistics(\n",
    "    in_sample,\n",
    "    annual_factor=52,\n",
    "    provided_excess_returns=True,\n",
    "    return_tangency_weights=False,\n",
    "    correlations=False\n",
    ")\n",
    "\n",
    "# In-sample data\n",
    "in_sample = rets.loc[:'2024-12-31']\n",
    "\n",
    "# 1) Show the built-in weights plot (helper has this)\n",
    "_ = calc_tangency_weights(in_sample, annual_factor=52, name='Tangency', return_graphic=True)\n",
    "\n",
    "# 2) Get both Sharpe and Tangency Weights from ONE helper, then plot scatter\n",
    "sw = calc_summary_statistics(\n",
    "    in_sample,\n",
    "    annual_factor=52,\n",
    "    provided_excess_returns=True,\n",
    "    keep_columns=['Tangency Weights', 'Annualized Sharpe'],   # <- helper returns both\n",
    "    return_tangency_weights=True,\n",
    "    correlations=False\n",
    ")\n",
    "\n",
    "# Scatter: Sharpe vs. Tangency Weights\n",
    "sw.plot.scatter(x='Tangency Weights', y='Annualized Sharpe', title='Sharpe Ratio vs Tangency Weights', grid=True)\n",
    "plt.show()\n"
   ]
  },
  {
   "cell_type": "markdown",
   "metadata": {},
   "source": [
    "#### 2.2.\n",
    "\n",
    "Compare the relationship between tangency portfolio weights and individual sharpe ratios."
   ]
  },
  {
   "cell_type": "markdown",
   "metadata": {},
   "source": [
    "The scatter shows a positive relationship - assets with higher individual Sharpe ratios tend to receive larger positive tangency weights, while those with low or negative Sharpe ratios often have small or negative weights.\n",
    "\n",
    "However there are some outliers noticably bottomthe one in the very bottom left and then also the point that is the furthest right"
   ]
  },
  {
   "cell_type": "markdown",
   "metadata": {},
   "source": [
    "#### 2.3. Performance of the Tangency\n",
    "\n",
    "Continue with the in-sample tangency portfolio constructed above, and analyze how it performs in-sample (through `2024`.)\n",
    "\n",
    "   Report the (annualized)\n",
    "   * mean\n",
    "   * volatility\n",
    "   * Sharpe ratio\n",
    "   * skewness (not annualized)\n",
    "   \n",
    "   Plot the cumulative return of the tangency portfolio over the sample period."
   ]
  },
  {
   "cell_type": "code",
   "execution_count": 8,
   "metadata": {},
   "outputs": [
    {
     "data": {
      "application/vnd.microsoft.datawrangler.viewer.v0+json": {
       "columns": [
        {
         "name": "index",
         "rawType": "object",
         "type": "string"
        },
        {
         "name": "Tangency Portfolio",
         "rawType": "float64",
         "type": "float"
        }
       ],
       "ref": "7a20217f-326b-4792-aed4-c6bcad0f5490",
       "rows": [
        [
         "Annualized Mean",
         "0.2993487890496924"
        ],
        [
         "Annualized Vol",
         "0.18105863164223157"
        ],
        [
         "Annualized Sharpe",
         "1.6533251485143217"
        ],
        [
         "Skewness",
         "-0.08296017460044354"
        ]
       ],
       "shape": {
        "columns": 1,
        "rows": 4
       }
      },
      "text/html": [
       "<div>\n",
       "<style scoped>\n",
       "    .dataframe tbody tr th:only-of-type {\n",
       "        vertical-align: middle;\n",
       "    }\n",
       "\n",
       "    .dataframe tbody tr th {\n",
       "        vertical-align: top;\n",
       "    }\n",
       "\n",
       "    .dataframe thead th {\n",
       "        text-align: right;\n",
       "    }\n",
       "</style>\n",
       "<table border=\"1\" class=\"dataframe\">\n",
       "  <thead>\n",
       "    <tr style=\"text-align: right;\">\n",
       "      <th></th>\n",
       "      <th>Tangency Portfolio</th>\n",
       "    </tr>\n",
       "  </thead>\n",
       "  <tbody>\n",
       "    <tr>\n",
       "      <th>Annualized Mean</th>\n",
       "      <td>0.299349</td>\n",
       "    </tr>\n",
       "    <tr>\n",
       "      <th>Annualized Vol</th>\n",
       "      <td>0.181059</td>\n",
       "    </tr>\n",
       "    <tr>\n",
       "      <th>Annualized Sharpe</th>\n",
       "      <td>1.653325</td>\n",
       "    </tr>\n",
       "    <tr>\n",
       "      <th>Skewness</th>\n",
       "      <td>-0.082960</td>\n",
       "    </tr>\n",
       "  </tbody>\n",
       "</table>\n",
       "</div>"
      ],
      "text/plain": [
       "                   Tangency Portfolio\n",
       "Annualized Mean              0.299349\n",
       "Annualized Vol               0.181059\n",
       "Annualized Sharpe            1.653325\n",
       "Skewness                    -0.082960"
      ]
     },
     "metadata": {},
     "output_type": "display_data"
    },
    {
     "data": {
      "image/png": "[encoded data removed]",
      "text/plain": [
       "<Figure size 700x500 with 1 Axes>"
      ]
     },
     "metadata": {},
     "output_type": "display_data"
    }
   ],
   "source": [
    "in_sample = rets.loc[:'2024-12-31']\n",
    "\n",
    "# Use the previously computed tangency weights\n",
    "tangency_port_rets = calc_tangency_weights(\n",
    "    in_sample,\n",
    "    annual_factor=52,\n",
    "    name='Tangency',\n",
    "    return_port_ret=True\n",
    ")\n",
    "\n",
    "# Summary statistics\n",
    "tangency_stats = calc_summary_statistics(\n",
    "    tangency_port_rets,\n",
    "    annual_factor=52,\n",
    "    provided_excess_returns=True,\n",
    "    return_tangency_weights=False,\n",
    "    correlations=False,\n",
    "    keep_columns=['Annualized Mean', 'Annualized Vol', 'Annualized Sharpe', 'Skewness']\n",
    ").T\n",
    "\n",
    "display(tangency_stats)\n",
    "\n",
    "# Plot cumulative returns\n",
    "calc_cummulative_returns(tangency_port_rets, name='Tangency Portfolio', return_plot=True)\n"
   ]
  },
  {
   "cell_type": "markdown",
   "metadata": {},
   "source": [
    "## 3. Hedging the Tangency Portfolio\n",
    "\n",
    "Continue with the in-sample (through 2024) tangency returns calculated in the previous problem.\n",
    "\n",
    "#### 3.1.\n",
    "\n",
    "Compute portfolio returns and regress on `SPY` to get $\\hat{\\beta}$. \n",
    "\n",
    "Include an intercept in the regression.\n",
    "\n",
    "Report $\\hat{\\beta}$.\n",
    "\n",
    "#### 3.2. \n",
    "\n",
    "Calculate the returns to the hedged position.\n",
    "\n",
    "   Report the (annualized)\n",
    "   * mean\n",
    "   * volatility\n",
    "   * Sharpe ratio\n",
    "   * skewness (not annualized)\n",
    "   "
   ]
  },
  {
   "cell_type": "code",
   "execution_count": 9,
   "metadata": {},
   "outputs": [
    {
     "name": "stdout",
     "output_type": "stream",
     "text": [
      "Estimated beta (β̂): 0.605\n"
     ]
    }
   ],
   "source": [
    "#3.1\n",
    "in_sample = rets.loc[:'2024-12-31']\n",
    "spy_in_sample = spy.loc[:'2024-12-31']\n",
    "\n",
    "# Standardize column names\n",
    "tp = tangency_port_rets.copy()\n",
    "tp.columns = ['Tangency']\n",
    "\n",
    "sp = spy_in_sample.copy()\n",
    "sp.columns = ['SPY']\n",
    "\n",
    "# Align and regress\n",
    "df_reg = tp.join(sp, how='inner').dropna()\n",
    "y = df_reg[['Tangency']]\n",
    "x = sm.add_constant(df_reg[['SPY']])\n",
    "model = sm.OLS(y, x).fit()\n",
    "beta_hat = model.params['SPY']\n",
    "print(f\"Estimated beta (β̂): {beta_hat:.3f}\")\n"
   ]
  },
  {
   "cell_type": "code",
   "execution_count": 10,
   "metadata": {},
   "outputs": [
    {
     "data": {
      "application/vnd.microsoft.datawrangler.viewer.v0+json": {
       "columns": [
        {
         "name": "index",
         "rawType": "object",
         "type": "string"
        },
        {
         "name": "Hedged Tangency",
         "rawType": "float64",
         "type": "float"
        }
       ],
       "ref": "222ef028-05be-4748-8d94-ee7bbecac034",
       "rows": [
        [
         "Annualized Mean",
         "0.2159803479855404"
        ],
        [
         "Annualized Vol",
         "0.14994658659086435"
        ],
        [
         "Annualized Sharpe",
         "1.4403818912854078"
        ],
        [
         "Skewness",
         "0.16967148340665275"
        ]
       ],
       "shape": {
        "columns": 1,
        "rows": 4
       }
      },
      "text/html": [
       "<div>\n",
       "<style scoped>\n",
       "    .dataframe tbody tr th:only-of-type {\n",
       "        vertical-align: middle;\n",
       "    }\n",
       "\n",
       "    .dataframe tbody tr th {\n",
       "        vertical-align: top;\n",
       "    }\n",
       "\n",
       "    .dataframe thead th {\n",
       "        text-align: right;\n",
       "    }\n",
       "</style>\n",
       "<table border=\"1\" class=\"dataframe\">\n",
       "  <thead>\n",
       "    <tr style=\"text-align: right;\">\n",
       "      <th></th>\n",
       "      <th>Hedged Tangency</th>\n",
       "    </tr>\n",
       "  </thead>\n",
       "  <tbody>\n",
       "    <tr>\n",
       "      <th>Annualized Mean</th>\n",
       "      <td>0.215980</td>\n",
       "    </tr>\n",
       "    <tr>\n",
       "      <th>Annualized Vol</th>\n",
       "      <td>0.149947</td>\n",
       "    </tr>\n",
       "    <tr>\n",
       "      <th>Annualized Sharpe</th>\n",
       "      <td>1.440382</td>\n",
       "    </tr>\n",
       "    <tr>\n",
       "      <th>Skewness</th>\n",
       "      <td>0.169671</td>\n",
       "    </tr>\n",
       "  </tbody>\n",
       "</table>\n",
       "</div>"
      ],
      "text/plain": [
       "                   Hedged Tangency\n",
       "Annualized Mean           0.215980\n",
       "Annualized Vol            0.149947\n",
       "Annualized Sharpe         1.440382\n",
       "Skewness                  0.169671"
      ]
     },
     "metadata": {},
     "output_type": "display_data"
    },
    {
     "data": {
      "image/png": "[encoded data removed]",
      "text/plain": [
       "<Figure size 700x500 with 1 Axes>"
      ]
     },
     "metadata": {},
     "output_type": "display_data"
    }
   ],
   "source": [
    "# 3.2 Hedged returns and stats\n",
    "hedged_rets = (df_reg['Tangency'] - beta_hat * df_reg['SPY']).to_frame('Hedged Tangency')\n",
    "\n",
    "hedged_stats = calc_summary_statistics(\n",
    "    hedged_rets,\n",
    "    annual_factor=52,\n",
    "    provided_excess_returns=True,\n",
    "    return_tangency_weights=False,\n",
    "    correlations=False,\n",
    "    keep_columns=['Annualized Mean','Annualized Vol','Annualized Sharpe','Skewness']\n",
    ").T\n",
    "display(hedged_stats)\n",
    "\n",
    "# Cumulative returns plot (optional)\n",
    "calc_cummulative_returns(pd.concat([tp, hedged_rets], axis=1),\n",
    "                         name='Tangency vs Hedged Tangency', return_plot=True)"
   ]
  },
  {
   "cell_type": "markdown",
   "metadata": {},
   "source": [
    "## 4. Out-of-Sample\n",
    "\n",
    "#### 4.1. Tangency Portfolio Performance: Out-of-Sample (OOS)\n",
    "\n",
    "Use the weights of the tangency portfolio calculated above.\n",
    "\n",
    "Compute the out-of-sample returns (`2025`), and just for this OOS portion, report the (annualized)\n",
    "* mean\n",
    "* volatility\n",
    "* Sharpe ratio\n",
    "* skewness (not annualized)\n",
    "   \n",
    "   \n",
    "#### 4.2. Cumulative performance\n",
    "\n",
    "* Include the OOS performance in the cumulative return plot (in addition to the in-sample performance).\n",
    "\n",
    "Show the plot."
   ]
  },
  {
   "cell_type": "code",
   "execution_count": 11,
   "metadata": {},
   "outputs": [
    {
     "data": {
      "application/vnd.microsoft.datawrangler.viewer.v0+json": {
       "columns": [
        {
         "name": "index",
         "rawType": "object",
         "type": "string"
        },
        {
         "name": "Tangency OOS",
         "rawType": "float64",
         "type": "float"
        }
       ],
       "ref": "f0ee9128-f427-4e95-856f-310aa218fb8f",
       "rows": [
        [
         "Annualized Mean",
         "0.43455414697023925"
        ],
        [
         "Annualized Vol",
         "0.21690820538939448"
        ],
        [
         "Annualized Sharpe",
         "2.0034011446921793"
        ],
        [
         "Skewness",
         "-0.28526445381781473"
        ]
       ],
       "shape": {
        "columns": 1,
        "rows": 4
       }
      },
      "text/html": [
       "<div>\n",
       "<style scoped>\n",
       "    .dataframe tbody tr th:only-of-type {\n",
       "        vertical-align: middle;\n",
       "    }\n",
       "\n",
       "    .dataframe tbody tr th {\n",
       "        vertical-align: top;\n",
       "    }\n",
       "\n",
       "    .dataframe thead th {\n",
       "        text-align: right;\n",
       "    }\n",
       "</style>\n",
       "<table border=\"1\" class=\"dataframe\">\n",
       "  <thead>\n",
       "    <tr style=\"text-align: right;\">\n",
       "      <th></th>\n",
       "      <th>Tangency OOS</th>\n",
       "    </tr>\n",
       "  </thead>\n",
       "  <tbody>\n",
       "    <tr>\n",
       "      <th>Annualized Mean</th>\n",
       "      <td>0.434554</td>\n",
       "    </tr>\n",
       "    <tr>\n",
       "      <th>Annualized Vol</th>\n",
       "      <td>0.216908</td>\n",
       "    </tr>\n",
       "    <tr>\n",
       "      <th>Annualized Sharpe</th>\n",
       "      <td>2.003401</td>\n",
       "    </tr>\n",
       "    <tr>\n",
       "      <th>Skewness</th>\n",
       "      <td>-0.285264</td>\n",
       "    </tr>\n",
       "  </tbody>\n",
       "</table>\n",
       "</div>"
      ],
      "text/plain": [
       "                   Tangency OOS\n",
       "Annualized Mean        0.434554\n",
       "Annualized Vol         0.216908\n",
       "Annualized Sharpe      2.003401\n",
       "Skewness              -0.285264"
      ]
     },
     "metadata": {},
     "output_type": "display_data"
    }
   ],
   "source": [
    "#4.1\n",
    "# Split data\n",
    "oos = rets.loc['2025-01-01':]        # out-of-sample\n",
    "in_sample = rets.loc[:'2024-12-31']  # in-sample\n",
    "\n",
    "# Use the same tangency weights (from 2.1)\n",
    "tangency_wts = calc_tangency_weights(\n",
    "    in_sample,\n",
    "    annual_factor=52,\n",
    "    name='Tangency'\n",
    ")\n",
    "\n",
    "# Compute OOS returns using those weights\n",
    "tangency_oos_rets = (oos @ tangency_wts).rename(columns={'Tangency Weights': 'Tangency OOS'})\n",
    "\n",
    "# Summary statistics\n",
    "tangency_oos_stats = calc_summary_statistics(\n",
    "    tangency_oos_rets,\n",
    "    annual_factor=52,\n",
    "    provided_excess_returns=True,\n",
    "    return_tangency_weights=False,\n",
    "    correlations=False,\n",
    "    keep_columns=['Annualized Mean', 'Annualized Vol', 'Annualized Sharpe', 'Skewness']\n",
    ").T\n",
    "\n",
    "display(tangency_oos_stats)"
   ]
  },
  {
   "cell_type": "code",
   "execution_count": 12,
   "metadata": {},
   "outputs": [
    {
     "data": {
      "image/png": "[encoded data removed]",
      "text/plain": [
       "<Figure size 700x500 with 1 Axes>"
      ]
     },
     "metadata": {},
     "output_type": "display_data"
    }
   ],
   "source": [
    "#4.2\n",
    "# Combine in-sample and OOS returns\n",
    "combined_rets = pd.concat(\n",
    "    [calc_tangency_weights(in_sample, return_port_ret=True, annual_factor=52, name='Tangency'),\n",
    "     tangency_oos_rets],\n",
    "    axis=0\n",
    ").sort_index()\n",
    "\n",
    "# Plot cumulative returns (in-sample + OOS)\n",
    "calc_cummulative_returns(combined_rets, name='Tangency Portfolio (In-sample + OOS)', return_plot=True)"
   ]
  },
  {
   "cell_type": "markdown",
   "metadata": {},
   "source": [
    "## 5. Optimizing Hedged Returns\n",
    "\n",
    "#### 5.1. Construct Market-Hedged Returns\n",
    "\n",
    "Active managers might optimize their portfolios using market-hedged returns to focus on alpha generation (maximize portion of returns orthogonal to the market). Market-hedged returns are the residuals from regressing each stock’s excess return on the market’s excess return (e.g., `SPY`), effectively removing market beta to isolate stock-specific (idiosyncratic) performance.\n",
    "\n",
    "* Regress each stock's excess return on the SPY index (quoted in excess return) over the sample period. \n",
    "* Include an intercept.\n",
    "* Report your betas."
   ]
  },
  {
   "cell_type": "code",
   "execution_count": 13,
   "metadata": {},
   "outputs": [
    {
     "data": {
      "application/vnd.microsoft.datawrangler.viewer.v0+json": {
       "columns": [
        {
         "name": "index",
         "rawType": "object",
         "type": "string"
        },
        {
         "name": "Beta_to_SPY",
         "rawType": "float64",
         "type": "float"
        }
       ],
       "ref": "79160a6c-25c6-4407-8a3d-ec68d70943b4",
       "rows": [
        [
         "MGM",
         "1.8320028561144086"
        ],
        [
         "ADSK",
         "1.3461201015687385"
        ],
        [
         "CBRE",
         "1.3251401310219244"
        ],
        [
         "PNR",
         "1.29898651367227"
        ],
        [
         "INTU",
         "1.291142121102065"
        ],
        [
         "BKNG",
         "1.2700307061013478"
        ],
        [
         "DE",
         "1.1275422502448316"
        ],
        [
         "MTD",
         "1.0837384449872196"
        ],
        [
         "GOOGL",
         "1.071698386800745"
        ],
        [
         "AOS",
         "1.0505601653293184"
        ],
        [
         "GD",
         "0.9910414094161296"
        ],
        [
         "CF",
         "0.9879630431334362"
        ],
        [
         "VTRS",
         "0.9692130292812378"
        ],
        [
         "STE",
         "0.9218698674520976"
        ],
        [
         "SBAC",
         "0.8284676785572515"
        ],
        [
         "DGX",
         "0.7507645827608602"
        ],
        [
         "CCI",
         "0.7374626650909737"
        ],
        [
         "TTWO",
         "0.7261776401331658"
        ],
        [
         "DTE",
         "0.6998211116414548"
        ],
        [
         "ES",
         "0.6769169423350391"
        ],
        [
         "WM",
         "0.637040759418747"
        ],
        [
         "CHRW",
         "0.5943241632774173"
        ],
        [
         "PG",
         "0.5544950835244613"
        ],
        [
         "WMT",
         "0.501649250933942"
        ],
        [
         "MRK",
         "0.46709994844740027"
        ]
       ],
       "shape": {
        "columns": 1,
        "rows": 25
       }
      },
      "text/html": [
       "<div>\n",
       "<style scoped>\n",
       "    .dataframe tbody tr th:only-of-type {\n",
       "        vertical-align: middle;\n",
       "    }\n",
       "\n",
       "    .dataframe tbody tr th {\n",
       "        vertical-align: top;\n",
       "    }\n",
       "\n",
       "    .dataframe thead th {\n",
       "        text-align: right;\n",
       "    }\n",
       "</style>\n",
       "<table border=\"1\" class=\"dataframe\">\n",
       "  <thead>\n",
       "    <tr style=\"text-align: right;\">\n",
       "      <th></th>\n",
       "      <th>Beta_to_SPY</th>\n",
       "    </tr>\n",
       "  </thead>\n",
       "  <tbody>\n",
       "    <tr>\n",
       "      <th>MGM</th>\n",
       "      <td>1.832003</td>\n",
       "    </tr>\n",
       "    <tr>\n",
       "      <th>ADSK</th>\n",
       "      <td>1.346120</td>\n",
       "    </tr>\n",
       "    <tr>\n",
       "      <th>CBRE</th>\n",
       "      <td>1.325140</td>\n",
       "    </tr>\n",
       "    <tr>\n",
       "      <th>PNR</th>\n",
       "      <td>1.298987</td>\n",
       "    </tr>\n",
       "    <tr>\n",
       "      <th>INTU</th>\n",
       "      <td>1.291142</td>\n",
       "    </tr>\n",
       "    <tr>\n",
       "      <th>BKNG</th>\n",
       "      <td>1.270031</td>\n",
       "    </tr>\n",
       "    <tr>\n",
       "      <th>DE</th>\n",
       "      <td>1.127542</td>\n",
       "    </tr>\n",
       "    <tr>\n",
       "      <th>MTD</th>\n",
       "      <td>1.083738</td>\n",
       "    </tr>\n",
       "    <tr>\n",
       "      <th>GOOGL</th>\n",
       "      <td>1.071698</td>\n",
       "    </tr>\n",
       "    <tr>\n",
       "      <th>AOS</th>\n",
       "      <td>1.050560</td>\n",
       "    </tr>\n",
       "    <tr>\n",
       "      <th>GD</th>\n",
       "      <td>0.991041</td>\n",
       "    </tr>\n",
       "    <tr>\n",
       "      <th>CF</th>\n",
       "      <td>0.987963</td>\n",
       "    </tr>\n",
       "    <tr>\n",
       "      <th>VTRS</th>\n",
       "      <td>0.969213</td>\n",
       "    </tr>\n",
       "    <tr>\n",
       "      <th>STE</th>\n",
       "      <td>0.921870</td>\n",
       "    </tr>\n",
       "    <tr>\n",
       "      <th>SBAC</th>\n",
       "      <td>0.828468</td>\n",
       "    </tr>\n",
       "    <tr>\n",
       "      <th>DGX</th>\n",
       "      <td>0.750765</td>\n",
       "    </tr>\n",
       "    <tr>\n",
       "      <th>CCI</th>\n",
       "      <td>0.737463</td>\n",
       "    </tr>\n",
       "    <tr>\n",
       "      <th>TTWO</th>\n",
       "      <td>0.726178</td>\n",
       "    </tr>\n",
       "    <tr>\n",
       "      <th>DTE</th>\n",
       "      <td>0.699821</td>\n",
       "    </tr>\n",
       "    <tr>\n",
       "      <th>ES</th>\n",
       "      <td>0.676917</td>\n",
       "    </tr>\n",
       "    <tr>\n",
       "      <th>WM</th>\n",
       "      <td>0.637041</td>\n",
       "    </tr>\n",
       "    <tr>\n",
       "      <th>CHRW</th>\n",
       "      <td>0.594324</td>\n",
       "    </tr>\n",
       "    <tr>\n",
       "      <th>PG</th>\n",
       "      <td>0.554495</td>\n",
       "    </tr>\n",
       "    <tr>\n",
       "      <th>WMT</th>\n",
       "      <td>0.501649</td>\n",
       "    </tr>\n",
       "    <tr>\n",
       "      <th>MRK</th>\n",
       "      <td>0.467100</td>\n",
       "    </tr>\n",
       "  </tbody>\n",
       "</table>\n",
       "</div>"
      ],
      "text/plain": [
       "       Beta_to_SPY\n",
       "MGM       1.832003\n",
       "ADSK      1.346120\n",
       "CBRE      1.325140\n",
       "PNR       1.298987\n",
       "INTU      1.291142\n",
       "BKNG      1.270031\n",
       "DE        1.127542\n",
       "MTD       1.083738\n",
       "GOOGL     1.071698\n",
       "AOS       1.050560\n",
       "GD        0.991041\n",
       "CF        0.987963\n",
       "VTRS      0.969213\n",
       "STE       0.921870\n",
       "SBAC      0.828468\n",
       "DGX       0.750765\n",
       "CCI       0.737463\n",
       "TTWO      0.726178\n",
       "DTE       0.699821\n",
       "ES        0.676917\n",
       "WM        0.637041\n",
       "CHRW      0.594324\n",
       "PG        0.554495\n",
       "WMT       0.501649\n",
       "MRK       0.467100"
      ]
     },
     "metadata": {},
     "output_type": "display_data"
    }
   ],
   "source": [
    "#5.1\n",
    "\n",
    "in_sample = rets.loc[:'2024-12-31']\n",
    "sp = spy.loc[:'2024-12-31'].iloc[:, 0].rename('SPY')\n",
    "\n",
    "df = in_sample.join(sp, how='inner').dropna()\n",
    "m = df['SPY']\n",
    "\n",
    "# Regress each stock on SPY with intercept; report betas (slope coefficients)\n",
    "X = sm.add_constant(m)\n",
    "betas = df.drop(columns='SPY').apply(lambda y: sm.OLS(y, X).fit().params['SPY'])\n",
    "betas = betas.sort_values(ascending=False).to_frame('Beta_to_SPY')\n",
    "display(betas)"
   ]
  },
  {
   "cell_type": "markdown",
   "metadata": {},
   "source": [
    "#### 5.2. The residuals\n",
    "\n",
    "Save the residuals from each regression as the market-hedged returns. \n",
    "\n",
    "Report the `.tail()` (last 5 observations) of the residual dataframe."
   ]
  },
  {
   "cell_type": "code",
   "execution_count": 14,
   "metadata": {},
   "outputs": [
    {
     "data": {
      "application/vnd.microsoft.datawrangler.viewer.v0+json": {
       "columns": [
        {
         "name": "date",
         "rawType": "datetime64[ns]",
         "type": "datetime"
        },
        {
         "name": "ADSK",
         "rawType": "float64",
         "type": "float"
        },
        {
         "name": "AOS",
         "rawType": "float64",
         "type": "float"
        },
        {
         "name": "BKNG",
         "rawType": "float64",
         "type": "float"
        },
        {
         "name": "CBRE",
         "rawType": "float64",
         "type": "float"
        },
        {
         "name": "CCI",
         "rawType": "float64",
         "type": "float"
        },
        {
         "name": "CF",
         "rawType": "float64",
         "type": "float"
        },
        {
         "name": "CHRW",
         "rawType": "float64",
         "type": "float"
        },
        {
         "name": "DE",
         "rawType": "float64",
         "type": "float"
        },
        {
         "name": "DGX",
         "rawType": "float64",
         "type": "float"
        },
        {
         "name": "DTE",
         "rawType": "float64",
         "type": "float"
        },
        {
         "name": "ES",
         "rawType": "float64",
         "type": "float"
        },
        {
         "name": "GD",
         "rawType": "float64",
         "type": "float"
        },
        {
         "name": "GOOGL",
         "rawType": "float64",
         "type": "float"
        },
        {
         "name": "INTU",
         "rawType": "float64",
         "type": "float"
        },
        {
         "name": "MGM",
         "rawType": "float64",
         "type": "float"
        },
        {
         "name": "MRK",
         "rawType": "float64",
         "type": "float"
        },
        {
         "name": "MTD",
         "rawType": "float64",
         "type": "float"
        },
        {
         "name": "PG",
         "rawType": "float64",
         "type": "float"
        },
        {
         "name": "PNR",
         "rawType": "float64",
         "type": "float"
        },
        {
         "name": "SBAC",
         "rawType": "float64",
         "type": "float"
        },
        {
         "name": "STE",
         "rawType": "float64",
         "type": "float"
        },
        {
         "name": "TTWO",
         "rawType": "float64",
         "type": "float"
        },
        {
         "name": "VTRS",
         "rawType": "float64",
         "type": "float"
        },
        {
         "name": "WM",
         "rawType": "float64",
         "type": "float"
        },
        {
         "name": "WMT",
         "rawType": "float64",
         "type": "float"
        }
       ],
       "ref": "6ceffb16-3751-445e-89f4-f88b551e0c7d",
       "rows": [
        [
         "2024-11-29 00:00:00",
         "-0.10804937484848134",
         "0.0019188606625024918",
         "-0.01070725508663855",
         "0.017987486431211695",
         "-0.000695384367596634",
         "-0.013378497771340514",
         "-0.026047430032427453",
         "0.028463447075019157",
         "-0.015035101664997363",
         "0.0010001254230615122",
         "0.01002925626845111",
         "-0.0034886265064406133",
         "0.011059572956984343",
         "-0.014044859014811194",
         "-0.005457394980350402",
         "0.01836453035275183",
         "0.013933557346203444",
         "0.009785217238723705",
         "0.00455654402952952",
         "0.015754051961349505",
         "0.01050515190080043",
         "-0.009922590119362482",
         "-0.028645211668113083",
         "0.007773198571108029",
         "0.015155500155956358"
        ],
        [
         "2024-12-06 00:00:00",
         "0.041694162272352335",
         "-0.0343679037307531",
         "0.00902115337125398",
         "-0.02665770811599131",
         "-0.04750814190061058",
         "-0.022482374185236412",
         "-0.0008989766111705735",
         "-0.0581542375296933",
         "-0.03967308220965164",
         "-0.039777869593093894",
         "-0.07842466461910952",
         "-0.051222786506894276",
         "0.02303245399033916",
         "-0.00518157682585838",
         "-0.05789632013680675",
         "0.00927263501876576",
         "-0.00462736594291214",
         "-0.03575162672479668",
         "-0.018764905392774457",
         "-0.03296328967108023",
         "-0.023136092303836134",
         "-0.0018392017756450208",
         "-0.03296939941916405",
         "-0.030387574720733054",
         "0.028523473020102257"
        ],
        [
         "2024-12-13 00:00:00",
         "-0.005548526706549991",
         "0.004610622977170595",
         "-0.006688628604040865",
         "0.003624791795719966",
         "-0.026478714266526603",
         "0.017587037099316825",
         "0.05979870474247123",
         "-0.0026450136373640703",
         "-0.010962193193243914",
         "0.0015629979528268556",
         "0.00017996737963366267",
         "-0.025678941518588246",
         "0.09236759993944145",
         "0.021787945028908098",
         "0.0015816271319516705",
         "-0.008723057778345488",
         "0.02103321173894113",
         "-0.013158806108749962",
         "-0.00044554979484801895",
         "-0.022560184287027663",
         "-0.00289304578805224",
         "-0.02055630723231819",
         "0.0024213182298059507",
         "-0.03836159406466188",
         "-0.011695594156665849"
        ],
        [
         "2024-12-20 00:00:00",
         "0.005347353394925928",
         "-0.03271826769469334",
         "-0.011464220199048827",
         "-0.035023812696196886",
         "-0.05256677201140232",
         "-0.03265110066842333",
         "-0.05247424461831983",
         "0.0013036623620024286",
         "0.0010228910347755311",
         "0.012541357168349697",
         "-0.01842108991688597",
         "0.0205933259414694",
         "0.026310504662853822",
         "0.002464317979135936",
         "-0.022173776261939525",
         "-0.02338847232958412",
         "-0.016891405537892347",
         "-0.007942742143602391",
         "-0.02417094162505961",
         "-0.03458761121550795",
         "-0.015143128727516681",
         "-0.008178751123086804",
         "0.012802919799084402",
         "-0.02457037286651684",
         "-0.01382597566173872"
        ],
        [
         "2024-12-27 00:00:00",
         "-0.011284931963047598",
         "-0.011037859202561274",
         "-0.011000732366671534",
         "0.0027109771564402113",
         "-0.00557670746152748",
         "-0.009408718252538006",
         "-0.008350814920627194",
         "-0.014286750935882445",
         "-0.008446469611864347",
         "0.004968754432517057",
         "0.0025960312464985993",
         "0.0034328589124426965",
         "-0.001650042568859908",
         "-0.017218524782500175",
         "0.007809196587632683",
         "0.012862214648097291",
         "-0.004778588057982293",
         "0.004561362229828404",
         "-0.015778537729302874",
         "-0.00701678837079305",
         "-0.004275749685778426",
         "0.017207528393456527",
         "-0.005774062022626256",
         "-0.014626952742028913",
         "-0.011255208695000652"
        ]
       ],
       "shape": {
        "columns": 25,
        "rows": 5
       }
      },
      "text/html": [
       "<div>\n",
       "<style scoped>\n",
       "    .dataframe tbody tr th:only-of-type {\n",
       "        vertical-align: middle;\n",
       "    }\n",
       "\n",
       "    .dataframe tbody tr th {\n",
       "        vertical-align: top;\n",
       "    }\n",
       "\n",
       "    .dataframe thead th {\n",
       "        text-align: right;\n",
       "    }\n",
       "</style>\n",
       "<table border=\"1\" class=\"dataframe\">\n",
       "  <thead>\n",
       "    <tr style=\"text-align: right;\">\n",
       "      <th></th>\n",
       "      <th>ADSK</th>\n",
       "      <th>AOS</th>\n",
       "      <th>BKNG</th>\n",
       "      <th>CBRE</th>\n",
       "      <th>CCI</th>\n",
       "      <th>CF</th>\n",
       "      <th>CHRW</th>\n",
       "      <th>DE</th>\n",
       "      <th>DGX</th>\n",
       "      <th>DTE</th>\n",
       "      <th>...</th>\n",
       "      <th>MRK</th>\n",
       "      <th>MTD</th>\n",
       "      <th>PG</th>\n",
       "      <th>PNR</th>\n",
       "      <th>SBAC</th>\n",
       "      <th>STE</th>\n",
       "      <th>TTWO</th>\n",
       "      <th>VTRS</th>\n",
       "      <th>WM</th>\n",
       "      <th>WMT</th>\n",
       "    </tr>\n",
       "    <tr>\n",
       "      <th>date</th>\n",
       "      <th></th>\n",
       "      <th></th>\n",
       "      <th></th>\n",
       "      <th></th>\n",
       "      <th></th>\n",
       "      <th></th>\n",
       "      <th></th>\n",
       "      <th></th>\n",
       "      <th></th>\n",
       "      <th></th>\n",
       "      <th></th>\n",
       "      <th></th>\n",
       "      <th></th>\n",
       "      <th></th>\n",
       "      <th></th>\n",
       "      <th></th>\n",
       "      <th></th>\n",
       "      <th></th>\n",
       "      <th></th>\n",
       "      <th></th>\n",
       "      <th></th>\n",
       "    </tr>\n",
       "  </thead>\n",
       "  <tbody>\n",
       "    <tr>\n",
       "      <th>2024-11-29</th>\n",
       "      <td>-0.108049</td>\n",
       "      <td>0.001919</td>\n",
       "      <td>-0.010707</td>\n",
       "      <td>0.017987</td>\n",
       "      <td>-0.000695</td>\n",
       "      <td>-0.013378</td>\n",
       "      <td>-0.026047</td>\n",
       "      <td>0.028463</td>\n",
       "      <td>-0.015035</td>\n",
       "      <td>0.001000</td>\n",
       "      <td>...</td>\n",
       "      <td>0.018365</td>\n",
       "      <td>0.013934</td>\n",
       "      <td>0.009785</td>\n",
       "      <td>0.004557</td>\n",
       "      <td>0.015754</td>\n",
       "      <td>0.010505</td>\n",
       "      <td>-0.009923</td>\n",
       "      <td>-0.028645</td>\n",
       "      <td>0.007773</td>\n",
       "      <td>0.015156</td>\n",
       "    </tr>\n",
       "    <tr>\n",
       "      <th>2024-12-06</th>\n",
       "      <td>0.041694</td>\n",
       "      <td>-0.034368</td>\n",
       "      <td>0.009021</td>\n",
       "      <td>-0.026658</td>\n",
       "      <td>-0.047508</td>\n",
       "      <td>-0.022482</td>\n",
       "      <td>-0.000899</td>\n",
       "      <td>-0.058154</td>\n",
       "      <td>-0.039673</td>\n",
       "      <td>-0.039778</td>\n",
       "      <td>...</td>\n",
       "      <td>0.009273</td>\n",
       "      <td>-0.004627</td>\n",
       "      <td>-0.035752</td>\n",
       "      <td>-0.018765</td>\n",
       "      <td>-0.032963</td>\n",
       "      <td>-0.023136</td>\n",
       "      <td>-0.001839</td>\n",
       "      <td>-0.032969</td>\n",
       "      <td>-0.030388</td>\n",
       "      <td>0.028523</td>\n",
       "    </tr>\n",
       "    <tr>\n",
       "      <th>2024-12-13</th>\n",
       "      <td>-0.005549</td>\n",
       "      <td>0.004611</td>\n",
       "      <td>-0.006689</td>\n",
       "      <td>0.003625</td>\n",
       "      <td>-0.026479</td>\n",
       "      <td>0.017587</td>\n",
       "      <td>0.059799</td>\n",
       "      <td>-0.002645</td>\n",
       "      <td>-0.010962</td>\n",
       "      <td>0.001563</td>\n",
       "      <td>...</td>\n",
       "      <td>-0.008723</td>\n",
       "      <td>0.021033</td>\n",
       "      <td>-0.013159</td>\n",
       "      <td>-0.000446</td>\n",
       "      <td>-0.022560</td>\n",
       "      <td>-0.002893</td>\n",
       "      <td>-0.020556</td>\n",
       "      <td>0.002421</td>\n",
       "      <td>-0.038362</td>\n",
       "      <td>-0.011696</td>\n",
       "    </tr>\n",
       "    <tr>\n",
       "      <th>2024-12-20</th>\n",
       "      <td>0.005347</td>\n",
       "      <td>-0.032718</td>\n",
       "      <td>-0.011464</td>\n",
       "      <td>-0.035024</td>\n",
       "      <td>-0.052567</td>\n",
       "      <td>-0.032651</td>\n",
       "      <td>-0.052474</td>\n",
       "      <td>0.001304</td>\n",
       "      <td>0.001023</td>\n",
       "      <td>0.012541</td>\n",
       "      <td>...</td>\n",
       "      <td>-0.023388</td>\n",
       "      <td>-0.016891</td>\n",
       "      <td>-0.007943</td>\n",
       "      <td>-0.024171</td>\n",
       "      <td>-0.034588</td>\n",
       "      <td>-0.015143</td>\n",
       "      <td>-0.008179</td>\n",
       "      <td>0.012803</td>\n",
       "      <td>-0.024570</td>\n",
       "      <td>-0.013826</td>\n",
       "    </tr>\n",
       "    <tr>\n",
       "      <th>2024-12-27</th>\n",
       "      <td>-0.011285</td>\n",
       "      <td>-0.011038</td>\n",
       "      <td>-0.011001</td>\n",
       "      <td>0.002711</td>\n",
       "      <td>-0.005577</td>\n",
       "      <td>-0.009409</td>\n",
       "      <td>-0.008351</td>\n",
       "      <td>-0.014287</td>\n",
       "      <td>-0.008446</td>\n",
       "      <td>0.004969</td>\n",
       "      <td>...</td>\n",
       "      <td>0.012862</td>\n",
       "      <td>-0.004779</td>\n",
       "      <td>0.004561</td>\n",
       "      <td>-0.015779</td>\n",
       "      <td>-0.007017</td>\n",
       "      <td>-0.004276</td>\n",
       "      <td>0.017208</td>\n",
       "      <td>-0.005774</td>\n",
       "      <td>-0.014627</td>\n",
       "      <td>-0.011255</td>\n",
       "    </tr>\n",
       "  </tbody>\n",
       "</table>\n",
       "<p>5 rows × 25 columns</p>\n",
       "</div>"
      ],
      "text/plain": [
       "                ADSK       AOS      BKNG      CBRE       CCI        CF  \\\n",
       "date                                                                     \n",
       "2024-11-29 -0.108049  0.001919 -0.010707  0.017987 -0.000695 -0.013378   \n",
       "2024-12-06  0.041694 -0.034368  0.009021 -0.026658 -0.047508 -0.022482   \n",
       "2024-12-13 -0.005549  0.004611 -0.006689  0.003625 -0.026479  0.017587   \n",
       "2024-12-20  0.005347 -0.032718 -0.011464 -0.035024 -0.052567 -0.032651   \n",
       "2024-12-27 -0.011285 -0.011038 -0.011001  0.002711 -0.005577 -0.009409   \n",
       "\n",
       "                CHRW        DE       DGX       DTE  ...       MRK       MTD  \\\n",
       "date                                                ...                       \n",
       "2024-11-29 -0.026047  0.028463 -0.015035  0.001000  ...  0.018365  0.013934   \n",
       "2024-12-06 -0.000899 -0.058154 -0.039673 -0.039778  ...  0.009273 -0.004627   \n",
       "2024-12-13  0.059799 -0.002645 -0.010962  0.001563  ... -0.008723  0.021033   \n",
       "2024-12-20 -0.052474  0.001304  0.001023  0.012541  ... -0.023388 -0.016891   \n",
       "2024-12-27 -0.008351 -0.014287 -0.008446  0.004969  ...  0.012862 -0.004779   \n",
       "\n",
       "                  PG       PNR      SBAC       STE      TTWO      VTRS  \\\n",
       "date                                                                     \n",
       "2024-11-29  0.009785  0.004557  0.015754  0.010505 -0.009923 -0.028645   \n",
       "2024-12-06 -0.035752 -0.018765 -0.032963 -0.023136 -0.001839 -0.032969   \n",
       "2024-12-13 -0.013159 -0.000446 -0.022560 -0.002893 -0.020556  0.002421   \n",
       "2024-12-20 -0.007943 -0.024171 -0.034588 -0.015143 -0.008179  0.012803   \n",
       "2024-12-27  0.004561 -0.015779 -0.007017 -0.004276  0.017208 -0.005774   \n",
       "\n",
       "                  WM       WMT  \n",
       "date                            \n",
       "2024-11-29  0.007773  0.015156  \n",
       "2024-12-06 -0.030388  0.028523  \n",
       "2024-12-13 -0.038362 -0.011696  \n",
       "2024-12-20 -0.024570 -0.013826  \n",
       "2024-12-27 -0.014627 -0.011255  \n",
       "\n",
       "[5 rows x 25 columns]"
      ]
     },
     "metadata": {},
     "output_type": "display_data"
    }
   ],
   "source": [
    "#5.2\n",
    "\n",
    "in_sample = rets.loc[:'2024-12-31']\n",
    "sp = spy.loc[:'2024-12-31'].iloc[:, 0].rename('SPY')\n",
    "\n",
    "df = in_sample.join(sp, how='inner').dropna()\n",
    "X = sm.add_constant(df[['SPY']])\n",
    "\n",
    "residuals = pd.DataFrame(index=df.index)\n",
    "for col in in_sample.columns:\n",
    "    y = df[col]\n",
    "    residuals[col] = sm.OLS(y, X).fit().resid  # market-hedged return for each stock\n",
    "\n",
    "display(residuals.tail())"
   ]
  },
  {
   "cell_type": "markdown",
   "metadata": {},
   "source": [
    "#### 5.3 Diversification Benefits of Market-Hedged Returns\n",
    "\n",
    "Display the covariance matrix of the market-hedged returns for the first ten stocks.\n"
   ]
  },
  {
   "cell_type": "code",
   "execution_count": 15,
   "metadata": {},
   "outputs": [
    {
     "data": {
      "application/vnd.microsoft.datawrangler.viewer.v0+json": {
       "columns": [
        {
         "name": "index",
         "rawType": "object",
         "type": "string"
        },
        {
         "name": "ADSK",
         "rawType": "float64",
         "type": "float"
        },
        {
         "name": "AOS",
         "rawType": "float64",
         "type": "float"
        },
        {
         "name": "BKNG",
         "rawType": "float64",
         "type": "float"
        },
        {
         "name": "CBRE",
         "rawType": "float64",
         "type": "float"
        },
        {
         "name": "CCI",
         "rawType": "float64",
         "type": "float"
        },
        {
         "name": "CF",
         "rawType": "float64",
         "type": "float"
        },
        {
         "name": "CHRW",
         "rawType": "float64",
         "type": "float"
        },
        {
         "name": "DE",
         "rawType": "float64",
         "type": "float"
        },
        {
         "name": "DGX",
         "rawType": "float64",
         "type": "float"
        },
        {
         "name": "DTE",
         "rawType": "float64",
         "type": "float"
        }
       ],
       "ref": "4722194d-834d-42fb-a9ca-5b1fc68088aa",
       "rows": [
        [
         "ADSK",
         "0.001427",
         "-1.5e-05",
         "0.00017",
         "1.2e-05",
         "1e-06",
         "-0.000182",
         "2.9e-05",
         "-0.00014",
         "-7.7e-05",
         "-0.000228"
        ],
        [
         "AOS",
         "-1.5e-05",
         "0.000854",
         "5.4e-05",
         "0.00023",
         "9.8e-05",
         "7e-05",
         "0.000168",
         "0.000215",
         "6.6e-05",
         "-2.2e-05"
        ],
        [
         "BKNG",
         "0.00017",
         "5.4e-05",
         "0.001104",
         "0.00018",
         "-0.00018",
         "6.9e-05",
         "-4.5e-05",
         "6.5e-05",
         "-0.000156",
         "-8.4e-05"
        ],
        [
         "CBRE",
         "1.2e-05",
         "0.00023",
         "0.00018",
         "0.00102",
         "7.5e-05",
         "0.000297",
         "-6e-05",
         "6.8e-05",
         "5.5e-05",
         "0.000149"
        ],
        [
         "CCI",
         "1e-06",
         "9.8e-05",
         "-0.00018",
         "7.5e-05",
         "0.000878",
         "-0.000154",
         "2.1e-05",
         "-0.000105",
         "0.000152",
         "0.00028"
        ],
        [
         "CF",
         "-0.000182",
         "7e-05",
         "6.9e-05",
         "0.000297",
         "-0.000154",
         "0.002509",
         "0.000151",
         "0.000489",
         "5.7e-05",
         "8.4e-05"
        ],
        [
         "CHRW",
         "2.9e-05",
         "0.000168",
         "-4.5e-05",
         "-6e-05",
         "2.1e-05",
         "0.000151",
         "0.001032",
         "0.000123",
         "-1.6e-05",
         "1e-05"
        ],
        [
         "DE",
         "-0.00014",
         "0.000215",
         "6.5e-05",
         "6.8e-05",
         "-0.000105",
         "0.000489",
         "0.000123",
         "0.001133",
         "-2.8e-05",
         "3.2e-05"
        ],
        [
         "DGX",
         "-7.7e-05",
         "6.6e-05",
         "-0.000156",
         "5.5e-05",
         "0.000152",
         "5.7e-05",
         "-1.6e-05",
         "-2.8e-05",
         "0.000786",
         "0.000201"
        ],
        [
         "DTE",
         "-0.000228",
         "-2.2e-05",
         "-8.4e-05",
         "0.000149",
         "0.00028",
         "8.4e-05",
         "1e-05",
         "3.2e-05",
         "0.000201",
         "0.000667"
        ]
       ],
       "shape": {
        "columns": 10,
        "rows": 10
       }
      },
      "text/html": [
       "<div>\n",
       "<style scoped>\n",
       "    .dataframe tbody tr th:only-of-type {\n",
       "        vertical-align: middle;\n",
       "    }\n",
       "\n",
       "    .dataframe tbody tr th {\n",
       "        vertical-align: top;\n",
       "    }\n",
       "\n",
       "    .dataframe thead th {\n",
       "        text-align: right;\n",
       "    }\n",
       "</style>\n",
       "<table border=\"1\" class=\"dataframe\">\n",
       "  <thead>\n",
       "    <tr style=\"text-align: right;\">\n",
       "      <th></th>\n",
       "      <th>ADSK</th>\n",
       "      <th>AOS</th>\n",
       "      <th>BKNG</th>\n",
       "      <th>CBRE</th>\n",
       "      <th>CCI</th>\n",
       "      <th>CF</th>\n",
       "      <th>CHRW</th>\n",
       "      <th>DE</th>\n",
       "      <th>DGX</th>\n",
       "      <th>DTE</th>\n",
       "    </tr>\n",
       "  </thead>\n",
       "  <tbody>\n",
       "    <tr>\n",
       "      <th>ADSK</th>\n",
       "      <td>0.001427</td>\n",
       "      <td>-0.000015</td>\n",
       "      <td>0.000170</td>\n",
       "      <td>0.000012</td>\n",
       "      <td>0.000001</td>\n",
       "      <td>-0.000182</td>\n",
       "      <td>0.000029</td>\n",
       "      <td>-0.000140</td>\n",
       "      <td>-0.000077</td>\n",
       "      <td>-0.000228</td>\n",
       "    </tr>\n",
       "    <tr>\n",
       "      <th>AOS</th>\n",
       "      <td>-0.000015</td>\n",
       "      <td>0.000854</td>\n",
       "      <td>0.000054</td>\n",
       "      <td>0.000230</td>\n",
       "      <td>0.000098</td>\n",
       "      <td>0.000070</td>\n",
       "      <td>0.000168</td>\n",
       "      <td>0.000215</td>\n",
       "      <td>0.000066</td>\n",
       "      <td>-0.000022</td>\n",
       "    </tr>\n",
       "    <tr>\n",
       "      <th>BKNG</th>\n",
       "      <td>0.000170</td>\n",
       "      <td>0.000054</td>\n",
       "      <td>0.001104</td>\n",
       "      <td>0.000180</td>\n",
       "      <td>-0.000180</td>\n",
       "      <td>0.000069</td>\n",
       "      <td>-0.000045</td>\n",
       "      <td>0.000065</td>\n",
       "      <td>-0.000156</td>\n",
       "      <td>-0.000084</td>\n",
       "    </tr>\n",
       "    <tr>\n",
       "      <th>CBRE</th>\n",
       "      <td>0.000012</td>\n",
       "      <td>0.000230</td>\n",
       "      <td>0.000180</td>\n",
       "      <td>0.001020</td>\n",
       "      <td>0.000075</td>\n",
       "      <td>0.000297</td>\n",
       "      <td>-0.000060</td>\n",
       "      <td>0.000068</td>\n",
       "      <td>0.000055</td>\n",
       "      <td>0.000149</td>\n",
       "    </tr>\n",
       "    <tr>\n",
       "      <th>CCI</th>\n",
       "      <td>0.000001</td>\n",
       "      <td>0.000098</td>\n",
       "      <td>-0.000180</td>\n",
       "      <td>0.000075</td>\n",
       "      <td>0.000878</td>\n",
       "      <td>-0.000154</td>\n",
       "      <td>0.000021</td>\n",
       "      <td>-0.000105</td>\n",
       "      <td>0.000152</td>\n",
       "      <td>0.000280</td>\n",
       "    </tr>\n",
       "    <tr>\n",
       "      <th>CF</th>\n",
       "      <td>-0.000182</td>\n",
       "      <td>0.000070</td>\n",
       "      <td>0.000069</td>\n",
       "      <td>0.000297</td>\n",
       "      <td>-0.000154</td>\n",
       "      <td>0.002509</td>\n",
       "      <td>0.000151</td>\n",
       "      <td>0.000489</td>\n",
       "      <td>0.000057</td>\n",
       "      <td>0.000084</td>\n",
       "    </tr>\n",
       "    <tr>\n",
       "      <th>CHRW</th>\n",
       "      <td>0.000029</td>\n",
       "      <td>0.000168</td>\n",
       "      <td>-0.000045</td>\n",
       "      <td>-0.000060</td>\n",
       "      <td>0.000021</td>\n",
       "      <td>0.000151</td>\n",
       "      <td>0.001032</td>\n",
       "      <td>0.000123</td>\n",
       "      <td>-0.000016</td>\n",
       "      <td>0.000010</td>\n",
       "    </tr>\n",
       "    <tr>\n",
       "      <th>DE</th>\n",
       "      <td>-0.000140</td>\n",
       "      <td>0.000215</td>\n",
       "      <td>0.000065</td>\n",
       "      <td>0.000068</td>\n",
       "      <td>-0.000105</td>\n",
       "      <td>0.000489</td>\n",
       "      <td>0.000123</td>\n",
       "      <td>0.001133</td>\n",
       "      <td>-0.000028</td>\n",
       "      <td>0.000032</td>\n",
       "    </tr>\n",
       "    <tr>\n",
       "      <th>DGX</th>\n",
       "      <td>-0.000077</td>\n",
       "      <td>0.000066</td>\n",
       "      <td>-0.000156</td>\n",
       "      <td>0.000055</td>\n",
       "      <td>0.000152</td>\n",
       "      <td>0.000057</td>\n",
       "      <td>-0.000016</td>\n",
       "      <td>-0.000028</td>\n",
       "      <td>0.000786</td>\n",
       "      <td>0.000201</td>\n",
       "    </tr>\n",
       "    <tr>\n",
       "      <th>DTE</th>\n",
       "      <td>-0.000228</td>\n",
       "      <td>-0.000022</td>\n",
       "      <td>-0.000084</td>\n",
       "      <td>0.000149</td>\n",
       "      <td>0.000280</td>\n",
       "      <td>0.000084</td>\n",
       "      <td>0.000010</td>\n",
       "      <td>0.000032</td>\n",
       "      <td>0.000201</td>\n",
       "      <td>0.000667</td>\n",
       "    </tr>\n",
       "  </tbody>\n",
       "</table>\n",
       "</div>"
      ],
      "text/plain": [
       "          ADSK       AOS      BKNG      CBRE       CCI        CF      CHRW  \\\n",
       "ADSK  0.001427 -0.000015  0.000170  0.000012  0.000001 -0.000182  0.000029   \n",
       "AOS  -0.000015  0.000854  0.000054  0.000230  0.000098  0.000070  0.000168   \n",
       "BKNG  0.000170  0.000054  0.001104  0.000180 -0.000180  0.000069 -0.000045   \n",
       "CBRE  0.000012  0.000230  0.000180  0.001020  0.000075  0.000297 -0.000060   \n",
       "CCI   0.000001  0.000098 -0.000180  0.000075  0.000878 -0.000154  0.000021   \n",
       "CF   -0.000182  0.000070  0.000069  0.000297 -0.000154  0.002509  0.000151   \n",
       "CHRW  0.000029  0.000168 -0.000045 -0.000060  0.000021  0.000151  0.001032   \n",
       "DE   -0.000140  0.000215  0.000065  0.000068 -0.000105  0.000489  0.000123   \n",
       "DGX  -0.000077  0.000066 -0.000156  0.000055  0.000152  0.000057 -0.000016   \n",
       "DTE  -0.000228 -0.000022 -0.000084  0.000149  0.000280  0.000084  0.000010   \n",
       "\n",
       "            DE       DGX       DTE  \n",
       "ADSK -0.000140 -0.000077 -0.000228  \n",
       "AOS   0.000215  0.000066 -0.000022  \n",
       "BKNG  0.000065 -0.000156 -0.000084  \n",
       "CBRE  0.000068  0.000055  0.000149  \n",
       "CCI  -0.000105  0.000152  0.000280  \n",
       "CF    0.000489  0.000057  0.000084  \n",
       "CHRW  0.000123 -0.000016  0.000010  \n",
       "DE    0.001133 -0.000028  0.000032  \n",
       "DGX  -0.000028  0.000786  0.000201  \n",
       "DTE   0.000032  0.000201  0.000667  "
      ]
     },
     "metadata": {},
     "output_type": "display_data"
    },
    {
     "data": {
      "image/png": "[encoded data removed]",
      "text/plain": [
       "<Figure size 1000x800 with 2 Axes>"
      ]
     },
     "metadata": {},
     "output_type": "display_data"
    }
   ],
   "source": [
    "# Subset first 10 hedged residuals\n",
    "residuals_10 = residuals.iloc[:, :10]\n",
    "cov_matrix_hedged = residuals_10.cov()\n",
    "\n",
    "# Display numeric table\n",
    "display(cov_matrix_hedged.round(6))\n",
    "\n",
    "# Styled heatmap\n",
    "plt.figure(figsize=(10, 8))\n",
    "sns.heatmap(\n",
    "    cov_matrix_hedged,\n",
    "    annot=True,\n",
    "    fmt=\".4f\",\n",
    "    cmap=\"RdBu_r\",\n",
    "    center=0,\n",
    "    linewidths=0.5,\n",
    "    cbar_kws={'label': 'Covariance'}\n",
    ")\n",
    "plt.title(\"Covariance Matrix of Market-Hedged Returns (First 10 Stocks)\", fontsize=13, pad=12)\n",
    "plt.xticks(rotation=45, ha='right')\n",
    "plt.yticks(rotation=0)\n",
    "plt.tight_layout()\n",
    "plt.show()"
   ]
  },
  {
   "cell_type": "markdown",
   "metadata": {},
   "source": [
    "#### 5.4. Portfolio Optimization with Market-Hedged Returns\n",
    "\n",
    "Construct the tangency portfolio using the alphas (intercept from previous regression) as expected returns and the covariance matrix of the market-hedged returns. Display the portfolio weights."
   ]
  },
  {
   "cell_type": "code",
   "execution_count": 16,
   "metadata": {},
   "outputs": [
    {
     "data": {
      "application/vnd.microsoft.datawrangler.viewer.v0+json": {
       "columns": [
        {
         "name": "index",
         "rawType": "object",
         "type": "string"
        },
        {
         "name": "Hedged Tangency Weights",
         "rawType": "float64",
         "type": "float"
        }
       ],
       "ref": "0c6d0c48-23e6-47f2-9db9-64956d19831d",
       "rows": [
        [
         "DTE",
         "0.26124612398736763"
        ],
        [
         "WM",
         "0.21287651709284003"
        ],
        [
         "GOOGL",
         "0.16555898418462653"
        ],
        [
         "WMT",
         "0.13808227143850302"
        ],
        [
         "DE",
         "0.12507630961642757"
        ],
        [
         "TTWO",
         "0.12118390897286066"
        ],
        [
         "CBRE",
         "0.1104151205085819"
        ],
        [
         "MRK",
         "0.10933525850709927"
        ],
        [
         "INTU",
         "0.09175385143723738"
        ],
        [
         "PG",
         "0.07692304729324043"
        ],
        [
         "BKNG",
         "0.05880177089802295"
        ],
        [
         "DGX",
         "0.04827088944711317"
        ],
        [
         "STE",
         "0.034470566600226855"
        ],
        [
         "ADSK",
         "0.026741186312968523"
        ],
        [
         "CF",
         "0.015420109737863789"
        ],
        [
         "MTD",
         "0.009144241279175631"
        ],
        [
         "PNR",
         "0.00689894641960899"
        ],
        [
         "AOS",
         "0.0004479686210029282"
        ],
        [
         "CHRW",
         "-0.002424828010942715"
        ],
        [
         "SBAC",
         "-0.008718832893790348"
        ],
        [
         "CCI",
         "-0.06254856985859475"
        ],
        [
         "MGM",
         "-0.08715143821379749"
        ],
        [
         "GD",
         "-0.0939321102357746"
        ],
        [
         "VTRS",
         "-0.11778278386250775"
        ],
        [
         "ES",
         "-0.2400885092793597"
        ]
       ],
       "shape": {
        "columns": 1,
        "rows": 25
       }
      },
      "text/html": [
       "<div>\n",
       "<style scoped>\n",
       "    .dataframe tbody tr th:only-of-type {\n",
       "        vertical-align: middle;\n",
       "    }\n",
       "\n",
       "    .dataframe tbody tr th {\n",
       "        vertical-align: top;\n",
       "    }\n",
       "\n",
       "    .dataframe thead th {\n",
       "        text-align: right;\n",
       "    }\n",
       "</style>\n",
       "<table border=\"1\" class=\"dataframe\">\n",
       "  <thead>\n",
       "    <tr style=\"text-align: right;\">\n",
       "      <th></th>\n",
       "      <th>Hedged Tangency Weights</th>\n",
       "    </tr>\n",
       "  </thead>\n",
       "  <tbody>\n",
       "    <tr>\n",
       "      <th>DTE</th>\n",
       "      <td>0.261246</td>\n",
       "    </tr>\n",
       "    <tr>\n",
       "      <th>WM</th>\n",
       "      <td>0.212877</td>\n",
       "    </tr>\n",
       "    <tr>\n",
       "      <th>GOOGL</th>\n",
       "      <td>0.165559</td>\n",
       "    </tr>\n",
       "    <tr>\n",
       "      <th>WMT</th>\n",
       "      <td>0.138082</td>\n",
       "    </tr>\n",
       "    <tr>\n",
       "      <th>DE</th>\n",
       "      <td>0.125076</td>\n",
       "    </tr>\n",
       "    <tr>\n",
       "      <th>TTWO</th>\n",
       "      <td>0.121184</td>\n",
       "    </tr>\n",
       "    <tr>\n",
       "      <th>CBRE</th>\n",
       "      <td>0.110415</td>\n",
       "    </tr>\n",
       "    <tr>\n",
       "      <th>MRK</th>\n",
       "      <td>0.109335</td>\n",
       "    </tr>\n",
       "    <tr>\n",
       "      <th>INTU</th>\n",
       "      <td>0.091754</td>\n",
       "    </tr>\n",
       "    <tr>\n",
       "      <th>PG</th>\n",
       "      <td>0.076923</td>\n",
       "    </tr>\n",
       "    <tr>\n",
       "      <th>BKNG</th>\n",
       "      <td>0.058802</td>\n",
       "    </tr>\n",
       "    <tr>\n",
       "      <th>DGX</th>\n",
       "      <td>0.048271</td>\n",
       "    </tr>\n",
       "    <tr>\n",
       "      <th>STE</th>\n",
       "      <td>0.034471</td>\n",
       "    </tr>\n",
       "    <tr>\n",
       "      <th>ADSK</th>\n",
       "      <td>0.026741</td>\n",
       "    </tr>\n",
       "    <tr>\n",
       "      <th>CF</th>\n",
       "      <td>0.015420</td>\n",
       "    </tr>\n",
       "    <tr>\n",
       "      <th>MTD</th>\n",
       "      <td>0.009144</td>\n",
       "    </tr>\n",
       "    <tr>\n",
       "      <th>PNR</th>\n",
       "      <td>0.006899</td>\n",
       "    </tr>\n",
       "    <tr>\n",
       "      <th>AOS</th>\n",
       "      <td>0.000448</td>\n",
       "    </tr>\n",
       "    <tr>\n",
       "      <th>CHRW</th>\n",
       "      <td>-0.002425</td>\n",
       "    </tr>\n",
       "    <tr>\n",
       "      <th>SBAC</th>\n",
       "      <td>-0.008719</td>\n",
       "    </tr>\n",
       "    <tr>\n",
       "      <th>CCI</th>\n",
       "      <td>-0.062549</td>\n",
       "    </tr>\n",
       "    <tr>\n",
       "      <th>MGM</th>\n",
       "      <td>-0.087151</td>\n",
       "    </tr>\n",
       "    <tr>\n",
       "      <th>GD</th>\n",
       "      <td>-0.093932</td>\n",
       "    </tr>\n",
       "    <tr>\n",
       "      <th>VTRS</th>\n",
       "      <td>-0.117783</td>\n",
       "    </tr>\n",
       "    <tr>\n",
       "      <th>ES</th>\n",
       "      <td>-0.240089</td>\n",
       "    </tr>\n",
       "  </tbody>\n",
       "</table>\n",
       "</div>"
      ],
      "text/plain": [
       "       Hedged Tangency Weights\n",
       "DTE                   0.261246\n",
       "WM                    0.212877\n",
       "GOOGL                 0.165559\n",
       "WMT                   0.138082\n",
       "DE                    0.125076\n",
       "TTWO                  0.121184\n",
       "CBRE                  0.110415\n",
       "MRK                   0.109335\n",
       "INTU                  0.091754\n",
       "PG                    0.076923\n",
       "BKNG                  0.058802\n",
       "DGX                   0.048271\n",
       "STE                   0.034471\n",
       "ADSK                  0.026741\n",
       "CF                    0.015420\n",
       "MTD                   0.009144\n",
       "PNR                   0.006899\n",
       "AOS                   0.000448\n",
       "CHRW                 -0.002425\n",
       "SBAC                 -0.008719\n",
       "CCI                  -0.062549\n",
       "MGM                  -0.087151\n",
       "GD                   -0.093932\n",
       "VTRS                 -0.117783\n",
       "ES                   -0.240089"
      ]
     },
     "metadata": {},
     "output_type": "display_data"
    }
   ],
   "source": [
    "in_sample = rets.loc[:'2024-12-31']\n",
    "sp = spy.loc[:'2024-12-31'].iloc[:, 0].rename('SPY')\n",
    "\n",
    "df = in_sample.join(sp, how='inner').dropna()\n",
    "X = sm.add_constant(df[['SPY']])\n",
    "\n",
    "# Compute intercepts (alphas) for each stock\n",
    "alphas = df.drop(columns='SPY').apply(lambda y: sm.OLS(y, X).fit().params['const'])\n",
    "alphas = alphas.to_frame('Alpha')\n",
    "\n",
    "# Construct tangency portfolio using alphas as expected returns, covariance from residuals\n",
    "tangency_hedged = calc_tangency_weights(\n",
    "    returns=residuals,\n",
    "    expected_returns=alphas['Alpha'],\n",
    "    expected_returns_already_annualized=False,\n",
    "    annual_factor=52,\n",
    "    name='Hedged Tangency'\n",
    ")\n",
    "\n",
    "display(tangency_hedged.sort_values(by='Hedged Tangency Weights', ascending=False))"
   ]
  },
  {
   "cell_type": "markdown",
   "metadata": {},
   "source": [
    "#### 5.5. Performance of the Tangency of the Hedged\n",
    "\n",
    "Calculate the returns to the portfolio with weights from the previous question (just in-sample).\n",
    "\n",
    "   Report the (annualized)\n",
    "   * mean\n",
    "   * volatility\n",
    "   * Sharpe ratio\n",
    "   * skewness (not annualized)"
   ]
  },
  {
   "cell_type": "code",
   "execution_count": 17,
   "metadata": {},
   "outputs": [
    {
     "data": {
      "application/vnd.microsoft.datawrangler.viewer.v0+json": {
       "columns": [
        {
         "name": "index",
         "rawType": "object",
         "type": "string"
        },
        {
         "name": "Hedged Tangency Weights",
         "rawType": "float64",
         "type": "float"
        }
       ],
       "ref": "0549fb17-691a-4f27-b074-3588e6912a42",
       "rows": [
        [
         "Annualized Mean",
         "-1.19812455968425e-16"
        ],
        [
         "Annualized Vol",
         "0.08954391185938061"
        ],
        [
         "Annualized Sharpe",
         "-1.3380301740287824e-15"
        ],
        [
         "Skewness",
         "0.1724773276734166"
        ]
       ],
       "shape": {
        "columns": 1,
        "rows": 4
       }
      },
      "text/html": [
       "<div>\n",
       "<style scoped>\n",
       "    .dataframe tbody tr th:only-of-type {\n",
       "        vertical-align: middle;\n",
       "    }\n",
       "\n",
       "    .dataframe tbody tr th {\n",
       "        vertical-align: top;\n",
       "    }\n",
       "\n",
       "    .dataframe thead th {\n",
       "        text-align: right;\n",
       "    }\n",
       "</style>\n",
       "<table border=\"1\" class=\"dataframe\">\n",
       "  <thead>\n",
       "    <tr style=\"text-align: right;\">\n",
       "      <th></th>\n",
       "      <th>Hedged Tangency Weights</th>\n",
       "    </tr>\n",
       "  </thead>\n",
       "  <tbody>\n",
       "    <tr>\n",
       "      <th>Annualized Mean</th>\n",
       "      <td>-1.198125e-16</td>\n",
       "    </tr>\n",
       "    <tr>\n",
       "      <th>Annualized Vol</th>\n",
       "      <td>8.954391e-02</td>\n",
       "    </tr>\n",
       "    <tr>\n",
       "      <th>Annualized Sharpe</th>\n",
       "      <td>-1.338030e-15</td>\n",
       "    </tr>\n",
       "    <tr>\n",
       "      <th>Skewness</th>\n",
       "      <td>1.724773e-01</td>\n",
       "    </tr>\n",
       "  </tbody>\n",
       "</table>\n",
       "</div>"
      ],
      "text/plain": [
       "                   Hedged Tangency Weights\n",
       "Annualized Mean              -1.198125e-16\n",
       "Annualized Vol                8.954391e-02\n",
       "Annualized Sharpe            -1.338030e-15\n",
       "Skewness                      1.724773e-01"
      ]
     },
     "metadata": {},
     "output_type": "display_data"
    }
   ],
   "source": [
    "#5.5\n",
    "# Compute portfolio returns using hedged tangency weights\n",
    "hedged_tangency_rets = residuals @ tangency_hedged\n",
    "\n",
    "# Calculate summary statistics\n",
    "hedged_tangency_stats = calc_summary_statistics(\n",
    "    hedged_tangency_rets,\n",
    "    annual_factor=52,\n",
    "    provided_excess_returns=True,\n",
    "    return_tangency_weights=False,\n",
    "    correlations=False,\n",
    "    keep_columns=['Annualized Mean', 'Annualized Vol', 'Annualized Sharpe', 'Skewness']\n",
    ").T\n",
    "\n",
    "display(hedged_tangency_stats)"
   ]
  },
  {
   "cell_type": "markdown",
   "metadata": {},
   "source": [
    "***"
   ]
  },
  {
   "cell_type": "markdown",
   "metadata": {},
   "source": [
    "# 2. Managing Risk"
   ]
  },
  {
   "cell_type": "code",
   "execution_count": 18,
   "metadata": {},
   "outputs": [
    {
     "data": {
      "application/vnd.microsoft.datawrangler.viewer.v0+json": {
       "columns": [
        {
         "name": "date",
         "rawType": "datetime64[ns]",
         "type": "datetime"
        },
        {
         "name": "fund",
         "rawType": "float64",
         "type": "float"
        }
       ],
       "ref": "bf816cd4-c2ed-49bf-8d41-1ad6f828071a",
       "rows": [
        [
         "2015-01-09 00:00:00",
         "0.003444092976789741"
        ],
        [
         "2015-01-16 00:00:00",
         "-0.0009586904373825039"
        ],
        [
         "2015-01-23 00:00:00",
         "0.004490911989716074"
        ],
        [
         "2015-01-30 00:00:00",
         "0.01056031200258018"
        ],
        [
         "2015-02-06 00:00:00",
         "-0.001623561536322926"
        ],
        [
         "2015-02-13 00:00:00",
         "-0.001623447699541106"
        ],
        [
         "2015-02-20 00:00:00",
         "0.01094987073304183"
        ],
        [
         "2015-02-27 00:00:00",
         "0.005321202435639676"
        ],
        [
         "2015-03-06 00:00:00",
         "-0.003255219175010461"
        ],
        [
         "2015-03-13 00:00:00",
         "0.003761977033013794"
        ],
        [
         "2015-03-20 00:00:00",
         "-0.003213223564216447"
        ],
        [
         "2015-03-27 00:00:00",
         "-0.003229254821166864"
        ],
        [
         "2015-04-03 00:00:00",
         "0.001677706493959766"
        ],
        [
         "2015-04-10 00:00:00",
         "-0.01326621158931919"
        ],
        [
         "2015-04-17 00:00:00",
         "-0.0119601532520922"
        ],
        [
         "2015-04-24 00:00:00",
         "-0.003898762535062085"
        ],
        [
         "2015-05-01 00:00:00",
         "-0.007022720264906545"
        ],
        [
         "2015-05-08 00:00:00",
         "0.002178913213173166"
        ],
        [
         "2015-05-15 00:00:00",
         "-0.006296014160860602"
        ],
        [
         "2015-05-22 00:00:00",
         "-0.009792564253253797"
        ],
        [
         "2015-05-29 00:00:00",
         "0.01016244574647564"
        ],
        [
         "2015-06-05 00:00:00",
         "-0.001565476977286095"
        ],
        [
         "2015-06-12 00:00:00",
         "0.0004682238548891099"
        ],
        [
         "2015-06-19 00:00:00",
         "-0.009878851230801797"
        ],
        [
         "2015-06-26 00:00:00",
         "-0.003774615051446796"
        ],
        [
         "2015-07-03 00:00:00",
         "0.0007691097784734163"
        ],
        [
         "2015-07-10 00:00:00",
         "-0.007980704540626623"
        ],
        [
         "2015-07-17 00:00:00",
         "0.002604997056222175"
        ],
        [
         "2015-07-24 00:00:00",
         "-0.004164679989480322"
        ],
        [
         "2015-07-31 00:00:00",
         "-0.002022532253100044"
        ],
        [
         "2015-08-07 00:00:00",
         "-0.004172084698420804"
        ],
        [
         "2015-08-14 00:00:00",
         "0.01284323840513524"
        ],
        [
         "2015-08-21 00:00:00",
         "-9.358641513284949e-05"
        ],
        [
         "2015-08-28 00:00:00",
         "-0.007333905748017589"
        ],
        [
         "2015-09-04 00:00:00",
         "0.005703322801846286"
        ],
        [
         "2015-09-11 00:00:00",
         "-0.008465027652490638"
        ],
        [
         "2015-09-18 00:00:00",
         "0.001448208464168058"
        ],
        [
         "2015-09-25 00:00:00",
         "-0.01358786752816038"
        ],
        [
         "2015-10-02 00:00:00",
         "-0.009209313274344641"
        ],
        [
         "2015-10-09 00:00:00",
         "0.001364987077071799"
        ],
        [
         "2015-10-16 00:00:00",
         "0.005120344460365351"
        ],
        [
         "2015-10-23 00:00:00",
         "0.001188225240035711"
        ],
        [
         "2015-10-30 00:00:00",
         "-0.0008018765616733467"
        ],
        [
         "2015-11-06 00:00:00",
         "-0.002087778487844002"
        ],
        [
         "2015-11-13 00:00:00",
         "-0.0102517054772516"
        ],
        [
         "2015-11-20 00:00:00",
         "-0.004991221545601746"
        ],
        [
         "2015-11-27 00:00:00",
         "-0.003193955208004281"
        ],
        [
         "2015-12-04 00:00:00",
         "0.007329823828971046"
        ],
        [
         "2015-12-11 00:00:00",
         "0.002382564158127539"
        ],
        [
         "2015-12-18 00:00:00",
         "-0.01222448400165834"
        ]
       ],
       "shape": {
        "columns": 1,
        "rows": 521
       }
      },
      "text/html": [
       "<div>\n",
       "<style scoped>\n",
       "    .dataframe tbody tr th:only-of-type {\n",
       "        vertical-align: middle;\n",
       "    }\n",
       "\n",
       "    .dataframe tbody tr th {\n",
       "        vertical-align: top;\n",
       "    }\n",
       "\n",
       "    .dataframe thead th {\n",
       "        text-align: right;\n",
       "    }\n",
       "</style>\n",
       "<table border=\"1\" class=\"dataframe\">\n",
       "  <thead>\n",
       "    <tr style=\"text-align: right;\">\n",
       "      <th></th>\n",
       "      <th>fund</th>\n",
       "    </tr>\n",
       "    <tr>\n",
       "      <th>date</th>\n",
       "      <th></th>\n",
       "    </tr>\n",
       "  </thead>\n",
       "  <tbody>\n",
       "    <tr>\n",
       "      <th>2015-01-09</th>\n",
       "      <td>0.003444</td>\n",
       "    </tr>\n",
       "    <tr>\n",
       "      <th>2015-01-16</th>\n",
       "      <td>-0.000959</td>\n",
       "    </tr>\n",
       "    <tr>\n",
       "      <th>2015-01-23</th>\n",
       "      <td>0.004491</td>\n",
       "    </tr>\n",
       "    <tr>\n",
       "      <th>2015-01-30</th>\n",
       "      <td>0.010560</td>\n",
       "    </tr>\n",
       "    <tr>\n",
       "      <th>2015-02-06</th>\n",
       "      <td>-0.001624</td>\n",
       "    </tr>\n",
       "    <tr>\n",
       "      <th>...</th>\n",
       "      <td>...</td>\n",
       "    </tr>\n",
       "    <tr>\n",
       "      <th>2024-11-29</th>\n",
       "      <td>0.013893</td>\n",
       "    </tr>\n",
       "    <tr>\n",
       "      <th>2024-12-06</th>\n",
       "      <td>-0.027113</td>\n",
       "    </tr>\n",
       "    <tr>\n",
       "      <th>2024-12-13</th>\n",
       "      <td>0.002755</td>\n",
       "    </tr>\n",
       "    <tr>\n",
       "      <th>2024-12-20</th>\n",
       "      <td>0.020840</td>\n",
       "    </tr>\n",
       "    <tr>\n",
       "      <th>2024-12-27</th>\n",
       "      <td>-0.046301</td>\n",
       "    </tr>\n",
       "  </tbody>\n",
       "</table>\n",
       "<p>521 rows × 1 columns</p>\n",
       "</div>"
      ],
      "text/plain": [
       "                fund\n",
       "date                \n",
       "2015-01-09  0.003444\n",
       "2015-01-16 -0.000959\n",
       "2015-01-23  0.004491\n",
       "2015-01-30  0.010560\n",
       "2015-02-06 -0.001624\n",
       "...              ...\n",
       "2024-11-29  0.013893\n",
       "2024-12-06 -0.027113\n",
       "2024-12-13  0.002755\n",
       "2024-12-20  0.020840\n",
       "2024-12-27 -0.046301\n",
       "\n",
       "[521 rows x 1 columns]"
      ]
     },
     "execution_count": 18,
     "metadata": {},
     "output_type": "execute_result"
    }
   ],
   "source": [
    "DATAFILE = '../data/midterm_1_fund_returns.xlsx'\n",
    "DATAFILE = 'data/midterm_1_fund_returns.xlsx'\n",
    "df = pd.read_excel(DATAFILE, sheet_name='fund returns').set_index('date')\n",
    "df"
   ]
  },
  {
   "cell_type": "markdown",
   "metadata": {},
   "source": [
    "#### 1. Calculating Volatility\n",
    "Given the return data provided, calculate the annual volatility grouped by year. Annualize this volatility. That is, your answer should be a DataFrame with 10 rows (one for each year from 2015 to 2024) and a single column representing the annualized volatility for that year.\n",
    "\n",
    "What do you notice about the volatility across different years?"
   ]
  },
  {
   "cell_type": "code",
   "execution_count": 19,
   "metadata": {},
   "outputs": [
    {
     "data": {
      "application/vnd.microsoft.datawrangler.viewer.v0+json": {
       "columns": [
        {
         "name": "date",
         "rawType": "int32",
         "type": "integer"
        },
        {
         "name": "Annualized Volatility",
         "rawType": "float64",
         "type": "float"
        }
       ],
       "ref": "01adcf5c-60e2-4b06-891d-b27183cc0f2f",
       "rows": [
        [
         "2015",
         "0.046374143839071305"
        ],
        [
         "2016",
         "0.17584898218783712"
        ],
        [
         "2017",
         "0.04898114262708021"
        ],
        [
         "2018",
         "0.18466498838937329"
        ],
        [
         "2019",
         "0.05672128535426451"
        ],
        [
         "2020",
         "0.19658051275309707"
        ],
        [
         "2021",
         "0.03912297414988011"
        ],
        [
         "2022",
         "0.20677176689476165"
        ],
        [
         "2023",
         "0.05144056083546745"
        ],
        [
         "2024",
         "0.21640540320845641"
        ]
       ],
       "shape": {
        "columns": 1,
        "rows": 10
       }
      },
      "text/html": [
       "<div>\n",
       "<style scoped>\n",
       "    .dataframe tbody tr th:only-of-type {\n",
       "        vertical-align: middle;\n",
       "    }\n",
       "\n",
       "    .dataframe tbody tr th {\n",
       "        vertical-align: top;\n",
       "    }\n",
       "\n",
       "    .dataframe thead th {\n",
       "        text-align: right;\n",
       "    }\n",
       "</style>\n",
       "<table border=\"1\" class=\"dataframe\">\n",
       "  <thead>\n",
       "    <tr style=\"text-align: right;\">\n",
       "      <th></th>\n",
       "      <th>Annualized Volatility</th>\n",
       "    </tr>\n",
       "    <tr>\n",
       "      <th>date</th>\n",
       "      <th></th>\n",
       "    </tr>\n",
       "  </thead>\n",
       "  <tbody>\n",
       "    <tr>\n",
       "      <th>2015</th>\n",
       "      <td>0.046374</td>\n",
       "    </tr>\n",
       "    <tr>\n",
       "      <th>2016</th>\n",
       "      <td>0.175849</td>\n",
       "    </tr>\n",
       "    <tr>\n",
       "      <th>2017</th>\n",
       "      <td>0.048981</td>\n",
       "    </tr>\n",
       "    <tr>\n",
       "      <th>2018</th>\n",
       "      <td>0.184665</td>\n",
       "    </tr>\n",
       "    <tr>\n",
       "      <th>2019</th>\n",
       "      <td>0.056721</td>\n",
       "    </tr>\n",
       "    <tr>\n",
       "      <th>2020</th>\n",
       "      <td>0.196581</td>\n",
       "    </tr>\n",
       "    <tr>\n",
       "      <th>2021</th>\n",
       "      <td>0.039123</td>\n",
       "    </tr>\n",
       "    <tr>\n",
       "      <th>2022</th>\n",
       "      <td>0.206772</td>\n",
       "    </tr>\n",
       "    <tr>\n",
       "      <th>2023</th>\n",
       "      <td>0.051441</td>\n",
       "    </tr>\n",
       "    <tr>\n",
       "      <th>2024</th>\n",
       "      <td>0.216405</td>\n",
       "    </tr>\n",
       "  </tbody>\n",
       "</table>\n",
       "</div>"
      ],
      "text/plain": [
       "      Annualized Volatility\n",
       "date                       \n",
       "2015               0.046374\n",
       "2016               0.175849\n",
       "2017               0.048981\n",
       "2018               0.184665\n",
       "2019               0.056721\n",
       "2020               0.196581\n",
       "2021               0.039123\n",
       "2022               0.206772\n",
       "2023               0.051441\n",
       "2024               0.216405"
      ]
     },
     "metadata": {},
     "output_type": "display_data"
    }
   ],
   "source": [
    "#2.1\n",
    "annual_vol = df.groupby(df.index.year).std() * np.sqrt(52)\n",
    "annual_vol.columns = ['Annualized Volatility']\n",
    "display(annual_vol)"
   ]
  },
  {
   "cell_type": "markdown",
   "metadata": {},
   "source": [
    "Volatility fluctuates substantially across years — it’s lowest in stable periods like 2015, 2017, and 2021, and spikes sharply in stress periods such as 2018, 2020, 2022, and 2024.\n",
    "This pattern reflects how market uncertainty and macro shocks (e.g., COVID-19 in 2020, rate hikes in 2022) drive large increases in annualized volatility."
   ]
  },
  {
   "cell_type": "markdown",
   "metadata": {},
   "source": [
    "#### 2. Volatility Estimates\n",
    "\n",
    "Using the return data, compute the annualized volatility estimate as of the last data point using the following methods:\n",
    "- EWMA volatility with a half-life of 26 weeks.\n",
    "- Rolling window volatility with a window size of 52 weeks.\n",
    "\n",
    "**Note:** do not specify a \"min_periods\" argument anywhere."
   ]
  },
  {
   "cell_type": "code",
   "execution_count": 20,
   "metadata": {},
   "outputs": [
    {
     "data": {
      "application/vnd.microsoft.datawrangler.viewer.v0+json": {
       "columns": [
        {
         "name": "index",
         "rawType": "object",
         "type": "string"
        },
        {
         "name": "EWMA (26w)",
         "rawType": "float64",
         "type": "float"
        },
        {
         "name": "Rolling (52w)",
         "rawType": "float64",
         "type": "float"
        }
       ],
       "ref": "05a8ac99-d4a1-4333-998c-e747af5f1af5",
       "rows": [
        [
         "fund",
         "0.17972991735235194",
         "0.21640540320845641"
        ]
       ],
       "shape": {
        "columns": 2,
        "rows": 1
       }
      },
      "text/html": [
       "<div>\n",
       "<style scoped>\n",
       "    .dataframe tbody tr th:only-of-type {\n",
       "        vertical-align: middle;\n",
       "    }\n",
       "\n",
       "    .dataframe tbody tr th {\n",
       "        vertical-align: top;\n",
       "    }\n",
       "\n",
       "    .dataframe thead th {\n",
       "        text-align: right;\n",
       "    }\n",
       "</style>\n",
       "<table border=\"1\" class=\"dataframe\">\n",
       "  <thead>\n",
       "    <tr style=\"text-align: right;\">\n",
       "      <th></th>\n",
       "      <th>EWMA (26w)</th>\n",
       "      <th>Rolling (52w)</th>\n",
       "    </tr>\n",
       "  </thead>\n",
       "  <tbody>\n",
       "    <tr>\n",
       "      <th>fund</th>\n",
       "      <td>0.17973</td>\n",
       "      <td>0.216405</td>\n",
       "    </tr>\n",
       "  </tbody>\n",
       "</table>\n",
       "</div>"
      ],
      "text/plain": [
       "      EWMA (26w)  Rolling (52w)\n",
       "fund     0.17973       0.216405"
      ]
     },
     "metadata": {},
     "output_type": "display_data"
    }
   ],
   "source": [
    "#2.2 \n",
    "# EWMA volatility (half-life = 26 weeks)\n",
    "ewma_vol = df.ewm(halflife=26).std() * np.sqrt(52)\n",
    "\n",
    "# Rolling window volatility (52 weeks)\n",
    "rolling_vol = df.rolling(window=52).std() * np.sqrt(52)\n",
    "\n",
    "# Extract the latest values (last data point)\n",
    "latest_vols = pd.DataFrame({\n",
    "    'EWMA (26w)': ewma_vol.iloc[-1],\n",
    "    'Rolling (52w)': rolling_vol.iloc[-1]\n",
    "})\n",
    "\n",
    "display(latest_vols)"
   ]
  },
  {
   "cell_type": "markdown",
   "metadata": {},
   "source": [
    "#### 3. Dynamic VaR estimates\n",
    "\n",
    "Using the return data, compute the 1-week 1% VaR as of the last data point in the series.\n",
    "\n",
    "You should use two different volatility models to compute the VaR:\n",
    "- EWMA volatility with a half-life of 26 weeks.\n",
    "- Rolling-window volatility with a window of 52 weeks.\n",
    "- Empirical (expanding) VaR."
   ]
  },
  {
   "cell_type": "code",
   "execution_count": 21,
   "metadata": {},
   "outputs": [
    {
     "data": {
      "application/vnd.microsoft.datawrangler.viewer.v0+json": {
       "columns": [
        {
         "name": "index",
         "rawType": "object",
         "type": "string"
        },
        {
         "name": "EWMA (26w)",
         "rawType": "float64",
         "type": "float"
        },
        {
         "name": "Rolling (52w)",
         "rawType": "float64",
         "type": "float"
        },
        {
         "name": "Empirical (Expanding)",
         "rawType": "float64",
         "type": "float"
        }
       ],
       "ref": "ee69a7e1-beef-4b76-94de-30fe22325815",
       "rows": [
        [
         "fund",
         "-0.057982022607676535",
         "-0.0698137692716848",
         "-0.05281570001222956"
        ]
       ],
       "shape": {
        "columns": 3,
        "rows": 1
       }
      },
      "text/html": [
       "<div>\n",
       "<style scoped>\n",
       "    .dataframe tbody tr th:only-of-type {\n",
       "        vertical-align: middle;\n",
       "    }\n",
       "\n",
       "    .dataframe tbody tr th {\n",
       "        vertical-align: top;\n",
       "    }\n",
       "\n",
       "    .dataframe thead th {\n",
       "        text-align: right;\n",
       "    }\n",
       "</style>\n",
       "<table border=\"1\" class=\"dataframe\">\n",
       "  <thead>\n",
       "    <tr style=\"text-align: right;\">\n",
       "      <th></th>\n",
       "      <th>EWMA (26w)</th>\n",
       "      <th>Rolling (52w)</th>\n",
       "      <th>Empirical (Expanding)</th>\n",
       "    </tr>\n",
       "  </thead>\n",
       "  <tbody>\n",
       "    <tr>\n",
       "      <th>fund</th>\n",
       "      <td>-0.057982</td>\n",
       "      <td>-0.069814</td>\n",
       "      <td>-0.052816</td>\n",
       "    </tr>\n",
       "  </tbody>\n",
       "</table>\n",
       "</div>"
      ],
      "text/plain": [
       "      EWMA (26w)  Rolling (52w)  Empirical (Expanding)\n",
       "fund   -0.057982      -0.069814              -0.052816"
      ]
     },
     "metadata": {},
     "output_type": "display_data"
    }
   ],
   "source": [
    "from scipy.stats import norm\n",
    "\n",
    "# ===== 3. Dynamic 1-Week 1% VaR Estimates =====\n",
    "\n",
    "alpha = 0.01  # 1% level\n",
    "z_99 = norm.ppf(alpha)  # ≈ -2.33\n",
    "\n",
    "# --- 1. EWMA volatility (half-life 26 weeks) ---\n",
    "ewma_vol = df.ewm(halflife=26).std() * np.sqrt(1)  # 1-week horizon\n",
    "ewma_var = z_99 * ewma_vol.iloc[-1]\n",
    "\n",
    "# --- 2. Rolling window volatility (52 weeks) ---\n",
    "rolling_vol = df.rolling(window=52).std() * np.sqrt(1)\n",
    "rolling_var = z_99 * rolling_vol.iloc[-1]\n",
    "\n",
    "# --- 3. Empirical (expanding) VaR ---\n",
    "empirical_var = df.expanding().quantile(alpha).iloc[-1]\n",
    "\n",
    "# Combine results\n",
    "var_table = pd.DataFrame({\n",
    "    'EWMA (26w)': ewma_var,\n",
    "    'Rolling (52w)': rolling_var,\n",
    "    'Empirical (Expanding)': empirical_var\n",
    "})\n",
    "\n",
    "display(var_table)"
   ]
  },
  {
   "cell_type": "markdown",
   "metadata": {},
   "source": [
    "#### 4. Dynamic CVaR estimates\n",
    "\n",
    "Repeat Question 3, but instead compute the 1-week 1% Conditional VaR (CVaR) as of the last data point in the series using the same three methods."
   ]
  },
  {
   "cell_type": "code",
   "execution_count": 22,
   "metadata": {},
   "outputs": [
    {
     "data": {
      "application/vnd.microsoft.datawrangler.viewer.v0+json": {
       "columns": [
        {
         "name": "index",
         "rawType": "object",
         "type": "string"
        },
        {
         "name": "EWMA (26w)",
         "rawType": "float64",
         "type": "float"
        },
        {
         "name": "Rolling (52w)",
         "rawType": "float64",
         "type": "float"
        },
        {
         "name": "Empirical (Expanding)",
         "rawType": "float64",
         "type": "float"
        }
       ],
       "ref": "ef07e721-21c0-4949-aef3-ce217e7119dd",
       "rows": [
        [
         "fund",
         "-0.0664279460964567",
         "-0.07998315845842793",
         "-0.06576195501706755"
        ]
       ],
       "shape": {
        "columns": 3,
        "rows": 1
       }
      },
      "text/html": [
       "<div>\n",
       "<style scoped>\n",
       "    .dataframe tbody tr th:only-of-type {\n",
       "        vertical-align: middle;\n",
       "    }\n",
       "\n",
       "    .dataframe tbody tr th {\n",
       "        vertical-align: top;\n",
       "    }\n",
       "\n",
       "    .dataframe thead th {\n",
       "        text-align: right;\n",
       "    }\n",
       "</style>\n",
       "<table border=\"1\" class=\"dataframe\">\n",
       "  <thead>\n",
       "    <tr style=\"text-align: right;\">\n",
       "      <th></th>\n",
       "      <th>EWMA (26w)</th>\n",
       "      <th>Rolling (52w)</th>\n",
       "      <th>Empirical (Expanding)</th>\n",
       "    </tr>\n",
       "  </thead>\n",
       "  <tbody>\n",
       "    <tr>\n",
       "      <th>fund</th>\n",
       "      <td>-0.066428</td>\n",
       "      <td>-0.079983</td>\n",
       "      <td>-0.065762</td>\n",
       "    </tr>\n",
       "  </tbody>\n",
       "</table>\n",
       "</div>"
      ],
      "text/plain": [
       "      EWMA (26w)  Rolling (52w)  Empirical (Expanding)\n",
       "fund   -0.066428      -0.079983              -0.065762"
      ]
     },
     "metadata": {},
     "output_type": "display_data"
    }
   ],
   "source": [
    "# ===== 4. Dynamic 1-Week 1% CVaR Estimates =====\n",
    "alpha = 0.01\n",
    "z_99 = norm.ppf(alpha)  # ≈ -2.33\n",
    "cvar_factor = norm.pdf(z_99) / alpha  # ≈ 2.665 for normal CVaR adjustment\n",
    "\n",
    "# --- 1. EWMA volatility (half-life 26 weeks) ---\n",
    "ewma_vol = df.ewm(halflife=26).std() * np.sqrt(1)\n",
    "ewma_cvar = -cvar_factor * ewma_vol.iloc[-1]\n",
    "\n",
    "# --- 2. Rolling window volatility (52 weeks) ---\n",
    "rolling_vol = df.rolling(window=52).std() * np.sqrt(1)\n",
    "rolling_cvar = -cvar_factor * rolling_vol.iloc[-1]\n",
    "\n",
    "# --- 3. Empirical (expanding) CVaR ---\n",
    "empirical_cvar = df.expanding().apply(\n",
    "    lambda x: x[x <= x.quantile(alpha)].mean()\n",
    ").iloc[-1]\n",
    "\n",
    "# Combine results\n",
    "cvar_table = pd.DataFrame({\n",
    "    'EWMA (26w)': ewma_cvar,\n",
    "    'Rolling (52w)': rolling_cvar,\n",
    "    'Empirical (Expanding)': empirical_cvar\n",
    "})\n",
    "\n",
    "display(cvar_table)"
   ]
  },
  {
   "cell_type": "markdown",
   "metadata": {},
   "source": [
    "#### 5. Year Choice\n",
    "\n",
    "Suppose instead we were interested in our VaR estimates as of the end of 2023 (ie. use all data that is before 2024-01-01). Report your VaR (1-week, 1%) estimates using the same three methods as in Question 3, but now the last data point in 2023.\n",
    "\n",
    "Hint: You can use `df.loc[:'2023']` to filter the DataFrame to only include data up to the end of 2023."
   ]
  },
  {
   "cell_type": "code",
   "execution_count": 23,
   "metadata": {},
   "outputs": [
    {
     "data": {
      "application/vnd.microsoft.datawrangler.viewer.v0+json": {
       "columns": [
        {
         "name": "index",
         "rawType": "object",
         "type": "string"
        },
        {
         "name": "VaR 1w 1% — EWMA(26w)",
         "rawType": "float64",
         "type": "float"
        },
        {
         "name": "VaR 1w 1% — Rolling(52w)",
         "rawType": "float64",
         "type": "float"
        },
        {
         "name": "VaR 1w 1% — Empirical",
         "rawType": "float64",
         "type": "float"
        }
       ],
       "ref": "0c8331b6-65e6-4a72-a798-32abd4382727",
       "rows": [
        [
         "fund",
         "-0.0324118204327866",
         "-0.01659505443084534",
         "-0.04963456178829959"
        ]
       ],
       "shape": {
        "columns": 3,
        "rows": 1
       }
      },
      "text/html": [
       "<div>\n",
       "<style scoped>\n",
       "    .dataframe tbody tr th:only-of-type {\n",
       "        vertical-align: middle;\n",
       "    }\n",
       "\n",
       "    .dataframe tbody tr th {\n",
       "        vertical-align: top;\n",
       "    }\n",
       "\n",
       "    .dataframe thead th {\n",
       "        text-align: right;\n",
       "    }\n",
       "</style>\n",
       "<table border=\"1\" class=\"dataframe\">\n",
       "  <thead>\n",
       "    <tr style=\"text-align: right;\">\n",
       "      <th></th>\n",
       "      <th>VaR 1w 1% — EWMA(26w)</th>\n",
       "      <th>VaR 1w 1% — Rolling(52w)</th>\n",
       "      <th>VaR 1w 1% — Empirical</th>\n",
       "    </tr>\n",
       "  </thead>\n",
       "  <tbody>\n",
       "    <tr>\n",
       "      <th>fund</th>\n",
       "      <td>-0.032412</td>\n",
       "      <td>-0.016595</td>\n",
       "      <td>-0.049635</td>\n",
       "    </tr>\n",
       "  </tbody>\n",
       "</table>\n",
       "</div>"
      ],
      "text/plain": [
       "      VaR 1w 1% — EWMA(26w)  VaR 1w 1% — Rolling(52w)  VaR 1w 1% — Empirical\n",
       "fund              -0.032412                 -0.016595              -0.049635"
      ]
     },
     "metadata": {},
     "output_type": "display_data"
    }
   ],
   "source": [
    "#2.5\n",
    "alpha = 0.01\n",
    "z_99 = norm.ppf(alpha)  # ~ -2.326\n",
    "\n",
    "df_2023 = df.loc[:'2023'].dropna()\n",
    "\n",
    "# EWMA(26w) volatility and VaR\n",
    "ewma_vol_2023 = df_2023.ewm(halflife=26).std()\n",
    "ewma_var_2023 = z_99 * ewma_vol_2023.iloc[-1]\n",
    "\n",
    "# Rolling(52w) volatility and VaR\n",
    "roll_vol_2023 = df_2023.rolling(window=52).std()\n",
    "roll_var_2023 = z_99 * roll_vol_2023.iloc[-1]\n",
    "\n",
    "# Empirical (expanding) VaR\n",
    "emp_var_2023 = df_2023.expanding().quantile(alpha).iloc[-1]\n",
    "\n",
    "var_2023 = pd.DataFrame({\n",
    "    'VaR 1w 1% — EWMA(26w)': ewma_var_2023,\n",
    "    'VaR 1w 1% — Rolling(52w)': roll_var_2023,\n",
    "    'VaR 1w 1% — Empirical': emp_var_2023\n",
    "})\n",
    "display(var_2023)"
   ]
  },
  {
   "cell_type": "markdown",
   "metadata": {},
   "source": [
    "### 6. Compare"
   ]
  },
  {
   "cell_type": "markdown",
   "metadata": {},
   "source": [
    "What do you notice about the VaR estimates compared to those from question `2.2`?"
   ]
  },
  {
   "cell_type": "markdown",
   "metadata": {},
   "source": [
    "This answer is if you want all var estimates from previous question\n",
    "\n",
    "The VaR estimates are noticeably larger in magnitude (more negative) than the volatility estimates from 2.2.\n",
    "That’s expected because:\n",
    "- Volatility (in 2.2) measures overall variation, while VaR isolates the extreme 1 % left-tail risk.\n",
    "- Both use the same volatility models (EWMA 26 w and Rolling 52 w), but VaR multiplies volatility by a 1 % quantile (≈ −2.33), scaling it to tail losses.\n",
    "- Consequently, EWMA VaR reacts quickly to recent spikes in volatility, Rolling VaR is smoother, and Empirical VaR reflects realized extremes and can be even more conservative when large negative returns exist in history.\n",
    "\n",
    "In short, VaR translates volatility into a measure of expected extreme loss—it’s directionally consistent with 2.2 but significantly deeper in the negative tail.\n",
    "\n",
    "This is for just 2.5\n",
    "\n",
    "The VaR estimates as of the end of 2023 are larger in magnitude (more negative) than the volatility estimates from Question 2.2. This is expected because VaR scales volatility by the 1 % quantile of the normal distribution (≈ −2.33), converting overall variability into an estimate of extreme downside risk.\n",
    "\n",
    "Specifically:\n",
    "- The EWMA VaR responds most strongly to recent volatility, giving the most reactive tail estimate.\n",
    "- The Rolling 52-week VaR is smoother, reflecting average conditions over the past year.\n",
    "- The Empirical VaR directly reflects realized tail losses and can be even more conservative if past returns include sharp drawdowns.\n"
   ]
  }
 ],
 "metadata": {
  "kernelspec": {
   "display_name": "finm",
   "language": "python",
   "name": "python3"
  },
  "language_info": {
   "codemirror_mode": {
    "name": "ipython",
    "version": 3
   },
   "file_extension": ".py",
   "mimetype": "text/x-python",
   "name": "python",
   "nbconvert_exporter": "python",
   "pygments_lexer": "ipython3",
   "version": "3.12.11"
  }
 },
 "nbformat": 4,
 "nbformat_minor": 4
}
