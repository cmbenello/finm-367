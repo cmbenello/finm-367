{
  "cells": [
    {
      "cell_type": "markdown",
      "id": "f7605588",
      "metadata": {},
      "source": [
        "# Exercises - Risk Metrics"
      ]
    },
    {
      "cell_type": "markdown",
      "id": "1a427452",
      "metadata": {},
      "source": [
        "### Data\n",
        "\n",
        "Try this exercise with data from \n",
        "* `../data/risk_etf_data.xlsx`\n",
        "* `../data/spx_returns_daily.xlsx`"
      ]
    },
    {
      "cell_type": "markdown",
      "id": "9cecfaac",
      "metadata": {},
      "source": [
        "# 1. Risk Metrics of Stocks"
      ]
    },
    {
      "cell_type": "markdown",
      "id": "6684c7c3",
      "metadata": {},
      "source": [
        "### 1.1 Return Moments\n",
        "\n",
        "Report the moments of the returns. Annualize the mean and volatility.\n",
        "* mean\n",
        "* volatility\n",
        "* skewness\n",
        "* (excess) kurtosis\n",
        "\n",
        "Note that the pandas function for kurtosis already reports **excess** kurtosis."
      ]
    },
    {
      "cell_type": "markdown",
      "id": "b3658071",
      "metadata": {},
      "source": [
        "### 1.2 Maximum Drawdown"
      ]
    },
    {
      "cell_type": "markdown",
      "id": "06896571",
      "metadata": {},
      "source": [
        "Report the maximum drawdown for each return series.\n",
        "\n",
        "If we resampled this data to weekly and recalculated the maximum drawdown, do you think it would be larger or smaller (in magnitude)?"
      ]
    },
    {
      "cell_type": "markdown",
      "id": "a369baf1",
      "metadata": {},
      "source": [
        "### 1.3 Quantiles"
      ]
    },
    {
      "cell_type": "markdown",
      "id": "93e6be1f",
      "metadata": {},
      "source": [
        "Report the quantiles of the series. Use `.describe()` for a useful summary.\n",
        "\n",
        "* Report the 5th quantile scaled by standard deviation.\n",
        "* How much sampling error is in the mean return? Is this likely to cause much sampling error in the quantile estimation?"
      ]
    },
    {
      "cell_type": "markdown",
      "id": "bf964dc4",
      "metadata": {},
      "source": [
        "### 1.4 Comparison\n",
        "\n",
        "Try repeating 1.1-1.3 for another asset. "
      ]
    },
    {
      "cell_type": "markdown",
      "id": "c0267eb4",
      "metadata": {},
      "source": [
        "***"
      ]
    },
    {
      "cell_type": "markdown",
      "id": "e5c815ad",
      "metadata": {},
      "source": [
        "# 2. Time Aggregation"
      ]
    },
    {
      "cell_type": "markdown",
      "id": "58d436dc",
      "metadata": {},
      "source": [
        "Use the price series to calculate **monthly** returns. (You may find `df.resample('M').last()` helpful."
      ]
    },
    {
      "cell_type": "markdown",
      "id": "5f6583d9",
      "metadata": {},
      "source": [
        "### 2.1 Measuring Covariation Risk"
      ]
    },
    {
      "cell_type": "markdown",
      "id": "d8bcdb4f",
      "metadata": {},
      "source": [
        "When discussing asset correlation to `SPY`, does it matter whether we examine daily versus monthly returns?\n",
        "* Report the correlation between each asset and `SPY` for both daily and monthly returns.\n",
        "* What do you conclude?\n",
        "\n",
        "If using the \"risk etf\" data, consider the answer for `BTC`."
      ]
    },
    {
      "cell_type": "markdown",
      "id": "639e83bb",
      "metadata": {},
      "source": [
        "### 2.2 Betas"
      ]
    },
    {
      "cell_type": "markdown",
      "id": "261d1577",
      "metadata": {},
      "source": [
        "For each series, calculate its beta to `SPY`.\n",
        "* Estimate the regression with an intercept (alpha) but no need to report it.\n",
        "\n",
        "How do these betas compare to the daily return betas?"
      ]
    },
    {
      "cell_type": "markdown",
      "id": "1d0eeec0",
      "metadata": {},
      "source": [
        "### 2.3 Time Scaling to Higher Moments"
      ]
    },
    {
      "cell_type": "markdown",
      "id": "45c8acfa",
      "metadata": {},
      "source": [
        "Report the skewness and kurtosis for the monthly returns.\n",
        "\n",
        "How do these compare to the daily skewness and kurtosis measures?\n",
        "\n",
        "What do you conclude?"
      ]
    },
    {
      "cell_type": "markdown",
      "id": "9b38684a",
      "metadata": {},
      "source": [
        "***"
      ]
    },
    {
      "cell_type": "markdown",
      "id": "94b0dbda",
      "metadata": {},
      "source": [
        "# <span style=\"color:red\">Solutions</span>"
      ]
    },
    {
      "cell_type": "code",
      "execution_count": null,
      "id": "5c1749c0",
      "metadata": {
        "jupyter": {
          "source_hidden": true
        }
      },
      "outputs": [],
      "source": [
        "import pandas as pd\n",
        "import numpy as np\n",
        "import datetime\n",
        "\n",
        "import matplotlib.pyplot as plt\n",
        "%matplotlib inline\n",
        "plt.rcParams['figure.figsize'] = (10,5)\n",
        "plt.rcParams['font.size'] = 13\n",
        "plt.rcParams['legend.fontsize'] = 13\n",
        "\n",
        "from matplotlib.ticker import (MultipleLocator,\n",
        "                               FormatStrFormatter,\n",
        "                               AutoMinorLocator)\n",
        "\n",
        "from cmds.portfolio import *\n",
        "from cmds.risk import *"
      ]
    },
    {
      "cell_type": "markdown",
      "id": "f700f305-af55-46aa-a3e1-fb3a0c096ad3",
      "metadata": {},
      "source": [
        "## <span style=\"color:red\">1</span>"
      ]
    },
    {
      "cell_type": "markdown",
      "id": "719ff5b5-404d-440f-97ac-cdbfa256a2ce",
      "metadata": {},
      "source": [
        "#### Use SPX stock data"
      ]
    },
    {
      "cell_type": "code",
      "execution_count": null,
      "id": "13887de1-5f15-4076-80db-bfdb00077873",
      "metadata": {
        "jupyter": {
          "source_hidden": true
        }
      },
      "outputs": [],
      "source": [
        "# DATAPATH = f'../data/spx_returns_daily.xlsx'\n",
        "# SHEET = 's&p500 rets'\n",
        "\n",
        "# TICKS = [\n",
        "#     'AAPL',\n",
        "#     'META',\n",
        "#     'NVDA',\n",
        "#     'TSLA'\n",
        "# ]\n",
        "\n",
        "# FREQ = 252\n",
        "\n",
        "# rets = pd.read_excel(DATAPATH, sheet_name=SHEET).set_index('date')\n",
        "# ###rets = rets[TICKS]\n",
        "# rets.dropna(inplace=True)\n",
        "\n",
        "\n",
        "# bench = pd.read_excel(DATAPATH, sheet_name='benchmark rets').set_index('date')\n",
        "# rets['SPY'] = bench['SPY']"
      ]
    },
    {
      "cell_type": "markdown",
      "id": "7ef1435c",
      "metadata": {},
      "source": [
        "Use ETF data"
      ]
    },
    {
      "cell_type": "code",
      "execution_count": null,
      "id": "0c0b8b4d",
      "metadata": {},
      "outputs": [],
      "source": [
        "LOADETF = '../data/risk_etf_data.xlsx'\n",
        "FREQ = 252\n",
        "\n",
        "\n",
        "px = pd.read_excel(LOADETF,sheet_name='prices').set_index('Date').dropna()\n",
        "rets = px.pct_change().dropna()"
      ]
    },
    {
      "cell_type": "code",
      "execution_count": null,
      "id": "b3041f53",
      "metadata": {},
      "outputs": [
        {
          "data": {
            "text/html": [
              "<style type=\"text/css\">\n",
              "</style>\n",
              "<table id=\"T_82254\">\n",
              "  <thead>\n",
              "    <tr>\n",
              "      <th class=\"blank level0\" >&nbsp;</th>\n",
              "      <th id=\"T_82254_level0_col0\" class=\"col_heading level0 col0\" >SPY</th>\n",
              "      <th id=\"T_82254_level0_col1\" class=\"col_heading level0 col1\" >VEA</th>\n",
              "      <th id=\"T_82254_level0_col2\" class=\"col_heading level0 col2\" >UPRO</th>\n",
              "      <th id=\"T_82254_level0_col3\" class=\"col_heading level0 col3\" >GLD</th>\n",
              "      <th id=\"T_82254_level0_col4\" class=\"col_heading level0 col4\" >USO</th>\n",
              "      <th id=\"T_82254_level0_col5\" class=\"col_heading level0 col5\" >FXE</th>\n",
              "      <th id=\"T_82254_level0_col6\" class=\"col_heading level0 col6\" >BTC</th>\n",
              "      <th id=\"T_82254_level0_col7\" class=\"col_heading level0 col7\" >HYG</th>\n",
              "      <th id=\"T_82254_level0_col8\" class=\"col_heading level0 col8\" >IEF</th>\n",
              "      <th id=\"T_82254_level0_col9\" class=\"col_heading level0 col9\" >TIP</th>\n",
              "      <th id=\"T_82254_level0_col10\" class=\"col_heading level0 col10\" >SHV</th>\n",
              "    </tr>\n",
              "    <tr>\n",
              "      <th class=\"index_name level0\" >Date</th>\n",
              "      <th class=\"blank col0\" >&nbsp;</th>\n",
              "      <th class=\"blank col1\" >&nbsp;</th>\n",
              "      <th class=\"blank col2\" >&nbsp;</th>\n",
              "      <th class=\"blank col3\" >&nbsp;</th>\n",
              "      <th class=\"blank col4\" >&nbsp;</th>\n",
              "      <th class=\"blank col5\" >&nbsp;</th>\n",
              "      <th class=\"blank col6\" >&nbsp;</th>\n",
              "      <th class=\"blank col7\" >&nbsp;</th>\n",
              "      <th class=\"blank col8\" >&nbsp;</th>\n",
              "      <th class=\"blank col9\" >&nbsp;</th>\n",
              "      <th class=\"blank col10\" >&nbsp;</th>\n",
              "    </tr>\n",
              "  </thead>\n",
              "  <tbody>\n",
              "    <tr>\n",
              "      <th id=\"T_82254_level0_row0\" class=\"row_heading level0 row0\" >2025-06-23</th>\n",
              "      <td id=\"T_82254_row0_col0\" class=\"data row0 col0\" >1.0%</td>\n",
              "      <td id=\"T_82254_row0_col1\" class=\"data row0 col1\" >0.8%</td>\n",
              "      <td id=\"T_82254_row0_col2\" class=\"data row0 col2\" >3.0%</td>\n",
              "      <td id=\"T_82254_row0_col3\" class=\"data row0 col3\" >0.3%</td>\n",
              "      <td id=\"T_82254_row0_col4\" class=\"data row0 col4\" >-8.1%</td>\n",
              "      <td id=\"T_82254_row0_col5\" class=\"data row0 col5\" >0.6%</td>\n",
              "      <td id=\"T_82254_row0_col6\" class=\"data row0 col6\" >2.2%</td>\n",
              "      <td id=\"T_82254_row0_col7\" class=\"data row0 col7\" >0.2%</td>\n",
              "      <td id=\"T_82254_row0_col8\" class=\"data row0 col8\" >0.3%</td>\n",
              "      <td id=\"T_82254_row0_col9\" class=\"data row0 col9\" >0.1%</td>\n",
              "      <td id=\"T_82254_row0_col10\" class=\"data row0 col10\" >0.0%</td>\n",
              "    </tr>\n",
              "    <tr>\n",
              "      <th id=\"T_82254_level0_row1\" class=\"row_heading level0 row1\" >2025-06-24</th>\n",
              "      <td id=\"T_82254_row1_col0\" class=\"data row1 col0\" >1.1%</td>\n",
              "      <td id=\"T_82254_row1_col1\" class=\"data row1 col1\" >1.3%</td>\n",
              "      <td id=\"T_82254_row1_col2\" class=\"data row1 col2\" >3.3%</td>\n",
              "      <td id=\"T_82254_row1_col3\" class=\"data row1 col3\" >-1.6%</td>\n",
              "      <td id=\"T_82254_row1_col4\" class=\"data row1 col4\" >-4.5%</td>\n",
              "      <td id=\"T_82254_row1_col5\" class=\"data row1 col5\" >0.3%</td>\n",
              "      <td id=\"T_82254_row1_col6\" class=\"data row1 col6\" >0.4%</td>\n",
              "      <td id=\"T_82254_row1_col7\" class=\"data row1 col7\" >0.3%</td>\n",
              "      <td id=\"T_82254_row1_col8\" class=\"data row1 col8\" >0.3%</td>\n",
              "      <td id=\"T_82254_row1_col9\" class=\"data row1 col9\" >0.1%</td>\n",
              "      <td id=\"T_82254_row1_col10\" class=\"data row1 col10\" >0.0%</td>\n",
              "    </tr>\n",
              "    <tr>\n",
              "      <th id=\"T_82254_level0_row2\" class=\"row_heading level0 row2\" >2025-06-25</th>\n",
              "      <td id=\"T_82254_row2_col0\" class=\"data row2 col0\" >0.1%</td>\n",
              "      <td id=\"T_82254_row2_col1\" class=\"data row2 col1\" >-0.5%</td>\n",
              "      <td id=\"T_82254_row2_col2\" class=\"data row2 col2\" >0.2%</td>\n",
              "      <td id=\"T_82254_row2_col3\" class=\"data row2 col3\" >0.3%</td>\n",
              "      <td id=\"T_82254_row2_col4\" class=\"data row2 col4\" >0.4%</td>\n",
              "      <td id=\"T_82254_row2_col5\" class=\"data row2 col5\" >0.4%</td>\n",
              "      <td id=\"T_82254_row2_col6\" class=\"data row2 col6\" >1.2%</td>\n",
              "      <td id=\"T_82254_row2_col7\" class=\"data row2 col7\" >-0.0%</td>\n",
              "      <td id=\"T_82254_row2_col8\" class=\"data row2 col8\" >0.0%</td>\n",
              "      <td id=\"T_82254_row2_col9\" class=\"data row2 col9\" >0.1%</td>\n",
              "      <td id=\"T_82254_row2_col10\" class=\"data row2 col10\" >0.0%</td>\n",
              "    </tr>\n",
              "    <tr>\n",
              "      <th id=\"T_82254_level0_row3\" class=\"row_heading level0 row3\" >2025-06-26</th>\n",
              "      <td id=\"T_82254_row3_col0\" class=\"data row3 col0\" >0.8%</td>\n",
              "      <td id=\"T_82254_row3_col1\" class=\"data row3 col1\" >1.1%</td>\n",
              "      <td id=\"T_82254_row3_col2\" class=\"data row3 col2\" >2.3%</td>\n",
              "      <td id=\"T_82254_row3_col3\" class=\"data row3 col3\" >-0.1%</td>\n",
              "      <td id=\"T_82254_row3_col4\" class=\"data row3 col4\" >0.4%</td>\n",
              "      <td id=\"T_82254_row3_col5\" class=\"data row3 col5\" >0.4%</td>\n",
              "      <td id=\"T_82254_row3_col6\" class=\"data row3 col6\" >-0.4%</td>\n",
              "      <td id=\"T_82254_row3_col7\" class=\"data row3 col7\" >0.3%</td>\n",
              "      <td id=\"T_82254_row3_col8\" class=\"data row3 col8\" >0.4%</td>\n",
              "      <td id=\"T_82254_row3_col9\" class=\"data row3 col9\" >0.3%</td>\n",
              "      <td id=\"T_82254_row3_col10\" class=\"data row3 col10\" >0.0%</td>\n",
              "    </tr>\n",
              "    <tr>\n",
              "      <th id=\"T_82254_level0_row4\" class=\"row_heading level0 row4\" >2025-06-27</th>\n",
              "      <td id=\"T_82254_row4_col0\" class=\"data row4 col0\" >0.5%</td>\n",
              "      <td id=\"T_82254_row4_col1\" class=\"data row4 col1\" >0.6%</td>\n",
              "      <td id=\"T_82254_row4_col2\" class=\"data row4 col2\" >1.3%</td>\n",
              "      <td id=\"T_82254_row4_col3\" class=\"data row4 col3\" >-1.8%</td>\n",
              "      <td id=\"T_82254_row4_col4\" class=\"data row4 col4\" >-0.4%</td>\n",
              "      <td id=\"T_82254_row4_col5\" class=\"data row4 col5\" >0.0%</td>\n",
              "      <td id=\"T_82254_row4_col6\" class=\"data row4 col6\" >0.1%</td>\n",
              "      <td id=\"T_82254_row4_col7\" class=\"data row4 col7\" >-0.0%</td>\n",
              "      <td id=\"T_82254_row4_col8\" class=\"data row4 col8\" >-0.3%</td>\n",
              "      <td id=\"T_82254_row4_col9\" class=\"data row4 col9\" >-0.1%</td>\n",
              "      <td id=\"T_82254_row4_col10\" class=\"data row4 col10\" >0.0%</td>\n",
              "    </tr>\n",
              "  </tbody>\n",
              "</table>\n"
            ],
            "text/plain": [
              "<pandas.io.formats.style.Styler at 0x300cad6c0>"
            ]
          },
          "execution_count": 4,
          "metadata": {},
          "output_type": "execute_result"
        }
      ],
      "source": [
        "rets.tail().style.format('{:.1%}').format_index('{:%Y-%m-%d}')"
      ]
    },
    {
      "cell_type": "code",
      "execution_count": null,
      "id": "6aec0ab4",
      "metadata": {
        "jupyter": {
          "source_hidden": true
        }
      },
      "outputs": [
        {
          "data": {
            "text/html": [
              "<style type=\"text/css\">\n",
              "</style>\n",
              "<table id=\"T_6bef0\">\n",
              "  <thead>\n",
              "    <tr>\n",
              "      <th class=\"blank level0\" >&nbsp;</th>\n",
              "      <th id=\"T_6bef0_level0_col0\" class=\"col_heading level0 col0\" >mean</th>\n",
              "      <th id=\"T_6bef0_level0_col1\" class=\"col_heading level0 col1\" >vol</th>\n",
              "      <th id=\"T_6bef0_level0_col2\" class=\"col_heading level0 col2\" >skewness</th>\n",
              "      <th id=\"T_6bef0_level0_col3\" class=\"col_heading level0 col3\" >kurtosis</th>\n",
              "    </tr>\n",
              "  </thead>\n",
              "  <tbody>\n",
              "    <tr>\n",
              "      <th id=\"T_6bef0_level0_row0\" class=\"row_heading level0 row0\" >SPY</th>\n",
              "      <td id=\"T_6bef0_row0_col0\" class=\"data row0 col0\" >15.3%</td>\n",
              "      <td id=\"T_6bef0_row0_col1\" class=\"data row0 col1\" >18.9%</td>\n",
              "      <td id=\"T_6bef0_row0_col2\" class=\"data row0 col2\" >-0.30</td>\n",
              "      <td id=\"T_6bef0_row0_col3\" class=\"data row0 col3\" >14.24</td>\n",
              "    </tr>\n",
              "    <tr>\n",
              "      <th id=\"T_6bef0_level0_row1\" class=\"row_heading level0 row1\" >VEA</th>\n",
              "      <td id=\"T_6bef0_row1_col0\" class=\"data row1 col0\" >9.7%</td>\n",
              "      <td id=\"T_6bef0_row1_col1\" class=\"data row1 col1\" >17.5%</td>\n",
              "      <td id=\"T_6bef0_row1_col2\" class=\"data row1 col2\" >-0.86</td>\n",
              "      <td id=\"T_6bef0_row1_col3\" class=\"data row1 col3\" >16.12</td>\n",
              "    </tr>\n",
              "    <tr>\n",
              "      <th id=\"T_6bef0_level0_row2\" class=\"row_heading level0 row2\" >UPRO</th>\n",
              "      <td id=\"T_6bef0_row2_col0\" class=\"data row2 col0\" >38.8%</td>\n",
              "      <td id=\"T_6bef0_row2_col1\" class=\"data row2 col1\" >56.5%</td>\n",
              "      <td id=\"T_6bef0_row2_col2\" class=\"data row2 col2\" >-0.38</td>\n",
              "      <td id=\"T_6bef0_row2_col3\" class=\"data row2 col3\" >14.99</td>\n",
              "    </tr>\n",
              "    <tr>\n",
              "      <th id=\"T_6bef0_level0_row3\" class=\"row_heading level0 row3\" >GLD</th>\n",
              "      <td id=\"T_6bef0_row3_col0\" class=\"data row3 col0\" >12.9%</td>\n",
              "      <td id=\"T_6bef0_row3_col1\" class=\"data row3 col1\" >14.3%</td>\n",
              "      <td id=\"T_6bef0_row3_col2\" class=\"data row3 col2\" >-0.15</td>\n",
              "      <td id=\"T_6bef0_row3_col3\" class=\"data row3 col3\" >2.70</td>\n",
              "    </tr>\n",
              "    <tr>\n",
              "      <th id=\"T_6bef0_level0_row4\" class=\"row_heading level0 row4\" >USO</th>\n",
              "      <td id=\"T_6bef0_row4_col0\" class=\"data row4 col0\" >5.0%</td>\n",
              "      <td id=\"T_6bef0_row4_col1\" class=\"data row4 col1\" >38.6%</td>\n",
              "      <td id=\"T_6bef0_row4_col2\" class=\"data row4 col2\" >-1.28</td>\n",
              "      <td id=\"T_6bef0_row4_col3\" class=\"data row4 col3\" >16.30</td>\n",
              "    </tr>\n",
              "    <tr>\n",
              "      <th id=\"T_6bef0_level0_row5\" class=\"row_heading level0 row5\" >FXE</th>\n",
              "      <td id=\"T_6bef0_row5_col0\" class=\"data row5 col0\" >1.6%</td>\n",
              "      <td id=\"T_6bef0_row5_col1\" class=\"data row5 col1\" >7.4%</td>\n",
              "      <td id=\"T_6bef0_row5_col2\" class=\"data row5 col2\" >0.16</td>\n",
              "      <td id=\"T_6bef0_row5_col3\" class=\"data row5 col3\" >1.35</td>\n",
              "    </tr>\n",
              "    <tr>\n",
              "      <th id=\"T_6bef0_level0_row6\" class=\"row_heading level0 row6\" >BTC</th>\n",
              "      <td id=\"T_6bef0_row6_col0\" class=\"data row6 col0\" >79.3%</td>\n",
              "      <td id=\"T_6bef0_row6_col1\" class=\"data row6 col1\" >69.8%</td>\n",
              "      <td id=\"T_6bef0_row6_col2\" class=\"data row6 col2\" >0.03</td>\n",
              "      <td id=\"T_6bef0_row6_col3\" class=\"data row6 col3\" >6.15</td>\n",
              "    </tr>\n",
              "    <tr>\n",
              "      <th id=\"T_6bef0_level0_row7\" class=\"row_heading level0 row7\" >HYG</th>\n",
              "      <td id=\"T_6bef0_row7_col0\" class=\"data row7 col0\" >4.6%</td>\n",
              "      <td id=\"T_6bef0_row7_col1\" class=\"data row7 col1\" >8.7%</td>\n",
              "      <td id=\"T_6bef0_row7_col2\" class=\"data row7 col2\" >0.13</td>\n",
              "      <td id=\"T_6bef0_row7_col3\" class=\"data row7 col3\" >26.42</td>\n",
              "    </tr>\n",
              "    <tr>\n",
              "      <th id=\"T_6bef0_level0_row8\" class=\"row_heading level0 row8\" >IEF</th>\n",
              "      <td id=\"T_6bef0_row8_col0\" class=\"data row8 col0\" >1.3%</td>\n",
              "      <td id=\"T_6bef0_row8_col1\" class=\"data row8 col1\" >6.9%</td>\n",
              "      <td id=\"T_6bef0_row8_col2\" class=\"data row8 col2\" >0.20</td>\n",
              "      <td id=\"T_6bef0_row8_col3\" class=\"data row8 col3\" >3.20</td>\n",
              "    </tr>\n",
              "    <tr>\n",
              "      <th id=\"T_6bef0_level0_row9\" class=\"row_heading level0 row9\" >TIP</th>\n",
              "      <td id=\"T_6bef0_row9_col0\" class=\"data row9 col0\" >2.8%</td>\n",
              "      <td id=\"T_6bef0_row9_col1\" class=\"data row9 col1\" >6.0%</td>\n",
              "      <td id=\"T_6bef0_row9_col2\" class=\"data row9 col2\" >0.36</td>\n",
              "      <td id=\"T_6bef0_row9_col3\" class=\"data row9 col3\" >14.86</td>\n",
              "    </tr>\n",
              "    <tr>\n",
              "      <th id=\"T_6bef0_level0_row10\" class=\"row_heading level0 row10\" >SHV</th>\n",
              "      <td id=\"T_6bef0_row10_col0\" class=\"data row10 col0\" >2.2%</td>\n",
              "      <td id=\"T_6bef0_row10_col1\" class=\"data row10 col1\" >0.3%</td>\n",
              "      <td id=\"T_6bef0_row10_col2\" class=\"data row10 col2\" >0.66</td>\n",
              "      <td id=\"T_6bef0_row10_col3\" class=\"data row10 col3\" >3.28</td>\n",
              "    </tr>\n",
              "  </tbody>\n",
              "</table>\n"
            ],
            "text/plain": [
              "<pandas.io.formats.style.Styler at 0x300cad990>"
            ]
          },
          "execution_count": 5,
          "metadata": {},
          "output_type": "execute_result"
        }
      ],
      "source": [
        "moments = get_moments(rets,FREQ=FREQ)\n",
        "moments"
      ]
    },
    {
      "cell_type": "code",
      "execution_count": null,
      "id": "2bbb175c",
      "metadata": {
        "jupyter": {
          "source_hidden": true
        },
        "scrolled": true
      },
      "outputs": [
        {
          "data": {
            "text/html": [
              "<style type=\"text/css\">\n",
              "</style>\n",
              "<table id=\"T_3500f\">\n",
              "  <thead>\n",
              "    <tr>\n",
              "      <th class=\"blank level0\" >&nbsp;</th>\n",
              "      <th id=\"T_3500f_level0_col0\" class=\"col_heading level0 col0\" >Max Drawdown</th>\n",
              "      <th id=\"T_3500f_level0_col1\" class=\"col_heading level0 col1\" >Peak</th>\n",
              "      <th id=\"T_3500f_level0_col2\" class=\"col_heading level0 col2\" >Bottom</th>\n",
              "      <th id=\"T_3500f_level0_col3\" class=\"col_heading level0 col3\" >Recover</th>\n",
              "      <th id=\"T_3500f_level0_col4\" class=\"col_heading level0 col4\" >Duration (to Recover)</th>\n",
              "    </tr>\n",
              "  </thead>\n",
              "  <tbody>\n",
              "    <tr>\n",
              "      <th id=\"T_3500f_level0_row0\" class=\"row_heading level0 row0\" >USO</th>\n",
              "      <td id=\"T_3500f_row0_col0\" class=\"data row0 col0\" >-86.8%</td>\n",
              "      <td id=\"T_3500f_row0_col1\" class=\"data row0 col1\" >2018-10-03</td>\n",
              "      <td id=\"T_3500f_row0_col2\" class=\"data row0 col2\" >2020-04-28</td>\n",
              "      <td id=\"T_3500f_row0_col3\" class=\"data row0 col3\" >NaT</td>\n",
              "      <td id=\"T_3500f_row0_col4\" class=\"data row0 col4\" >NaT</td>\n",
              "    </tr>\n",
              "    <tr>\n",
              "      <th id=\"T_3500f_level0_row1\" class=\"row_heading level0 row1\" >BTC</th>\n",
              "      <td id=\"T_3500f_row1_col0\" class=\"data row1 col0\" >-83.0%</td>\n",
              "      <td id=\"T_3500f_row1_col1\" class=\"data row1 col1\" >2017-12-18</td>\n",
              "      <td id=\"T_3500f_row1_col2\" class=\"data row1 col2\" >2018-12-14</td>\n",
              "      <td id=\"T_3500f_row1_col3\" class=\"data row1 col3\" >2020-11-30 00:00:00</td>\n",
              "      <td id=\"T_3500f_row1_col4\" class=\"data row1 col4\" >1078 days 00:00:00</td>\n",
              "    </tr>\n",
              "    <tr>\n",
              "      <th id=\"T_3500f_level0_row2\" class=\"row_heading level0 row2\" >UPRO</th>\n",
              "      <td id=\"T_3500f_row2_col0\" class=\"data row2 col0\" >-76.8%</td>\n",
              "      <td id=\"T_3500f_row2_col1\" class=\"data row2 col1\" >2020-02-19</td>\n",
              "      <td id=\"T_3500f_row2_col2\" class=\"data row2 col2\" >2020-03-23</td>\n",
              "      <td id=\"T_3500f_row2_col3\" class=\"data row2 col3\" >2021-01-08 00:00:00</td>\n",
              "      <td id=\"T_3500f_row2_col4\" class=\"data row2 col4\" >324 days 00:00:00</td>\n",
              "    </tr>\n",
              "    <tr>\n",
              "      <th id=\"T_3500f_level0_row3\" class=\"row_heading level0 row3\" >VEA</th>\n",
              "      <td id=\"T_3500f_row3_col0\" class=\"data row3 col0\" >-35.7%</td>\n",
              "      <td id=\"T_3500f_row3_col1\" class=\"data row3 col1\" >2018-01-26</td>\n",
              "      <td id=\"T_3500f_row3_col2\" class=\"data row3 col2\" >2020-03-23</td>\n",
              "      <td id=\"T_3500f_row3_col3\" class=\"data row3 col3\" >2020-11-16 00:00:00</td>\n",
              "      <td id=\"T_3500f_row3_col4\" class=\"data row3 col4\" >1025 days 00:00:00</td>\n",
              "    </tr>\n",
              "    <tr>\n",
              "      <th id=\"T_3500f_level0_row4\" class=\"row_heading level0 row4\" >SPY</th>\n",
              "      <td id=\"T_3500f_row4_col0\" class=\"data row4 col0\" >-33.7%</td>\n",
              "      <td id=\"T_3500f_row4_col1\" class=\"data row4 col1\" >2020-02-19</td>\n",
              "      <td id=\"T_3500f_row4_col2\" class=\"data row4 col2\" >2020-03-23</td>\n",
              "      <td id=\"T_3500f_row4_col3\" class=\"data row4 col3\" >2020-08-10 00:00:00</td>\n",
              "      <td id=\"T_3500f_row4_col4\" class=\"data row4 col4\" >173 days 00:00:00</td>\n",
              "    </tr>\n",
              "    <tr>\n",
              "      <th id=\"T_3500f_level0_row5\" class=\"row_heading level0 row5\" >FXE</th>\n",
              "      <td id=\"T_3500f_row5_col0\" class=\"data row5 col0\" >-26.5%</td>\n",
              "      <td id=\"T_3500f_row5_col1\" class=\"data row5 col1\" >2018-02-01</td>\n",
              "      <td id=\"T_3500f_row5_col2\" class=\"data row5 col2\" >2022-09-27</td>\n",
              "      <td id=\"T_3500f_row5_col3\" class=\"data row5 col3\" >NaT</td>\n",
              "      <td id=\"T_3500f_row5_col4\" class=\"data row5 col4\" >NaT</td>\n",
              "    </tr>\n",
              "    <tr>\n",
              "      <th id=\"T_3500f_level0_row6\" class=\"row_heading level0 row6\" >IEF</th>\n",
              "      <td id=\"T_3500f_row6_col0\" class=\"data row6 col0\" >-23.9%</td>\n",
              "      <td id=\"T_3500f_row6_col1\" class=\"data row6 col1\" >2020-08-04</td>\n",
              "      <td id=\"T_3500f_row6_col2\" class=\"data row6 col2\" >2023-10-19</td>\n",
              "      <td id=\"T_3500f_row6_col3\" class=\"data row6 col3\" >NaT</td>\n",
              "      <td id=\"T_3500f_row6_col4\" class=\"data row6 col4\" >NaT</td>\n",
              "    </tr>\n",
              "    <tr>\n",
              "      <th id=\"T_3500f_level0_row7\" class=\"row_heading level0 row7\" >HYG</th>\n",
              "      <td id=\"T_3500f_row7_col0\" class=\"data row7 col0\" >-22.0%</td>\n",
              "      <td id=\"T_3500f_row7_col1\" class=\"data row7 col1\" >2020-02-20</td>\n",
              "      <td id=\"T_3500f_row7_col2\" class=\"data row7 col2\" >2020-03-23</td>\n",
              "      <td id=\"T_3500f_row7_col3\" class=\"data row7 col3\" >2020-11-04 00:00:00</td>\n",
              "      <td id=\"T_3500f_row7_col4\" class=\"data row7 col4\" >258 days 00:00:00</td>\n",
              "    </tr>\n",
              "    <tr>\n",
              "      <th id=\"T_3500f_level0_row8\" class=\"row_heading level0 row8\" >GLD</th>\n",
              "      <td id=\"T_3500f_row8_col0\" class=\"data row8 col0\" >-22.0%</td>\n",
              "      <td id=\"T_3500f_row8_col1\" class=\"data row8 col1\" >2020-08-06</td>\n",
              "      <td id=\"T_3500f_row8_col2\" class=\"data row8 col2\" >2022-09-26</td>\n",
              "      <td id=\"T_3500f_row8_col3\" class=\"data row8 col3\" >2024-03-04 00:00:00</td>\n",
              "      <td id=\"T_3500f_row8_col4\" class=\"data row8 col4\" >1306 days 00:00:00</td>\n",
              "    </tr>\n",
              "    <tr>\n",
              "      <th id=\"T_3500f_level0_row9\" class=\"row_heading level0 row9\" >TIP</th>\n",
              "      <td id=\"T_3500f_row9_col0\" class=\"data row9 col0\" >-14.5%</td>\n",
              "      <td id=\"T_3500f_row9_col1\" class=\"data row9 col1\" >2021-11-09</td>\n",
              "      <td id=\"T_3500f_row9_col2\" class=\"data row9 col2\" >2023-10-06</td>\n",
              "      <td id=\"T_3500f_row9_col3\" class=\"data row9 col3\" >NaT</td>\n",
              "      <td id=\"T_3500f_row9_col4\" class=\"data row9 col4\" >NaT</td>\n",
              "    </tr>\n",
              "    <tr>\n",
              "      <th id=\"T_3500f_level0_row10\" class=\"row_heading level0 row10\" >SHV</th>\n",
              "      <td id=\"T_3500f_row10_col0\" class=\"data row10 col0\" >-0.5%</td>\n",
              "      <td id=\"T_3500f_row10_col1\" class=\"data row10 col1\" >2020-04-07</td>\n",
              "      <td id=\"T_3500f_row10_col2\" class=\"data row10 col2\" >2022-06-14</td>\n",
              "      <td id=\"T_3500f_row10_col3\" class=\"data row10 col3\" >2022-10-07 00:00:00</td>\n",
              "      <td id=\"T_3500f_row10_col4\" class=\"data row10 col4\" >913 days 00:00:00</td>\n",
              "    </tr>\n",
              "  </tbody>\n",
              "</table>\n"
            ],
            "text/plain": [
              "<pandas.io.formats.style.Styler at 0x300e73d60>"
            ]
          },
          "execution_count": 6,
          "metadata": {},
          "output_type": "execute_result"
        }
      ],
      "source": [
        "maximumDrawdown(rets).sort_values('Max Drawdown').style.format({'Max Drawdown':'{:.1%}', 'Bottom':'{:%Y-%m-%d}', 'Peak':'{:%Y-%m-%d}'})"
      ]
    },
    {
      "cell_type": "code",
      "execution_count": null,
      "id": "8fbfa069-51c4-4651-92e1-a91e167276b2",
      "metadata": {
        "jupyter": {
          "source_hidden": true
        }
      },
      "outputs": [
        {
          "data": {
            "image/png": "[encoded data removed]",
            "text/plain": [
              "<Figure size 1200x600 with 1 Axes>"
            ]
          },
          "metadata": {},
          "output_type": "display_data"
        }
      ],
      "source": [
        "TICK = 'GLD'\n",
        "\n",
        "drawdown = mdd_timeseries(rets)\n",
        "drawdown[TICK].plot(title=f'Max Drawdown {TICK}');\n",
        "plt.show()"
      ]
    },
    {
      "cell_type": "code",
      "execution_count": null,
      "id": "72b1a0dd",
      "metadata": {
        "jupyter": {
          "source_hidden": true
        }
      },
      "outputs": [
        {
          "data": {
            "text/html": [
              "<style type=\"text/css\">\n",
              "</style>\n",
              "<table id=\"T_84375\">\n",
              "  <thead>\n",
              "    <tr>\n",
              "      <th class=\"blank level0\" >&nbsp;</th>\n",
              "      <th id=\"T_84375_level0_col0\" class=\"col_heading level0 col0\" >VaR (0.05)</th>\n",
              "      <th id=\"T_84375_level0_col1\" class=\"col_heading level0 col1\" >CVaR (0.05)</th>\n",
              "    </tr>\n",
              "  </thead>\n",
              "  <tbody>\n",
              "    <tr>\n",
              "      <th id=\"T_84375_level0_row0\" class=\"row_heading level0 row0\" >SPY</th>\n",
              "      <td id=\"T_84375_row0_col0\" class=\"data row0 col0\" >-1.76%</td>\n",
              "      <td id=\"T_84375_row0_col1\" class=\"data row0 col1\" >-2.90%</td>\n",
              "    </tr>\n",
              "    <tr>\n",
              "      <th id=\"T_84375_level0_row1\" class=\"row_heading level0 row1\" >VEA</th>\n",
              "      <td id=\"T_84375_row1_col0\" class=\"data row1 col0\" >-1.57%</td>\n",
              "      <td id=\"T_84375_row1_col1\" class=\"data row1 col1\" >-2.56%</td>\n",
              "    </tr>\n",
              "    <tr>\n",
              "      <th id=\"T_84375_level0_row2\" class=\"row_heading level0 row2\" >UPRO</th>\n",
              "      <td id=\"T_84375_row2_col0\" class=\"data row2 col0\" >-5.28%</td>\n",
              "      <td id=\"T_84375_row2_col1\" class=\"data row2 col1\" >-8.70%</td>\n",
              "    </tr>\n",
              "    <tr>\n",
              "      <th id=\"T_84375_level0_row3\" class=\"row_heading level0 row3\" >GLD</th>\n",
              "      <td id=\"T_84375_row3_col0\" class=\"data row3 col0\" >-1.44%</td>\n",
              "      <td id=\"T_84375_row3_col1\" class=\"data row3 col1\" >-2.04%</td>\n",
              "    </tr>\n",
              "    <tr>\n",
              "      <th id=\"T_84375_level0_row4\" class=\"row_heading level0 row4\" >USO</th>\n",
              "      <td id=\"T_84375_row4_col0\" class=\"data row4 col0\" >-3.54%</td>\n",
              "      <td id=\"T_84375_row4_col1\" class=\"data row4 col1\" >-5.93%</td>\n",
              "    </tr>\n",
              "    <tr>\n",
              "      <th id=\"T_84375_level0_row5\" class=\"row_heading level0 row5\" >FXE</th>\n",
              "      <td id=\"T_84375_row5_col0\" class=\"data row5 col0\" >-0.73%</td>\n",
              "      <td id=\"T_84375_row5_col1\" class=\"data row5 col1\" >-0.96%</td>\n",
              "    </tr>\n",
              "    <tr>\n",
              "      <th id=\"T_84375_level0_row6\" class=\"row_heading level0 row6\" >BTC</th>\n",
              "      <td id=\"T_84375_row6_col0\" class=\"data row6 col0\" >-6.25%</td>\n",
              "      <td id=\"T_84375_row6_col1\" class=\"data row6 col1\" >-9.80%</td>\n",
              "    </tr>\n",
              "    <tr>\n",
              "      <th id=\"T_84375_level0_row7\" class=\"row_heading level0 row7\" >HYG</th>\n",
              "      <td id=\"T_84375_row7_col0\" class=\"data row7 col0\" >-0.71%</td>\n",
              "      <td id=\"T_84375_row7_col1\" class=\"data row7 col1\" >-1.27%</td>\n",
              "    </tr>\n",
              "    <tr>\n",
              "      <th id=\"T_84375_level0_row8\" class=\"row_heading level0 row8\" >IEF</th>\n",
              "      <td id=\"T_84375_row8_col0\" class=\"data row8 col0\" >-0.68%</td>\n",
              "      <td id=\"T_84375_row8_col1\" class=\"data row8 col1\" >-0.95%</td>\n",
              "    </tr>\n",
              "    <tr>\n",
              "      <th id=\"T_84375_level0_row9\" class=\"row_heading level0 row9\" >TIP</th>\n",
              "      <td id=\"T_84375_row9_col0\" class=\"data row9 col0\" >-0.53%</td>\n",
              "      <td id=\"T_84375_row9_col1\" class=\"data row9 col1\" >-0.86%</td>\n",
              "    </tr>\n",
              "    <tr>\n",
              "      <th id=\"T_84375_level0_row10\" class=\"row_heading level0 row10\" >SHV</th>\n",
              "      <td id=\"T_84375_row10_col0\" class=\"data row10 col0\" >-0.02%</td>\n",
              "      <td id=\"T_84375_row10_col1\" class=\"data row10 col1\" >-0.03%</td>\n",
              "    </tr>\n",
              "  </tbody>\n",
              "</table>\n"
            ],
            "text/plain": [
              "<pandas.io.formats.style.Styler at 0x300ed8910>"
            ]
          },
          "execution_count": 8,
          "metadata": {},
          "output_type": "execute_result"
        }
      ],
      "source": [
        "tailMetrics(rets,relative=False)[['VaR (0.05)','CVaR (0.05)']].style.format('{:.2%}')"
      ]
    },
    {
      "cell_type": "code",
      "execution_count": null,
      "id": "1adb442e",
      "metadata": {
        "jupyter": {
          "source_hidden": true
        }
      },
      "outputs": [
        {
          "data": {
            "text/html": [
              "<style type=\"text/css\">\n",
              "</style>\n",
              "<table id=\"T_9d5bf\">\n",
              "  <thead>\n",
              "    <tr>\n",
              "      <th class=\"blank level0\" >&nbsp;</th>\n",
              "      <th id=\"T_9d5bf_level0_col0\" class=\"col_heading level0 col0\" >quantile 0.05</th>\n",
              "    </tr>\n",
              "  </thead>\n",
              "  <tbody>\n",
              "    <tr>\n",
              "      <th id=\"T_9d5bf_level0_row0\" class=\"row_heading level0 row0\" >BTC</th>\n",
              "      <td id=\"T_9d5bf_row0_col0\" class=\"data row0 col0\" >-6.2%</td>\n",
              "    </tr>\n",
              "    <tr>\n",
              "      <th id=\"T_9d5bf_level0_row1\" class=\"row_heading level0 row1\" >UPRO</th>\n",
              "      <td id=\"T_9d5bf_row1_col0\" class=\"data row1 col0\" >-5.3%</td>\n",
              "    </tr>\n",
              "    <tr>\n",
              "      <th id=\"T_9d5bf_level0_row2\" class=\"row_heading level0 row2\" >USO</th>\n",
              "      <td id=\"T_9d5bf_row2_col0\" class=\"data row2 col0\" >-3.5%</td>\n",
              "    </tr>\n",
              "    <tr>\n",
              "      <th id=\"T_9d5bf_level0_row3\" class=\"row_heading level0 row3\" >SPY</th>\n",
              "      <td id=\"T_9d5bf_row3_col0\" class=\"data row3 col0\" >-1.8%</td>\n",
              "    </tr>\n",
              "    <tr>\n",
              "      <th id=\"T_9d5bf_level0_row4\" class=\"row_heading level0 row4\" >VEA</th>\n",
              "      <td id=\"T_9d5bf_row4_col0\" class=\"data row4 col0\" >-1.6%</td>\n",
              "    </tr>\n",
              "    <tr>\n",
              "      <th id=\"T_9d5bf_level0_row5\" class=\"row_heading level0 row5\" >GLD</th>\n",
              "      <td id=\"T_9d5bf_row5_col0\" class=\"data row5 col0\" >-1.4%</td>\n",
              "    </tr>\n",
              "    <tr>\n",
              "      <th id=\"T_9d5bf_level0_row6\" class=\"row_heading level0 row6\" >FXE</th>\n",
              "      <td id=\"T_9d5bf_row6_col0\" class=\"data row6 col0\" >-0.7%</td>\n",
              "    </tr>\n",
              "    <tr>\n",
              "      <th id=\"T_9d5bf_level0_row7\" class=\"row_heading level0 row7\" >HYG</th>\n",
              "      <td id=\"T_9d5bf_row7_col0\" class=\"data row7 col0\" >-0.7%</td>\n",
              "    </tr>\n",
              "    <tr>\n",
              "      <th id=\"T_9d5bf_level0_row8\" class=\"row_heading level0 row8\" >IEF</th>\n",
              "      <td id=\"T_9d5bf_row8_col0\" class=\"data row8 col0\" >-0.7%</td>\n",
              "    </tr>\n",
              "    <tr>\n",
              "      <th id=\"T_9d5bf_level0_row9\" class=\"row_heading level0 row9\" >TIP</th>\n",
              "      <td id=\"T_9d5bf_row9_col0\" class=\"data row9 col0\" >-0.5%</td>\n",
              "    </tr>\n",
              "    <tr>\n",
              "      <th id=\"T_9d5bf_level0_row10\" class=\"row_heading level0 row10\" >SHV</th>\n",
              "      <td id=\"T_9d5bf_row10_col0\" class=\"data row10 col0\" >-0.0%</td>\n",
              "    </tr>\n",
              "  </tbody>\n",
              "</table>\n"
            ],
            "text/plain": [
              "<pandas.io.formats.style.Styler at 0x301197df0>"
            ]
          },
          "execution_count": 9,
          "metadata": {},
          "output_type": "execute_result"
        }
      ],
      "source": [
        "QUANT = .05\n",
        "\n",
        "quants = rets.quantile(QUANT).to_frame()\n",
        "quants.columns = [f'quantile {QUANT}']\n",
        "\n",
        "quants.sort_values(quants.columns[0]).style.format('{:.1%}')"
      ]
    },
    {
      "cell_type": "markdown",
      "id": "8d4f57c2",
      "metadata": {},
      "source": [
        "#### Sampling error in mean\n",
        "\n",
        "Given by LLN, diminishes with $\\sqrt{N}$."
      ]
    },
    {
      "cell_type": "code",
      "execution_count": null,
      "id": "88f0888a",
      "metadata": {
        "jupyter": {
          "source_hidden": true
        }
      },
      "outputs": [
        {
          "data": {
            "text/html": [
              "<style type=\"text/css\">\n",
              "</style>\n",
              "<table id=\"T_b9d0a\">\n",
              "  <thead>\n",
              "    <tr>\n",
              "      <th class=\"blank level0\" >&nbsp;</th>\n",
              "      <th id=\"T_b9d0a_level0_col0\" class=\"col_heading level0 col0\" >mean</th>\n",
              "      <th id=\"T_b9d0a_level0_col1\" class=\"col_heading level0 col1\" >standard error</th>\n",
              "      <th id=\"T_b9d0a_level0_col2\" class=\"col_heading level0 col2\" >mean as fraction of quantile</th>\n",
              "    </tr>\n",
              "  </thead>\n",
              "  <tbody>\n",
              "    <tr>\n",
              "      <th id=\"T_b9d0a_level0_row0\" class=\"row_heading level0 row0\" >SPY</th>\n",
              "      <td id=\"T_b9d0a_row0_col0\" class=\"data row0 col0\" >0.06%</td>\n",
              "      <td id=\"T_b9d0a_row0_col1\" class=\"data row0 col1\" >0.03%</td>\n",
              "      <td id=\"T_b9d0a_row0_col2\" class=\"data row0 col2\" >-3.44%</td>\n",
              "    </tr>\n",
              "    <tr>\n",
              "      <th id=\"T_b9d0a_level0_row1\" class=\"row_heading level0 row1\" >VEA</th>\n",
              "      <td id=\"T_b9d0a_row1_col0\" class=\"data row1 col0\" >0.04%</td>\n",
              "      <td id=\"T_b9d0a_row1_col1\" class=\"data row1 col1\" >0.02%</td>\n",
              "      <td id=\"T_b9d0a_row1_col2\" class=\"data row1 col2\" >-2.45%</td>\n",
              "    </tr>\n",
              "    <tr>\n",
              "      <th id=\"T_b9d0a_level0_row2\" class=\"row_heading level0 row2\" >UPRO</th>\n",
              "      <td id=\"T_b9d0a_row2_col0\" class=\"data row2 col0\" >0.15%</td>\n",
              "      <td id=\"T_b9d0a_row2_col1\" class=\"data row2 col1\" >0.08%</td>\n",
              "      <td id=\"T_b9d0a_row2_col2\" class=\"data row2 col2\" >-2.92%</td>\n",
              "    </tr>\n",
              "    <tr>\n",
              "      <th id=\"T_b9d0a_level0_row3\" class=\"row_heading level0 row3\" >GLD</th>\n",
              "      <td id=\"T_b9d0a_row3_col0\" class=\"data row3 col0\" >0.05%</td>\n",
              "      <td id=\"T_b9d0a_row3_col1\" class=\"data row3 col1\" >0.02%</td>\n",
              "      <td id=\"T_b9d0a_row3_col2\" class=\"data row3 col2\" >-3.55%</td>\n",
              "    </tr>\n",
              "    <tr>\n",
              "      <th id=\"T_b9d0a_level0_row4\" class=\"row_heading level0 row4\" >USO</th>\n",
              "      <td id=\"T_b9d0a_row4_col0\" class=\"data row4 col0\" >0.02%</td>\n",
              "      <td id=\"T_b9d0a_row4_col1\" class=\"data row4 col1\" >0.05%</td>\n",
              "      <td id=\"T_b9d0a_row4_col2\" class=\"data row4 col2\" >-0.56%</td>\n",
              "    </tr>\n",
              "    <tr>\n",
              "      <th id=\"T_b9d0a_level0_row5\" class=\"row_heading level0 row5\" >FXE</th>\n",
              "      <td id=\"T_b9d0a_row5_col0\" class=\"data row5 col0\" >0.01%</td>\n",
              "      <td id=\"T_b9d0a_row5_col1\" class=\"data row5 col1\" >0.01%</td>\n",
              "      <td id=\"T_b9d0a_row5_col2\" class=\"data row5 col2\" >-0.87%</td>\n",
              "    </tr>\n",
              "    <tr>\n",
              "      <th id=\"T_b9d0a_level0_row6\" class=\"row_heading level0 row6\" >BTC</th>\n",
              "      <td id=\"T_b9d0a_row6_col0\" class=\"data row6 col0\" >0.31%</td>\n",
              "      <td id=\"T_b9d0a_row6_col1\" class=\"data row6 col1\" >0.10%</td>\n",
              "      <td id=\"T_b9d0a_row6_col2\" class=\"data row6 col2\" >-5.04%</td>\n",
              "    </tr>\n",
              "    <tr>\n",
              "      <th id=\"T_b9d0a_level0_row7\" class=\"row_heading level0 row7\" >HYG</th>\n",
              "      <td id=\"T_b9d0a_row7_col0\" class=\"data row7 col0\" >0.02%</td>\n",
              "      <td id=\"T_b9d0a_row7_col1\" class=\"data row7 col1\" >0.01%</td>\n",
              "      <td id=\"T_b9d0a_row7_col2\" class=\"data row7 col2\" >-2.59%</td>\n",
              "    </tr>\n",
              "    <tr>\n",
              "      <th id=\"T_b9d0a_level0_row8\" class=\"row_heading level0 row8\" >IEF</th>\n",
              "      <td id=\"T_b9d0a_row8_col0\" class=\"data row8 col0\" >0.00%</td>\n",
              "      <td id=\"T_b9d0a_row8_col1\" class=\"data row8 col1\" >0.01%</td>\n",
              "      <td id=\"T_b9d0a_row8_col2\" class=\"data row8 col2\" >-0.73%</td>\n",
              "    </tr>\n",
              "    <tr>\n",
              "      <th id=\"T_b9d0a_level0_row9\" class=\"row_heading level0 row9\" >TIP</th>\n",
              "      <td id=\"T_b9d0a_row9_col0\" class=\"data row9 col0\" >0.01%</td>\n",
              "      <td id=\"T_b9d0a_row9_col1\" class=\"data row9 col1\" >0.01%</td>\n",
              "      <td id=\"T_b9d0a_row9_col2\" class=\"data row9 col2\" >-2.07%</td>\n",
              "    </tr>\n",
              "    <tr>\n",
              "      <th id=\"T_b9d0a_level0_row10\" class=\"row_heading level0 row10\" >SHV</th>\n",
              "      <td id=\"T_b9d0a_row10_col0\" class=\"data row10 col0\" >0.01%</td>\n",
              "      <td id=\"T_b9d0a_row10_col1\" class=\"data row10 col1\" >0.00%</td>\n",
              "      <td id=\"T_b9d0a_row10_col2\" class=\"data row10 col2\" >-47.35%</td>\n",
              "    </tr>\n",
              "  </tbody>\n",
              "</table>\n"
            ],
            "text/plain": [
              "<pandas.io.formats.style.Styler at 0x300e73ca0>"
            ]
          },
          "execution_count": 10,
          "metadata": {},
          "output_type": "execute_result"
        }
      ],
      "source": [
        "mu = rets.mean()\n",
        "se = rets.std()/np.sqrt(rets.shape[0])\n",
        "ratio = mu/quants[f'quantile {QUANT}'].values\n",
        "tab = pd.concat([mu,se,ratio],axis=1)\n",
        "tab.columns = ['mean','standard error','mean as fraction of quantile']\n",
        "tab.style.format('{:.2%}')"
      ]
    },
    {
      "cell_type": "markdown",
      "id": "2eed70ef",
      "metadata": {},
      "source": [
        "***"
      ]
    },
    {
      "cell_type": "markdown",
      "id": "3e2c372e",
      "metadata": {},
      "source": [
        "# <span style=\"color:red\">2</span>"
      ]
    },
    {
      "cell_type": "code",
      "execution_count": null,
      "id": "124b9a76",
      "metadata": {
        "jupyter": {
          "source_hidden": true
        }
      },
      "outputs": [],
      "source": [
        "# LOADETF = '../data/risk_etf_data.xlsx'\n",
        "# px = pd.read_excel(LOADETF,sheet_name='prices').set_index('Date').dropna()\n",
        "# rets = px.pct_change().dropna()"
      ]
    },
    {
      "cell_type": "code",
      "execution_count": null,
      "id": "951c6d5e",
      "metadata": {},
      "outputs": [],
      "source": [
        "FREQ_LABEL = 'daily'\n",
        "FREQ_LABEL_AGG = 'monthly'\n",
        "CODE_RESAMPLE = 'ME'\n",
        "\n",
        "px = (1+rets).cumprod()\n",
        "retsM = px.resample(CODE_RESAMPLE).last().pct_change().dropna()\n",
        "retsM.dropna(inplace=True)\n",
        "#retsM.tail().style.format('{:.1%}').format_index('{:%Y-%m-%d}')"
      ]
    },
    {
      "cell_type": "code",
      "execution_count": null,
      "id": "3878231e",
      "metadata": {
        "jupyter": {
          "source_hidden": true
        }
      },
      "outputs": [
        {
          "data": {
            "text/html": [
              "<style type=\"text/css\">\n",
              "</style>\n",
              "<table id=\"T_06445\">\n",
              "  <thead>\n",
              "    <tr>\n",
              "      <th class=\"blank level0\" >&nbsp;</th>\n",
              "      <th id=\"T_06445_level0_col0\" class=\"col_heading level0 col0\" colspan=\"3\">daily</th>\n",
              "      <th id=\"T_06445_level0_col3\" class=\"col_heading level0 col3\" colspan=\"3\">monthly</th>\n",
              "    </tr>\n",
              "    <tr>\n",
              "      <th class=\"blank level1\" >&nbsp;</th>\n",
              "      <th id=\"T_06445_level1_col0\" class=\"col_heading level1 col0\" >SPY corr</th>\n",
              "      <th id=\"T_06445_level1_col1\" class=\"col_heading level1 col1\" >SPY cov</th>\n",
              "      <th id=\"T_06445_level1_col2\" class=\"col_heading level1 col2\" >SPY beta</th>\n",
              "      <th id=\"T_06445_level1_col3\" class=\"col_heading level1 col3\" >SPY corr</th>\n",
              "      <th id=\"T_06445_level1_col4\" class=\"col_heading level1 col4\" >SPY cov</th>\n",
              "      <th id=\"T_06445_level1_col5\" class=\"col_heading level1 col5\" >SPY beta</th>\n",
              "    </tr>\n",
              "  </thead>\n",
              "  <tbody>\n",
              "    <tr>\n",
              "      <th id=\"T_06445_level0_row0\" class=\"row_heading level0 row0\" >SPY</th>\n",
              "      <td id=\"T_06445_row0_col0\" class=\"data row0 col0\" >100.00%</td>\n",
              "      <td id=\"T_06445_row0_col1\" class=\"data row0 col1\" >0.01%</td>\n",
              "      <td id=\"T_06445_row0_col2\" class=\"data row0 col2\" >100.00%</td>\n",
              "      <td id=\"T_06445_row0_col3\" class=\"data row0 col3\" >100.00%</td>\n",
              "      <td id=\"T_06445_row0_col4\" class=\"data row0 col4\" >0.21%</td>\n",
              "      <td id=\"T_06445_row0_col5\" class=\"data row0 col5\" >100.00%</td>\n",
              "    </tr>\n",
              "    <tr>\n",
              "      <th id=\"T_06445_level0_row1\" class=\"row_heading level0 row1\" >VEA</th>\n",
              "      <td id=\"T_06445_row1_col0\" class=\"data row1 col0\" >86.51%</td>\n",
              "      <td id=\"T_06445_row1_col1\" class=\"data row1 col1\" >0.01%</td>\n",
              "      <td id=\"T_06445_row1_col2\" class=\"data row1 col2\" >80.34%</td>\n",
              "      <td id=\"T_06445_row1_col3\" class=\"data row1 col3\" >86.69%</td>\n",
              "      <td id=\"T_06445_row1_col4\" class=\"data row1 col4\" >0.18%</td>\n",
              "      <td id=\"T_06445_row1_col5\" class=\"data row1 col5\" >86.13%</td>\n",
              "    </tr>\n",
              "    <tr>\n",
              "      <th id=\"T_06445_level0_row2\" class=\"row_heading level0 row2\" >UPRO</th>\n",
              "      <td id=\"T_06445_row2_col0\" class=\"data row2 col0\" >99.89%</td>\n",
              "      <td id=\"T_06445_row2_col1\" class=\"data row2 col1\" >0.04%</td>\n",
              "      <td id=\"T_06445_row2_col2\" class=\"data row2 col2\" >299.36%</td>\n",
              "      <td id=\"T_06445_row2_col3\" class=\"data row2 col3\" >99.56%</td>\n",
              "      <td id=\"T_06445_row2_col4\" class=\"data row2 col4\" >0.66%</td>\n",
              "      <td id=\"T_06445_row2_col5\" class=\"data row2 col5\" >308.90%</td>\n",
              "    </tr>\n",
              "    <tr>\n",
              "      <th id=\"T_06445_level0_row3\" class=\"row_heading level0 row3\" >GLD</th>\n",
              "      <td id=\"T_06445_row3_col0\" class=\"data row3 col0\" >8.66%</td>\n",
              "      <td id=\"T_06445_row3_col1\" class=\"data row3 col1\" >0.00%</td>\n",
              "      <td id=\"T_06445_row3_col2\" class=\"data row3 col2\" >6.56%</td>\n",
              "      <td id=\"T_06445_row3_col3\" class=\"data row3 col3\" >12.69%</td>\n",
              "      <td id=\"T_06445_row3_col4\" class=\"data row3 col4\" >0.02%</td>\n",
              "      <td id=\"T_06445_row3_col5\" class=\"data row3 col5\" >10.42%</td>\n",
              "    </tr>\n",
              "    <tr>\n",
              "      <th id=\"T_06445_level0_row4\" class=\"row_heading level0 row4\" >USO</th>\n",
              "      <td id=\"T_06445_row4_col0\" class=\"data row4 col0\" >30.10%</td>\n",
              "      <td id=\"T_06445_row4_col1\" class=\"data row4 col1\" >0.01%</td>\n",
              "      <td id=\"T_06445_row4_col2\" class=\"data row4 col2\" >61.63%</td>\n",
              "      <td id=\"T_06445_row4_col3\" class=\"data row4 col3\" >32.62%</td>\n",
              "      <td id=\"T_06445_row4_col4\" class=\"data row4 col4\" >0.17%</td>\n",
              "      <td id=\"T_06445_row4_col5\" class=\"data row4 col5\" >80.14%</td>\n",
              "    </tr>\n",
              "    <tr>\n",
              "      <th id=\"T_06445_level0_row5\" class=\"row_heading level0 row5\" >FXE</th>\n",
              "      <td id=\"T_06445_row5_col0\" class=\"data row5 col0\" >14.17%</td>\n",
              "      <td id=\"T_06445_row5_col1\" class=\"data row5 col1\" >0.00%</td>\n",
              "      <td id=\"T_06445_row5_col2\" class=\"data row5 col2\" >5.54%</td>\n",
              "      <td id=\"T_06445_row5_col3\" class=\"data row5 col3\" >31.23%</td>\n",
              "      <td id=\"T_06445_row5_col4\" class=\"data row5 col4\" >0.03%</td>\n",
              "      <td id=\"T_06445_row5_col5\" class=\"data row5 col5\" >13.60%</td>\n",
              "    </tr>\n",
              "    <tr>\n",
              "      <th id=\"T_06445_level0_row6\" class=\"row_heading level0 row6\" >BTC</th>\n",
              "      <td id=\"T_06445_row6_col0\" class=\"data row6 col0\" >25.09%</td>\n",
              "      <td id=\"T_06445_row6_col1\" class=\"data row6 col1\" >0.01%</td>\n",
              "      <td id=\"T_06445_row6_col2\" class=\"data row6 col2\" >92.96%</td>\n",
              "      <td id=\"T_06445_row6_col3\" class=\"data row6 col3\" >34.22%</td>\n",
              "      <td id=\"T_06445_row6_col4\" class=\"data row6 col4\" >0.37%</td>\n",
              "      <td id=\"T_06445_row6_col5\" class=\"data row6 col5\" >172.43%</td>\n",
              "    </tr>\n",
              "    <tr>\n",
              "      <th id=\"T_06445_level0_row7\" class=\"row_heading level0 row7\" >HYG</th>\n",
              "      <td id=\"T_06445_row7_col0\" class=\"data row7 col0\" >78.16%</td>\n",
              "      <td id=\"T_06445_row7_col1\" class=\"data row7 col1\" >0.01%</td>\n",
              "      <td id=\"T_06445_row7_col2\" class=\"data row7 col2\" >36.00%</td>\n",
              "      <td id=\"T_06445_row7_col3\" class=\"data row7 col3\" >83.25%</td>\n",
              "      <td id=\"T_06445_row7_col4\" class=\"data row7 col4\" >0.09%</td>\n",
              "      <td id=\"T_06445_row7_col5\" class=\"data row7 col5\" >40.88%</td>\n",
              "    </tr>\n",
              "    <tr>\n",
              "      <th id=\"T_06445_level0_row8\" class=\"row_heading level0 row8\" >IEF</th>\n",
              "      <td id=\"T_06445_row8_col0\" class=\"data row8 col0\" >-13.15%</td>\n",
              "      <td id=\"T_06445_row8_col1\" class=\"data row8 col1\" >-0.00%</td>\n",
              "      <td id=\"T_06445_row8_col2\" class=\"data row8 col2\" >-4.80%</td>\n",
              "      <td id=\"T_06445_row8_col3\" class=\"data row8 col3\" >18.70%</td>\n",
              "      <td id=\"T_06445_row8_col4\" class=\"data row8 col4\" >0.02%</td>\n",
              "      <td id=\"T_06445_row8_col5\" class=\"data row8 col5\" >7.90%</td>\n",
              "    </tr>\n",
              "    <tr>\n",
              "      <th id=\"T_06445_level0_row9\" class=\"row_heading level0 row9\" >TIP</th>\n",
              "      <td id=\"T_06445_row9_col0\" class=\"data row9 col0\" >5.96%</td>\n",
              "      <td id=\"T_06445_row9_col1\" class=\"data row9 col1\" >0.00%</td>\n",
              "      <td id=\"T_06445_row9_col2\" class=\"data row9 col2\" >1.90%</td>\n",
              "      <td id=\"T_06445_row9_col3\" class=\"data row9 col3\" >55.73%</td>\n",
              "      <td id=\"T_06445_row9_col4\" class=\"data row9 col4\" >0.04%</td>\n",
              "      <td id=\"T_06445_row9_col5\" class=\"data row9 col5\" >18.40%</td>\n",
              "    </tr>\n",
              "    <tr>\n",
              "      <th id=\"T_06445_level0_row10\" class=\"row_heading level0 row10\" >SHV</th>\n",
              "      <td id=\"T_06445_row10_col0\" class=\"data row10 col0\" >-6.19%</td>\n",
              "      <td id=\"T_06445_row10_col1\" class=\"data row10 col1\" >-0.00%</td>\n",
              "      <td id=\"T_06445_row10_col2\" class=\"data row10 col2\" >-0.09%</td>\n",
              "      <td id=\"T_06445_row10_col3\" class=\"data row10 col3\" >1.89%</td>\n",
              "      <td id=\"T_06445_row10_col4\" class=\"data row10 col4\" >0.00%</td>\n",
              "      <td id=\"T_06445_row10_col5\" class=\"data row10 col5\" >0.07%</td>\n",
              "    </tr>\n",
              "  </tbody>\n",
              "</table>\n"
            ],
            "text/plain": [
              "<pandas.io.formats.style.Styler at 0x300e73f10>"
            ]
          },
          "execution_count": 13,
          "metadata": {},
          "output_type": "execute_result"
        }
      ],
      "source": [
        "keyX = 'SPY'\n",
        "pd.concat([bivariate_risk(rets,keyX=keyX),bivariate_risk(retsM,keyX=keyX)],axis=1,keys=[FREQ_LABEL,'monthly']).style.format('{:.2%}')"
      ]
    },
    {
      "cell_type": "code",
      "execution_count": null,
      "id": "d599dbc1",
      "metadata": {
        "jupyter": {
          "source_hidden": true
        }
      },
      "outputs": [
        {
          "data": {
            "text/html": [
              "<style type=\"text/css\">\n",
              "</style>\n",
              "<table id=\"T_86f70\">\n",
              "  <thead>\n",
              "    <tr>\n",
              "      <th class=\"blank level0\" >&nbsp;</th>\n",
              "      <th id=\"T_86f70_level0_col0\" class=\"col_heading level0 col0\" colspan=\"4\">daily</th>\n",
              "      <th id=\"T_86f70_level0_col4\" class=\"col_heading level0 col4\" colspan=\"4\">monthly</th>\n",
              "    </tr>\n",
              "    <tr>\n",
              "      <th class=\"blank level1\" >&nbsp;</th>\n",
              "      <th id=\"T_86f70_level1_col0\" class=\"col_heading level1 col0\" >mean</th>\n",
              "      <th id=\"T_86f70_level1_col1\" class=\"col_heading level1 col1\" >vol</th>\n",
              "      <th id=\"T_86f70_level1_col2\" class=\"col_heading level1 col2\" >skewness</th>\n",
              "      <th id=\"T_86f70_level1_col3\" class=\"col_heading level1 col3\" >kurtosis</th>\n",
              "      <th id=\"T_86f70_level1_col4\" class=\"col_heading level1 col4\" >mean</th>\n",
              "      <th id=\"T_86f70_level1_col5\" class=\"col_heading level1 col5\" >vol</th>\n",
              "      <th id=\"T_86f70_level1_col6\" class=\"col_heading level1 col6\" >skewness</th>\n",
              "      <th id=\"T_86f70_level1_col7\" class=\"col_heading level1 col7\" >kurtosis</th>\n",
              "    </tr>\n",
              "  </thead>\n",
              "  <tbody>\n",
              "    <tr>\n",
              "      <th id=\"T_86f70_level0_row0\" class=\"row_heading level0 row0\" >SPY</th>\n",
              "      <td id=\"T_86f70_row0_col0\" class=\"data row0 col0\" >0.00</td>\n",
              "      <td id=\"T_86f70_row0_col1\" class=\"data row0 col1\" >0.01</td>\n",
              "      <td id=\"T_86f70_row0_col2\" class=\"data row0 col2\" >-0.30</td>\n",
              "      <td id=\"T_86f70_row0_col3\" class=\"data row0 col3\" >14.24</td>\n",
              "      <td id=\"T_86f70_row0_col4\" class=\"data row0 col4\" >0.01</td>\n",
              "      <td id=\"T_86f70_row0_col5\" class=\"data row0 col5\" >0.05</td>\n",
              "      <td id=\"T_86f70_row0_col6\" class=\"data row0 col6\" >-0.48</td>\n",
              "      <td id=\"T_86f70_row0_col7\" class=\"data row0 col7\" >0.39</td>\n",
              "    </tr>\n",
              "    <tr>\n",
              "      <th id=\"T_86f70_level0_row1\" class=\"row_heading level0 row1\" >VEA</th>\n",
              "      <td id=\"T_86f70_row1_col0\" class=\"data row1 col0\" >0.00</td>\n",
              "      <td id=\"T_86f70_row1_col1\" class=\"data row1 col1\" >0.01</td>\n",
              "      <td id=\"T_86f70_row1_col2\" class=\"data row1 col2\" >-0.86</td>\n",
              "      <td id=\"T_86f70_row1_col3\" class=\"data row1 col3\" >16.12</td>\n",
              "      <td id=\"T_86f70_row1_col4\" class=\"data row1 col4\" >0.01</td>\n",
              "      <td id=\"T_86f70_row1_col5\" class=\"data row1 col5\" >0.05</td>\n",
              "      <td id=\"T_86f70_row1_col6\" class=\"data row1 col6\" >-0.34</td>\n",
              "      <td id=\"T_86f70_row1_col7\" class=\"data row1 col7\" >1.32</td>\n",
              "    </tr>\n",
              "    <tr>\n",
              "      <th id=\"T_86f70_level0_row2\" class=\"row_heading level0 row2\" >UPRO</th>\n",
              "      <td id=\"T_86f70_row2_col0\" class=\"data row2 col0\" >0.00</td>\n",
              "      <td id=\"T_86f70_row2_col1\" class=\"data row2 col1\" >0.04</td>\n",
              "      <td id=\"T_86f70_row2_col2\" class=\"data row2 col2\" >-0.38</td>\n",
              "      <td id=\"T_86f70_row2_col3\" class=\"data row2 col3\" >14.99</td>\n",
              "      <td id=\"T_86f70_row2_col4\" class=\"data row2 col4\" >0.03</td>\n",
              "      <td id=\"T_86f70_row2_col5\" class=\"data row2 col5\" >0.14</td>\n",
              "      <td id=\"T_86f70_row2_col6\" class=\"data row2 col6\" >-0.53</td>\n",
              "      <td id=\"T_86f70_row2_col7\" class=\"data row2 col7\" >0.94</td>\n",
              "    </tr>\n",
              "    <tr>\n",
              "      <th id=\"T_86f70_level0_row3\" class=\"row_heading level0 row3\" >GLD</th>\n",
              "      <td id=\"T_86f70_row3_col0\" class=\"data row3 col0\" >0.00</td>\n",
              "      <td id=\"T_86f70_row3_col1\" class=\"data row3 col1\" >0.01</td>\n",
              "      <td id=\"T_86f70_row3_col2\" class=\"data row3 col2\" >-0.15</td>\n",
              "      <td id=\"T_86f70_row3_col3\" class=\"data row3 col3\" >2.70</td>\n",
              "      <td id=\"T_86f70_row3_col4\" class=\"data row3 col4\" >0.01</td>\n",
              "      <td id=\"T_86f70_row3_col5\" class=\"data row3 col5\" >0.04</td>\n",
              "      <td id=\"T_86f70_row3_col6\" class=\"data row3 col6\" >0.43</td>\n",
              "      <td id=\"T_86f70_row3_col7\" class=\"data row3 col7\" >-0.30</td>\n",
              "    </tr>\n",
              "    <tr>\n",
              "      <th id=\"T_86f70_level0_row4\" class=\"row_heading level0 row4\" >USO</th>\n",
              "      <td id=\"T_86f70_row4_col0\" class=\"data row4 col0\" >0.00</td>\n",
              "      <td id=\"T_86f70_row4_col1\" class=\"data row4 col1\" >0.02</td>\n",
              "      <td id=\"T_86f70_row4_col2\" class=\"data row4 col2\" >-1.28</td>\n",
              "      <td id=\"T_86f70_row4_col3\" class=\"data row4 col3\" >16.30</td>\n",
              "      <td id=\"T_86f70_row4_col4\" class=\"data row4 col4\" >0.01</td>\n",
              "      <td id=\"T_86f70_row4_col5\" class=\"data row4 col5\" >0.11</td>\n",
              "      <td id=\"T_86f70_row4_col6\" class=\"data row4 col6\" >-1.53</td>\n",
              "      <td id=\"T_86f70_row4_col7\" class=\"data row4 col7\" >7.27</td>\n",
              "    </tr>\n",
              "    <tr>\n",
              "      <th id=\"T_86f70_level0_row5\" class=\"row_heading level0 row5\" >FXE</th>\n",
              "      <td id=\"T_86f70_row5_col0\" class=\"data row5 col0\" >0.00</td>\n",
              "      <td id=\"T_86f70_row5_col1\" class=\"data row5 col1\" >0.00</td>\n",
              "      <td id=\"T_86f70_row5_col2\" class=\"data row5 col2\" >0.16</td>\n",
              "      <td id=\"T_86f70_row5_col3\" class=\"data row5 col3\" >1.35</td>\n",
              "      <td id=\"T_86f70_row5_col4\" class=\"data row5 col4\" >0.00</td>\n",
              "      <td id=\"T_86f70_row5_col5\" class=\"data row5 col5\" >0.02</td>\n",
              "      <td id=\"T_86f70_row5_col6\" class=\"data row5 col6\" >0.32</td>\n",
              "      <td id=\"T_86f70_row5_col7\" class=\"data row5 col7\" >-0.26</td>\n",
              "    </tr>\n",
              "    <tr>\n",
              "      <th id=\"T_86f70_level0_row6\" class=\"row_heading level0 row6\" >BTC</th>\n",
              "      <td id=\"T_86f70_row6_col0\" class=\"data row6 col0\" >0.00</td>\n",
              "      <td id=\"T_86f70_row6_col1\" class=\"data row6 col1\" >0.04</td>\n",
              "      <td id=\"T_86f70_row6_col2\" class=\"data row6 col2\" >0.03</td>\n",
              "      <td id=\"T_86f70_row6_col3\" class=\"data row6 col3\" >6.15</td>\n",
              "      <td id=\"T_86f70_row6_col4\" class=\"data row6 col4\" >0.07</td>\n",
              "      <td id=\"T_86f70_row6_col5\" class=\"data row6 col5\" >0.23</td>\n",
              "      <td id=\"T_86f70_row6_col6\" class=\"data row6 col6\" >0.57</td>\n",
              "      <td id=\"T_86f70_row6_col7\" class=\"data row6 col7\" >0.09</td>\n",
              "    </tr>\n",
              "    <tr>\n",
              "      <th id=\"T_86f70_level0_row7\" class=\"row_heading level0 row7\" >HYG</th>\n",
              "      <td id=\"T_86f70_row7_col0\" class=\"data row7 col0\" >0.00</td>\n",
              "      <td id=\"T_86f70_row7_col1\" class=\"data row7 col1\" >0.01</td>\n",
              "      <td id=\"T_86f70_row7_col2\" class=\"data row7 col2\" >0.13</td>\n",
              "      <td id=\"T_86f70_row7_col3\" class=\"data row7 col3\" >26.42</td>\n",
              "      <td id=\"T_86f70_row7_col4\" class=\"data row7 col4\" >0.00</td>\n",
              "      <td id=\"T_86f70_row7_col5\" class=\"data row7 col5\" >0.02</td>\n",
              "      <td id=\"T_86f70_row7_col6\" class=\"data row7 col6\" >-0.94</td>\n",
              "      <td id=\"T_86f70_row7_col7\" class=\"data row7 col7\" >4.94</td>\n",
              "    </tr>\n",
              "    <tr>\n",
              "      <th id=\"T_86f70_level0_row8\" class=\"row_heading level0 row8\" >IEF</th>\n",
              "      <td id=\"T_86f70_row8_col0\" class=\"data row8 col0\" >0.00</td>\n",
              "      <td id=\"T_86f70_row8_col1\" class=\"data row8 col1\" >0.00</td>\n",
              "      <td id=\"T_86f70_row8_col2\" class=\"data row8 col2\" >0.20</td>\n",
              "      <td id=\"T_86f70_row8_col3\" class=\"data row8 col3\" >3.20</td>\n",
              "      <td id=\"T_86f70_row8_col4\" class=\"data row8 col4\" >0.00</td>\n",
              "      <td id=\"T_86f70_row8_col5\" class=\"data row8 col5\" >0.02</td>\n",
              "      <td id=\"T_86f70_row8_col6\" class=\"data row8 col6\" >-0.01</td>\n",
              "      <td id=\"T_86f70_row8_col7\" class=\"data row8 col7\" >-0.04</td>\n",
              "    </tr>\n",
              "    <tr>\n",
              "      <th id=\"T_86f70_level0_row9\" class=\"row_heading level0 row9\" >TIP</th>\n",
              "      <td id=\"T_86f70_row9_col0\" class=\"data row9 col0\" >0.00</td>\n",
              "      <td id=\"T_86f70_row9_col1\" class=\"data row9 col1\" >0.00</td>\n",
              "      <td id=\"T_86f70_row9_col2\" class=\"data row9 col2\" >0.36</td>\n",
              "      <td id=\"T_86f70_row9_col3\" class=\"data row9 col3\" >14.86</td>\n",
              "      <td id=\"T_86f70_row9_col4\" class=\"data row9 col4\" >0.00</td>\n",
              "      <td id=\"T_86f70_row9_col5\" class=\"data row9 col5\" >0.02</td>\n",
              "      <td id=\"T_86f70_row9_col6\" class=\"data row9 col6\" >-0.82</td>\n",
              "      <td id=\"T_86f70_row9_col7\" class=\"data row9 col7\" >3.47</td>\n",
              "    </tr>\n",
              "    <tr>\n",
              "      <th id=\"T_86f70_level0_row10\" class=\"row_heading level0 row10\" >SHV</th>\n",
              "      <td id=\"T_86f70_row10_col0\" class=\"data row10 col0\" >0.00</td>\n",
              "      <td id=\"T_86f70_row10_col1\" class=\"data row10 col1\" >0.00</td>\n",
              "      <td id=\"T_86f70_row10_col2\" class=\"data row10 col2\" >0.66</td>\n",
              "      <td id=\"T_86f70_row10_col3\" class=\"data row10 col3\" >3.28</td>\n",
              "      <td id=\"T_86f70_row10_col4\" class=\"data row10 col4\" >0.00</td>\n",
              "      <td id=\"T_86f70_row10_col5\" class=\"data row10 col5\" >0.00</td>\n",
              "      <td id=\"T_86f70_row10_col6\" class=\"data row10 col6\" >0.36</td>\n",
              "      <td id=\"T_86f70_row10_col7\" class=\"data row10 col7\" >-1.21</td>\n",
              "    </tr>\n",
              "  </tbody>\n",
              "</table>\n"
            ],
            "text/plain": [
              "<pandas.io.formats.style.Styler at 0x301197be0>"
            ]
          },
          "execution_count": 14,
          "metadata": {},
          "output_type": "execute_result"
        }
      ],
      "source": [
        "pd.concat([get_moments(rets,doStyle=False),get_moments(retsM,doStyle=False)],axis=1,keys=[FREQ_LABEL,FREQ_LABEL_AGG]).style.format('{:.2f}')"
      ]
    }
  ],
  "metadata": {
    "hide_input": true,
    "kernelspec": {
      "display_name": "env-finm-2025",
      "language": "python",
      "name": "python3"
    },
    "language_info": {
      "codemirror_mode": {
        "name": "ipython",
        "version": 3
      },
      "file_extension": ".py",
      "mimetype": "text/x-python",
      "name": "python",
      "nbconvert_exporter": "python",
      "pygments_lexer": "ipython3",
      "version": "3.10.18"
    }
  },
  "nbformat": 4,
  "nbformat_minor": 5
}