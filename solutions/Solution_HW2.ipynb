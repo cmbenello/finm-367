{
 "cells": [
  {
   "cell_type": "markdown",
   "id": "e3eee68c",
   "metadata": {},
   "source": [
    "# ProShares Replication\n",
    "\n",
    "## HBS Case\n",
    "\n",
    "### *ProShares Hedge Replication ETF*"
   ]
  },
  {
   "cell_type": "markdown",
   "id": "3ed4b263",
   "metadata": {},
   "source": [
    "***"
   ]
  },
  {
   "cell_type": "markdown",
   "id": "32a1eb4b",
   "metadata": {},
   "source": [
    "# 1. READING - The ProShares ETF Product"
   ]
  },
  {
   "cell_type": "markdown",
   "id": "976c4cd6",
   "metadata": {},
   "source": [
    "### 1. Alternative ETFs\n",
    "\n",
    "Describe the two types of investments referenced by this term."
   ]
  },
  {
   "cell_type": "markdown",
   "id": "4dc7445a-33d1-4127-8e09-b0622ef584fd",
   "metadata": {},
   "source": [
    "Alternative ETFs refers both to what we own (non‑traditional exposures) and how we earn the return (strategy engineering)\n",
    "- **Alternative asset classes**: These are asset classes that don't fall into the traditional equity or fixed income categories. They provide exchange-traded access to non-traditional premia (e.g., commodities, currencies, REITs/real estate, high-yield/credit, volatility), with daily liquidity and ‘40-Act’ oversight. ProShares organizes these under Global Fixed Income, Hedge Strategies, Geared, and Inflation & Volatility. \n",
    "- **Alternative strategies**: Rules‑based or derivative‑enabled strategies (long/short, replication, inverse/levered, hedged) that target return patterns rather than securities selection (e.g., factor/style replications of hedge‑fund beta, targeting specific risk profiles, trading frequencies, or event-based investing)."
   ]
  },
  {
   "cell_type": "markdown",
   "id": "a350c607",
   "metadata": {},
   "source": [
    "### 2. Hedge Funds.\n",
    "\n",
    "* a. Using just the information in the case, what are two measures by which hedge funds are an attractive investment?\n",
    "\n",
    "* b. What are the main benefits of investing in hedge funds via an ETF instead of directly?"
   ]
  },
  {
   "cell_type": "markdown",
   "id": "0851aca7-95d5-4415-b2a1-3545dcc9aedd",
   "metadata": {},
   "source": [
    "- a.\n",
    "  - **Superior long‑run risk‑adjusted profile**: From 1994–2013, HFRI’s volatility was less than half the S&P 500 (usually because of the lack of pricing of these illiquid or niche assets in the Hedge Fund), with average returns <1% below equities, yielding a higher Sharpe ratio. Its drawdowns were also materially smaller (about half of equities in 2008).\n",
    "  - **Diversification value**: Replacing ~20% of a 60/40’s equity sleeve with HFRI historically kept returns similar while materially reducing portfolio risk.\n",
    "- b.\n",
    "  - Access & liquidity (no lockups/gates; intraday trading), lower cost (~95 bps vs 2&20), transparency (daily disclosure), operational simplicity (1099 tax reporting), and less manager-idiosyncratic risk (broad beta vs single-manager alpha risk).\n",
    "  - Of course, there are drawbacks to investing in the ETF instead of a single fund. Namely, the single fund may deliver excess returns (alpha) via specialized information, market access, skill, etc."
   ]
  },
  {
   "cell_type": "markdown",
   "id": "f1c6d57d",
   "metadata": {},
   "source": [
    "### 3. The Benchmarks\n",
    "\n",
    "* a. Explain as simply as possible how HFRI, MLFM, MLFM-ES, and HDG differ in their construction and purpose.\n",
    "\n",
    "* b. How well does the Merrill Lynch Factor Model (MLFM) track the HFRI?\n",
    "\n",
    "* c. In which factor does the MLFM have the largest loading? (See a slide in Exhibit 1.)\n",
    "\n",
    "* d. What are the main concerns you have for how the MLFM attempts to replicate the HFRI?"
   ]
  },
  {
   "cell_type": "markdown",
   "id": "f65906e7-906b-4195-98fd-34716ed5837b",
   "metadata": {},
   "source": [
    "- a. \n",
    "  - **HFRI**: An index of reported hedge‑fund returns (≈2,000 funds with a certain AUM, equally weighted). Broad, non‑investable, monthly survey returns (broad proxy of hedge fund performance in general). It is the “target” behavior HDG wants to mimic. HFRI itself is simply a survey of hedge funds.\n",
    "  - **MLFM** (Merrill Lynch Factor Model): A returns‑based style analysis that regresses HFRI on six liquid market factors (S&P 500, Russell 2000, EAFE, EM, EUR/USD, 3‑mo Eurodollar) with rolling 24‑month windows and constraints, to approximate “hedge‑fund beta.” Purpose: statistical replication of HFRI.\n",
    "  - **MLFM‑ES** (Exchange Series): Makes MLFM investable by swapping non‑tradables for tradables (Eurodollar → U.S. T‑Bills, EUR/USD → ProShares EUO). Built as the index benchmark that HDG can track.\n",
    "  - **HDG** (ProShares ETF): An ETF that implements MLFM‑ES exposures (with physicals, futures, and index swaps) and may make practical deviations to reduce trading cost/implementation frictions.\n",
    "- b. MLFM vs HFRI shows ~ 0.90 correlation through 2013. It tracked well overall, with noticeable periods of mis‑tracking (e.g., 2008) and mild lag in 2012–2013.\n",
    "- c. MLFM has its largest loading in 3-Month T-Bills.\n",
    "- d.\n",
    "  - **Backward‑looking fit** (rolling regressions): Style shifts in hedge funds can move faster than a 24‑month window, so the model may lag turning points.\n",
    "  - **Missing alternative betas**: Six broad equity/FX/rate factors omit credit spreads, carry, volatility, illiquidity, and other risk premia often harvested by hedge funds.\n",
    "  - **Multicollinearity** among factors (S&P, EAFE, EM, Russell 2000 are highly correlated), which can make weights unstable\n",
    "  - **Benchmark quality**: HFRI’s self‑reported, smoothed, monthly returns can depress measured volatility/drawdowns versus truly tradable portfolios, raising the bar for any investable replicator."
   ]
  },
  {
   "cell_type": "markdown",
   "id": "8247c669",
   "metadata": {},
   "source": [
    "### 4. The HDG Product\n",
    "\n",
    "* a. What does ProShares ETF, HDG, attempt to track? Is the tracking error small?\n",
    "\n",
    "* b. HDG is, by construction, delivering beta for investors. Isn't the point of hedge funds to generate alpha? Then why would HDG be valuable?\n",
    "\n",
    "* c. The fees of a typical hedge-fund are 2% on total assets plus 20% of excess returns if positive. HDG's expense ratio is roughly 1% on total assets. What would their respective net Sharpe Ratios be, assuming both have a gross excess returns of 10% and volatility of 20%?"
   ]
  },
  {
   "cell_type": "markdown",
   "id": "dade7888-bbbd-4766-80e7-f7a64516d36a",
   "metadata": {},
   "source": [
    "- a. HDG tracks MLFM‑ES, an investable version of MLFM. MLFM‑ES tracked the MLFM with ≈99.7% correlation (daily, 2011–2013), and HDG, in turn, tracked MLFM‑ES closely. Tracking error is small versus MLFM‑ES, though not zero.\n",
    "- b\n",
    "  - What many investors call \"alpha\" in broad hedge‑fund composites is often engineered beta (dynamic exposures to equity, rates, FX, etc.). HDG packages that alternative beta cheaply, transparently, and liquidly.\n",
    "  - Portfolio‑level value comes from:\n",
    "    - *Diversification* versus 60/40.\n",
    "    - *Fee drag reduction*: paying ~1% instead of a high fee preserves more of the gross Sharpe.\n",
    "    - *Implementation convenience*: avoiding lockups, and manager idiosyncratic risk.\n",
    "  - Cheap, diversified beta can be “alpha‑like” at the portfolio level when compared to expensive, capacity‑constrained alpha sources.\n",
    "- c. For HDG, we would have $\\frac{(10-1)\\%}{20\\%}=0.45$ and for the hedge fund itself we would have $\\frac{(10-2-2)\\%}{20\\%}=0.30$. Perhaps this difference in fees makes HDG an attractive option, particularly if it is the \"hedge fund beta\" that is what investors truly value."
   ]
  },
  {
   "cell_type": "markdown",
   "id": "ecd7e292",
   "metadata": {},
   "source": [
    "***"
   ]
  },
  {
   "cell_type": "code",
   "execution_count": 1,
   "id": "c04abb10-b110-43a1-a37f-39a1f6ee5065",
   "metadata": {
    "scrolled": true
   },
   "outputs": [],
   "source": [
    "import pandas as pd\n",
    "import numpy as np\n",
    "import matplotlib.pyplot as plt\n",
    "\n",
    "from hw2_helper import *\n",
    "\n",
    "pd.set_option('display.float_format', lambda x: f\"{x:,.6f}\")"
   ]
  },
  {
   "cell_type": "markdown",
   "id": "fbbf79a1",
   "metadata": {},
   "source": [
    "# 2.  Analyzing the Data\n",
    "\n",
    "Use the data found on Canvas, in <b>'proshares analysis data.xlsx'</b>. \n",
    "\n",
    "It has monthly data on financial indexes and ETFs from `Aug 2011` through `May 2025`."
   ]
  },
  {
   "cell_type": "code",
   "execution_count": 2,
   "id": "ef30e898-f8b4-4e3b-8c71-e1b98ca40acf",
   "metadata": {},
   "outputs": [],
   "source": [
    "xlsx_path = \"data/proshares_analysis_data.xlsx\"\n",
    "\n",
    "data = load_data(xlsx_path)\n",
    "hedge = data.hedge.copy()   \n",
    "factors = data.factors.copy()   \n",
    "other = data.other.copy()   "
   ]
  },
  {
   "cell_type": "markdown",
   "id": "22b7389c",
   "metadata": {},
   "source": [
    "## 1. \n",
    "\n",
    "For the series in the \"hedge fund series\" tab, report the following summary statistics:\n",
    "* mean\n",
    "* volatility\n",
    "* Sharpe ratio\n",
    "\n",
    "Annualize these statistics."
   ]
  },
  {
   "cell_type": "code",
   "execution_count": 3,
   "id": "b75fdcd3-60bf-4208-97fe-c6201e971dbe",
   "metadata": {},
   "outputs": [
    {
     "data": {
      "text/html": [
       "<div>\n",
       "<style scoped>\n",
       "    .dataframe tbody tr th:only-of-type {\n",
       "        vertical-align: middle;\n",
       "    }\n",
       "\n",
       "    .dataframe tbody tr th {\n",
       "        vertical-align: top;\n",
       "    }\n",
       "\n",
       "    .dataframe thead th {\n",
       "        text-align: right;\n",
       "    }\n",
       "</style>\n",
       "<table border=\"1\" class=\"dataframe\">\n",
       "  <thead>\n",
       "    <tr style=\"text-align: right;\">\n",
       "      <th></th>\n",
       "      <th>HFRIFWI Index</th>\n",
       "      <th>MLEIFCTR Index</th>\n",
       "      <th>MLEIFCTX Index</th>\n",
       "      <th>HDG US Equity</th>\n",
       "      <th>QAI US Equity</th>\n",
       "    </tr>\n",
       "  </thead>\n",
       "  <tbody>\n",
       "    <tr>\n",
       "      <th>mean</th>\n",
       "      <td>0.051279</td>\n",
       "      <td>0.038535</td>\n",
       "      <td>0.036526</td>\n",
       "      <td>0.026880</td>\n",
       "      <td>0.028811</td>\n",
       "    </tr>\n",
       "    <tr>\n",
       "      <th>vol</th>\n",
       "      <td>0.058796</td>\n",
       "      <td>0.055240</td>\n",
       "      <td>0.055102</td>\n",
       "      <td>0.057388</td>\n",
       "      <td>0.049823</td>\n",
       "    </tr>\n",
       "    <tr>\n",
       "      <th>sharpe</th>\n",
       "      <td>0.872151</td>\n",
       "      <td>0.697589</td>\n",
       "      <td>0.662880</td>\n",
       "      <td>0.468396</td>\n",
       "      <td>0.578275</td>\n",
       "    </tr>\n",
       "  </tbody>\n",
       "</table>\n",
       "</div>"
      ],
      "text/plain": [
       "        HFRIFWI Index  MLEIFCTR Index  MLEIFCTX Index  HDG US Equity  \\\n",
       "mean         0.051279        0.038535        0.036526       0.026880   \n",
       "vol          0.058796        0.055240        0.055102       0.057388   \n",
       "sharpe       0.872151        0.697589        0.662880       0.468396   \n",
       "\n",
       "        QAI US Equity  \n",
       "mean         0.028811  \n",
       "vol          0.049823  \n",
       "sharpe       0.578275  "
      ]
     },
     "metadata": {},
     "output_type": "display_data"
    }
   ],
   "source": [
    "hf_cols = ['HFRIFWI Index','MLEIFCTR Index','MLEIFCTX Index','HDG US Equity','QAI US Equity']\n",
    "hf = hedge[hf_cols].dropna(how='all')\n",
    "\n",
    "perf_stats = performance_stats(hf, rf=None, periods=12)\n",
    "display(perf_stats.T)"
   ]
  },
  {
   "cell_type": "markdown",
   "id": "ec8d7c08",
   "metadata": {},
   "source": [
    "## 2.\n",
    "\n",
    "For the series in the \"hedge fund series\" tab, calculate the following statistics related to tail-risk.\n",
    "* Skewness\n",
    "* Excess Kurtosis (in excess of 3)\n",
    "* VaR (.05) - the fifth quantile of historic returns\n",
    "* CVaR (.05) - the mean of the returns at or below the fifth quantile\n",
    "* Maximum drawdown - include the dates of the max/min/recovery within the max drawdown period.\n",
    "\n",
    "There is no need to annualize any of these statistics."
   ]
  },
  {
   "cell_type": "code",
   "execution_count": 4,
   "id": "7c2932f4-3104-438f-a962-8f3da2ebfad5",
   "metadata": {},
   "outputs": [
    {
     "data": {
      "text/html": [
       "<div>\n",
       "<style scoped>\n",
       "    .dataframe tbody tr th:only-of-type {\n",
       "        vertical-align: middle;\n",
       "    }\n",
       "\n",
       "    .dataframe tbody tr th {\n",
       "        vertical-align: top;\n",
       "    }\n",
       "\n",
       "    .dataframe thead th {\n",
       "        text-align: right;\n",
       "    }\n",
       "</style>\n",
       "<table border=\"1\" class=\"dataframe\">\n",
       "  <thead>\n",
       "    <tr style=\"text-align: right;\">\n",
       "      <th></th>\n",
       "      <th>HFRIFWI Index</th>\n",
       "      <th>MLEIFCTR Index</th>\n",
       "      <th>MLEIFCTX Index</th>\n",
       "      <th>HDG US Equity</th>\n",
       "      <th>QAI US Equity</th>\n",
       "    </tr>\n",
       "  </thead>\n",
       "  <tbody>\n",
       "    <tr>\n",
       "      <th>skewness</th>\n",
       "      <td>-0.948272</td>\n",
       "      <td>-0.289982</td>\n",
       "      <td>-0.273477</td>\n",
       "      <td>-0.274904</td>\n",
       "      <td>-0.433508</td>\n",
       "    </tr>\n",
       "    <tr>\n",
       "      <th>excess_kurtosis</th>\n",
       "      <td>5.657351</td>\n",
       "      <td>1.630917</td>\n",
       "      <td>1.589790</td>\n",
       "      <td>1.776481</td>\n",
       "      <td>1.449184</td>\n",
       "    </tr>\n",
       "    <tr>\n",
       "      <th>VaR_0.05</th>\n",
       "      <td>-0.024008</td>\n",
       "      <td>-0.027002</td>\n",
       "      <td>-0.026970</td>\n",
       "      <td>-0.029919</td>\n",
       "      <td>-0.017171</td>\n",
       "    </tr>\n",
       "    <tr>\n",
       "      <th>CVaR_0.05</th>\n",
       "      <td>-0.035992</td>\n",
       "      <td>-0.034993</td>\n",
       "      <td>-0.034937</td>\n",
       "      <td>-0.036831</td>\n",
       "      <td>-0.030995</td>\n",
       "    </tr>\n",
       "    <tr>\n",
       "      <th>max_drawdown</th>\n",
       "      <td>-0.115473</td>\n",
       "      <td>-0.124302</td>\n",
       "      <td>-0.124388</td>\n",
       "      <td>-0.140720</td>\n",
       "      <td>-0.137716</td>\n",
       "    </tr>\n",
       "    <tr>\n",
       "      <th>dd_peak</th>\n",
       "      <td>2019-12-31 00:00:00</td>\n",
       "      <td>2021-06-30 00:00:00</td>\n",
       "      <td>2021-06-30 00:00:00</td>\n",
       "      <td>2021-06-30 00:00:00</td>\n",
       "      <td>2021-06-30 00:00:00</td>\n",
       "    </tr>\n",
       "    <tr>\n",
       "      <th>dd_trough</th>\n",
       "      <td>2020-03-31 00:00:00</td>\n",
       "      <td>2022-09-30 00:00:00</td>\n",
       "      <td>2022-09-30 00:00:00</td>\n",
       "      <td>2022-09-30 00:00:00</td>\n",
       "      <td>2022-09-30 00:00:00</td>\n",
       "    </tr>\n",
       "    <tr>\n",
       "      <th>dd_recovery</th>\n",
       "      <td>2020-08-31 00:00:00</td>\n",
       "      <td>2024-02-29 00:00:00</td>\n",
       "      <td>2024-02-29 00:00:00</td>\n",
       "      <td>2024-07-31 00:00:00</td>\n",
       "      <td>2024-02-29 00:00:00</td>\n",
       "    </tr>\n",
       "  </tbody>\n",
       "</table>\n",
       "</div>"
      ],
      "text/plain": [
       "                       HFRIFWI Index       MLEIFCTR Index  \\\n",
       "skewness                   -0.948272            -0.289982   \n",
       "excess_kurtosis             5.657351             1.630917   \n",
       "VaR_0.05                   -0.024008            -0.027002   \n",
       "CVaR_0.05                  -0.035992            -0.034993   \n",
       "max_drawdown               -0.115473            -0.124302   \n",
       "dd_peak          2019-12-31 00:00:00  2021-06-30 00:00:00   \n",
       "dd_trough        2020-03-31 00:00:00  2022-09-30 00:00:00   \n",
       "dd_recovery      2020-08-31 00:00:00  2024-02-29 00:00:00   \n",
       "\n",
       "                      MLEIFCTX Index        HDG US Equity        QAI US Equity  \n",
       "skewness                   -0.273477            -0.274904            -0.433508  \n",
       "excess_kurtosis             1.589790             1.776481             1.449184  \n",
       "VaR_0.05                   -0.026970            -0.029919            -0.017171  \n",
       "CVaR_0.05                  -0.034937            -0.036831            -0.030995  \n",
       "max_drawdown               -0.124388            -0.140720            -0.137716  \n",
       "dd_peak          2021-06-30 00:00:00  2021-06-30 00:00:00  2021-06-30 00:00:00  \n",
       "dd_trough        2022-09-30 00:00:00  2022-09-30 00:00:00  2022-09-30 00:00:00  \n",
       "dd_recovery      2024-02-29 00:00:00  2024-07-31 00:00:00  2024-02-29 00:00:00  "
      ]
     },
     "metadata": {},
     "output_type": "display_data"
    }
   ],
   "source": [
    "risk_stats = tail_risk_stats(hf, alpha=0.05)\n",
    "display(risk_stats.T)"
   ]
  },
  {
   "cell_type": "markdown",
   "id": "9deb5072",
   "metadata": {},
   "source": [
    "## 3. \n",
    "\n",
    "For the series in the \"hedge fund series\" tab, run a regression of each against SPY (found in the \"merrill factors\" tab.) Include an intercept. Report the following regression-based statistics:\n",
    "* Market Beta\n",
    "* Treynor Ratio\n",
    "* Information ratio\n",
    "\n",
    "Annualize these three statistics as appropriate."
   ]
  },
  {
   "cell_type": "code",
   "execution_count": 5,
   "id": "39a0d580-2c1c-4803-83df-18a6aa47c82a",
   "metadata": {},
   "outputs": [
    {
     "data": {
      "text/html": [
       "<div>\n",
       "<style scoped>\n",
       "    .dataframe tbody tr th:only-of-type {\n",
       "        vertical-align: middle;\n",
       "    }\n",
       "\n",
       "    .dataframe tbody tr th {\n",
       "        vertical-align: top;\n",
       "    }\n",
       "\n",
       "    .dataframe thead th {\n",
       "        text-align: right;\n",
       "    }\n",
       "</style>\n",
       "<table border=\"1\" class=\"dataframe\">\n",
       "  <thead>\n",
       "    <tr style=\"text-align: right;\">\n",
       "      <th></th>\n",
       "      <th>HFRIFWI Index</th>\n",
       "      <th>MLEIFCTR Index</th>\n",
       "      <th>MLEIFCTX Index</th>\n",
       "      <th>HDG US Equity</th>\n",
       "      <th>QAI US Equity</th>\n",
       "    </tr>\n",
       "  </thead>\n",
       "  <tbody>\n",
       "    <tr>\n",
       "      <th>beta</th>\n",
       "      <td>0.346312</td>\n",
       "      <td>0.342103</td>\n",
       "      <td>0.341126</td>\n",
       "      <td>0.350231</td>\n",
       "      <td>0.300703</td>\n",
       "    </tr>\n",
       "    <tr>\n",
       "      <th>treynor</th>\n",
       "      <td>0.148072</td>\n",
       "      <td>0.109993</td>\n",
       "      <td>0.104494</td>\n",
       "      <td>0.074160</td>\n",
       "      <td>0.092090</td>\n",
       "    </tr>\n",
       "    <tr>\n",
       "      <th>ir</th>\n",
       "      <td>0.055336</td>\n",
       "      <td>-0.446645</td>\n",
       "      <td>-0.519776</td>\n",
       "      <td>-0.870311</td>\n",
       "      <td>-0.619398</td>\n",
       "    </tr>\n",
       "  </tbody>\n",
       "</table>\n",
       "</div>"
      ],
      "text/plain": [
       "         HFRIFWI Index  MLEIFCTR Index  MLEIFCTX Index  HDG US Equity  \\\n",
       "beta          0.346312        0.342103        0.341126       0.350231   \n",
       "treynor       0.148072        0.109993        0.104494       0.074160   \n",
       "ir            0.055336       -0.446645       -0.519776      -0.870311   \n",
       "\n",
       "         QAI US Equity  \n",
       "beta          0.300703  \n",
       "treynor       0.092090  \n",
       "ir           -0.619398  "
      ]
     },
     "metadata": {},
     "output_type": "display_data"
    }
   ],
   "source": [
    "market = factors['SPY US Equity'].rename('SPY')\n",
    "aligned_hf, aligned_mkt = align_on_index(hf, market.to_frame())\n",
    "regression_stats = regress_vs_market(aligned_hf, aligned_mkt['SPY'], rf=0.0, periods=12)\n",
    "display(regression_stats[[\"beta\", \"treynor\", \"ir\"]].T)"
   ]
  },
  {
   "cell_type": "markdown",
   "id": "9dd139ed",
   "metadata": {},
   "source": [
    "## 4. \n",
    "\n",
    "Discuss the previous statistics, and what they tell us about...\n",
    "\n",
    "* the differences between SPY and the hedge-fund series?\n",
    "* which performs better between HDG and QAI.\n",
    "* whether HDG and the ML series capture the most notable properties of HFRI."
   ]
  },
  {
   "cell_type": "markdown",
   "id": "1223b23f-32a9-4c3c-984c-abd67e0b0a9f",
   "metadata": {},
   "source": [
    "__*(a)*__ *On average, these hedge fund series have around a 30 to 35% exposure to SPY as shown by their respective $\\beta^{SPY}$. The Treynor Ratio, which measures the level of returns per unit of market risk (proxied by SPY), ranged from ~0.07 to ~0.15, while the mean return of SPY itself was close to 0.14. This seems to indicate that these hedge fund strategies underperformed even relative to the level of risk that was taken on. Lastly, the information ratio of almost all of these strategies was negative (except HFRI, which is slightly positive), which reflects their negative $\\alpha$. In these regressions, $\\alpha$ shows the hedge fund returns that could not be explained by the market. It seems that hedge funds have performed poorly over the past few years.*\n",
    "\n",
    "__*(b)*__ *Between HDG and QAI, there are some notable differences. First, QAI has slightly less exposure to market risk than does HDG, with their difference in betas at ~0.05. As an investor who may be attracted to hedge funds due to their diversification benefits, this difference could be quite meaningful. Secondly, even proportional to the level of market risk, QAI has higher returns.*\n",
    "\n",
    "__*(c)*__ *Although HDG lags behind both HFRI and the ML series in terms of performance, both it and the ML series generally capture the most notable properties of HFRI. The level of market risk is quite similar to HFRI, which, as discussed in the case, is a driving factor of hedge fund investing. Again, these ETF returns are significantly lower than HFRI, which could be a deterrent to potential investors.*"
   ]
  },
  {
   "cell_type": "markdown",
   "id": "efc199e0",
   "metadata": {},
   "source": [
    "## 5. \n",
    "\n",
    "Report the correlation matrix for these assets.\n",
    "* Show the correlations as a heat map.\n",
    "* Which series have the highest and lowest correlations?"
   ]
  },
  {
   "cell_type": "code",
   "execution_count": 6,
   "id": "00884971-4968-4b42-b7cf-5ed96ab4cd94",
   "metadata": {},
   "outputs": [
    {
     "data": {
      "image/png": "[encoded data removed]",
      "text/plain": [
       "<Figure size 700x600 with 1 Axes>"
      ]
     },
     "metadata": {},
     "output_type": "display_data"
    }
   ],
   "source": [
    "corr_mat = correlation_matrix(hf)\n",
    "plot_correlation_heatmap(corr_mat)"
   ]
  },
  {
   "cell_type": "markdown",
   "id": "b0810d2a-d61b-4c8d-92c7-6eae49feffd3",
   "metadata": {},
   "source": [
    "QAI has the lowest correlations to the other assets, while the ML series has the highest correlations. The HDG does a great job of tracking the MLEIFCTR and MLEIFCTX."
   ]
  },
  {
   "cell_type": "code",
   "execution_count": 7,
   "id": "d07913cd-cfb9-4196-8ee6-57a109f23466",
   "metadata": {},
   "outputs": [
    {
     "name": "stdout",
     "output_type": "stream",
     "text": [
      "The maximum correlation is between MLEIFCTR Index and MLEIFCTX Index: 0.9999.\n",
      "The minimum correlation is between HFRIFWI Index and QAI US Equity: 0.8578.\n"
     ]
    }
   ],
   "source": [
    "maxpair = corr_mat.stack().idxmax()\n",
    "maxvalue = corr_mat.stack().max()\n",
    "minpair = corr_mat.stack().idxmin()\n",
    "minvalue = corr_mat.stack().min()\n",
    "\n",
    "print(f'The maximum correlation is between {maxpair[0]} and {maxpair[1]}: {round(maxvalue,4)}.')\n",
    "print(f'The minimum correlation is between {minpair[0]} and {minpair[1]}: {round(minvalue,4)}.')"
   ]
  },
  {
   "cell_type": "markdown",
   "id": "f79554a0",
   "metadata": {},
   "source": [
    "## 6.\n",
    "\n",
    "Replicate HFRI with the six factors listed on the \"merrill factors\" tab. Include a constant, and run the unrestricted regression,\n",
    "\n",
    "$$\\begin{align}\n",
    "r^{hfri}_{t} &= \\alpha^{merr} + x_{t}^{merr}\\beta^{merr} + \\epsilon_{t}^{merr}\\\\[5pt]\n",
    "\\hat{r}^{hfri}_{t} &= \\hat{\\alpha}^{merr} + x_{t}^{merr}\\hat{\\beta}^{merr}\n",
    "\\end{align}$$\n",
    "\n",
    "Note that the second equation is just our notation for the fitted replication.\n",
    "\n",
    "a. Report the intercept and betas.\n",
    "\n",
    "b. Are the betas realistic position sizes, or do they require huge long-short positions?\n",
    "\n",
    "c. Report the R-squared.\n",
    "\n",
    "d. Report the volatility of $\\epsilon^{merr}$, the tracking error."
   ]
  },
  {
   "cell_type": "code",
   "execution_count": 8,
   "id": "0c3d1f5c-852e-447b-9a44-17866730452d",
   "metadata": {},
   "outputs": [
    {
     "name": "stdout",
     "output_type": "stream",
     "text": [
      "Intercept (alpha):  0.001149\n"
     ]
    },
    {
     "data": {
      "text/html": [
       "<div>\n",
       "<style scoped>\n",
       "    .dataframe tbody tr th:only-of-type {\n",
       "        vertical-align: middle;\n",
       "    }\n",
       "\n",
       "    .dataframe tbody tr th {\n",
       "        vertical-align: top;\n",
       "    }\n",
       "\n",
       "    .dataframe thead th {\n",
       "        text-align: right;\n",
       "    }\n",
       "</style>\n",
       "<table border=\"1\" class=\"dataframe\">\n",
       "  <thead>\n",
       "    <tr style=\"text-align: right;\">\n",
       "      <th></th>\n",
       "      <th>beta</th>\n",
       "    </tr>\n",
       "  </thead>\n",
       "  <tbody>\n",
       "    <tr>\n",
       "      <th>SPY US Equity</th>\n",
       "      <td>0.043503</td>\n",
       "    </tr>\n",
       "    <tr>\n",
       "      <th>IWM US Equity</th>\n",
       "      <td>0.145824</td>\n",
       "    </tr>\n",
       "    <tr>\n",
       "      <th>EFA US Equity</th>\n",
       "      <td>0.073994</td>\n",
       "    </tr>\n",
       "    <tr>\n",
       "      <th>EEM US Equity</th>\n",
       "      <td>0.085564</td>\n",
       "    </tr>\n",
       "    <tr>\n",
       "      <th>EUO US Equity</th>\n",
       "      <td>0.029614</td>\n",
       "    </tr>\n",
       "    <tr>\n",
       "      <th>USGG3M Index</th>\n",
       "      <td>0.324931</td>\n",
       "    </tr>\n",
       "  </tbody>\n",
       "</table>\n",
       "</div>"
      ],
      "text/plain": [
       "                  beta\n",
       "SPY US Equity 0.043503\n",
       "IWM US Equity 0.145824\n",
       "EFA US Equity 0.073994\n",
       "EEM US Equity 0.085564\n",
       "EUO US Equity 0.029614\n",
       "USGG3M Index  0.324931"
      ]
     },
     "metadata": {},
     "output_type": "display_data"
    }
   ],
   "source": [
    "factor_cols = ['SPY US Equity','IWM US Equity','EFA US Equity','EEM US Equity','EUO US Equity','USGG3M Index']\n",
    "X = factors[factor_cols].copy()\n",
    "y = hf['HFRIFWI Index'].copy()\n",
    "\n",
    "aligned_y, aligned_X = align_on_index(y.to_frame(), X)\n",
    "aligned_y = aligned_y.iloc[:,0]\n",
    "ols_full = ols_replication(aligned_y, aligned_X, add_const=True, periods=12)\n",
    "print(\"Intercept (alpha):\", f\"{ols_full.alpha: .6f}\")\n",
    "display(pd.DataFrame(ols_full.betas, columns=['beta']))"
   ]
  },
  {
   "cell_type": "code",
   "execution_count": 9,
   "id": "ae29a16a-158c-4f34-b423-6f71b471a352",
   "metadata": {},
   "outputs": [
    {
     "name": "stdout",
     "output_type": "stream",
     "text": [
      "Position intensity: Sum of absolute betas (ex-alpha):  0.703\n"
     ]
    }
   ],
   "source": [
    "print(\"Position intensity: Sum of absolute betas (ex-alpha):\", f\"{np.sum(np.abs(ols_full.betas.values)): .3f}\")"
   ]
  },
  {
   "cell_type": "markdown",
   "id": "ac7a0e1f-a1ac-4f21-a250-2d83e6fb9724",
   "metadata": {},
   "source": [
    "Exposures map to ETF friendly, implementable weights (~35% diversified equities, ~32% bills, ~3% FX). Nothing here suggests the model needs extreme or levered long–short positions."
   ]
  },
  {
   "cell_type": "code",
   "execution_count": 10,
   "id": "2c21101e-dfae-4c7f-9de5-0bb1b8cb1fde",
   "metadata": {},
   "outputs": [
    {
     "name": "stdout",
     "output_type": "stream",
     "text": [
      "c. R-squared:  0.84\n"
     ]
    }
   ],
   "source": [
    "print(\"c. R-squared:\", f\"{ols_full.r2: .2f}\")"
   ]
  },
  {
   "cell_type": "code",
   "execution_count": 11,
   "id": "18bd639f-a250-45a7-8beb-eaeda28f8efd",
   "metadata": {},
   "outputs": [
    {
     "name": "stdout",
     "output_type": "stream",
     "text": [
      "d. Tracking Error (annualized):  0.0233\n"
     ]
    }
   ],
   "source": [
    "print(\"d. Tracking Error (annualized):\", f\"{ols_full.tracking_error_ann: .4f}\")"
   ]
  },
  {
   "cell_type": "markdown",
   "id": "9760f909",
   "metadata": {},
   "source": [
    "## 7.\n",
    "\n",
    "Let's examine the replication out-of-sample (OOS).\n",
    "\n",
    "Starting with $t = 61$ month of the sample, do the following:\n",
    "\n",
    "* Use the previous 60 months of data to estimate the regression equation. \n",
    "This gives time-t estimates of the regression parameters, $\\tilde{\\alpha}^{merr}_{t}$ and $\\tilde{\\beta}^{merr}_{t}$.\n",
    "\n",
    "* Use the estimated regression parameters, along with the time-t regressor values, $x^{merr}_{t}$, calculate the time-t replication value that is, with respect to the regression estimate, built \"out-of-sample\" (OOS).\n",
    "\n",
    "$$\\hat{r}^{hfri}_{t} \\equiv \\tilde{\\alpha}^{merr} + (x_{t}^{merr})'\\tilde{\\beta}^{merr}$$\n",
    "\n",
    "* Step forward to $t = 62$, and now use $t = 2$ through $t = 61$ for the estimation. Re-run the steps above, and continue this process throughout the data series. Thus, we are running a rolling, 60-month regression for each point-in-time.\n",
    "\n",
    "How well does the out-of-sample replication perform with respect to the target?"
   ]
  },
  {
   "cell_type": "code",
   "execution_count": 12,
   "id": "1f69dee1-7509-4f7b-8b11-c0646d296233",
   "metadata": {},
   "outputs": [
    {
     "name": "stdout",
     "output_type": "stream",
     "text": [
      "OOS correlation (HFRI vs replication):  0.9013\n",
      "OOS tracking error (Vol - annualized):  0.0275\n"
     ]
    }
   ],
   "source": [
    "oos = rolling_replication_oos(aligned_y, aligned_X, window=60, add_const=True)\n",
    "oos = oos.dropna()\n",
    "common = aligned_y.index.intersection(oos.index)\n",
    "hfri_common = aligned_y.loc[common]\n",
    "oos_common = oos.loc[common]\n",
    "corr_oos = np.corrcoef(hfri_common, oos_common)[0,1]\n",
    "te_oos = (hfri_common - oos_common).std(ddof=1) * np.sqrt(12)\n",
    "\n",
    "print(\"OOS correlation (HFRI vs replication):\", f\"{corr_oos: .4f}\")\n",
    "print(\"OOS tracking error (Vol - annualized):\", f\"{te_oos: .4f}\")"
   ]
  },
  {
   "cell_type": "code",
   "execution_count": 13,
   "id": "472c39f8-d9f8-4aa1-99e4-f9ecfa8942e7",
   "metadata": {},
   "outputs": [
    {
     "name": "stdout",
     "output_type": "stream",
     "text": [
      "The OOS R-Squared of the replication is 0.8055\n"
     ]
    }
   ],
   "source": [
    "oos_loss = ((hfri_common - oos_common)**2).sum()\n",
    "oos_mean = hfri_common.mean()\n",
    "oos_loss_null = ((hfri_common - oos_mean)**2).sum()\n",
    "oos_r2 = 1 - oos_loss / oos_loss_null\n",
    "print(f'The OOS R-Squared of the replication is {round(oos_r2,4)}')"
   ]
  },
  {
   "cell_type": "code",
   "execution_count": 14,
   "id": "ce19c07d-6ccc-4b8c-8ac5-48f487bc24bb",
   "metadata": {},
   "outputs": [
    {
     "data": {
      "image/png": "[encoded data removed]",
      "text/plain": [
       "<Figure size 800x400 with 1 Axes>"
      ]
     },
     "metadata": {},
     "output_type": "display_data"
    }
   ],
   "source": [
    "fig, ax = plt.subplots(figsize=(8,4))\n",
    "ax.plot((1+hfri_common).cumprod(), label='HFRI (actual)')\n",
    "ax.plot((1+oos_common).cumprod(), label='Replication (OOS)')\n",
    "ax.set_title(\"Cumulative Returns: HFRI vs OOS Replication\")\n",
    "ax.legend()\n",
    "plt.show()"
   ]
  },
  {
   "cell_type": "markdown",
   "id": "5788a196-c61b-42fd-8b88-61c011e2a28f",
   "metadata": {},
   "source": [
    "- As an investable hedge-fund beta proxy, the OOS result is strong, but it does not fully match HFRI’s level.\n",
    "- Our replication portfolio does a decent job of tracking the index returns, as shown by the charts above and the ~90% correlation between the two. However, it is evident that the replication is lagging behind the cumulative returns of HFRIFWI."
   ]
  },
  {
   "cell_type": "markdown",
   "id": "88b794fe-5d61-49ff-9663-9e36ae38f0a1",
   "metadata": {},
   "source": [
    "Note: *One important consideration is whether or not we include the intercept in our \"replication\". On the one hand, it is useful to assess what sort of replication we could create if we had access to the alpha. On the other hand, we know that we can't directly get exposure to the alpha in our replication, so it may also make sense to assess our replication solely based on the betas (which are tradable). These considerations may lead to different choices in fitting the model, as shown below.*"
   ]
  },
  {
   "cell_type": "markdown",
   "id": "f7433d2f",
   "metadata": {},
   "source": [
    "***"
   ]
  },
  {
   "cell_type": "markdown",
   "id": "4f5883f2",
   "metadata": {},
   "source": [
    "# 3. EXTRA - Other Estimations"
   ]
  },
  {
   "cell_type": "code",
   "execution_count": 15,
   "id": "4bb7a352-ad46-46b1-b4d5-facb0187064c",
   "metadata": {},
   "outputs": [],
   "source": [
    "X_full = data.factors[factor_cols]\n",
    "y_hfri = data.hedge[\"HFRIFWI Index\"]\n",
    "y_hfri_a, X_full_a = align_on_index(y_hfri.to_frame(), X_full)\n",
    "y = y_hfri_a.iloc[:,0]\n",
    "X = X_full_a"
   ]
  },
  {
   "cell_type": "markdown",
   "id": "31fc50e0",
   "metadata": {},
   "source": [
    "### 1.\n",
    "\n",
    "In `Section 2`, we estimated the replications using an intercept. Try the full-sample estimation, but this time without an intercept.\n",
    "\n",
    "$$\\begin{align}\n",
    "r^{hfri}_{t} &= \\alpha^{merr} + x_{t}^{merr}\\beta^{merr} + \\epsilon_{t}^{merr}\\\\[5pt]\n",
    "\\check{r}^{hfri}_{t} &= \\check{\\alpha}^{merr} + x_{t}^{merr}\\check{\\beta}^{merr}\n",
    "\\end{align}$$\n",
    "\n",
    "Report\n",
    "\n",
    "* the regression beta. How does it compare to the estimated beta with an intercept, $\\hat{\\beta}^{merr}$?\n",
    "\n",
    "* the mean of the fitted value, $\\check{r}^{hfri}_{t}$. How does it compare to the mean of the HFRI?\n",
    "\n",
    "* the correlations of the fitted values, $\\check{r}^{hfri}_{t}$ to the HFRI. How does the correlation compare to that of the fitted values with an intercept, $\\hat{r}^{hfri}_{t}$\n",
    "\n",
    "Do you think Merrill and ProShares fit their replicators with an intercept or not?"
   ]
  },
  {
   "cell_type": "code",
   "execution_count": 16,
   "id": "75e1c144-65d4-45e2-864d-83f12a4de099",
   "metadata": {},
   "outputs": [
    {
     "data": {
      "text/html": [
       "<div>\n",
       "<style scoped>\n",
       "    .dataframe tbody tr th:only-of-type {\n",
       "        vertical-align: middle;\n",
       "    }\n",
       "\n",
       "    .dataframe tbody tr th {\n",
       "        vertical-align: top;\n",
       "    }\n",
       "\n",
       "    .dataframe thead th {\n",
       "        text-align: right;\n",
       "    }\n",
       "</style>\n",
       "<table border=\"1\" class=\"dataframe\">\n",
       "  <thead>\n",
       "    <tr style=\"text-align: right;\">\n",
       "      <th></th>\n",
       "      <th>with_const</th>\n",
       "      <th>no_const</th>\n",
       "    </tr>\n",
       "  </thead>\n",
       "  <tbody>\n",
       "    <tr>\n",
       "      <th>alpha</th>\n",
       "      <td>0.001149</td>\n",
       "      <td>0.000000</td>\n",
       "    </tr>\n",
       "    <tr>\n",
       "      <th>beta_mkt</th>\n",
       "      <td>0.043503</td>\n",
       "      <td>0.055276</td>\n",
       "    </tr>\n",
       "    <tr>\n",
       "      <th>r2</th>\n",
       "      <td>0.842694</td>\n",
       "      <td>0.849695</td>\n",
       "    </tr>\n",
       "    <tr>\n",
       "      <th>te_ann</th>\n",
       "      <td>0.023320</td>\n",
       "      <td>0.023404</td>\n",
       "    </tr>\n",
       "    <tr>\n",
       "      <th>mean_fitted</th>\n",
       "      <td>0.004273</td>\n",
       "      <td>0.003629</td>\n",
       "    </tr>\n",
       "    <tr>\n",
       "      <th>mean_actual</th>\n",
       "      <td>0.004273</td>\n",
       "      <td>0.004273</td>\n",
       "    </tr>\n",
       "    <tr>\n",
       "      <th>corr</th>\n",
       "      <td>0.917984</td>\n",
       "      <td>0.917407</td>\n",
       "    </tr>\n",
       "    <tr>\n",
       "      <th>beta_abs_sum</th>\n",
       "      <td>0.703430</td>\n",
       "      <td>1.034732</td>\n",
       "    </tr>\n",
       "  </tbody>\n",
       "</table>\n",
       "</div>"
      ],
      "text/plain": [
       "              with_const  no_const\n",
       "alpha           0.001149  0.000000\n",
       "beta_mkt        0.043503  0.055276\n",
       "r2              0.842694  0.849695\n",
       "te_ann          0.023320  0.023404\n",
       "mean_fitted     0.004273  0.003629\n",
       "mean_actual     0.004273  0.004273\n",
       "corr            0.917984  0.917407\n",
       "beta_abs_sum    0.703430  1.034732"
      ]
     },
     "metadata": {},
     "output_type": "display_data"
    },
    {
     "data": {
      "text/html": [
       "<div>\n",
       "<style scoped>\n",
       "    .dataframe tbody tr th:only-of-type {\n",
       "        vertical-align: middle;\n",
       "    }\n",
       "\n",
       "    .dataframe tbody tr th {\n",
       "        vertical-align: top;\n",
       "    }\n",
       "\n",
       "    .dataframe thead th {\n",
       "        text-align: right;\n",
       "    }\n",
       "</style>\n",
       "<table border=\"1\" class=\"dataframe\">\n",
       "  <thead>\n",
       "    <tr style=\"text-align: right;\">\n",
       "      <th></th>\n",
       "      <th>beta_with_const</th>\n",
       "    </tr>\n",
       "  </thead>\n",
       "  <tbody>\n",
       "    <tr>\n",
       "      <th>SPY US Equity</th>\n",
       "      <td>0.043503</td>\n",
       "    </tr>\n",
       "    <tr>\n",
       "      <th>IWM US Equity</th>\n",
       "      <td>0.145824</td>\n",
       "    </tr>\n",
       "    <tr>\n",
       "      <th>EFA US Equity</th>\n",
       "      <td>0.073994</td>\n",
       "    </tr>\n",
       "    <tr>\n",
       "      <th>EEM US Equity</th>\n",
       "      <td>0.085564</td>\n",
       "    </tr>\n",
       "    <tr>\n",
       "      <th>EUO US Equity</th>\n",
       "      <td>0.029614</td>\n",
       "    </tr>\n",
       "    <tr>\n",
       "      <th>USGG3M Index</th>\n",
       "      <td>0.324931</td>\n",
       "    </tr>\n",
       "  </tbody>\n",
       "</table>\n",
       "</div>"
      ],
      "text/plain": [
       "               beta_with_const\n",
       "SPY US Equity         0.043503\n",
       "IWM US Equity         0.145824\n",
       "EFA US Equity         0.073994\n",
       "EEM US Equity         0.085564\n",
       "EUO US Equity         0.029614\n",
       "USGG3M Index          0.324931"
      ]
     },
     "metadata": {},
     "output_type": "display_data"
    },
    {
     "data": {
      "text/html": [
       "<div>\n",
       "<style scoped>\n",
       "    .dataframe tbody tr th:only-of-type {\n",
       "        vertical-align: middle;\n",
       "    }\n",
       "\n",
       "    .dataframe tbody tr th {\n",
       "        vertical-align: top;\n",
       "    }\n",
       "\n",
       "    .dataframe thead th {\n",
       "        text-align: right;\n",
       "    }\n",
       "</style>\n",
       "<table border=\"1\" class=\"dataframe\">\n",
       "  <thead>\n",
       "    <tr style=\"text-align: right;\">\n",
       "      <th></th>\n",
       "      <th>beta_no_const</th>\n",
       "    </tr>\n",
       "  </thead>\n",
       "  <tbody>\n",
       "    <tr>\n",
       "      <th>SPY US Equity</th>\n",
       "      <td>0.055276</td>\n",
       "    </tr>\n",
       "    <tr>\n",
       "      <th>IWM US Equity</th>\n",
       "      <td>0.143346</td>\n",
       "    </tr>\n",
       "    <tr>\n",
       "      <th>EFA US Equity</th>\n",
       "      <td>0.070539</td>\n",
       "    </tr>\n",
       "    <tr>\n",
       "      <th>EEM US Equity</th>\n",
       "      <td>0.084458</td>\n",
       "    </tr>\n",
       "    <tr>\n",
       "      <th>EUO US Equity</th>\n",
       "      <td>0.031545</td>\n",
       "    </tr>\n",
       "    <tr>\n",
       "      <th>USGG3M Index</th>\n",
       "      <td>0.649568</td>\n",
       "    </tr>\n",
       "  </tbody>\n",
       "</table>\n",
       "</div>"
      ],
      "text/plain": [
       "               beta_no_const\n",
       "SPY US Equity       0.055276\n",
       "IWM US Equity       0.143346\n",
       "EFA US Equity       0.070539\n",
       "EEM US Equity       0.084458\n",
       "EUO US Equity       0.031545\n",
       "USGG3M Index        0.649568"
      ]
     },
     "metadata": {},
     "output_type": "display_data"
    }
   ],
   "source": [
    "replication_comparision, betas_with, betas_no = compare_replications_table(y, X, periods=12)\n",
    "display(replication_comparision.T)\n",
    "display(betas_with.to_frame(\"beta_with_const\"))\n",
    "display(betas_no.to_frame(\"beta_no_const\"))"
   ]
  },
  {
   "cell_type": "markdown",
   "id": "8f27e932-5596-4bdd-9e33-549614eb6683",
   "metadata": {},
   "source": [
    "- Excluding the intercept term, we find that our weights to USGG3M change quite drastically. We now require a much larger exposure to USGG3M, however, the rest of our weights are relatively unchanged.\n",
    "- Dropping the intercept just pushes ${\\alpha}$ into cash. With intercept: USGG3M = 0.325; equities ~ 0.35 total, EUO ~ 0.030. Without intercept: USGG3M jumps to 0.650 (+0.325), while equity/FX betas barely move.\n",
    "- Gross exposure rises from ~0.70 to ~1.03, still all-long (no long–short offsets).\n",
    "- Without a constant, OLS must fit the target’s unconditional mean inside the factor span. The near-constant T-bill series is the only factor that can act like the intercept, so it absorbs it."
   ]
  },
  {
   "cell_type": "code",
   "execution_count": 17,
   "id": "4a7b6e87-391a-4e11-8cc3-735c35cff475",
   "metadata": {},
   "outputs": [
    {
     "data": {
      "text/html": [
       "<div>\n",
       "<style scoped>\n",
       "    .dataframe tbody tr th:only-of-type {\n",
       "        vertical-align: middle;\n",
       "    }\n",
       "\n",
       "    .dataframe tbody tr th {\n",
       "        vertical-align: top;\n",
       "    }\n",
       "\n",
       "    .dataframe thead th {\n",
       "        text-align: right;\n",
       "    }\n",
       "</style>\n",
       "<table border=\"1\" class=\"dataframe\">\n",
       "  <thead>\n",
       "    <tr style=\"text-align: right;\">\n",
       "      <th></th>\n",
       "      <th>mean_fitted</th>\n",
       "    </tr>\n",
       "  </thead>\n",
       "  <tbody>\n",
       "    <tr>\n",
       "      <th>with_const</th>\n",
       "      <td>0.004273</td>\n",
       "    </tr>\n",
       "    <tr>\n",
       "      <th>no_const</th>\n",
       "      <td>0.003629</td>\n",
       "    </tr>\n",
       "  </tbody>\n",
       "</table>\n",
       "</div>"
      ],
      "text/plain": [
       "            mean_fitted\n",
       "with_const     0.004273\n",
       "no_const       0.003629"
      ]
     },
     "metadata": {},
     "output_type": "display_data"
    },
    {
     "data": {
      "text/html": [
       "<div>\n",
       "<style scoped>\n",
       "    .dataframe tbody tr th:only-of-type {\n",
       "        vertical-align: middle;\n",
       "    }\n",
       "\n",
       "    .dataframe tbody tr th {\n",
       "        vertical-align: top;\n",
       "    }\n",
       "\n",
       "    .dataframe thead th {\n",
       "        text-align: right;\n",
       "    }\n",
       "</style>\n",
       "<table border=\"1\" class=\"dataframe\">\n",
       "  <thead>\n",
       "    <tr style=\"text-align: right;\">\n",
       "      <th></th>\n",
       "      <th>mean_actual</th>\n",
       "    </tr>\n",
       "  </thead>\n",
       "  <tbody>\n",
       "    <tr>\n",
       "      <th>with_const</th>\n",
       "      <td>0.004273</td>\n",
       "    </tr>\n",
       "    <tr>\n",
       "      <th>no_const</th>\n",
       "      <td>0.004273</td>\n",
       "    </tr>\n",
       "  </tbody>\n",
       "</table>\n",
       "</div>"
      ],
      "text/plain": [
       "            mean_actual\n",
       "with_const     0.004273\n",
       "no_const       0.004273"
      ]
     },
     "metadata": {},
     "output_type": "display_data"
    }
   ],
   "source": [
    "display(replication_comparision[['mean_fitted']])\n",
    "display(replication_comparision[['mean_actual']])"
   ]
  },
  {
   "cell_type": "markdown",
   "id": "3680fa95-ce32-4555-9f36-35481016efd1",
   "metadata": {},
   "source": [
    "- With intercept, the fitted mean exactly equals HFRI's mean because OLS with a constant forces residuals to have zero mean, so the fitted series matches the target’s sample mean.\n",
    "- Without intercept, the fitted mean undershoots HFRI’s mean. With no constant, the model must span the level using factor means only. They don’t fully span HFRI’s unconditional mean, so the fit comes in low.\n",
    "\n",
    "Note: *We can trade the factors, but not the alpha.*"
   ]
  },
  {
   "cell_type": "code",
   "execution_count": 18,
   "id": "af047867-4338-4506-9793-b80f861aefc8",
   "metadata": {},
   "outputs": [
    {
     "data": {
      "text/html": [
       "<div>\n",
       "<style scoped>\n",
       "    .dataframe tbody tr th:only-of-type {\n",
       "        vertical-align: middle;\n",
       "    }\n",
       "\n",
       "    .dataframe tbody tr th {\n",
       "        vertical-align: top;\n",
       "    }\n",
       "\n",
       "    .dataframe thead th {\n",
       "        text-align: right;\n",
       "    }\n",
       "</style>\n",
       "<table border=\"1\" class=\"dataframe\">\n",
       "  <thead>\n",
       "    <tr style=\"text-align: right;\">\n",
       "      <th></th>\n",
       "      <th>corr</th>\n",
       "    </tr>\n",
       "  </thead>\n",
       "  <tbody>\n",
       "    <tr>\n",
       "      <th>with_const</th>\n",
       "      <td>0.917984</td>\n",
       "    </tr>\n",
       "    <tr>\n",
       "      <th>no_const</th>\n",
       "      <td>0.917407</td>\n",
       "    </tr>\n",
       "  </tbody>\n",
       "</table>\n",
       "</div>"
      ],
      "text/plain": [
       "               corr\n",
       "with_const 0.917984\n",
       "no_const   0.917407"
      ]
     },
     "metadata": {},
     "output_type": "display_data"
    }
   ],
   "source": [
    "display(replication_comparision[['corr']])"
   ]
  },
  {
   "cell_type": "markdown",
   "id": "aaa0cb9e-e455-424b-8710-20f8d19aa6c1",
   "metadata": {},
   "source": [
    "- Correlation is essentially unchanged when you drop the intercept because Pearson correlation de-means both series. So an intercept mostly affects the level of the fit, not its co-movement with HFRI. \n",
    "- Dropping the intercept just shifts that level into the T-bill sleeve. The covariance structure, and thus correlation, barely moves."
   ]
  },
  {
   "cell_type": "markdown",
   "id": "78f0eda9-e268-498e-8a98-0203602947e3",
   "metadata": {},
   "source": [
    "*The Merrill Lynch Factor Model is a standard returns-based regression. Including a constant makes residuals mean-zero and matches the target’s sample mean. When we move to an investable index (MLFM-ES) and the ETF (HDG), the intercept can’t be held directly, so it’s operationalized as a T-bill sleeve.*\n",
    "\n",
    "*From the case study, we know they have a large position in US Treasury Bills. This is more aligned with the no-intercept model, which has a positive beta of ~0.6. In addition, we've found that we barely gain any correlation by including the intercept, but we sacrifice a bit of mean return. Conceptually, it makes sense that if we want to replicate the index with the purpose of long-term investments, we likely want to replicate the mean as well as the variation. The intercept ensures we are matching the variation in the factors, where we would like to match the overall level.*"
   ]
  },
  {
   "cell_type": "markdown",
   "id": "2c042de1",
   "metadata": {},
   "source": [
    "### 2.\n",
    "\n",
    "Merrill constrains the weights of each asset in its replication regression of HFRI. Try constraining your weights by re-doing 2.6.\n",
    "\n",
    "* Use Non-Negative Least Squares (NNLS) instead of OLS.\n",
    "* Go further by using a Generalized Linear Model to put separate interval constraints on each beta, rather than simply constraining them to be non-negative.\n",
    "\n",
    "#### Hints\n",
    "* Try using LinearRegression in scikit-learn with the parameter `positive=True`. \n",
    "* Try using GLM in statsmodels."
   ]
  },
  {
   "cell_type": "code",
   "execution_count": 19,
   "id": "f6c78684-6f60-41bc-8bb0-7ece281fe0a6",
   "metadata": {},
   "outputs": [
    {
     "data": {
      "text/html": [
       "<div>\n",
       "<style scoped>\n",
       "    .dataframe tbody tr th:only-of-type {\n",
       "        vertical-align: middle;\n",
       "    }\n",
       "\n",
       "    .dataframe tbody tr th {\n",
       "        vertical-align: top;\n",
       "    }\n",
       "\n",
       "    .dataframe thead th {\n",
       "        text-align: right;\n",
       "    }\n",
       "</style>\n",
       "<table border=\"1\" class=\"dataframe\">\n",
       "  <thead>\n",
       "    <tr style=\"text-align: right;\">\n",
       "      <th></th>\n",
       "      <th>beta_nnls</th>\n",
       "    </tr>\n",
       "  </thead>\n",
       "  <tbody>\n",
       "    <tr>\n",
       "      <th>intercept</th>\n",
       "      <td>0.001149</td>\n",
       "    </tr>\n",
       "    <tr>\n",
       "      <th>SPY US Equity</th>\n",
       "      <td>0.043503</td>\n",
       "    </tr>\n",
       "    <tr>\n",
       "      <th>IWM US Equity</th>\n",
       "      <td>0.145824</td>\n",
       "    </tr>\n",
       "    <tr>\n",
       "      <th>EFA US Equity</th>\n",
       "      <td>0.073994</td>\n",
       "    </tr>\n",
       "    <tr>\n",
       "      <th>EEM US Equity</th>\n",
       "      <td>0.085564</td>\n",
       "    </tr>\n",
       "    <tr>\n",
       "      <th>EUO US Equity</th>\n",
       "      <td>0.029614</td>\n",
       "    </tr>\n",
       "    <tr>\n",
       "      <th>USGG3M Index</th>\n",
       "      <td>0.324931</td>\n",
       "    </tr>\n",
       "  </tbody>\n",
       "</table>\n",
       "</div>"
      ],
      "text/plain": [
       "               beta_nnls\n",
       "intercept       0.001149\n",
       "SPY US Equity   0.043503\n",
       "IWM US Equity   0.145824\n",
       "EFA US Equity   0.073994\n",
       "EEM US Equity   0.085564\n",
       "EUO US Equity   0.029614\n",
       "USGG3M Index    0.324931"
      ]
     },
     "metadata": {},
     "output_type": "display_data"
    },
    {
     "name": "stdout",
     "output_type": "stream",
     "text": [
      "Correlation: 0.917984\n",
      "R-squared: 0.8427\n",
      "Tracking Error: 0.0233\n"
     ]
    }
   ],
   "source": [
    "nn = nnls_report(y, X, periods=12, intercept=True)\n",
    "display(pd.DataFrame(nn[\"betas\"], columns=[\"beta_nnls\"]))\n",
    "print(f\"Correlation: {nn['corr']:.6f}\") \n",
    "print(f\"R-squared: {nn['r2']:.4f}\")\n",
    "print(f\"Tracking Error: {nn['tracking_error_ann']:.4f}\")"
   ]
  },
  {
   "cell_type": "code",
   "execution_count": 20,
   "id": "b6b9716a-e6d6-4ded-85ae-bde2c0d41e45",
   "metadata": {},
   "outputs": [
    {
     "data": {
      "text/html": [
       "<div>\n",
       "<style scoped>\n",
       "    .dataframe tbody tr th:only-of-type {\n",
       "        vertical-align: middle;\n",
       "    }\n",
       "\n",
       "    .dataframe tbody tr th {\n",
       "        vertical-align: top;\n",
       "    }\n",
       "\n",
       "    .dataframe thead th {\n",
       "        text-align: right;\n",
       "    }\n",
       "</style>\n",
       "<table border=\"1\" class=\"dataframe\">\n",
       "  <thead>\n",
       "    <tr style=\"text-align: right;\">\n",
       "      <th></th>\n",
       "      <th>beta_bounded</th>\n",
       "    </tr>\n",
       "  </thead>\n",
       "  <tbody>\n",
       "    <tr>\n",
       "      <th>intercept</th>\n",
       "      <td>0.001149</td>\n",
       "    </tr>\n",
       "    <tr>\n",
       "      <th>SPY US Equity</th>\n",
       "      <td>0.043503</td>\n",
       "    </tr>\n",
       "    <tr>\n",
       "      <th>IWM US Equity</th>\n",
       "      <td>0.145824</td>\n",
       "    </tr>\n",
       "    <tr>\n",
       "      <th>EFA US Equity</th>\n",
       "      <td>0.073994</td>\n",
       "    </tr>\n",
       "    <tr>\n",
       "      <th>EEM US Equity</th>\n",
       "      <td>0.085564</td>\n",
       "    </tr>\n",
       "    <tr>\n",
       "      <th>EUO US Equity</th>\n",
       "      <td>0.029614</td>\n",
       "    </tr>\n",
       "    <tr>\n",
       "      <th>USGG3M Index</th>\n",
       "      <td>0.324931</td>\n",
       "    </tr>\n",
       "  </tbody>\n",
       "</table>\n",
       "</div>"
      ],
      "text/plain": [
       "               beta_bounded\n",
       "intercept          0.001149\n",
       "SPY US Equity      0.043503\n",
       "IWM US Equity      0.145824\n",
       "EFA US Equity      0.073994\n",
       "EEM US Equity      0.085564\n",
       "EUO US Equity      0.029614\n",
       "USGG3M Index       0.324931"
      ]
     },
     "metadata": {},
     "output_type": "display_data"
    },
    {
     "name": "stdout",
     "output_type": "stream",
     "text": [
      "Correlation: 0.917984\n",
      "R-squared: 0.8427\n",
      "Tracking Error: 0.0233\n"
     ]
    }
   ],
   "source": [
    "lower = np.array([-1.0,-0.3,-1.0,0.0,-1.0,0.0])\n",
    "upper = np.array([ 1.0, 1.0, 1.0,1.0, 1.0,2.0])\n",
    "\n",
    "bnd = bounded_ls_report(y, X, lower, upper, periods=12, intercept=True)\n",
    "display(pd.DataFrame(bnd[\"betas\"], columns=[\"beta_bounded\"]))\n",
    "print(f\"Correlation: {bnd['corr']:.6f}\") \n",
    "print(f\"R-squared: {bnd['r2']:.4f}\")\n",
    "print(f\"Tracking Error: {bnd['tracking_error_ann']:.4f}\")"
   ]
  },
  {
   "cell_type": "code",
   "execution_count": 21,
   "id": "d80342dc-20e3-4e3e-b8c8-a1a9eb93357b",
   "metadata": {},
   "outputs": [
    {
     "data": {
      "text/html": [
       "<div>\n",
       "<style scoped>\n",
       "    .dataframe tbody tr th:only-of-type {\n",
       "        vertical-align: middle;\n",
       "    }\n",
       "\n",
       "    .dataframe tbody tr th {\n",
       "        vertical-align: top;\n",
       "    }\n",
       "\n",
       "    .dataframe thead th {\n",
       "        text-align: right;\n",
       "    }\n",
       "</style>\n",
       "<table border=\"1\" class=\"dataframe\">\n",
       "  <thead>\n",
       "    <tr style=\"text-align: right;\">\n",
       "      <th></th>\n",
       "      <th>beta_qp</th>\n",
       "    </tr>\n",
       "  </thead>\n",
       "  <tbody>\n",
       "    <tr>\n",
       "      <th>SPY US Equity</th>\n",
       "      <td>0.076303</td>\n",
       "    </tr>\n",
       "    <tr>\n",
       "      <th>IWM US Equity</th>\n",
       "      <td>0.132056</td>\n",
       "    </tr>\n",
       "    <tr>\n",
       "      <th>EFA US Equity</th>\n",
       "      <td>0.068478</td>\n",
       "    </tr>\n",
       "    <tr>\n",
       "      <th>EEM US Equity</th>\n",
       "      <td>0.086491</td>\n",
       "    </tr>\n",
       "    <tr>\n",
       "      <th>EUO US Equity</th>\n",
       "      <td>0.035035</td>\n",
       "    </tr>\n",
       "    <tr>\n",
       "      <th>USGG3M Index</th>\n",
       "      <td>0.008652</td>\n",
       "    </tr>\n",
       "  </tbody>\n",
       "</table>\n",
       "</div>"
      ],
      "text/plain": [
       "               beta_qp\n",
       "SPY US Equity 0.076303\n",
       "IWM US Equity 0.132056\n",
       "EFA US Equity 0.068478\n",
       "EEM US Equity 0.086491\n",
       "EUO US Equity 0.035035\n",
       "USGG3M Index  0.008652"
      ]
     },
     "metadata": {},
     "output_type": "display_data"
    },
    {
     "name": "stdout",
     "output_type": "stream",
     "text": [
      "0.8404 0.0235\n",
      "Correlation: 0.917984\n",
      "R-squared: 0.8404\n",
      "Tracking Error: 0.0235\n"
     ]
    }
   ],
   "source": [
    "qp = constrained_sum_replication(y, X, lower, upper, include=[\"SPY US Equity\",\"IWM US Equity\",\"EFA US Equity\",\"EEM US Equity\",\"EUO US Equity\"], lsum=-1.0, usum=1.0, periods=12)\n",
    "display(pd.DataFrame(qp.betas, columns=[\"beta_qp\"]))\n",
    "print(f\"{qp.r2:.4f}\", f\"{qp.tracking_error_ann:.4f}\")\n",
    "print(f\"Correlation: {bnd['corr']:.6f}\") \n",
    "print(f\"R-squared: {qp.r2:.4f}\")\n",
    "print(f\"Tracking Error: {qp.tracking_error_ann:.4f}\")"
   ]
  },
  {
   "cell_type": "markdown",
   "id": "494d33e4",
   "metadata": {},
   "source": [
    "# 4. EXTRA - Other Decompositions"
   ]
  },
  {
   "cell_type": "markdown",
   "id": "02ee228d",
   "metadata": {},
   "source": [
    "### 1. \n",
    "\n",
    "Let's decompose a few other targets to see if they behave as their name suggests.\n",
    "\n",
    "* Regress HEFA on the same style factors used to decompose HFRI. Does HEFA appear to be a currency-hedged version of EFA?\n",
    "\n",
    "* Decompose TRVCI with the same style factors used to decompose HFRI. The TRVCI Index tracks venture capital funds--in terms of our styles, what best describes venture capital?\n",
    "\n",
    "* TAIL is an ETF that tracks SPY, but that also buys put options to protect against market downturns. Calculate the statistics in questions 2.1-2.3 for TAIL. Does it seem to behave as indicated by this description? That is, does it have high correlation to SPY while delivering lower tail risk?"
   ]
  },
  {
   "cell_type": "code",
   "execution_count": 22,
   "id": "b4450b17-fea2-46a1-a465-1946ee1b11cb",
   "metadata": {},
   "outputs": [
    {
     "data": {
      "text/html": [
       "<div>\n",
       "<style scoped>\n",
       "    .dataframe tbody tr th:only-of-type {\n",
       "        vertical-align: middle;\n",
       "    }\n",
       "\n",
       "    .dataframe tbody tr th {\n",
       "        vertical-align: top;\n",
       "    }\n",
       "\n",
       "    .dataframe thead th {\n",
       "        text-align: right;\n",
       "    }\n",
       "</style>\n",
       "<table border=\"1\" class=\"dataframe\">\n",
       "  <thead>\n",
       "    <tr style=\"text-align: right;\">\n",
       "      <th></th>\n",
       "      <th>beta</th>\n",
       "    </tr>\n",
       "  </thead>\n",
       "  <tbody>\n",
       "    <tr>\n",
       "      <th>SPY US Equity</th>\n",
       "      <td>0.065495</td>\n",
       "    </tr>\n",
       "    <tr>\n",
       "      <th>IWM US Equity</th>\n",
       "      <td>-0.013090</td>\n",
       "    </tr>\n",
       "    <tr>\n",
       "      <th>EFA US Equity</th>\n",
       "      <td>0.906139</td>\n",
       "    </tr>\n",
       "    <tr>\n",
       "      <th>EEM US Equity</th>\n",
       "      <td>-0.038538</td>\n",
       "    </tr>\n",
       "    <tr>\n",
       "      <th>EUO US Equity</th>\n",
       "      <td>0.345707</td>\n",
       "    </tr>\n",
       "    <tr>\n",
       "      <th>USGG3M Index</th>\n",
       "      <td>0.070168</td>\n",
       "    </tr>\n",
       "  </tbody>\n",
       "</table>\n",
       "</div>"
      ],
      "text/plain": [
       "                   beta\n",
       "SPY US Equity  0.065495\n",
       "IWM US Equity -0.013090\n",
       "EFA US Equity  0.906139\n",
       "EEM US Equity -0.038538\n",
       "EUO US Equity  0.345707\n",
       "USGG3M Index   0.070168"
      ]
     },
     "metadata": {},
     "output_type": "display_data"
    },
    {
     "name": "stdout",
     "output_type": "stream",
     "text": [
      "alpha: 0.000754\n",
      "R-squared: 0.9618\n",
      "Tracking Error: 0.0235\n"
     ]
    }
   ],
   "source": [
    "X_full = data.factors[factor_cols]\n",
    "hefa = data.other[\"HEFA US Equity\"]\n",
    "hefa_a, X_hefa = align_on_index(hefa.to_frame(), X_full)\n",
    "\n",
    "res_hefa = ols_replication(hefa_a.iloc[:,0], X_hefa, add_const=True, periods=12)\n",
    "display(pd.DataFrame(res_hefa.betas, columns=[\"beta\"]))\n",
    "print(f\"alpha: {res_hefa.alpha:.6f}\") \n",
    "print(f\"R-squared: {res_hefa.r2:.4f}\")\n",
    "print(f\"Tracking Error: {res_hefa.tracking_error_ann:.4f}\")"
   ]
  },
  {
   "cell_type": "markdown",
   "id": "5e08c073-b6ff-425c-b4be-12f056f02891",
   "metadata": {},
   "source": [
    "*Yes, it does appear that it could be a currency-hedged version of EFA, as it clearly has a high beta to EFA. This implies that they have quite similar risks, with the difference potentially coming from currency hedges. We also note the very high R-squared value, which indicates a very strong fit.*"
   ]
  },
  {
   "cell_type": "code",
   "execution_count": 23,
   "id": "32498bf5-54d2-486a-9012-07a4f63c5414",
   "metadata": {},
   "outputs": [
    {
     "data": {
      "text/html": [
       "<div>\n",
       "<style scoped>\n",
       "    .dataframe tbody tr th:only-of-type {\n",
       "        vertical-align: middle;\n",
       "    }\n",
       "\n",
       "    .dataframe tbody tr th {\n",
       "        vertical-align: top;\n",
       "    }\n",
       "\n",
       "    .dataframe thead th {\n",
       "        text-align: right;\n",
       "    }\n",
       "</style>\n",
       "<table border=\"1\" class=\"dataframe\">\n",
       "  <thead>\n",
       "    <tr style=\"text-align: right;\">\n",
       "      <th></th>\n",
       "      <th>beta</th>\n",
       "    </tr>\n",
       "  </thead>\n",
       "  <tbody>\n",
       "    <tr>\n",
       "      <th>SPY US Equity</th>\n",
       "      <td>1.989779</td>\n",
       "    </tr>\n",
       "    <tr>\n",
       "      <th>IWM US Equity</th>\n",
       "      <td>-0.219895</td>\n",
       "    </tr>\n",
       "    <tr>\n",
       "      <th>EFA US Equity</th>\n",
       "      <td>-0.134831</td>\n",
       "    </tr>\n",
       "    <tr>\n",
       "      <th>EEM US Equity</th>\n",
       "      <td>-0.097283</td>\n",
       "    </tr>\n",
       "    <tr>\n",
       "      <th>EUO US Equity</th>\n",
       "      <td>-0.082760</td>\n",
       "    </tr>\n",
       "    <tr>\n",
       "      <th>USGG3M Index</th>\n",
       "      <td>0.682161</td>\n",
       "    </tr>\n",
       "  </tbody>\n",
       "</table>\n",
       "</div>"
      ],
      "text/plain": [
       "                   beta\n",
       "SPY US Equity  1.989779\n",
       "IWM US Equity -0.219895\n",
       "EFA US Equity -0.134831\n",
       "EEM US Equity -0.097283\n",
       "EUO US Equity -0.082760\n",
       "USGG3M Index   0.682161"
      ]
     },
     "metadata": {},
     "output_type": "display_data"
    },
    {
     "name": "stdout",
     "output_type": "stream",
     "text": [
      "alpha: -0.001894\n",
      "R-squared: 0.7125\n",
      "Tracking Error: 0.1429\n"
     ]
    }
   ],
   "source": [
    "trv = data.other[\"TRVCI Index\"]\n",
    "trv_a, X_trv = align_on_index(trv.to_frame(), X_full)\n",
    "\n",
    "res_trv = ols_replication(trv_a.iloc[:,0], X_trv, add_const=True, periods=12)\n",
    "display(pd.DataFrame(res_trv.betas, columns=[\"beta\"]))\n",
    "print(f\"alpha: {res_trv.alpha:.6f}\") \n",
    "print(f\"R-squared: {res_trv.r2:.4f}\")\n",
    "print(f\"Tracking Error: {res_trv.tracking_error_ann:.4f}\")"
   ]
  },
  {
   "cell_type": "markdown",
   "id": "0b228d09-c45c-4c98-967d-31cba5949781",
   "metadata": {},
   "source": [
    "*Our factor betas here imply that venture capital returns are best described through US large-cap equities (SPY). In particular, we find a very high beta, meaning venture capital might appear to be similar to a levered equities investing style.*"
   ]
  },
  {
   "cell_type": "code",
   "execution_count": 24,
   "id": "03c56427-b1c6-487b-b792-1593dfa21f23",
   "metadata": {},
   "outputs": [
    {
     "data": {
      "text/html": [
       "<div>\n",
       "<style scoped>\n",
       "    .dataframe tbody tr th:only-of-type {\n",
       "        vertical-align: middle;\n",
       "    }\n",
       "\n",
       "    .dataframe tbody tr th {\n",
       "        vertical-align: top;\n",
       "    }\n",
       "\n",
       "    .dataframe thead th {\n",
       "        text-align: right;\n",
       "    }\n",
       "</style>\n",
       "<table border=\"1\" class=\"dataframe\">\n",
       "  <thead>\n",
       "    <tr style=\"text-align: right;\">\n",
       "      <th></th>\n",
       "      <th>TAIL US Equity</th>\n",
       "      <th>SPY US Equity</th>\n",
       "    </tr>\n",
       "  </thead>\n",
       "  <tbody>\n",
       "    <tr>\n",
       "      <th>mean</th>\n",
       "      <td>-0.064216</td>\n",
       "      <td>0.144741</td>\n",
       "    </tr>\n",
       "    <tr>\n",
       "      <th>vol</th>\n",
       "      <td>0.114017</td>\n",
       "      <td>0.143396</td>\n",
       "    </tr>\n",
       "    <tr>\n",
       "      <th>sharpe</th>\n",
       "      <td>-0.563218</td>\n",
       "      <td>1.009380</td>\n",
       "    </tr>\n",
       "  </tbody>\n",
       "</table>\n",
       "</div>"
      ],
      "text/plain": [
       "        TAIL US Equity  SPY US Equity\n",
       "mean         -0.064216       0.144741\n",
       "vol           0.114017       0.143396\n",
       "sharpe       -0.563218       1.009380"
      ]
     },
     "metadata": {},
     "output_type": "display_data"
    },
    {
     "data": {
      "text/html": [
       "<div>\n",
       "<style scoped>\n",
       "    .dataframe tbody tr th:only-of-type {\n",
       "        vertical-align: middle;\n",
       "    }\n",
       "\n",
       "    .dataframe tbody tr th {\n",
       "        vertical-align: top;\n",
       "    }\n",
       "\n",
       "    .dataframe thead th {\n",
       "        text-align: right;\n",
       "    }\n",
       "</style>\n",
       "<table border=\"1\" class=\"dataframe\">\n",
       "  <thead>\n",
       "    <tr style=\"text-align: right;\">\n",
       "      <th></th>\n",
       "      <th>TAIL US Equity</th>\n",
       "      <th>SPY US Equity</th>\n",
       "    </tr>\n",
       "  </thead>\n",
       "  <tbody>\n",
       "    <tr>\n",
       "      <th>skewness</th>\n",
       "      <td>1.060082</td>\n",
       "      <td>-0.412560</td>\n",
       "    </tr>\n",
       "    <tr>\n",
       "      <th>excess_kurtosis</th>\n",
       "      <td>3.033200</td>\n",
       "      <td>0.704481</td>\n",
       "    </tr>\n",
       "    <tr>\n",
       "      <th>VaR_0.05</th>\n",
       "      <td>-0.046104</td>\n",
       "      <td>-0.062502</td>\n",
       "    </tr>\n",
       "    <tr>\n",
       "      <th>CVaR_0.05</th>\n",
       "      <td>-0.063444</td>\n",
       "      <td>-0.084117</td>\n",
       "    </tr>\n",
       "    <tr>\n",
       "      <th>max_drawdown</th>\n",
       "      <td>-0.494722</td>\n",
       "      <td>-0.239271</td>\n",
       "    </tr>\n",
       "    <tr>\n",
       "      <th>dd_peak</th>\n",
       "      <td>2017-05-31 00:00:00</td>\n",
       "      <td>2021-12-31 00:00:00</td>\n",
       "    </tr>\n",
       "    <tr>\n",
       "      <th>dd_trough</th>\n",
       "      <td>2025-01-31 00:00:00</td>\n",
       "      <td>2022-09-30 00:00:00</td>\n",
       "    </tr>\n",
       "    <tr>\n",
       "      <th>dd_recovery</th>\n",
       "      <td>NaT</td>\n",
       "      <td>2023-12-31 00:00:00</td>\n",
       "    </tr>\n",
       "  </tbody>\n",
       "</table>\n",
       "</div>"
      ],
      "text/plain": [
       "                      TAIL US Equity        SPY US Equity\n",
       "skewness                    1.060082            -0.412560\n",
       "excess_kurtosis             3.033200             0.704481\n",
       "VaR_0.05                   -0.046104            -0.062502\n",
       "CVaR_0.05                  -0.063444            -0.084117\n",
       "max_drawdown               -0.494722            -0.239271\n",
       "dd_peak          2017-05-31 00:00:00  2021-12-31 00:00:00\n",
       "dd_trough        2025-01-31 00:00:00  2022-09-30 00:00:00\n",
       "dd_recovery                      NaT  2023-12-31 00:00:00"
      ]
     },
     "metadata": {},
     "output_type": "display_data"
    },
    {
     "data": {
      "text/html": [
       "<div>\n",
       "<style scoped>\n",
       "    .dataframe tbody tr th:only-of-type {\n",
       "        vertical-align: middle;\n",
       "    }\n",
       "\n",
       "    .dataframe tbody tr th {\n",
       "        vertical-align: top;\n",
       "    }\n",
       "\n",
       "    .dataframe thead th {\n",
       "        text-align: right;\n",
       "    }\n",
       "</style>\n",
       "<table border=\"1\" class=\"dataframe\">\n",
       "  <thead>\n",
       "    <tr style=\"text-align: right;\">\n",
       "      <th></th>\n",
       "      <th>TAIL US Equity</th>\n",
       "    </tr>\n",
       "  </thead>\n",
       "  <tbody>\n",
       "    <tr>\n",
       "      <th>alpha</th>\n",
       "      <td>0.000922</td>\n",
       "    </tr>\n",
       "    <tr>\n",
       "      <th>beta</th>\n",
       "      <td>-0.494820</td>\n",
       "    </tr>\n",
       "    <tr>\n",
       "      <th>r2</th>\n",
       "      <td>0.485207</td>\n",
       "    </tr>\n",
       "    <tr>\n",
       "      <th>treynor</th>\n",
       "      <td>0.129777</td>\n",
       "    </tr>\n",
       "    <tr>\n",
       "      <th>ir</th>\n",
       "      <td>0.135261</td>\n",
       "    </tr>\n",
       "  </tbody>\n",
       "</table>\n",
       "</div>"
      ],
      "text/plain": [
       "         TAIL US Equity\n",
       "alpha          0.000922\n",
       "beta          -0.494820\n",
       "r2             0.485207\n",
       "treynor        0.129777\n",
       "ir             0.135261"
      ]
     },
     "metadata": {},
     "output_type": "display_data"
    }
   ],
   "source": [
    "tail = data.other[\"TAIL US Equity\"]\n",
    "spy = data.factors[\"SPY US Equity\"]\n",
    "tail_a, spy_a = align_on_index(tail.to_frame(), spy.to_frame())\n",
    "\n",
    "display(performance_stats(pd.concat([tail_a, spy_a], axis=1), rf=0.0, periods=12).T)\n",
    "display(tail_risk_stats(pd.concat([tail_a, spy_a]), alpha=0.05).T)\n",
    "display(regress_vs_market(tail_a, spy_a.iloc[:,0], rf=0.0, periods=12).T)"
   ]
  },
  {
   "cell_type": "markdown",
   "id": "94d1c571-76dd-424e-9a20-d81a93b10400",
   "metadata": {},
   "source": [
    "*TAIL does reduce downside tail risk, but it doesn’t closely track SPY. It acts like a negatively correlated insurance financed by ongoing losses. We can use it as a small portfolio hedge overlay, not a standalone equity substitute, and review it by conditional (SPY down) performance, not unconditional Sharpe or max drawdown.*"
   ]
  },
  {
   "cell_type": "markdown",
   "id": "9c20b444",
   "metadata": {},
   "source": [
    "### 2. \n",
    "\n",
    "The ProShares case introduces Levered ETFs. ProShares made much of its name originally through levered, or \"geared\" ETFs.\n",
    "\n",
    "Explain conceptually why Levered ETFs may track their index well for a given day but diverge over time. How is this exacerbated in volatile periods like 2008?"
   ]
  },
  {
   "cell_type": "markdown",
   "id": "497993b7-02af-4753-9233-3bc7975d5a84",
   "metadata": {},
   "source": [
    "*Because they have to continually re-lever in order to track the index at 3x. This means that they have a decay over time and the expected return of holding these ETF to infinity is -100%. As an example:*\n",
    "\n",
    "*Day 1: SPY is at 100, and closes at 110 (10% up). The 3x ETF is at 100, and closes at 130 (30% up). Day 2: SPY is at 110, and closes at 100 (-9.1% down). The 3x ETF is at 130, and closes at 94.51 (-27.3% down).*\n",
    "\n",
    "*So, even though SPY is back to where it started, the 3x ETF is down 5.49%. This is because it has to re-lever every day, and so it is buying high and selling low. For example, during the financial crisis when there were many large movements down, we would expect these ETFs to lose a lot of value due to continually having to re-lever. This is also why they have high management fees (UPRO has 0.91% management fee, compared to 0.09% for SPY, or 0.03% for VOO).*"
   ]
  },
  {
   "cell_type": "markdown",
   "id": "3313d36c",
   "metadata": {},
   "source": [
    "### 3.\n",
    "\n",
    "Analyze SPXU and UPRO relative to SPY.\n",
    "- SPXU is ProShares -3x SPX ETF.\n",
    "- UPRO is ProShres +3x SPX ETF.\n",
    "\n",
    "Questions:\n",
    "* Analyze them with the statistics from 2.1-2.3. \n",
    "\n",
    "* Do these two ETFs seem to live up to their names?\n",
    "\n",
    "* Plot the cumulative returns of both these ETFs along with SPY.\n",
    "\n",
    "* What do you conclude about levered ETFs?"
   ]
  },
  {
   "cell_type": "code",
   "execution_count": 25,
   "id": "a383bf2a-7bd6-43cf-8b31-1c0bfbc054b5",
   "metadata": {},
   "outputs": [
    {
     "data": {
      "text/html": [
       "<div>\n",
       "<style scoped>\n",
       "    .dataframe tbody tr th:only-of-type {\n",
       "        vertical-align: middle;\n",
       "    }\n",
       "\n",
       "    .dataframe tbody tr th {\n",
       "        vertical-align: top;\n",
       "    }\n",
       "\n",
       "    .dataframe thead th {\n",
       "        text-align: right;\n",
       "    }\n",
       "</style>\n",
       "<table border=\"1\" class=\"dataframe\">\n",
       "  <thead>\n",
       "    <tr style=\"text-align: right;\">\n",
       "      <th></th>\n",
       "      <th>SPXU US Equity</th>\n",
       "      <th>UPRO US Equity</th>\n",
       "      <th>SPY US Equity</th>\n",
       "    </tr>\n",
       "  </thead>\n",
       "  <tbody>\n",
       "    <tr>\n",
       "      <th>mean</th>\n",
       "      <td>-0.443802</td>\n",
       "      <td>0.363003</td>\n",
       "      <td>0.144741</td>\n",
       "    </tr>\n",
       "    <tr>\n",
       "      <th>vol</th>\n",
       "      <td>0.397120</td>\n",
       "      <td>0.444903</td>\n",
       "      <td>0.143396</td>\n",
       "    </tr>\n",
       "    <tr>\n",
       "      <th>sharpe</th>\n",
       "      <td>-1.117551</td>\n",
       "      <td>0.815915</td>\n",
       "      <td>1.009380</td>\n",
       "    </tr>\n",
       "  </tbody>\n",
       "</table>\n",
       "</div>"
      ],
      "text/plain": [
       "        SPXU US Equity  UPRO US Equity  SPY US Equity\n",
       "mean         -0.443802        0.363003       0.144741\n",
       "vol           0.397120        0.444903       0.143396\n",
       "sharpe       -1.117551        0.815915       1.009380"
      ]
     },
     "metadata": {},
     "output_type": "display_data"
    }
   ],
   "source": [
    "cols = [\"SPXU US Equity\",\"UPRO US Equity\"]\n",
    "df = pd.concat([data.other[cols], data.factors[\"SPY US Equity\"]], axis=1).dropna()\n",
    "\n",
    "summary = performance_stats(pd.concat([df[cols], spy], axis=1), rf=0, periods=12)\n",
    "display(summary.T)"
   ]
  },
  {
   "cell_type": "code",
   "execution_count": 26,
   "id": "d4f0d17b-dd72-4c41-a257-c6da154696b3",
   "metadata": {},
   "outputs": [
    {
     "data": {
      "text/html": [
       "<div>\n",
       "<style scoped>\n",
       "    .dataframe tbody tr th:only-of-type {\n",
       "        vertical-align: middle;\n",
       "    }\n",
       "\n",
       "    .dataframe tbody tr th {\n",
       "        vertical-align: top;\n",
       "    }\n",
       "\n",
       "    .dataframe thead th {\n",
       "        text-align: right;\n",
       "    }\n",
       "</style>\n",
       "<table border=\"1\" class=\"dataframe\">\n",
       "  <thead>\n",
       "    <tr style=\"text-align: right;\">\n",
       "      <th></th>\n",
       "      <th>SPXU US Equity</th>\n",
       "      <th>UPRO US Equity</th>\n",
       "      <th>SPY US Equity</th>\n",
       "    </tr>\n",
       "  </thead>\n",
       "  <tbody>\n",
       "    <tr>\n",
       "      <th>skewness</th>\n",
       "      <td>0.594027</td>\n",
       "      <td>-0.454042</td>\n",
       "      <td>-0.412560</td>\n",
       "    </tr>\n",
       "    <tr>\n",
       "      <th>excess_kurtosis</th>\n",
       "      <td>0.843453</td>\n",
       "      <td>1.213678</td>\n",
       "      <td>0.704481</td>\n",
       "    </tr>\n",
       "    <tr>\n",
       "      <th>VaR_0.05</th>\n",
       "      <td>-0.189312</td>\n",
       "      <td>-0.198848</td>\n",
       "      <td>-0.062502</td>\n",
       "    </tr>\n",
       "    <tr>\n",
       "      <th>CVaR_0.05</th>\n",
       "      <td>-0.252286</td>\n",
       "      <td>-0.263553</td>\n",
       "      <td>-0.084117</td>\n",
       "    </tr>\n",
       "    <tr>\n",
       "      <th>max_drawdown</th>\n",
       "      <td>-0.999593</td>\n",
       "      <td>-0.627346</td>\n",
       "      <td>-0.239271</td>\n",
       "    </tr>\n",
       "    <tr>\n",
       "      <th>dd_peak</th>\n",
       "      <td>2011-09-30 00:00:00</td>\n",
       "      <td>2021-12-31 00:00:00</td>\n",
       "      <td>2021-12-31 00:00:00</td>\n",
       "    </tr>\n",
       "    <tr>\n",
       "      <th>dd_trough</th>\n",
       "      <td>2025-09-30 00:00:00</td>\n",
       "      <td>2022-09-30 00:00:00</td>\n",
       "      <td>2022-09-30 00:00:00</td>\n",
       "    </tr>\n",
       "    <tr>\n",
       "      <th>dd_recovery</th>\n",
       "      <td>NaT</td>\n",
       "      <td>2024-06-30 00:00:00</td>\n",
       "      <td>2023-12-31 00:00:00</td>\n",
       "    </tr>\n",
       "  </tbody>\n",
       "</table>\n",
       "</div>"
      ],
      "text/plain": [
       "                      SPXU US Equity       UPRO US Equity        SPY US Equity\n",
       "skewness                    0.594027            -0.454042            -0.412560\n",
       "excess_kurtosis             0.843453             1.213678             0.704481\n",
       "VaR_0.05                   -0.189312            -0.198848            -0.062502\n",
       "CVaR_0.05                  -0.252286            -0.263553            -0.084117\n",
       "max_drawdown               -0.999593            -0.627346            -0.239271\n",
       "dd_peak          2011-09-30 00:00:00  2021-12-31 00:00:00  2021-12-31 00:00:00\n",
       "dd_trough        2025-09-30 00:00:00  2022-09-30 00:00:00  2022-09-30 00:00:00\n",
       "dd_recovery                      NaT  2024-06-30 00:00:00  2023-12-31 00:00:00"
      ]
     },
     "metadata": {},
     "output_type": "display_data"
    }
   ],
   "source": [
    "tails = tail_risk_stats(pd.concat([df[cols], spy], axis=1), alpha=0.05)\n",
    "display(tails.T)"
   ]
  },
  {
   "cell_type": "code",
   "execution_count": 27,
   "id": "1b6a52cb-ead1-4bb6-a8f6-ab9702230853",
   "metadata": {},
   "outputs": [
    {
     "data": {
      "text/html": [
       "<div>\n",
       "<style scoped>\n",
       "    .dataframe tbody tr th:only-of-type {\n",
       "        vertical-align: middle;\n",
       "    }\n",
       "\n",
       "    .dataframe tbody tr th {\n",
       "        vertical-align: top;\n",
       "    }\n",
       "\n",
       "    .dataframe thead th {\n",
       "        text-align: right;\n",
       "    }\n",
       "</style>\n",
       "<table border=\"1\" class=\"dataframe\">\n",
       "  <thead>\n",
       "    <tr style=\"text-align: right;\">\n",
       "      <th></th>\n",
       "      <th>SPXU US Equity</th>\n",
       "      <th>UPRO US Equity</th>\n",
       "    </tr>\n",
       "  </thead>\n",
       "  <tbody>\n",
       "    <tr>\n",
       "      <th>alpha</th>\n",
       "      <td>-0.005085</td>\n",
       "      <td>-0.007026</td>\n",
       "    </tr>\n",
       "    <tr>\n",
       "      <th>beta</th>\n",
       "      <td>-2.644646</td>\n",
       "      <td>3.090488</td>\n",
       "    </tr>\n",
       "    <tr>\n",
       "      <th>r2</th>\n",
       "      <td>0.911932</td>\n",
       "      <td>0.992191</td>\n",
       "    </tr>\n",
       "    <tr>\n",
       "      <th>treynor</th>\n",
       "      <td>0.167811</td>\n",
       "      <td>0.117458</td>\n",
       "    </tr>\n",
       "    <tr>\n",
       "      <th>ir</th>\n",
       "      <td>-0.517729</td>\n",
       "      <td>-2.144645</td>\n",
       "    </tr>\n",
       "  </tbody>\n",
       "</table>\n",
       "</div>"
      ],
      "text/plain": [
       "         SPXU US Equity  UPRO US Equity\n",
       "alpha         -0.005085       -0.007026\n",
       "beta          -2.644646        3.090488\n",
       "r2             0.911932        0.992191\n",
       "treynor        0.167811        0.117458\n",
       "ir            -0.517729       -2.144645"
      ]
     },
     "metadata": {},
     "output_type": "display_data"
    }
   ],
   "source": [
    "regs = regress_vs_market(df[cols], spy, rf=0, periods=12)\n",
    "display(regs.T)"
   ]
  },
  {
   "cell_type": "markdown",
   "id": "c07a1750-f1c8-4135-82c0-6963b98e9aa6",
   "metadata": {},
   "source": [
    "Yes, they live up to their names for daily exposure, as betas are close to ±3 and very high R² confirm that the products deliver ~3x daily exposure to SPY."
   ]
  },
  {
   "cell_type": "code",
   "execution_count": 28,
   "id": "88420bb7-102d-44c6-bfda-ff58ea3e7953",
   "metadata": {},
   "outputs": [
    {
     "data": {
      "image/png": "[encoded data removed]",
      "text/plain": [
       "<Figure size 800x400 with 1 Axes>"
      ]
     },
     "metadata": {},
     "output_type": "display_data"
    }
   ],
   "source": [
    "cum = cumulative_returns_panel(df[[\"SPY US Equity\"] + cols])\n",
    "fig, ax = plt.subplots(figsize=(8,4))\n",
    "cum.plot(ax=ax)\n",
    "ax.set_title(\"Cumulative Returns: SPY vs SPXU and UPRO\")\n",
    "plt.show()"
   ]
  },
  {
   "cell_type": "markdown",
   "id": "0ee24a7e-09fb-466d-9b5e-81a5689fd3e9",
   "metadata": {},
   "source": [
    "They are tactical instruments, not buy-and-hold core. We can expect ~3x daily moves in returns, volatility and tail risk, and negative alpha over time from fees and variance/compounding. We can use it for short-horizon views or hedges. Technically, they seek to do so for daily returns, which could be one reason it is not exactly 3x for monthly returns. Note that UPRO doesn't quite reach 3x, and this could be a result of the decay present in these levered ETFs."
   ]
  },
  {
   "cell_type": "markdown",
   "id": "2acea83e",
   "metadata": {},
   "source": [
    "***"
   ]
  }
 ],
 "metadata": {
  "hide_input": false,
  "kernelspec": {
   "display_name": "Python 3 (ipykernel)",
   "language": "python",
   "name": "python3"
  },
  "language_info": {
   "codemirror_mode": {
    "name": "ipython",
    "version": 3
   },
   "file_extension": ".py",
   "mimetype": "text/x-python",
   "name": "python",
   "nbconvert_exporter": "python",
   "pygments_lexer": "ipython3",
   "version": "3.12.2"
  }
 },
 "nbformat": 4,
 "nbformat_minor": 5
}
