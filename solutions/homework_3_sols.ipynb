{
 "cells": [
  {
   "cell_type": "markdown",
   "metadata": {},
   "source": [
    "# Barnstable and Long-Run Risk\n",
    "\n",
    "## HBS Case\n",
    "\n",
    "### *The Risk of Stocks in the Long-Run: The Barnstable College Endowment*"
   ]
  },
  {
   "cell_type": "markdown",
   "metadata": {},
   "source": [
    "***"
   ]
  },
  {
   "cell_type": "markdown",
   "metadata": {},
   "source": [
    "# 1. READING - Barnstable"
   ]
  },
  {
   "cell_type": "markdown",
   "metadata": {},
   "source": [
    "### 1 Barnstable's Philosophy\n",
    "\n",
    "* What has Barnstable's investment strategy been in the past?\n",
    "* Explain the logic behind their view that stocks are safer in the long run.\n",
    "* What assumptions underlie Barnstable's belief in the long-run safety of stocks?\n",
    "\n",
    "<font color='red'>\n",
    "1. Barnstable has mainly focused on US equities.\n",
    "2. Their view is that over long periods of time, you achieve time diversification, eg. if your returns are i.i.d with some positive mean, then over a long period of time the average log returns will converge to the population mean. Therefore, assets with higher mean returns (stocks) become less risky over longer horizons.\n",
    "3. Assuming uncorrelated returns (so i.i.d. long returns) across time.\n",
    "</font>\n",
    "\n",
    "### 2. Two proposals\n",
    "\n",
    "Describe the two proposals Barnstable is considering for how to take advantage of their view regarding the long-run safety of stocks.\n",
    "\n",
    "<font color='red'> \n",
    "1. Selling put options on the S&P 500 index. This provides additional cash flows in exchange for further downside risk. However, because of their belief in the long-run safety of stocks, they believe this risk is manageable.\n",
    "2. Exposure to all the upside of the equity market, but is actually insuring against the downside risk as they simply return the asset if it underperforms the 6% strike growth rate.\n",
    "<font>\n",
    "\n",
    "### 3. The trust\n",
    "How is the trust different from simply shorting the risk-free rate to take a levered position in stocks?\n",
    "\n",
    "<font color='red'> \n",
    "Using a trust is functionally equivalent to borrowing at the risk free rate and leveraging into stocks. However, the trust has a 30-year commitment, meaning that their lenders cannot withdraw their money before maturity. This has the effect of allowing Barnstable to hold the investment for the long-run without liquidity risk.\n",
    "</font>\n",
    "\n",
    "\n",
    "### 4. Payoff differences\n",
    "\n",
    "*You may not have had a course in options. It's okay if you are only vaguely familiar with the mechanics below and the option payoffs.*\n",
    "\n",
    "Do these proposals take the same bet on long-run stock performance? In what outcomes will they have different returns?\n",
    "\n",
    "The payoff at maturity of the common share is:\n",
    "\n",
    "$$\\Gamma_{30}^{\\text{common}} = \\max\\left(\\texttt{r}^m_{t,t+30} - \\exp\\left\\{.06(30)\\right\\},~ 0\\right)$$\n",
    "\n",
    "The payoff at maturity of selling puts is:\n",
    "\n",
    "$$\\Gamma_{30}^{\\text{selling puts}} = - \\max\\left(\\exp\\left\\{.06(30)\\right\\} - \\texttt{r}^m_{t,t+30}, 0\\right)$$\n",
    "\n",
    "<font color='red'>\n",
    "The common shares are the same as buying call options on the stock with a growing strike price of 6% per year.\n",
    "\n",
    "Preference shares have an exposure identical to being long the cumulative riskless rate of 6% and selling puts on the stock.\n",
    "\n",
    "If we sum their payoffs we see that we end up at $r^m_{t,t+30}$, which is the payoff of a fully invested position in the stock.\n",
    "\n",
    "</font>\n",
    "\n",
    "### 5. Risk differences\n",
    "Do the two proposals differ in their risk?\n",
    "\n",
    "<font color='red'>\n",
    "The risk profiles are enormously different. As described above, the put strategy means Barnstable has a huge liability with respect to stock under-performance. The trust strategy does not have any liability, as that is born by the preferred shareholders. There is a risk to long-run under-performance, and the trust neutralizes Barnstable from this risk while the put strategy loads into it.\n",
    "</font>\n",
    "\n",
    "### 6. Recommendation\n",
    "Do you recommend a direct investment in the S&P, the trust or the puts?\n",
    "\n",
    "<font color='red'>\n",
    "The trust, it gets rid of Barnstable's liquidity risk when it comes to holding the position, and doesn't have the extreme tail risk that selling the puts does.\n",
    "</font>"
   ]
  },
  {
   "cell_type": "markdown",
   "metadata": {},
   "source": [
    "# 2. Estimating Underperformance\n",
    "\n",
    "### Data\n",
    "\n",
    "Use the returns on the S&P 500 ($r^m$) and 1-month T-bills, ($r^f$) provided in `barnstable_analysis_data.xlsx`.\n",
    "* Data goes through `END_YR=2024`.\n",
    "\n",
    "Barnstable's estimates of mean and volatility are based on the subsample of 1965 to 1999.\n",
    "* We consider this subsample, as well as 2000-{END_YR}, as well as the full sample of 1926-{END_YR}."
   ]
  },
  {
   "cell_type": "markdown",
   "metadata": {},
   "source": [
    "### Notation\n",
    "\n",
    "* $r$ = level return rates\n",
    "* $R$ = cumulative return factor\n",
    "* $\\texttt{r}$ = log return rates\n",
    "\n",
    "$$ R \\equiv 1+r$$\n",
    "\n",
    "$$ \\texttt{r} \\equiv \\ln(1+r) = \\ln(R)$$"
   ]
  },
  {
   "cell_type": "markdown",
   "metadata": {},
   "source": [
    "### 1. Summary Statistics"
   ]
  },
  {
   "cell_type": "code",
   "execution_count": 1,
   "metadata": {},
   "outputs": [
    {
     "data": {
      "text/html": [
       "<style type=\"text/css\">\n",
       "</style>\n",
       "<table id=\"T_b9bb5\">\n",
       "  <thead>\n",
       "    <tr>\n",
       "      <th class=\"blank\" >&nbsp;</th>\n",
       "      <th class=\"blank level0\" >&nbsp;</th>\n",
       "      <th id=\"T_b9bb5_level0_col0\" class=\"col_heading level0 col0\" colspan=\"2\">1965 - 1999</th>\n",
       "      <th id=\"T_b9bb5_level0_col2\" class=\"col_heading level0 col2\" colspan=\"2\">2000 - 2024</th>\n",
       "      <th id=\"T_b9bb5_level0_col4\" class=\"col_heading level0 col4\" colspan=\"2\">1926 - 2024</th>\n",
       "    </tr>\n",
       "    <tr>\n",
       "      <th class=\"blank\" >&nbsp;</th>\n",
       "      <th class=\"blank level1\" >&nbsp;</th>\n",
       "      <th id=\"T_b9bb5_level1_col0\" class=\"col_heading level1 col0\" >mean</th>\n",
       "      <th id=\"T_b9bb5_level1_col1\" class=\"col_heading level1 col1\" >vol</th>\n",
       "      <th id=\"T_b9bb5_level1_col2\" class=\"col_heading level1 col2\" >mean</th>\n",
       "      <th id=\"T_b9bb5_level1_col3\" class=\"col_heading level1 col3\" >vol</th>\n",
       "      <th id=\"T_b9bb5_level1_col4\" class=\"col_heading level1 col4\" >mean</th>\n",
       "      <th id=\"T_b9bb5_level1_col5\" class=\"col_heading level1 col5\" >vol</th>\n",
       "    </tr>\n",
       "  </thead>\n",
       "  <tbody>\n",
       "    <tr>\n",
       "      <th id=\"T_b9bb5_level0_row0\" class=\"row_heading level0 row0\" rowspan=\"3\">levels</th>\n",
       "      <th id=\"T_b9bb5_level1_row0\" class=\"row_heading level1 row0\" >SPX</th>\n",
       "      <td id=\"T_b9bb5_row0_col0\" class=\"data row0 col0\" >12.94%</td>\n",
       "      <td id=\"T_b9bb5_row0_col1\" class=\"data row0 col1\" >14.94%</td>\n",
       "      <td id=\"T_b9bb5_row0_col2\" class=\"data row0 col2\" >8.75%</td>\n",
       "      <td id=\"T_b9bb5_row0_col3\" class=\"data row0 col3\" >15.28%</td>\n",
       "      <td id=\"T_b9bb5_row0_col4\" class=\"data row0 col4\" >11.55%</td>\n",
       "      <td id=\"T_b9bb5_row0_col5\" class=\"data row0 col5\" >18.66%</td>\n",
       "    </tr>\n",
       "    <tr>\n",
       "      <th id=\"T_b9bb5_level1_row1\" class=\"row_heading level1 row1\" >TB1M</th>\n",
       "      <td id=\"T_b9bb5_row1_col0\" class=\"data row1 col0\" >6.15%</td>\n",
       "      <td id=\"T_b9bb5_row1_col1\" class=\"data row1 col1\" >0.72%</td>\n",
       "      <td id=\"T_b9bb5_row1_col2\" class=\"data row1 col2\" >1.75%</td>\n",
       "      <td id=\"T_b9bb5_row1_col3\" class=\"data row1 col3\" >0.56%</td>\n",
       "      <td id=\"T_b9bb5_row1_col4\" class=\"data row1 col4\" >3.19%</td>\n",
       "      <td id=\"T_b9bb5_row1_col5\" class=\"data row1 col5\" >0.85%</td>\n",
       "    </tr>\n",
       "    <tr>\n",
       "      <th id=\"T_b9bb5_level1_row2\" class=\"row_heading level1 row2\" >excess_returns</th>\n",
       "      <td id=\"T_b9bb5_row2_col0\" class=\"data row2 col0\" >6.87%</td>\n",
       "      <td id=\"T_b9bb5_row2_col1\" class=\"data row2 col1\" >15.02%</td>\n",
       "      <td id=\"T_b9bb5_row2_col2\" class=\"data row2 col2\" >7.01%</td>\n",
       "      <td id=\"T_b9bb5_row2_col3\" class=\"data row2 col3\" >15.31%</td>\n",
       "      <td id=\"T_b9bb5_row2_col4\" class=\"data row2 col4\" >8.33%</td>\n",
       "      <td id=\"T_b9bb5_row2_col5\" class=\"data row2 col5\" >18.73%</td>\n",
       "    </tr>\n",
       "    <tr>\n",
       "      <th id=\"T_b9bb5_level0_row3\" class=\"row_heading level0 row3\" rowspan=\"3\">logs</th>\n",
       "      <th id=\"T_b9bb5_level1_row3\" class=\"row_heading level1 row3\" >SPX</th>\n",
       "      <td id=\"T_b9bb5_row3_col0\" class=\"data row3 col0\" >11.76%</td>\n",
       "      <td id=\"T_b9bb5_row3_col1\" class=\"data row3 col1\" >14.96%</td>\n",
       "      <td id=\"T_b9bb5_row3_col2\" class=\"data row3 col2\" >7.56%</td>\n",
       "      <td id=\"T_b9bb5_row3_col3\" class=\"data row3 col3\" >15.38%</td>\n",
       "      <td id=\"T_b9bb5_row3_col4\" class=\"data row3 col4\" >9.78%</td>\n",
       "      <td id=\"T_b9bb5_row3_col5\" class=\"data row3 col5\" >18.59%</td>\n",
       "    </tr>\n",
       "    <tr>\n",
       "      <th id=\"T_b9bb5_level1_row4\" class=\"row_heading level1 row4\" >TB1M</th>\n",
       "      <td id=\"T_b9bb5_row4_col0\" class=\"data row4 col0\" >6.13%</td>\n",
       "      <td id=\"T_b9bb5_row4_col1\" class=\"data row4 col1\" >0.71%</td>\n",
       "      <td id=\"T_b9bb5_row4_col2\" class=\"data row4 col2\" >1.74%</td>\n",
       "      <td id=\"T_b9bb5_row4_col3\" class=\"data row4 col3\" >0.55%</td>\n",
       "      <td id=\"T_b9bb5_row4_col4\" class=\"data row4 col4\" >3.18%</td>\n",
       "      <td id=\"T_b9bb5_row4_col5\" class=\"data row4 col5\" >0.85%</td>\n",
       "    </tr>\n",
       "    <tr>\n",
       "      <th id=\"T_b9bb5_level1_row5\" class=\"row_heading level1 row5\" >excess_returns</th>\n",
       "      <td id=\"T_b9bb5_row5_col0\" class=\"data row5 col0\" >5.72%</td>\n",
       "      <td id=\"T_b9bb5_row5_col1\" class=\"data row5 col1\" >15.12%</td>\n",
       "      <td id=\"T_b9bb5_row5_col2\" class=\"data row5 col2\" >5.81%</td>\n",
       "      <td id=\"T_b9bb5_row5_col3\" class=\"data row5 col3\" >15.42%</td>\n",
       "      <td id=\"T_b9bb5_row5_col4\" class=\"data row5 col4\" >6.57%</td>\n",
       "      <td id=\"T_b9bb5_row5_col5\" class=\"data row5 col5\" >18.69%</td>\n",
       "    </tr>\n",
       "  </tbody>\n",
       "</table>\n"
      ],
      "text/plain": [
       "<pandas.io.formats.style.Styler at 0x11979bb60>"
      ]
     },
     "execution_count": 1,
     "metadata": {},
     "output_type": "execute_result"
    }
   ],
   "source": [
    "import pandas as pd\n",
    "import numpy as np\n",
    "import matplotlib.pyplot as plt\n",
    "from scipy.stats import norm\n",
    "\n",
    "plt.style.use(\"bmh\")\n",
    "pd.set_option(\"display.max_columns\", None)\n",
    "pd.set_option(\"display.max_rows\", None)\n",
    "\n",
    "\n",
    "def calc_analytics_by_year(data, agg_years):\n",
    "    res = []\n",
    "    for y in agg_years:\n",
    "        sub = data.loc[str(y[0]) : str(y[1])]\n",
    "        res.append({\"mean\": sub.mean() * 12, \"vol\": sub.std() * np.sqrt(12)})\n",
    "    return pd.DataFrame(res, index=[f\"{i[0]} - {i[1]}\" for i in agg_years]).stack()\n",
    "\n",
    "\n",
    "df = pd.read_excel(\n",
    "    \"barnstable_analysis_data.xlsx\", sheet_name=\"data\", parse_dates=True, index_col=0\n",
    ")\n",
    "df[\"excess_returns\"] = df[\"SPX\"] - df[\"TB1M\"]\n",
    "df_subsample = df.loc[\"1965\":\"1999\"]\n",
    "\n",
    "\n",
    "agg_years = [(1965, 1999), (2000, 2024), (1926, 2024)]\n",
    "\n",
    "sum_stats = df.apply(calc_analytics_by_year, agg_years=agg_years).T\n",
    "log_sum_stats = np.log(1 + df).apply(calc_analytics_by_year, agg_years=agg_years).T\n",
    "\n",
    "res_stats = pd.concat([sum_stats, log_sum_stats])\n",
    "res_stats.index = pd.MultiIndex.from_product(\n",
    "    [[\"levels\", \"logs\"], sum_stats.index.to_list()]\n",
    ")\n",
    "res_stats.style.format(\"{:,.2%}\")"
   ]
  },
  {
   "cell_type": "markdown",
   "metadata": {},
   "source": [
    "- Comment on how the full-sample return stats compare to the sub-sample stats.\n",
    "- Comment on how the level stats compare to the log stats.\n",
    "\n",
    "<font color='red'>\n",
    "There is a noticeable difference between the sub-sample periods and full-sample. Specifically, from 1965-1999, SPX averaged 13% annualized returns compared to 8.75% from 2000-2024. Additionally, the risk-free rate was much lower in the later period compared to the earlier one. \n",
    "\n",
    "Note that the excess returns are not actually higher in the period in the later period, as the risk-free rate was much lower. The log returns show lower mean returns as expected.\n",
    "</font>"
   ]
  },
  {
   "cell_type": "markdown",
   "metadata": {},
   "source": [
    "### 2. Probability of Underperformance\n",
    "\n",
    "Recall the following:\n",
    "- If $x\\sim\\mathcal{N}\\left(\\mu_x,\\sigma_x^2\\right)$, then\n",
    "\n",
    "  $$\\Pr\\left[x<\\ell\\right] = \\Phi_\\mathcal{N}\\left(L\\right)$$\n",
    "\n",
    "  where $L = \\frac{\\ell-\\mu_x}{\\sigma_x}$ and $\\Phi_\\mathcal{N}$ denotes the standard normal cdf.\n",
    "\n",
    "- Remember that cumulative log returns are simply the sum of the single-period log returns:\n",
    "  \n",
    "  $$\\texttt{r}^m_{t,t+h} \\equiv \\sum_{i=1}^h \\texttt{r}^m_{t+i}$$\n",
    "\n",
    "- It will be convenient to use and denote sample averages. We use the following notation for an $h$-period average ending at time $t+h$:\n",
    "  \n",
    "  $$\\bar{\\texttt{r}}^m_{t,t+h} = \\frac{1}{h}\\sum_{i=1}^h \\texttt{r}^m_{t+i}$$\n",
    "\n",
    "Calculate the probability that the cumulative market return will fall short of the cumulative risk-free return:\n",
    "\n",
    "$$\\Pr\\left[R^m_{t,t+h} < R^f_{t,t+h}\\right]$$\n",
    "\n",
    "To analyze this analytically, convert the probability statement above to a probability statement about mean log returns."
   ]
  },
  {
   "cell_type": "markdown",
   "metadata": {},
   "source": [
    "#### 2.1 - 2.3\n",
    "2.1. Calculate the probability using the subsample 1965-1999.\n",
    "\n",
    "2.2. Report the precise probability for $h=15$ and $h=30$ years.\n",
    "\n",
    "2.3. Plot the probability as a function of the investment horizon, $h$, for $0<h\\le 30$ years.\n",
    "\n",
    "**Hint**: The probability can be expressed as:\n",
    "\n",
    "$$p(h) = \\Phi_{\\mathcal{N}}\\left(-\\sqrt{h}\\;\\text{SR}\\right)$$\n",
    "\n",
    "where $\\text{SR}$ denotes the sample Sharpe ratio of **log** market returns."
   ]
  },
  {
   "cell_type": "code",
   "execution_count": 2,
   "metadata": {},
   "outputs": [
    {
     "name": "stdout",
     "output_type": "stream",
     "text": [
      "SPX underperforming risk-free rate in the 15 years after 1999: 7.16%\n",
      "SPX underperforming risk-free rate in the 30 years after 1999: 1.92%\n"
     ]
    },
    {
     "data": {
      "image/png": "[encoded data removed]",
      "text/plain": [
       "<Figure size 640x480 with 1 Axes>"
      ]
     },
     "metadata": {},
     "output_type": "display_data"
    }
   ],
   "source": [
    "def prob_underperformance(mu, sigma, h):\n",
    "    return norm.cdf(np.sqrt(h) * (-mu / sigma))\n",
    "\n",
    "\n",
    "mu, sigma = res_stats[\"1965 - 1999\"].loc[(\"logs\", \"excess_returns\")]\n",
    "\n",
    "print(\n",
    "    f\"SPX underperforming risk-free rate in the 15 years after 1999: {prob_underperformance(mu=mu, sigma=sigma, h=15):,.2%}\"\n",
    ")\n",
    "print(\n",
    "    f\"SPX underperforming risk-free rate in the 30 years after 1999: {prob_underperformance(mu=mu, sigma=sigma, h=30):,.2%}\"\n",
    ")\n",
    "\n",
    "h = np.linspace(0, 30, 300)\n",
    "\n",
    "probabilities = prob_underperformance(mu=mu, sigma=sigma, h=h)\n",
    "\n",
    "\n",
    "plt.plot(h, probabilities)\n",
    "plt.title(\n",
    "    \"Probability of SPX Underperforming Risk-Free Rate\\nas a Function of Investment Horizon\"\n",
    ")\n",
    "plt.xlabel(\"Investment Horizon (Years)\")\n",
    "plt.ylabel(\"Probability of Underperformance\")\n",
    "plt.show()"
   ]
  },
  {
   "cell_type": "markdown",
   "metadata": {},
   "source": [
    "### 3. Full Sample Analysis\n",
    "\n",
    "Use the sample 1965-{END_YR} to reconsider the 30-year probability. As of the end of {END_YR}, calculate the probability of the stock return underperforming the risk-free rate over the next 30 years. That is, $R^m_{t,t+h}$ underperforming $R^f_{t,t+h}$ for $0<h\\le 30$.\n",
    "\n",
    "<font color='red'>\n",
    "Note that this is the same as checking whether or not the expected excess return is negative over the next 30 years.\n",
    "</font>"
   ]
  },
  {
   "cell_type": "code",
   "execution_count": 3,
   "metadata": {},
   "outputs": [
    {
     "name": "stdout",
     "output_type": "stream",
     "text": [
      "SPX underperforming risk-free rate in the 30 years after 2024: 2.35%\n"
     ]
    }
   ],
   "source": [
    "# 1965-2024 period\n",
    "mu = np.log(1 + df.loc[\"1965\":\"2023\"]).mean() * 12\n",
    "sigma = np.log(1 + df.loc[\"1965\":\"2023\"]).std() * np.sqrt(12)\n",
    "h = np.arange(30) + 1\n",
    "\n",
    "mu_excess = mu[\"excess_returns\"]\n",
    "sigma_excess = sigma[\"excess_returns\"]\n",
    "\n",
    "probabilities_full_sample = prob_underperformance(mu=mu_excess, sigma=sigma_excess, h=h)\n",
    "print(\n",
    "    f\"SPX underperforming risk-free rate in the 30 years after 2024: {prob_underperformance(mu=mu_excess, sigma=sigma_excess, h=30):,.2%}\"\n",
    ")"
   ]
  },
  {
   "cell_type": "markdown",
   "metadata": {},
   "source": [
    "### 4. In-Sample Estimate of Out-of-Sample Likelihood\n",
    "\n",
    "Let's consider how things turned out relative to Barnstable's 1999 expectations.\n",
    "\n",
    "What was the probability (based on the 1999 estimate of $\\mu$) that the `h`-year market return, $R^m_{t,t+h}$, would be smaller than that realized in `2000-{END_YR}`? \n",
    "\n",
    "**Hint**: You can calculate this as:\n",
    "\n",
    "$$p = \\Phi_{\\mathcal{N}}\\left(\\sqrt{h}\\; \\frac{\\bar{\\texttt{r}}_{out-of-sample} - \\bar{\\texttt{r}}_{\\text{in-sample}}}{\\sigma_{\\text{in-sample}}}\\right)$$\n",
    "\n",
    "where \"in-sample\" denotes 1965-1999 and \"out-of-sample\" denotes 2000-{END_YR}."
   ]
  },
  {
   "cell_type": "code",
   "execution_count": 4,
   "metadata": {},
   "outputs": [
    {
     "name": "stdout",
     "output_type": "stream",
     "text": [
      "Probability of underperformance in 2000-2024: 8.42%\n"
     ]
    }
   ],
   "source": [
    "mu = (\n",
    "    res_stats[(\"1965 - 1999\", \"mean\")].loc[(\"logs\", \"SPX\")]\n",
    "    - res_stats[(\"2000 - 2024\", \"mean\")].loc[(\"logs\", \"SPX\")]\n",
    ")\n",
    "sigma = res_stats[(\"1965 - 1999\", \"vol\")].loc[(\"logs\", \"SPX\")]\n",
    "\n",
    "print(\n",
    "    f\"Probability of underperformance in 2000-2024: {prob_underperformance(mu, sigma, 24):,.2%}\"\n",
    ")"
   ]
  }
 ],
 "metadata": {
  "kernelspec": {
   "display_name": ".venv",
   "language": "python",
   "name": "python3"
  },
  "language_info": {
   "codemirror_mode": {
    "name": "ipython",
    "version": 3
   },
   "file_extension": ".py",
   "mimetype": "text/x-python",
   "name": "python",
   "nbconvert_exporter": "python",
   "pygments_lexer": "ipython3",
   "version": "3.13.5"
  }
 },
 "nbformat": 4,
 "nbformat_minor": 2
}
