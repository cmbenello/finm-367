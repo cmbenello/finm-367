{
 "cells": [
  {
   "cell_type": "markdown",
   "metadata": {},
   "source": [
    "# VaR and Portfolio Risk Analysis\n",
    "\n",
    "Selected stocks: AAPL, META, NVDA, TSLA"
   ]
  },
  {
   "cell_type": "code",
   "execution_count": 127,
   "metadata": {},
   "outputs": [],
   "source": [
    "import pandas as pd\n",
    "import numpy as np\n",
    "from scipy import stats\n",
    "\n",
    "pd.set_option('display.max_columns', None)\n",
    "pd.set_option('display.precision', 6)"
   ]
  },
  {
   "cell_type": "code",
   "execution_count": 128,
   "metadata": {},
   "outputs": [
    {
     "name": "stdout",
     "output_type": "stream",
     "text": [
      "Data shape: (542, 4)\n"
     ]
    }
   ],
   "source": [
    "# Load data\n",
    "df = pd.read_excel('data/spx_returns_weekly.xlsx', sheet_name='s&p500 rets')\n",
    "stocks = ['AAPL', 'META', 'NVDA', 'TSLA']\n",
    "returns = df[stocks]\n",
    "print(f\"Data shape: {returns.shape}\")"
   ]
  },
  {
   "cell_type": "code",
   "execution_count": 129,
   "metadata": {},
   "outputs": [
    {
     "name": "stdout",
     "output_type": "stream",
     "text": [
      "\n",
      "1.1 Individual Stock Risk Metrics (%):\n",
      "\n",
      "     Volatility VaR (0.05) CVaR (0.05)\n",
      "AAPL   3.836155   -5.63663   -8.312492\n",
      "META   4.872151  -7.001167  -10.319606\n",
      "NVDA   6.424578  -8.685282  -11.645514\n",
      "TSLA   8.132338  -11.73973   -14.78137\n"
     ]
    }
   ],
   "source": [
    "# 1.1 Individual stock risk metrics\n",
    "def calculate_cvar(returns, alpha=0.05):\n",
    "    var = returns.quantile(alpha)\n",
    "    return returns[returns <= var].mean()\n",
    "\n",
    "results = pd.DataFrame(index=stocks, columns=['Volatility', 'VaR (0.05)', 'CVaR (0.05)'])\n",
    "for stock in stocks:\n",
    "    results.loc[stock] = [\n",
    "        returns[stock].std(),\n",
    "        returns[stock].quantile(0.05),\n",
    "        calculate_cvar(returns[stock])\n",
    "    ]\n",
    "\n",
    "print(\"\\n1.1 Individual Stock Risk Metrics (%):\\n\")\n",
    "print((results * 100).round(4))"
   ]
  },
  {
   "cell_type": "markdown",
   "metadata": {},
   "source": [
    "## 1.2 Equally-Weighted Portfolio"
   ]
  },
  {
   "cell_type": "code",
   "execution_count": 130,
   "metadata": {},
   "outputs": [
    {
     "name": "stdout",
     "output_type": "stream",
     "text": [
      "\n",
      "1.2 Portfolio vs Individual Stocks (%):\n",
      "\n",
      "               Volatility VaR (0.05) CVaR (0.05)\n",
      "AAPL             3.836155   -5.63663   -8.312492\n",
      "META             4.872151  -7.001167  -10.319606\n",
      "NVDA             6.424578  -8.685282  -11.645514\n",
      "TSLA             8.132338  -11.73973   -14.78137\n",
      "Portfolio (EW)   4.375791   -6.19499   -8.499232\n",
      "\n",
      "Volatility reduction: 24.77%\n"
     ]
    }
   ],
   "source": [
    "# Create portfolio\n",
    "weights = np.array([0.25, 0.25, 0.25, 0.25])\n",
    "portfolio_returns = (returns * weights).sum(axis=1)\n",
    "\n",
    "# Calculate metrics\n",
    "portfolio_volatility = portfolio_returns.std()\n",
    "portfolio_var = portfolio_returns.quantile(0.05)\n",
    "portfolio_cvar = calculate_cvar(portfolio_returns)\n",
    "\n",
    "comparison = results.copy()\n",
    "comparison.loc['Portfolio (EW)'] = [portfolio_volatility, portfolio_var, portfolio_cvar]\n",
    "\n",
    "print(\"\\n1.2 Portfolio vs Individual Stocks (%):\\n\")\n",
    "print((comparison * 100).round(4))\n",
    "\n",
    "avg_vol = results['Volatility'].mean()\n",
    "print(f\"\\nVolatility reduction: {(avg_vol - portfolio_volatility)/avg_vol*100:.2f}%\")"
   ]
  },
  {
   "cell_type": "markdown",
   "metadata": {},
   "source": [
    "**Analysis:** Portfolio volatility (4.38%) is 24.77% lower than average individual volatility. Driven by imperfect correlation."
   ]
  },
  {
   "cell_type": "markdown",
   "metadata": {},
   "source": [
    "## 1.3 Portfolio Without Most Volatile Asset"
   ]
  },
  {
   "cell_type": "code",
   "execution_count": 131,
   "metadata": {},
   "outputs": [
    {
     "name": "stdout",
     "output_type": "stream",
     "text": [
      "\n",
      "1.3 Impact of Removing TSLA (%):\n",
      "\n",
      "                       Volatility VaR (0.05) CVaR (0.05)\n",
      "AAPL                     3.836155   -5.63663   -8.312492\n",
      "META                     4.872151  -7.001167  -10.319606\n",
      "NVDA                     6.424578  -8.685282  -11.645514\n",
      "TSLA                     8.132338  -11.73973   -14.78137\n",
      "Portfolio (EW)           4.375791   -6.19499   -8.499232\n",
      "Portfolio (excl. TSLA)   3.028175  -4.246251   -6.053113\n",
      "\n",
      "Volatility reduction: 1.35pp (30.80%)\n"
     ]
    }
   ],
   "source": [
    "# Remove most volatile\n",
    "most_volatile = results['Volatility'].idxmax()\n",
    "most_volatile_idx = stocks.index(most_volatile)\n",
    "weights_reduced = weights.copy()\n",
    "weights_reduced[most_volatile_idx] = 0\n",
    "\n",
    "portfolio_returns_reduced = (returns * weights_reduced).sum(axis=1)\n",
    "portfolio_reduced_vol = portfolio_returns_reduced.std()\n",
    "portfolio_reduced_var = portfolio_returns_reduced.quantile(0.05)\n",
    "portfolio_reduced_cvar = calculate_cvar(portfolio_returns_reduced)\n",
    "\n",
    "comparison_full = comparison.copy()\n",
    "comparison_full.loc[f'Portfolio (excl. {most_volatile})'] = [\n",
    "    portfolio_reduced_vol, portfolio_reduced_var, portfolio_reduced_cvar\n",
    "]\n",
    "\n",
    "print(f\"\\n1.3 Impact of Removing {most_volatile} (%):\\n\")\n",
    "print((comparison_full * 100).round(4))\n",
    "\n",
    "vol_diff = portfolio_volatility - portfolio_reduced_vol\n",
    "print(f\"\\nVolatility reduction: {vol_diff*100:.2f}pp ({vol_diff/portfolio_volatility*100:.2f}%)\")"
   ]
  },
  {
   "cell_type": "markdown",
   "metadata": {},
   "source": [
    "**Analysis:** TSLA's marginal contribution (1.35pp) is only 67% of naive calculation (25% × 8.13% = 2.03pp) due to diversification effect."
   ]
  },
  {
   "cell_type": "markdown",
   "metadata": {},
   "source": [
    "# 2. Dynamic Measures\n",
    "\n",
    "## 2.1 Conditional Statistics"
   ]
  },
  {
   "cell_type": "code",
   "execution_count": 132,
   "metadata": {},
   "outputs": [
    {
     "name": "stdout",
     "output_type": "stream",
     "text": [
      "\n",
      "2.1 Conditional vs Unconditional (%):\n",
      "\n",
      "                         Conditional (2.1)  Unconditional (1.2)\n",
      "Metric                                                         \n",
      "Volatility (Weekly)                 5.4049               4.3758\n",
      "Volatility (Annualized)            38.9750              31.5543\n",
      "VaR (0.05)                         -8.9180              -6.1950\n",
      "CVaR (0.05)                       -11.0546              -8.4992\n"
     ]
    }
   ],
   "source": [
    "# Rolling volatility\n",
    "window_size = 26\n",
    "rolling_volatility = portfolio_returns.rolling(window=window_size).std()\n",
    "conditional_volatility = rolling_volatility.iloc[-1]\n",
    "\n",
    "# Normal VaR/CVaR\n",
    "z_005 = -1.65\n",
    "q = 0.05\n",
    "normal_var = z_005 * conditional_volatility\n",
    "phi_z = stats.norm.pdf(z_005)\n",
    "normal_cvar = -(phi_z / q) * conditional_volatility\n",
    "\n",
    "weeks_per_year = 52\n",
    "summary_2_1 = pd.DataFrame({\n",
    "    'Metric': ['Volatility (Weekly)', 'Volatility (Annualized)', 'VaR (0.05)', 'CVaR (0.05)'],\n",
    "    'Conditional (2.1)': [\n",
    "        conditional_volatility,\n",
    "        conditional_volatility * np.sqrt(weeks_per_year),\n",
    "        normal_var,\n",
    "        normal_cvar\n",
    "    ],\n",
    "    'Unconditional (1.2)': [\n",
    "        portfolio_volatility,\n",
    "        portfolio_volatility * np.sqrt(weeks_per_year),\n",
    "        portfolio_var,\n",
    "        portfolio_cvar\n",
    "    ]\n",
    "})\n",
    "\n",
    "print(\"\\n2.1 Conditional vs Unconditional (%):\\n\")\n",
    "print((summary_2_1.set_index('Metric') * 100).round(4))"
   ]
  },
  {
   "cell_type": "markdown",
   "metadata": {},
   "source": [
    "**Analysis:** Conditional vol (5.40%) > Unconditional (4.38%) → recent 26 weeks more volatile than historical average."
   ]
  },
  {
   "cell_type": "markdown",
   "metadata": {},
   "source": [
    "## 2.2 VaR Backtesting"
   ]
  },
  {
   "cell_type": "code",
   "execution_count": 133,
   "metadata": {},
   "outputs": [
    {
     "name": "stdout",
     "output_type": "stream",
     "text": [
      "\n",
      "2.2 Backtesting Results:\n",
      "\n",
      "       Method  Observations  Hits  Hit Rate (%)  Expected (%)\n",
      "    Expanding           516    27      5.232558           5.0\n",
      "Rolling (26w)           516    22      4.263566           5.0\n"
     ]
    }
   ],
   "source": [
    "# Expanding and rolling VaR\n",
    "expanding_volatility = portfolio_returns.expanding(min_periods=window_size).std()\n",
    "var_expanding = z_005 * expanding_volatility.shift(1)\n",
    "var_rolling = z_005 * rolling_volatility.shift(1)\n",
    "\n",
    "# Hit test\n",
    "hits_expanding = portfolio_returns < var_expanding\n",
    "hits_rolling = portfolio_returns < var_rolling\n",
    "\n",
    "num_hits_exp = hits_expanding.sum()\n",
    "num_valid_exp = var_expanding.notna().sum()\n",
    "hit_rate_exp = num_hits_exp / num_valid_exp * 100\n",
    "\n",
    "num_hits_roll = hits_rolling.sum()\n",
    "num_valid_roll = var_rolling.notna().sum()\n",
    "hit_rate_roll = num_hits_roll / num_valid_roll * 100\n",
    "\n",
    "backtest_summary = pd.DataFrame({\n",
    "    'Method': ['Expanding', 'Rolling (26w)'],\n",
    "    'Observations': [num_valid_exp, num_valid_roll],\n",
    "    'Hits': [num_hits_exp, num_hits_roll],\n",
    "    'Hit Rate (%)': [hit_rate_exp, hit_rate_roll],\n",
    "    'Expected (%)': [5.0, 5.0]\n",
    "})\n",
    "\n",
    "print(\"\\n2.2 Backtesting Results:\\n\")\n",
    "print(backtest_summary.to_string(index=False))"
   ]
  },
  {
   "cell_type": "markdown",
   "metadata": {},
   "source": [
    "**Analysis:** Hit rate ≈ 5% indicates well-calibrated model. Hit rate > 5% means underestimating risk; < 5% means overestimating."
   ]
  }
 ],
 "metadata": {
  "kernelspec": {
   "display_name": "Python 3",
   "language": "python",
   "name": "python3"
  },
  "language_info": {
   "name": "python",
   "version": "3.8.0"
  }
 },
 "nbformat": 4,
 "nbformat_minor": 4
}
